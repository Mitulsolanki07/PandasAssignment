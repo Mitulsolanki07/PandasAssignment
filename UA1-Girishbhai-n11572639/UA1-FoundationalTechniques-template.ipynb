{
 "cells": [
  {
   "attachments": {},
   "cell_type": "raw",
   "id": "e02d7ff7-ec7e-4b8f-9a7e-cdd85849ede3",
   "metadata": {
    "cell_name": "title_cell",
    "vscode": {
     "languageId": "raw"
    }
   },
   "source": [
    "# IFN619 :: UA1 - Assignment 1 - Foundational techniques (40%)\n",
    "\n",
    "**IMPORTANT:** Refer to the instructions in Canvas module [UA1 - Assignment 1]() *BEFORE* working on this assignment. Ensure that you are familiar with the marking rubric and understand how the grade for this assignment will be awarded according to the criteria.\n",
    "\n",
    "1. Complete and run the code cell below to display your name and student number\n",
    "2. Complete all questions in Part A (within 2 weeks) - you can get assistance from your tutor with this part.\n",
    "3. Ensure that your tutor has verified your understanding of your work in Part A (no later than week 5)\n",
    "4. Complete a full analysis for Part B. Ensure that you use the techniques and libraries/packages that have been used in class.\n",
    "5. Submit your final notebook on Canvas [UA1 - Assignment 1]()"
   ]
  },
  {
   "attachments": {},
   "cell_type": "markdown",
   "id": "6ef62cbd-2ea0-442e-973e-e50ca1e97fa2",
   "metadata": {
    "cell_name": "header_cell"
   },
   "source": [
    "<div style=\"background:#FFFFEE; color:#440404; padding:8px; border-radius: 4px; text-align: center; font-weight: 500;\">IFN619 - Data Analytics for Strategic Decision Makers (2024 Sem 1)</div>"
   ]
  },
  {
   "cell_type": "markdown",
   "id": "daf5273e-1027-4a97-a7bc-b821b5e6f81c",
   "metadata": {},
   "source": [
    "---\n",
    "\n",
    "## Data for both Part A and Part B\n",
    "\n",
    "This assignment uses data from the Queensland Government [Open Data Portal](https://www.data.qld.gov.au). Both parts will use data on [Advance Queensland Funding Recipients](https://www.data.qld.gov.au/dataset/advance-queensland-funding-recipients). You should familiarise yourself with the [Advance Queensland Program and Grants](https://advance.qld.gov.au) to understand the context for the data. You should also refer to the `field descriptions` metadata to better understand the fields that are relevant to the `funding recipients` data."
   ]
  },
  {
   "attachments": {},
   "cell_type": "markdown",
   "id": "24fbcf4f",
   "metadata": {},
   "source": [
    "---\n",
    "## Part A\n",
    "\n",
    "**IMPORTANT** For the following task, keep a record of the dates and times where you demonstrated your understanding with your tutor. These should be AFTER you have completed the questions, and BEFORE week 5."
   ]
  },
  {
   "cell_type": "markdown",
   "id": "026d1e84-a04b-49bf-8bd2-1b43920bf2a4",
   "metadata": {},
   "source": [
    "### [Q1] Read the data\n",
    "\n",
    "- Open the CSV version of the file. Open directly from the URL into a pandas dataframe.\n",
    "- Identify an appropriate index, and make a note of the columns."
   ]
  },
  {
   "cell_type": "markdown",
   "id": "fa6193a7",
   "metadata": {},
   "source": [
    "Import necessary libraries:"
   ]
  },
  {
   "cell_type": "code",
   "execution_count": 2,
   "id": "3eac0c4a",
   "metadata": {},
   "outputs": [],
   "source": [
    "import pandas as pd\n",
    "import plotly.graph_objects as go\n",
    "import plotly.express as px\n",
    "import numpy as np\n",
    "from plotly.subplots import make_subplots"
   ]
  },
  {
   "cell_type": "markdown",
   "id": "0bf038b0",
   "metadata": {},
   "source": [
    "Read the CSV data from the URL:"
   ]
  },
  {
   "cell_type": "code",
   "execution_count": 3,
   "id": "56036ac9",
   "metadata": {},
   "outputs": [],
   "source": [
    "url = 'https://www.data.qld.gov.au/dataset/db190f2d-f866-4811-9a6e-4b78744b551b/resource/0f97b985-f5c7-49d2-8b0a-bc5dfbe070b9/download/advance-queensland-funding-recipients.csv'\n",
    "df = pd.read_csv(url, encoding='ISO-8859-1')"
   ]
  },
  {
   "cell_type": "markdown",
   "id": "cf93f159",
   "metadata": {},
   "source": [
    "Inspect the dataframe to identify an appropriate index and note the columns:"
   ]
  },
  {
   "cell_type": "code",
   "execution_count": 4,
   "id": "b38e42b5",
   "metadata": {},
   "outputs": [
    {
     "data": {
      "text/html": [
       "<div>\n",
       "<style scoped>\n",
       "    .dataframe tbody tr th:only-of-type {\n",
       "        vertical-align: middle;\n",
       "    }\n",
       "\n",
       "    .dataframe tbody tr th {\n",
       "        vertical-align: top;\n",
       "    }\n",
       "\n",
       "    .dataframe thead th {\n",
       "        text-align: right;\n",
       "    }\n",
       "</style>\n",
       "<table border=\"1\" class=\"dataframe\">\n",
       "  <thead>\n",
       "    <tr style=\"text-align: right;\">\n",
       "      <th></th>\n",
       "      <th>Program</th>\n",
       "      <th>Round</th>\n",
       "      <th>Recipient Name</th>\n",
       "      <th>Physical Address of Recipient - Suburb/Location</th>\n",
       "      <th>Physical Address of Recipient - Post Code</th>\n",
       "      <th>University Collaborator (if applicable)</th>\n",
       "      <th>Other Partners; Collaborators (if applicable)</th>\n",
       "      <th>Investment/Project Title</th>\n",
       "      <th>Primary Location of Activity/Project - Suburb</th>\n",
       "      <th>Primary Location of Activity/Project - Post Code</th>\n",
       "      <th>Multiple Locations of Activity/Project (if applicable)</th>\n",
       "      <th>Approval date</th>\n",
       "      <th>Local Government /Council</th>\n",
       "      <th>RAP Region</th>\n",
       "      <th>State Electorate</th>\n",
       "      <th>Actual Contractual Commitment ($)</th>\n",
       "    </tr>\n",
       "  </thead>\n",
       "  <tbody>\n",
       "    <tr>\n",
       "      <th>0</th>\n",
       "      <td>Aboriginal and Torres Strait Islander PhD Scho...</td>\n",
       "      <td>AQ Aboriginal &amp; Torres Strait Islander PhD Sch...</td>\n",
       "      <td>Central Queensland University</td>\n",
       "      <td>Norman Gardens</td>\n",
       "      <td>4701.0</td>\n",
       "      <td>NaN</td>\n",
       "      <td>BHP Billiton</td>\n",
       "      <td>Decolonising the systematic barriers and enabl...</td>\n",
       "      <td>Brisbane City</td>\n",
       "      <td>4001.0</td>\n",
       "      <td>NaN</td>\n",
       "      <td>14/06/2019</td>\n",
       "      <td>Rockhampton (R)</td>\n",
       "      <td>Brisbane and Redlands</td>\n",
       "      <td>Keppel</td>\n",
       "      <td>107084</td>\n",
       "    </tr>\n",
       "    <tr>\n",
       "      <th>1</th>\n",
       "      <td>Aboriginal and Torres Strait Islander PhD Scho...</td>\n",
       "      <td>AQ Aboriginal &amp; Torres Strait Islander PhD Sch...</td>\n",
       "      <td>Griffith University</td>\n",
       "      <td>Nathan</td>\n",
       "      <td>4111.0</td>\n",
       "      <td>NaN</td>\n",
       "      <td>NaN</td>\n",
       "      <td>An indigenous journey through the 21st century...</td>\n",
       "      <td>Nathan</td>\n",
       "      <td>4111.0</td>\n",
       "      <td>NaN</td>\n",
       "      <td>28/01/2016</td>\n",
       "      <td>Brisbane (C)</td>\n",
       "      <td>Brisbane and Redlands</td>\n",
       "      <td>Toohey</td>\n",
       "      <td>117500</td>\n",
       "    </tr>\n",
       "    <tr>\n",
       "      <th>2</th>\n",
       "      <td>Aboriginal and Torres Strait Islander Research...</td>\n",
       "      <td>AQ Aboriginal &amp; Torres Strait Islander Researc...</td>\n",
       "      <td>Queensland University of Technology</td>\n",
       "      <td>Brisbane City</td>\n",
       "      <td>4000.0</td>\n",
       "      <td>NaN</td>\n",
       "      <td>Engineered Wood Products Association Australa...</td>\n",
       "      <td>An Innovative Framing System for Taller Timber...</td>\n",
       "      <td>Brisbane City</td>\n",
       "      <td>4000.0</td>\n",
       "      <td>NaN</td>\n",
       "      <td>21/08/2018</td>\n",
       "      <td>Brisbane (C)</td>\n",
       "      <td>Brisbane and Redlands</td>\n",
       "      <td>McConnel</td>\n",
       "      <td>240000</td>\n",
       "    </tr>\n",
       "    <tr>\n",
       "      <th>3</th>\n",
       "      <td>Aboriginal and Torres Strait Islander Research...</td>\n",
       "      <td>AQ Aboriginal &amp; Torres Strait Islander Researc...</td>\n",
       "      <td>CSIRO</td>\n",
       "      <td>Smithfield</td>\n",
       "      <td>4878.0</td>\n",
       "      <td>NaN</td>\n",
       "      <td>CSIRO</td>\n",
       "      <td>Transforming hidden data: An integrative infor...</td>\n",
       "      <td>Smithfield</td>\n",
       "      <td>4878.0</td>\n",
       "      <td>NaN</td>\n",
       "      <td>28/01/2016</td>\n",
       "      <td>Cairns (R)</td>\n",
       "      <td>Far North Queensland</td>\n",
       "      <td>Barron River</td>\n",
       "      <td>158032</td>\n",
       "    </tr>\n",
       "    <tr>\n",
       "      <th>4</th>\n",
       "      <td>Advancing Regional Innovation Program</td>\n",
       "      <td>AQ Advancing Regional Innovation Full 2016-17</td>\n",
       "      <td>Redland City Council</td>\n",
       "      <td>Cleveland</td>\n",
       "      <td>4163.0</td>\n",
       "      <td>NaN</td>\n",
       "      <td>Community Information Support Services Ltd \\n...</td>\n",
       "      <td>Growing innovation in the Redlands and Logan r...</td>\n",
       "      <td>Cleveland</td>\n",
       "      <td>4163.0</td>\n",
       "      <td>Meadowbrook, Alexandra Hills, Springwood</td>\n",
       "      <td>21/09/2017</td>\n",
       "      <td>Redland (C)</td>\n",
       "      <td>Brisbane and Redlands</td>\n",
       "      <td>Oodgeroo</td>\n",
       "      <td>500000</td>\n",
       "    </tr>\n",
       "    <tr>\n",
       "      <th>5</th>\n",
       "      <td>Advancing Regional Innovation Program</td>\n",
       "      <td>AQ Advancing Regional Innovation Full 2020-21</td>\n",
       "      <td>Tablelands Regional Council</td>\n",
       "      <td>Atherton</td>\n",
       "      <td>4883.0</td>\n",
       "      <td>NaN</td>\n",
       "      <td>Natural Evolution Pty Ltd \\n Farmer Meets Foo...</td>\n",
       "      <td>Tablelands Innovation Program</td>\n",
       "      <td>Atherton</td>\n",
       "      <td>4883.0</td>\n",
       "      <td>NaN</td>\n",
       "      <td>11/11/2020</td>\n",
       "      <td>Tablelands (R)</td>\n",
       "      <td>Far North Queensland</td>\n",
       "      <td>Hill</td>\n",
       "      <td>45000</td>\n",
       "    </tr>\n",
       "    <tr>\n",
       "      <th>6</th>\n",
       "      <td>Advancing Regional Innovation Program</td>\n",
       "      <td>AQ Advancing Regional Innovation Full 2016-17</td>\n",
       "      <td>Sunshine Coast Regional Council</td>\n",
       "      <td>Maroochydore</td>\n",
       "      <td>4558.0</td>\n",
       "      <td>NaN</td>\n",
       "      <td>Noosa Shire Council \\n University of the Suns...</td>\n",
       "      <td>Sunshine Coast Regional Innovation Program #SC...</td>\n",
       "      <td>Maroochydore</td>\n",
       "      <td>4558.0</td>\n",
       "      <td>Sippy Downs, Nambour, Tewantin</td>\n",
       "      <td>2/06/2017</td>\n",
       "      <td>Sunshine Coast (R)</td>\n",
       "      <td>Sunshine Coast</td>\n",
       "      <td>Maroochydore</td>\n",
       "      <td>500000</td>\n",
       "    </tr>\n",
       "    <tr>\n",
       "      <th>7</th>\n",
       "      <td>Advancing Regional Innovation Program</td>\n",
       "      <td>AQ Advancing Regional Innovation Full 2020-21</td>\n",
       "      <td>Smart Precinct NQ Limited</td>\n",
       "      <td>Townsville City</td>\n",
       "      <td>4810.0</td>\n",
       "      <td>NaN</td>\n",
       "      <td>NaN</td>\n",
       "      <td>North Queensland Investment, Innovation &amp; Indu...</td>\n",
       "      <td>Townsville City</td>\n",
       "      <td>4810.0</td>\n",
       "      <td>NaN</td>\n",
       "      <td>2/07/2020</td>\n",
       "      <td>Townsville (C)</td>\n",
       "      <td>Townsville</td>\n",
       "      <td>Townsville</td>\n",
       "      <td>500000</td>\n",
       "    </tr>\n",
       "    <tr>\n",
       "      <th>8</th>\n",
       "      <td>Advancing Regional Innovation Program</td>\n",
       "      <td>AQ Advancing Regional Innovation Staged 2016-17</td>\n",
       "      <td>Wide Bay Burnett Regional Organisation of Coun...</td>\n",
       "      <td>Gympie</td>\n",
       "      <td>4570.0</td>\n",
       "      <td>NaN</td>\n",
       "      <td>University of the Sunshine Coast \\n The Gener...</td>\n",
       "      <td>Develop a Collaborative Action Plan and advise...</td>\n",
       "      <td>Gympie</td>\n",
       "      <td>4570.0</td>\n",
       "      <td>NaN</td>\n",
       "      <td>19/01/2017</td>\n",
       "      <td>Gympie (R)</td>\n",
       "      <td>Wide Bay</td>\n",
       "      <td>Gympie</td>\n",
       "      <td>20000</td>\n",
       "    </tr>\n",
       "    <tr>\n",
       "      <th>9</th>\n",
       "      <td>Advancing Regional Innovation Program</td>\n",
       "      <td>AQ Advancing Regional Innovation Full 2016-17</td>\n",
       "      <td>Wide Bay Burnett Regional Organisation of Coun...</td>\n",
       "      <td>Gympie</td>\n",
       "      <td>4570.0</td>\n",
       "      <td>NaN</td>\n",
       "      <td>University of the Sunshine Coast \\n Fraser Co...</td>\n",
       "      <td>Delivering Innovation in the Wide Bay Burnett ...</td>\n",
       "      <td>Gympie</td>\n",
       "      <td>4570.0</td>\n",
       "      <td>Gayndah, Kingaroy</td>\n",
       "      <td>17/07/2017</td>\n",
       "      <td>Gympie (R)</td>\n",
       "      <td>Wide Bay</td>\n",
       "      <td>Gympie</td>\n",
       "      <td>478330</td>\n",
       "    </tr>\n",
       "  </tbody>\n",
       "</table>\n",
       "</div>"
      ],
      "text/plain": [
       "                                             Program  \\\n",
       "0  Aboriginal and Torres Strait Islander PhD Scho...   \n",
       "1  Aboriginal and Torres Strait Islander PhD Scho...   \n",
       "2  Aboriginal and Torres Strait Islander Research...   \n",
       "3  Aboriginal and Torres Strait Islander Research...   \n",
       "4              Advancing Regional Innovation Program   \n",
       "5              Advancing Regional Innovation Program   \n",
       "6              Advancing Regional Innovation Program   \n",
       "7              Advancing Regional Innovation Program   \n",
       "8              Advancing Regional Innovation Program   \n",
       "9              Advancing Regional Innovation Program   \n",
       "\n",
       "                                              Round   \\\n",
       "0  AQ Aboriginal & Torres Strait Islander PhD Sch...   \n",
       "1  AQ Aboriginal & Torres Strait Islander PhD Sch...   \n",
       "2  AQ Aboriginal & Torres Strait Islander Researc...   \n",
       "3  AQ Aboriginal & Torres Strait Islander Researc...   \n",
       "4      AQ Advancing Regional Innovation Full 2016-17   \n",
       "5      AQ Advancing Regional Innovation Full 2020-21   \n",
       "6      AQ Advancing Regional Innovation Full 2016-17   \n",
       "7      AQ Advancing Regional Innovation Full 2020-21   \n",
       "8    AQ Advancing Regional Innovation Staged 2016-17   \n",
       "9      AQ Advancing Regional Innovation Full 2016-17   \n",
       "\n",
       "                                      Recipient Name  \\\n",
       "0                      Central Queensland University   \n",
       "1                                Griffith University   \n",
       "2                Queensland University of Technology   \n",
       "3                                              CSIRO   \n",
       "4                               Redland City Council   \n",
       "5                        Tablelands Regional Council   \n",
       "6                    Sunshine Coast Regional Council   \n",
       "7                          Smart Precinct NQ Limited   \n",
       "8  Wide Bay Burnett Regional Organisation of Coun...   \n",
       "9  Wide Bay Burnett Regional Organisation of Coun...   \n",
       "\n",
       "  Physical Address of Recipient - Suburb/Location  \\\n",
       "0                                  Norman Gardens   \n",
       "1                                          Nathan   \n",
       "2                                   Brisbane City   \n",
       "3                                      Smithfield   \n",
       "4                                       Cleveland   \n",
       "5                                        Atherton   \n",
       "6                                    Maroochydore   \n",
       "7                                 Townsville City   \n",
       "8                                          Gympie   \n",
       "9                                          Gympie   \n",
       "\n",
       "   Physical Address of Recipient - Post Code  \\\n",
       "0                                     4701.0   \n",
       "1                                     4111.0   \n",
       "2                                     4000.0   \n",
       "3                                     4878.0   \n",
       "4                                     4163.0   \n",
       "5                                     4883.0   \n",
       "6                                     4558.0   \n",
       "7                                     4810.0   \n",
       "8                                     4570.0   \n",
       "9                                     4570.0   \n",
       "\n",
       "  University Collaborator (if applicable)  \\\n",
       "0                                     NaN   \n",
       "1                                     NaN   \n",
       "2                                     NaN   \n",
       "3                                     NaN   \n",
       "4                                     NaN   \n",
       "5                                     NaN   \n",
       "6                                     NaN   \n",
       "7                                     NaN   \n",
       "8                                     NaN   \n",
       "9                                     NaN   \n",
       "\n",
       "       Other Partners; Collaborators (if applicable)  \\\n",
       "0                                       BHP Billiton   \n",
       "1                                                NaN   \n",
       "2   Engineered Wood Products Association Australa...   \n",
       "3                                              CSIRO   \n",
       "4   Community Information Support Services Ltd \\n...   \n",
       "5   Natural Evolution Pty Ltd \\n Farmer Meets Foo...   \n",
       "6   Noosa Shire Council \\n University of the Suns...   \n",
       "7                                                NaN   \n",
       "8   University of the Sunshine Coast \\n The Gener...   \n",
       "9   University of the Sunshine Coast \\n Fraser Co...   \n",
       "\n",
       "                            Investment/Project Title  \\\n",
       "0  Decolonising the systematic barriers and enabl...   \n",
       "1  An indigenous journey through the 21st century...   \n",
       "2  An Innovative Framing System for Taller Timber...   \n",
       "3  Transforming hidden data: An integrative infor...   \n",
       "4  Growing innovation in the Redlands and Logan r...   \n",
       "5                      Tablelands Innovation Program   \n",
       "6  Sunshine Coast Regional Innovation Program #SC...   \n",
       "7  North Queensland Investment, Innovation & Indu...   \n",
       "8  Develop a Collaborative Action Plan and advise...   \n",
       "9  Delivering Innovation in the Wide Bay Burnett ...   \n",
       "\n",
       "  Primary Location of Activity/Project - Suburb  \\\n",
       "0                                 Brisbane City   \n",
       "1                                        Nathan   \n",
       "2                                 Brisbane City   \n",
       "3                                    Smithfield   \n",
       "4                                     Cleveland   \n",
       "5                                      Atherton   \n",
       "6                                  Maroochydore   \n",
       "7                               Townsville City   \n",
       "8                                        Gympie   \n",
       "9                                        Gympie   \n",
       "\n",
       "   Primary Location of Activity/Project - Post Code  \\\n",
       "0                                            4001.0   \n",
       "1                                            4111.0   \n",
       "2                                            4000.0   \n",
       "3                                            4878.0   \n",
       "4                                            4163.0   \n",
       "5                                            4883.0   \n",
       "6                                            4558.0   \n",
       "7                                            4810.0   \n",
       "8                                            4570.0   \n",
       "9                                            4570.0   \n",
       "\n",
       "  Multiple Locations of Activity/Project (if applicable) Approval date  \\\n",
       "0                                                NaN        14/06/2019   \n",
       "1                                                NaN        28/01/2016   \n",
       "2                                                NaN        21/08/2018   \n",
       "3                                                NaN        28/01/2016   \n",
       "4           Meadowbrook, Alexandra Hills, Springwood        21/09/2017   \n",
       "5                                                NaN        11/11/2020   \n",
       "6                     Sippy Downs, Nambour, Tewantin         2/06/2017   \n",
       "7                                                NaN         2/07/2020   \n",
       "8                                                NaN        19/01/2017   \n",
       "9                                  Gayndah, Kingaroy        17/07/2017   \n",
       "\n",
       "  Local Government /Council             RAP Region State Electorate  \\\n",
       "0           Rockhampton (R)  Brisbane and Redlands           Keppel   \n",
       "1              Brisbane (C)  Brisbane and Redlands           Toohey   \n",
       "2              Brisbane (C)  Brisbane and Redlands         McConnel   \n",
       "3                Cairns (R)   Far North Queensland     Barron River   \n",
       "4               Redland (C)  Brisbane and Redlands         Oodgeroo   \n",
       "5            Tablelands (R)   Far North Queensland             Hill   \n",
       "6        Sunshine Coast (R)         Sunshine Coast     Maroochydore   \n",
       "7            Townsville (C)             Townsville       Townsville   \n",
       "8                Gympie (R)               Wide Bay           Gympie   \n",
       "9                Gympie (R)               Wide Bay           Gympie   \n",
       "\n",
       "  Actual Contractual Commitment ($)  \n",
       "0                            107084  \n",
       "1                            117500  \n",
       "2                            240000  \n",
       "3                            158032  \n",
       "4                            500000  \n",
       "5                             45000  \n",
       "6                            500000  \n",
       "7                            500000  \n",
       "8                             20000  \n",
       "9                            478330  "
      ]
     },
     "execution_count": 4,
     "metadata": {},
     "output_type": "execute_result"
    }
   ],
   "source": [
    "df.head(10)"
   ]
  },
  {
   "cell_type": "code",
   "execution_count": 5,
   "id": "1b0f422e",
   "metadata": {},
   "outputs": [
    {
     "data": {
      "text/plain": [
       "Index(['Program', 'Round ', 'Recipient Name',\n",
       "       'Physical Address of Recipient - Suburb/Location',\n",
       "       'Physical Address of Recipient - Post Code',\n",
       "       'University Collaborator (if applicable)',\n",
       "       'Other Partners; Collaborators (if applicable)',\n",
       "       'Investment/Project Title',\n",
       "       'Primary Location of Activity/Project - Suburb',\n",
       "       'Primary Location of Activity/Project - Post Code',\n",
       "       'Multiple Locations of Activity/Project (if applicable)',\n",
       "       'Approval date', 'Local Government /Council', 'RAP Region',\n",
       "       'State Electorate', 'Actual Contractual Commitment ($)'],\n",
       "      dtype='object')"
      ]
     },
     "execution_count": 5,
     "metadata": {},
     "output_type": "execute_result"
    }
   ],
   "source": [
    "# check available columns\n",
    "df.columns"
   ]
  },
  {
   "cell_type": "code",
   "execution_count": 6,
   "id": "4ac7fc9a",
   "metadata": {},
   "outputs": [
    {
     "data": {
      "text/plain": [
       "Program                                                    object\n",
       "Round                                                      object\n",
       "Recipient Name                                             object\n",
       "Physical Address of Recipient - Suburb/Location            object\n",
       "Physical Address of Recipient - Post Code                 float64\n",
       "University Collaborator (if applicable)                    object\n",
       "Other Partners; Collaborators (if applicable)              object\n",
       "Investment/Project Title                                   object\n",
       "Primary Location of Activity/Project - Suburb              object\n",
       "Primary Location of Activity/Project - Post Code          float64\n",
       "Multiple Locations of Activity/Project (if applicable)     object\n",
       "Approval date                                              object\n",
       "Local Government /Council                                  object\n",
       "RAP Region                                                 object\n",
       "State Electorate                                           object\n",
       "Actual Contractual Commitment ($)                          object\n",
       "dtype: object"
      ]
     },
     "execution_count": 6,
     "metadata": {},
     "output_type": "execute_result"
    }
   ],
   "source": [
    "# check data type of columns\n",
    "df.dtypes"
   ]
  },
  {
   "cell_type": "code",
   "execution_count": 14,
   "id": "019a6b04",
   "metadata": {},
   "outputs": [
    {
     "name": "stdout",
     "output_type": "stream",
     "text": [
      "Empty values:\n",
      " Program                                                      0\n",
      "Round                                                       51\n",
      "Recipient Name                                               0\n",
      "Physical Address of Recipient - Suburb/Location              0\n",
      "Physical Address of Recipient - Post Code                   71\n",
      "University Collaborator (if applicable)                   1327\n",
      "Other Partners; Collaborators (if applicable)              862\n",
      "Investment/Project Title                                     0\n",
      "Primary Location of Activity/Project - Suburb               33\n",
      "Primary Location of Activity/Project - Post Code            55\n",
      "Multiple Locations of Activity/Project (if applicable)    1090\n",
      "Approval date                                                0\n",
      "Local Government /Council                                    0\n",
      "RAP Region                                                   0\n",
      "State Electorate                                             0\n",
      "Actual Contractual Commitment ($)                            0\n",
      "dtype: int64\n"
     ]
    },
    {
     "name": "stderr",
     "output_type": "stream",
     "text": [
      "C:\\Users\\VIPER PC\\AppData\\Local\\Temp\\ipykernel_5140\\1928286684.py:2: FutureWarning: use_inf_as_na option is deprecated and will be removed in a future version. Convert inf values to NaN before operating instead.\n",
      "  pd.options.mode.use_inf_as_na = True\n"
     ]
    }
   ],
   "source": [
    "# check Empty (NaN) values\n",
    "pd.options.mode.use_inf_as_na = True\n",
    "empty_values = df.isna().sum()\n",
    "print(\"Empty values:\\n\", empty_values)"
   ]
  },
  {
   "cell_type": "code",
   "execution_count": 22,
   "id": "58d89277",
   "metadata": {},
   "outputs": [
    {
     "name": "stdout",
     "output_type": "stream",
     "text": [
      "Unique values:\n",
      " Program                                                     81\n",
      "Round                                                      124\n",
      "Recipient Name                                             816\n",
      "Physical Address of Recipient - Suburb/Location            350\n",
      "Physical Address of Recipient - Post Code                  194\n",
      "University Collaborator (if applicable)                     11\n",
      "Other Partners; Collaborators (if applicable)              382\n",
      "Investment/Project Title                                  1243\n",
      "Primary Location of Activity/Project - Suburb              303\n",
      "Primary Location of Activity/Project - Post Code           188\n",
      "Multiple Locations of Activity/Project (if applicable)     231\n",
      "Approval date                                              218\n",
      "Local Government /Council                                   47\n",
      "RAP Region                                                  16\n",
      "State Electorate                                            88\n",
      "Actual Contractual Commitment ($)                          476\n",
      "dtype: int64\n"
     ]
    }
   ],
   "source": [
    "# check Unique values\n",
    "\n",
    "unique_values = df.nunique()\n",
    "print(\"Unique values:\\n\", unique_values)"
   ]
  },
  {
   "cell_type": "markdown",
   "id": "4e445e1a-ad6e-4b2d-b157-c4d50a3a3d16",
   "metadata": {},
   "source": [
    "### [Q2] Group the data\n",
    "- Choose at least one category and group the data\n",
    "- Obtain an appropriate aggregate for the groups (e.g. Sum, Mean, etc)"
   ]
  },
  {
   "cell_type": "markdown",
   "id": "f53b1c9e",
   "metadata": {},
   "source": [
    "#### The function clean_dataframe preprocesses a pandas DataFrame by:\n",
    "\n",
    "- Stripping spaces from column names.\n",
    "- Converting specific columns to title case and handling newline characters.\n",
    "- Filling missing values with empty strings.\n",
    "- Removing excess whitespace and converting appropriate columns to numeric types.\n",
    "- Ensuring consistent data types across columns, including converting monetary values to float after removing commas.\n",
    "- This thorough cleaning ensures data consistency and prepares the DataFrame for accurate analysis."
   ]
  },
  {
   "cell_type": "code",
   "execution_count": 63,
   "id": "a0c06d36",
   "metadata": {},
   "outputs": [
    {
     "data": {
      "text/html": [
       "<div>\n",
       "<style scoped>\n",
       "    .dataframe tbody tr th:only-of-type {\n",
       "        vertical-align: middle;\n",
       "    }\n",
       "\n",
       "    .dataframe tbody tr th {\n",
       "        vertical-align: top;\n",
       "    }\n",
       "\n",
       "    .dataframe thead th {\n",
       "        text-align: right;\n",
       "    }\n",
       "</style>\n",
       "<table border=\"1\" class=\"dataframe\">\n",
       "  <thead>\n",
       "    <tr style=\"text-align: right;\">\n",
       "      <th></th>\n",
       "      <th>Program</th>\n",
       "      <th>Round</th>\n",
       "      <th>Recipient Name</th>\n",
       "      <th>Physical Address of Recipient - Suburb/Location</th>\n",
       "      <th>Physical Address of Recipient - Post Code</th>\n",
       "      <th>University Collaborator (if applicable)</th>\n",
       "      <th>Other Partners; Collaborators (if applicable)</th>\n",
       "      <th>Investment/Project Title</th>\n",
       "      <th>Primary Location of Activity/Project - Suburb</th>\n",
       "      <th>Primary Location of Activity/Project - Post Code</th>\n",
       "      <th>Multiple Locations of Activity/Project (if applicable)</th>\n",
       "      <th>Approval date</th>\n",
       "      <th>Local Government /Council</th>\n",
       "      <th>RAP Region</th>\n",
       "      <th>State Electorate</th>\n",
       "      <th>Actual Contractual Commitment ($)</th>\n",
       "    </tr>\n",
       "  </thead>\n",
       "  <tbody>\n",
       "    <tr>\n",
       "      <th>1334</th>\n",
       "      <td>Young Starters' Fund</td>\n",
       "      <td>AQ Young Starters Fund Round 2015-16 Round 5</td>\n",
       "      <td>Griffith University</td>\n",
       "      <td>Southport</td>\n",
       "      <td>4215.0</td>\n",
       "      <td></td>\n",
       "      <td>nan</td>\n",
       "      <td>Mentor Revolution  Get Started - Ygstrs-49249...</td>\n",
       "      <td>Southport</td>\n",
       "      <td>4215.0</td>\n",
       "      <td>University Of Queensland - St Lucia</td>\n",
       "      <td>21/06/2016</td>\n",
       "      <td>Gold Coast (C)</td>\n",
       "      <td>Gold Coast</td>\n",
       "      <td>Bonney</td>\n",
       "      <td>19226.0</td>\n",
       "    </tr>\n",
       "    <tr>\n",
       "      <th>1335</th>\n",
       "      <td>Young Starters' Fund</td>\n",
       "      <td>AQ Young Starters Fund Round 2015-16 Round 5</td>\n",
       "      <td>Fifty Six Creations Pty Ltd - Mt Gravatt</td>\n",
       "      <td>Upper Mount Gravatt</td>\n",
       "      <td>4122.0</td>\n",
       "      <td></td>\n",
       "      <td>nan</td>\n",
       "      <td>Fiftysix Academy And Advance Queensland In Mac...</td>\n",
       "      <td>Mackay</td>\n",
       "      <td>4740.0</td>\n",
       "      <td></td>\n",
       "      <td>21/06/2016</td>\n",
       "      <td>Brisbane (C)</td>\n",
       "      <td>Mackay-Whitsunday</td>\n",
       "      <td>Mansfield</td>\n",
       "      <td>20000.0</td>\n",
       "    </tr>\n",
       "    <tr>\n",
       "      <th>1336</th>\n",
       "      <td>Young Starters' Fund</td>\n",
       "      <td>AQ Young Starters Fund Round 2016-17 Round 1</td>\n",
       "      <td>South Bank Business Association Incorporated</td>\n",
       "      <td>South Brisbane</td>\n",
       "      <td>4101.0</td>\n",
       "      <td></td>\n",
       "      <td>nan</td>\n",
       "      <td>The Big 5 - 5 Big Learnings From Industry Experts</td>\n",
       "      <td>South Brisbane</td>\n",
       "      <td>4101.0</td>\n",
       "      <td></td>\n",
       "      <td>28/07/2016</td>\n",
       "      <td>Brisbane (C)</td>\n",
       "      <td>Brisbane And Redlands</td>\n",
       "      <td>South Brisbane</td>\n",
       "      <td>7500.0</td>\n",
       "    </tr>\n",
       "    <tr>\n",
       "      <th>1337</th>\n",
       "      <td>Young Starters' Fund</td>\n",
       "      <td>AQ Young Starters Fund Round 2015-16 Round 5</td>\n",
       "      <td>Time Masters (Australia) Pty Limited</td>\n",
       "      <td>Runaway Bay</td>\n",
       "      <td>4216.0</td>\n",
       "      <td></td>\n",
       "      <td>nan</td>\n",
       "      <td>Open Your Eyes To Cash - Logan - Ygstrs-479994...</td>\n",
       "      <td>Loganholme</td>\n",
       "      <td>4129.0</td>\n",
       "      <td>Logan</td>\n",
       "      <td>21/06/2016</td>\n",
       "      <td>Gold Coast (C)</td>\n",
       "      <td>Logan</td>\n",
       "      <td>Broadwater</td>\n",
       "      <td>10350.0</td>\n",
       "    </tr>\n",
       "    <tr>\n",
       "      <th>1338</th>\n",
       "      <td>Young Starters' Fund</td>\n",
       "      <td>AQ Young Starters Fund Round 2015-16 Round 5</td>\n",
       "      <td>Marist Youth Care Limited</td>\n",
       "      <td>Paddington</td>\n",
       "      <td>4064.0</td>\n",
       "      <td></td>\n",
       "      <td>nan</td>\n",
       "      <td>Impact National Conference - Ygstrs-5061022-69</td>\n",
       "      <td>South Brisbane</td>\n",
       "      <td>4101.0</td>\n",
       "      <td></td>\n",
       "      <td>21/06/2016</td>\n",
       "      <td>Brisbane (C)</td>\n",
       "      <td>Brisbane And Redlands</td>\n",
       "      <td>Cooper</td>\n",
       "      <td>9546.0</td>\n",
       "    </tr>\n",
       "  </tbody>\n",
       "</table>\n",
       "</div>"
      ],
      "text/plain": [
       "                   Program                                         Round  \\\n",
       "1334  Young Starters' Fund  AQ Young Starters Fund Round 2015-16 Round 5   \n",
       "1335  Young Starters' Fund  AQ Young Starters Fund Round 2015-16 Round 5   \n",
       "1336  Young Starters' Fund  AQ Young Starters Fund Round 2016-17 Round 1   \n",
       "1337  Young Starters' Fund  AQ Young Starters Fund Round 2015-16 Round 5   \n",
       "1338  Young Starters' Fund  AQ Young Starters Fund Round 2015-16 Round 5   \n",
       "\n",
       "                                    Recipient Name  \\\n",
       "1334                           Griffith University   \n",
       "1335      Fifty Six Creations Pty Ltd - Mt Gravatt   \n",
       "1336  South Bank Business Association Incorporated   \n",
       "1337          Time Masters (Australia) Pty Limited   \n",
       "1338                     Marist Youth Care Limited   \n",
       "\n",
       "     Physical Address of Recipient - Suburb/Location  \\\n",
       "1334                                       Southport   \n",
       "1335                             Upper Mount Gravatt   \n",
       "1336                                  South Brisbane   \n",
       "1337                                     Runaway Bay   \n",
       "1338                                      Paddington   \n",
       "\n",
       "      Physical Address of Recipient - Post Code  \\\n",
       "1334                                     4215.0   \n",
       "1335                                     4122.0   \n",
       "1336                                     4101.0   \n",
       "1337                                     4216.0   \n",
       "1338                                     4064.0   \n",
       "\n",
       "     University Collaborator (if applicable)  \\\n",
       "1334                                           \n",
       "1335                                           \n",
       "1336                                           \n",
       "1337                                           \n",
       "1338                                           \n",
       "\n",
       "     Other Partners; Collaborators (if applicable)  \\\n",
       "1334                                           nan   \n",
       "1335                                           nan   \n",
       "1336                                           nan   \n",
       "1337                                           nan   \n",
       "1338                                           nan   \n",
       "\n",
       "                               Investment/Project Title  \\\n",
       "1334  Mentor Revolution  Get Started - Ygstrs-49249...   \n",
       "1335  Fiftysix Academy And Advance Queensland In Mac...   \n",
       "1336  The Big 5 - 5 Big Learnings From Industry Experts   \n",
       "1337  Open Your Eyes To Cash - Logan - Ygstrs-479994...   \n",
       "1338     Impact National Conference - Ygstrs-5061022-69   \n",
       "\n",
       "     Primary Location of Activity/Project - Suburb  \\\n",
       "1334                                     Southport   \n",
       "1335                                        Mackay   \n",
       "1336                                South Brisbane   \n",
       "1337                                    Loganholme   \n",
       "1338                                South Brisbane   \n",
       "\n",
       "      Primary Location of Activity/Project - Post Code  \\\n",
       "1334                                            4215.0   \n",
       "1335                                            4740.0   \n",
       "1336                                            4101.0   \n",
       "1337                                            4129.0   \n",
       "1338                                            4101.0   \n",
       "\n",
       "     Multiple Locations of Activity/Project (if applicable) Approval date  \\\n",
       "1334                University Of Queensland - St Lucia        21/06/2016   \n",
       "1335                                                           21/06/2016   \n",
       "1336                                                           28/07/2016   \n",
       "1337                                              Logan        21/06/2016   \n",
       "1338                                                           21/06/2016   \n",
       "\n",
       "     Local Government /Council             RAP Region State Electorate  \\\n",
       "1334            Gold Coast (C)             Gold Coast           Bonney   \n",
       "1335              Brisbane (C)      Mackay-Whitsunday        Mansfield   \n",
       "1336              Brisbane (C)  Brisbane And Redlands   South Brisbane   \n",
       "1337            Gold Coast (C)                  Logan       Broadwater   \n",
       "1338              Brisbane (C)  Brisbane And Redlands           Cooper   \n",
       "\n",
       "      Actual Contractual Commitment ($)  \n",
       "1334                            19226.0  \n",
       "1335                            20000.0  \n",
       "1336                             7500.0  \n",
       "1337                            10350.0  \n",
       "1338                             9546.0  "
      ]
     },
     "execution_count": 63,
     "metadata": {},
     "output_type": "execute_result"
    }
   ],
   "source": [
    "def clean_dataframe(df):\n",
    "    # Strip leading/trailing spaces from column names\n",
    "    df.columns = df.columns.str.strip()\n",
    "\n",
    "    # Round - MARK NA WITH EMPTY VALUE\n",
    "    df['Round'] = df['Round'].fillna('')\n",
    "\n",
    "    # Program COLUMN - CHANGE ALL TO CAPITALIZE\n",
    "    df['Program'] = df['Program'].str.title()\n",
    "\n",
    "    # Recipient Name - CHANGE ALL TO CAPITALIZE, REMOVE \\N CHARACTER\n",
    "    df['Recipient Name'] = df['Recipient Name'].str.replace(r'\\n', '').str.title()\n",
    "\n",
    "    # University Collaborator (if applicable) - REMOVE WHITE SPACE, REMOVE \\N CHARACTER, CHANGE ALL TO CAPITALIZE, REPLACE NaN WITH EMPTY\n",
    "    df['University Collaborator (if applicable)'] = df['University Collaborator (if applicable)'].str.replace(r'\\s+', ' ', regex=True).str.replace(r'\\n', '').str.title().fillna('')\n",
    "\n",
    "    # Investment/Project Title - REMOVE WHITE SPACE, CHANGE ALL TO title\n",
    "    df['Investment/Project Title'] = df['Investment/Project Title'].str.replace(r'\\s+', ' ', regex=True).str.title()\n",
    "\n",
    "    # RAP Region - CHANGE ALL TO title\n",
    "    df['RAP Region'] = df['RAP Region'].str.title()\n",
    "\n",
    "    # State Electorate - CHANGE ALL TO title\n",
    "    df['State Electorate'] = df['State Electorate'].str.title()\n",
    "\n",
    "    # Physical Address of Recipient - Post Code: REMOVE NULL REPLACE WITH EMPTY\n",
    "    df['Physical Address of Recipient - Post Code'] = df['Physical Address of Recipient - Post Code'].replace('', np.nan).astype(float).round(1).fillna('')\n",
    "\n",
    "    # Primary Location of Activity/Project - Suburb: CHANGE ALL TO title\n",
    "    df['Primary Location of Activity/Project - Suburb'] = df['Primary Location of Activity/Project - Suburb'].str.title()\n",
    "\n",
    "    # Local Government /Council - CHANGE ALL TO title\n",
    "    df['Local Government /Council'] = df['Local Government /Council'].str.title()\n",
    "\n",
    "    # Multiple Locations of Activity/Project (if applicable) - REPLACE NaN WITH EMPTY, CHANGE ALL TO title\n",
    "    df['Multiple Locations of Activity/Project (if applicable)'] = df['Multiple Locations of Activity/Project (if applicable)'].str.title().fillna('')\n",
    "\n",
    "    # Convert columns to specified types\n",
    "    df['Program'] = df['Program'].astype(str)\n",
    "    df['Round'] = df['Round'].astype(str)\n",
    "    df['Recipient Name'] = df['Recipient Name'].astype(str)\n",
    "    df['Physical Address of Recipient - Suburb/Location'] = df['Physical Address of Recipient - Suburb/Location'].astype(str)\n",
    "    df['Physical Address of Recipient - Post Code'] = df['Physical Address of Recipient - Post Code'].replace('', np.nan).astype(float).round(1)\n",
    "    df['University Collaborator (if applicable)'] = df['University Collaborator (if applicable)'].astype(str).fillna('')\n",
    "    df['Other Partners; Collaborators (if applicable)'] = df['Other Partners; Collaborators (if applicable)'].astype(str)\n",
    "    df['Investment/Project Title'] = df['Investment/Project Title'].astype(str)\n",
    "    df['Primary Location of Activity/Project - Suburb'] = df['Primary Location of Activity/Project - Suburb'].astype(str)\n",
    "    df['Primary Location of Activity/Project - Post Code'] = df['Primary Location of Activity/Project - Post Code'].replace('', np.nan).astype(float).round(1)\n",
    "    df['Multiple Locations of Activity/Project (if applicable)'] = df['Multiple Locations of Activity/Project (if applicable)'].astype(str).fillna('')\n",
    "    df['Approval date'] = df['Approval date'].astype(str)\n",
    "    df['Local Government /Council'] = df['Local Government /Council'].astype(str)\n",
    "    df['RAP Region'] = df['RAP Region'].astype(str)\n",
    "    df['State Electorate'] = df['State Electorate'].astype(str)\n",
    "    df['Actual Contractual Commitment ($)'] = df['Actual Contractual Commitment ($)'].str.replace(',', '').astype(float).round(1)\n",
    "    df['Actual Contractual Commitment ($)'] = df['Actual Contractual Commitment ($)'].replace('', np.nan).astype(float).round(1)\n",
    "\n",
    "    return df\n",
    "\n",
    "df = clean_dataframe(df)\n",
    "# check dataframe cleaned properly\n",
    "df.tail()"
   ]
  },
  {
   "cell_type": "markdown",
   "id": "2e837435-bc10-4d43-97ee-5115773af630",
   "metadata": {},
   "source": [
    "### [Q3] Save the data\n",
    "- Transform your grouped data into a dataframe\n",
    "- Save the dataframe as a CSV file\n"
   ]
  },
  {
   "cell_type": "code",
   "execution_count": 64,
   "id": "700480a8",
   "metadata": {},
   "outputs": [],
   "source": [
    "cleaned_file_path = r'cleaned-queensland-funding-recipients.csv'\n",
    "# Save the cleaned dataframe to a CSV file\n",
    "df.to_csv(cleaned_file_path, index=False)"
   ]
  },
  {
   "cell_type": "markdown",
   "id": "2408a2f1",
   "metadata": {},
   "source": [
    "### [Q4] Visualise the data\n",
    "\t\n",
    "- Visualise the grouped data with an appropriate chart\n",
    "- Ensure X and Y axes are labelled appropriately\n",
    "- Add an appropriate title for the chart\n",
    "\n",
    "### [Q5] Create new dataframes\n",
    "- Select 2 groups from a particular category and filter the data into 2 separate dataframes\n",
    "- For each dataframe group by at least one logical category with meaningful aggregates\n",
    "\n",
    "### [Q6] Obtain descriptive statistics\n",
    "\t\n",
    "- Find the descriptive statistics for the funds committed for the different groups.\n",
    "- Assign the `count`, `mean`, `min`, and `max` to variables. Round the mean to a reasonable precision.\n",
    "- Use the variables to create a string which describes in words the basic descriptive statistics of the committed funds.\n",
    "- Print the constructed strings for each group\n",
    "\n",
    "### [Q7] Visualise the data\n",
    "\n",
    "- Using the plotly library, create histograms of the committed funds for the different groups\n",
    "- Set the number of bins to an appropriate value\n",
    "- Display the actual counts in the bars\n",
    "- Enhance the visualisation of the variance by including a box plot\n",
    "- Use suitable colours and add appropriate textual information\n",
    "\n",
    "### Charts"
   ]
  },
  {
   "cell_type": "markdown",
   "id": "b779c4c8",
   "metadata": {},
   "source": [
    "#### Chart1 illustrates the top 19 programs ranked by their Actual Contractual Commitments in dollars. \n",
    "\n",
    "- The Covid-19 Vaccine Program at Uq stands out with a notably higher financial commitment in comparison to other programs, indicating a significant emphasis and investment in their vaccine development endeavors. \n",
    "- Specifically, the Uq - Covid-19 Vaccine Program demonstrates the highest average Actual Contractual Commitment in dollars when juxtaposed with programs such as Data61, showcasing a considerable monetary dedication beyond that of its counterparts."
   ]
  },
  {
   "cell_type": "code",
   "execution_count": 68,
   "id": "ba783787",
   "metadata": {},
   "outputs": [
    {
     "data": {
      "application/vnd.plotly.v1+json": {
       "config": {
        "plotlyServerURL": "https://plot.ly"
       },
       "data": [
        {
         "alignmentgroup": "True",
         "hovertemplate": "Program=%{y}<br>Average Actual Contractual Commitment ($)=%{text}<extra></extra>",
         "legendgroup": "Uq - Covid-19 Vaccine",
         "marker": {
          "color": "rgb(141,211,199)",
          "pattern": {
           "shape": ""
          }
         },
         "name": "Uq - Covid-19 Vaccine",
         "offsetgroup": "Uq - Covid-19 Vaccine",
         "orientation": "h",
         "showlegend": true,
         "text": [
          10000000
         ],
         "textposition": "outside",
         "texttemplate": "%{text:.2s}",
         "type": "bar",
         "x": [
          10000000
         ],
         "xaxis": "x",
         "y": [
          "Uq - Covid-19 Vaccine"
         ],
         "yaxis": "y"
        },
        {
         "alignmentgroup": "True",
         "hovertemplate": "Program=%{y}<br>Average Actual Contractual Commitment ($)=%{text}<extra></extra>",
         "legendgroup": "Data61",
         "marker": {
          "color": "rgb(255,255,179)",
          "pattern": {
           "shape": ""
          }
         },
         "name": "Data61",
         "offsetgroup": "Data61",
         "orientation": "h",
         "showlegend": true,
         "text": [
          5695000
         ],
         "textposition": "outside",
         "texttemplate": "%{text:.2s}",
         "type": "bar",
         "x": [
          5695000
         ],
         "xaxis": "x",
         "y": [
          "Data61"
         ],
         "yaxis": "y"
        },
        {
         "alignmentgroup": "True",
         "hovertemplate": "Program=%{y}<br>Average Actual Contractual Commitment ($)=%{text}<extra></extra>",
         "legendgroup": "Artificial Intelligence Hub",
         "marker": {
          "color": "rgb(190,186,218)",
          "pattern": {
           "shape": ""
          }
         },
         "name": "Artificial Intelligence Hub",
         "offsetgroup": "Artificial Intelligence Hub",
         "orientation": "h",
         "showlegend": true,
         "text": [
          5000000
         ],
         "textposition": "outside",
         "texttemplate": "%{text:.2s}",
         "type": "bar",
         "x": [
          5000000
         ],
         "xaxis": "x",
         "y": [
          "Artificial Intelligence Hub"
         ],
         "yaxis": "y"
        },
        {
         "alignmentgroup": "True",
         "hovertemplate": "Program=%{y}<br>Average Actual Contractual Commitment ($)=%{text}<extra></extra>",
         "legendgroup": "Clem Jones Centre For Ageing Dementia Research",
         "marker": {
          "color": "rgb(251,128,114)",
          "pattern": {
           "shape": ""
          }
         },
         "name": "Clem Jones Centre For Ageing Dementia Research",
         "offsetgroup": "Clem Jones Centre For Ageing Dementia Research",
         "orientation": "h",
         "showlegend": true,
         "text": [
          5000000
         ],
         "textposition": "outside",
         "texttemplate": "%{text:.2s}",
         "type": "bar",
         "x": [
          5000000
         ],
         "xaxis": "x",
         "y": [
          "Clem Jones Centre For Ageing Dementia Research"
         ],
         "yaxis": "y"
        },
        {
         "alignmentgroup": "True",
         "hovertemplate": "Program=%{y}<br>Average Actual Contractual Commitment ($)=%{text}<extra></extra>",
         "legendgroup": "Queensland Emory Drug Discovery Initiative",
         "marker": {
          "color": "rgb(128,177,211)",
          "pattern": {
           "shape": ""
          }
         },
         "name": "Queensland Emory Drug Discovery Initiative",
         "offsetgroup": "Queensland Emory Drug Discovery Initiative",
         "orientation": "h",
         "showlegend": true,
         "text": [
          4169000
         ],
         "textposition": "outside",
         "texttemplate": "%{text:.2s}",
         "type": "bar",
         "x": [
          4169000
         ],
         "xaxis": "x",
         "y": [
          "Queensland Emory Drug Discovery Initiative"
         ],
         "yaxis": "y"
        },
        {
         "alignmentgroup": "True",
         "hovertemplate": "Program=%{y}<br>Average Actual Contractual Commitment ($)=%{text}<extra></extra>",
         "legendgroup": "Platform Technology Program",
         "marker": {
          "color": "rgb(253,180,98)",
          "pattern": {
           "shape": ""
          }
         },
         "name": "Platform Technology Program",
         "offsetgroup": "Platform Technology Program",
         "orientation": "h",
         "showlegend": true,
         "text": [
          3826918
         ],
         "textposition": "outside",
         "texttemplate": "%{text:.2s}",
         "type": "bar",
         "x": [
          3826918
         ],
         "xaxis": "x",
         "y": [
          "Platform Technology Program"
         ],
         "yaxis": "y"
        },
        {
         "alignmentgroup": "True",
         "hovertemplate": "Program=%{y}<br>Average Actual Contractual Commitment ($)=%{text}<extra></extra>",
         "legendgroup": "Siemens Healthcare",
         "marker": {
          "color": "rgb(179,222,105)",
          "pattern": {
           "shape": ""
          }
         },
         "name": "Siemens Healthcare",
         "offsetgroup": "Siemens Healthcare",
         "orientation": "h",
         "showlegend": true,
         "text": [
          3198649
         ],
         "textposition": "outside",
         "texttemplate": "%{text:.2s}",
         "type": "bar",
         "x": [
          3198649
         ],
         "xaxis": "x",
         "y": [
          "Siemens Healthcare"
         ],
         "yaxis": "y"
        },
        {
         "alignmentgroup": "True",
         "hovertemplate": "Program=%{y}<br>Average Actual Contractual Commitment ($)=%{text}<extra></extra>",
         "legendgroup": "Agtech And Logistics Hub",
         "marker": {
          "color": "rgb(252,205,229)",
          "pattern": {
           "shape": ""
          }
         },
         "name": "Agtech And Logistics Hub",
         "offsetgroup": "Agtech And Logistics Hub",
         "orientation": "h",
         "showlegend": true,
         "text": [
          3000000
         ],
         "textposition": "outside",
         "texttemplate": "%{text:.2s}",
         "type": "bar",
         "x": [
          3000000
         ],
         "xaxis": "x",
         "y": [
          "Agtech And Logistics Hub"
         ],
         "yaxis": "y"
        },
        {
         "alignmentgroup": "True",
         "hovertemplate": "Program=%{y}<br>Average Actual Contractual Commitment ($)=%{text}<extra></extra>",
         "legendgroup": "Rockhampton Technology And Innovation Centre",
         "marker": {
          "color": "rgb(217,217,217)",
          "pattern": {
           "shape": ""
          }
         },
         "name": "Rockhampton Technology And Innovation Centre",
         "offsetgroup": "Rockhampton Technology And Innovation Centre",
         "orientation": "h",
         "showlegend": true,
         "text": [
          2800000
         ],
         "textposition": "outside",
         "texttemplate": "%{text:.2s}",
         "type": "bar",
         "x": [
          2800000
         ],
         "xaxis": "x",
         "y": [
          "Rockhampton Technology And Innovation Centre"
         ],
         "yaxis": "y"
        },
        {
         "alignmentgroup": "True",
         "hovertemplate": "Program=%{y}<br>Average Actual Contractual Commitment ($)=%{text}<extra></extra>",
         "legendgroup": "Growing Queensland'S Companies",
         "marker": {
          "color": "rgb(188,128,189)",
          "pattern": {
           "shape": ""
          }
         },
         "name": "Growing Queensland'S Companies",
         "offsetgroup": "Growing Queensland'S Companies",
         "orientation": "h",
         "showlegend": true,
         "text": [
          2202334
         ],
         "textposition": "outside",
         "texttemplate": "%{text:.2s}",
         "type": "bar",
         "x": [
          2202334
         ],
         "xaxis": "x",
         "y": [
          "Growing Queensland'S Companies"
         ],
         "yaxis": "y"
        },
        {
         "alignmentgroup": "True",
         "hovertemplate": "Program=%{y}<br>Average Actual Contractual Commitment ($)=%{text}<extra></extra>",
         "legendgroup": "Innovate Queensland",
         "marker": {
          "color": "rgb(204,235,197)",
          "pattern": {
           "shape": ""
          }
         },
         "name": "Innovate Queensland",
         "offsetgroup": "Innovate Queensland",
         "orientation": "h",
         "showlegend": true,
         "text": [
          1500000
         ],
         "textposition": "outside",
         "texttemplate": "%{text:.2s}",
         "type": "bar",
         "x": [
          1500000
         ],
         "xaxis": "x",
         "y": [
          "Innovate Queensland"
         ],
         "yaxis": "y"
        },
        {
         "alignmentgroup": "True",
         "hovertemplate": "Program=%{y}<br>Average Actual Contractual Commitment ($)=%{text}<extra></extra>",
         "legendgroup": "Life Sciences Queensland",
         "marker": {
          "color": "rgb(255,237,111)",
          "pattern": {
           "shape": ""
          }
         },
         "name": "Life Sciences Queensland",
         "offsetgroup": "Life Sciences Queensland",
         "orientation": "h",
         "showlegend": true,
         "text": [
          1155000
         ],
         "textposition": "outside",
         "texttemplate": "%{text:.2s}",
         "type": "bar",
         "x": [
          1155000
         ],
         "xaxis": "x",
         "y": [
          "Life Sciences Queensland"
         ],
         "yaxis": "y"
        },
        {
         "alignmentgroup": "True",
         "hovertemplate": "Program=%{y}<br>Average Actual Contractual Commitment ($)=%{text}<extra></extra>",
         "legendgroup": "Mit Bootcamp",
         "marker": {
          "color": "rgb(141,211,199)",
          "pattern": {
           "shape": ""
          }
         },
         "name": "Mit Bootcamp",
         "offsetgroup": "Mit Bootcamp",
         "orientation": "h",
         "showlegend": true,
         "text": [
          900000
         ],
         "textposition": "outside",
         "texttemplate": "%{text:.2s}",
         "type": "bar",
         "x": [
          900000
         ],
         "xaxis": "x",
         "y": [
          "Mit Bootcamp"
         ],
         "yaxis": "y"
        },
        {
         "alignmentgroup": "True",
         "hovertemplate": "Program=%{y}<br>Average Actual Contractual Commitment ($)=%{text}<extra></extra>",
         "legendgroup": "Innovation Partnerships Grants",
         "marker": {
          "color": "rgb(255,255,179)",
          "pattern": {
           "shape": ""
          }
         },
         "name": "Innovation Partnerships Grants",
         "offsetgroup": "Innovation Partnerships Grants",
         "orientation": "h",
         "showlegend": true,
         "text": [
          710921.1363636364
         ],
         "textposition": "outside",
         "texttemplate": "%{text:.2s}",
         "type": "bar",
         "x": [
          710921.1363636364
         ],
         "xaxis": "x",
         "y": [
          "Innovation Partnerships Grants"
         ],
         "yaxis": "y"
        },
        {
         "alignmentgroup": "True",
         "hovertemplate": "Program=%{y}<br>Average Actual Contractual Commitment ($)=%{text}<extra></extra>",
         "legendgroup": "Fraunhofer Institute Partnership",
         "marker": {
          "color": "rgb(190,186,218)",
          "pattern": {
           "shape": ""
          }
         },
         "name": "Fraunhofer Institute Partnership",
         "offsetgroup": "Fraunhofer Institute Partnership",
         "orientation": "h",
         "showlegend": true,
         "text": [
          700000
         ],
         "textposition": "outside",
         "texttemplate": "%{text:.2s}",
         "type": "bar",
         "x": [
          700000
         ],
         "xaxis": "x",
         "y": [
          "Fraunhofer Institute Partnership"
         ],
         "yaxis": "y"
        },
        {
         "alignmentgroup": "True",
         "hovertemplate": "Program=%{y}<br>Average Actual Contractual Commitment ($)=%{text}<extra></extra>",
         "legendgroup": "Startup Onramp Regional Program",
         "marker": {
          "color": "rgb(251,128,114)",
          "pattern": {
           "shape": ""
          }
         },
         "name": "Startup Onramp Regional Program",
         "offsetgroup": "Startup Onramp Regional Program",
         "orientation": "h",
         "showlegend": true,
         "text": [
          667000
         ],
         "textposition": "outside",
         "texttemplate": "%{text:.2s}",
         "type": "bar",
         "x": [
          667000
         ],
         "xaxis": "x",
         "y": [
          "Startup Onramp Regional Program"
         ],
         "yaxis": "y"
        },
        {
         "alignmentgroup": "True",
         "hovertemplate": "Program=%{y}<br>Average Actual Contractual Commitment ($)=%{text}<extra></extra>",
         "legendgroup": "Life Sciences Queensland - Catalyst",
         "marker": {
          "color": "rgb(128,177,211)",
          "pattern": {
           "shape": ""
          }
         },
         "name": "Life Sciences Queensland - Catalyst",
         "offsetgroup": "Life Sciences Queensland - Catalyst",
         "orientation": "h",
         "showlegend": true,
         "text": [
          600000
         ],
         "textposition": "outside",
         "texttemplate": "%{text:.2s}",
         "type": "bar",
         "x": [
          600000
         ],
         "xaxis": "x",
         "y": [
          "Life Sciences Queensland - Catalyst"
         ],
         "yaxis": "y"
        },
        {
         "alignmentgroup": "True",
         "hovertemplate": "Program=%{y}<br>Average Actual Contractual Commitment ($)=%{text}<extra></extra>",
         "legendgroup": "Softbank",
         "marker": {
          "color": "rgb(253,180,98)",
          "pattern": {
           "shape": ""
          }
         },
         "name": "Softbank",
         "offsetgroup": "Softbank",
         "orientation": "h",
         "showlegend": true,
         "text": [
          587236
         ],
         "textposition": "outside",
         "texttemplate": "%{text:.2s}",
         "type": "bar",
         "x": [
          587236
         ],
         "xaxis": "x",
         "y": [
          "Softbank"
         ],
         "yaxis": "y"
        },
        {
         "alignmentgroup": "True",
         "hovertemplate": "Program=%{y}<br>Average Actual Contractual Commitment ($)=%{text}<extra></extra>",
         "legendgroup": "Industry Tech Fund",
         "marker": {
          "color": "rgb(179,222,105)",
          "pattern": {
           "shape": ""
          }
         },
         "name": "Industry Tech Fund",
         "offsetgroup": "Industry Tech Fund",
         "orientation": "h",
         "showlegend": true,
         "text": [
          546027
         ],
         "textposition": "outside",
         "texttemplate": "%{text:.2s}",
         "type": "bar",
         "x": [
          546027
         ],
         "xaxis": "x",
         "y": [
          "Industry Tech Fund"
         ],
         "yaxis": "y"
        }
       ],
       "layout": {
        "barmode": "relative",
        "height": 700,
        "legend": {
         "title": {
          "text": "Program"
         },
         "tracegroupgap": 0
        },
        "margin": {
         "b": 70,
         "l": 150,
         "r": 20,
         "t": 70
        },
        "template": {
         "data": {
          "bar": [
           {
            "error_x": {
             "color": "#2a3f5f"
            },
            "error_y": {
             "color": "#2a3f5f"
            },
            "marker": {
             "line": {
              "color": "#E5ECF6",
              "width": 0.5
             },
             "pattern": {
              "fillmode": "overlay",
              "size": 10,
              "solidity": 0.2
             }
            },
            "type": "bar"
           }
          ],
          "barpolar": [
           {
            "marker": {
             "line": {
              "color": "#E5ECF6",
              "width": 0.5
             },
             "pattern": {
              "fillmode": "overlay",
              "size": 10,
              "solidity": 0.2
             }
            },
            "type": "barpolar"
           }
          ],
          "carpet": [
           {
            "aaxis": {
             "endlinecolor": "#2a3f5f",
             "gridcolor": "white",
             "linecolor": "white",
             "minorgridcolor": "white",
             "startlinecolor": "#2a3f5f"
            },
            "baxis": {
             "endlinecolor": "#2a3f5f",
             "gridcolor": "white",
             "linecolor": "white",
             "minorgridcolor": "white",
             "startlinecolor": "#2a3f5f"
            },
            "type": "carpet"
           }
          ],
          "choropleth": [
           {
            "colorbar": {
             "outlinewidth": 0,
             "ticks": ""
            },
            "type": "choropleth"
           }
          ],
          "contour": [
           {
            "colorbar": {
             "outlinewidth": 0,
             "ticks": ""
            },
            "colorscale": [
             [
              0,
              "#0d0887"
             ],
             [
              0.1111111111111111,
              "#46039f"
             ],
             [
              0.2222222222222222,
              "#7201a8"
             ],
             [
              0.3333333333333333,
              "#9c179e"
             ],
             [
              0.4444444444444444,
              "#bd3786"
             ],
             [
              0.5555555555555556,
              "#d8576b"
             ],
             [
              0.6666666666666666,
              "#ed7953"
             ],
             [
              0.7777777777777778,
              "#fb9f3a"
             ],
             [
              0.8888888888888888,
              "#fdca26"
             ],
             [
              1,
              "#f0f921"
             ]
            ],
            "type": "contour"
           }
          ],
          "contourcarpet": [
           {
            "colorbar": {
             "outlinewidth": 0,
             "ticks": ""
            },
            "type": "contourcarpet"
           }
          ],
          "heatmap": [
           {
            "colorbar": {
             "outlinewidth": 0,
             "ticks": ""
            },
            "colorscale": [
             [
              0,
              "#0d0887"
             ],
             [
              0.1111111111111111,
              "#46039f"
             ],
             [
              0.2222222222222222,
              "#7201a8"
             ],
             [
              0.3333333333333333,
              "#9c179e"
             ],
             [
              0.4444444444444444,
              "#bd3786"
             ],
             [
              0.5555555555555556,
              "#d8576b"
             ],
             [
              0.6666666666666666,
              "#ed7953"
             ],
             [
              0.7777777777777778,
              "#fb9f3a"
             ],
             [
              0.8888888888888888,
              "#fdca26"
             ],
             [
              1,
              "#f0f921"
             ]
            ],
            "type": "heatmap"
           }
          ],
          "heatmapgl": [
           {
            "colorbar": {
             "outlinewidth": 0,
             "ticks": ""
            },
            "colorscale": [
             [
              0,
              "#0d0887"
             ],
             [
              0.1111111111111111,
              "#46039f"
             ],
             [
              0.2222222222222222,
              "#7201a8"
             ],
             [
              0.3333333333333333,
              "#9c179e"
             ],
             [
              0.4444444444444444,
              "#bd3786"
             ],
             [
              0.5555555555555556,
              "#d8576b"
             ],
             [
              0.6666666666666666,
              "#ed7953"
             ],
             [
              0.7777777777777778,
              "#fb9f3a"
             ],
             [
              0.8888888888888888,
              "#fdca26"
             ],
             [
              1,
              "#f0f921"
             ]
            ],
            "type": "heatmapgl"
           }
          ],
          "histogram": [
           {
            "marker": {
             "pattern": {
              "fillmode": "overlay",
              "size": 10,
              "solidity": 0.2
             }
            },
            "type": "histogram"
           }
          ],
          "histogram2d": [
           {
            "colorbar": {
             "outlinewidth": 0,
             "ticks": ""
            },
            "colorscale": [
             [
              0,
              "#0d0887"
             ],
             [
              0.1111111111111111,
              "#46039f"
             ],
             [
              0.2222222222222222,
              "#7201a8"
             ],
             [
              0.3333333333333333,
              "#9c179e"
             ],
             [
              0.4444444444444444,
              "#bd3786"
             ],
             [
              0.5555555555555556,
              "#d8576b"
             ],
             [
              0.6666666666666666,
              "#ed7953"
             ],
             [
              0.7777777777777778,
              "#fb9f3a"
             ],
             [
              0.8888888888888888,
              "#fdca26"
             ],
             [
              1,
              "#f0f921"
             ]
            ],
            "type": "histogram2d"
           }
          ],
          "histogram2dcontour": [
           {
            "colorbar": {
             "outlinewidth": 0,
             "ticks": ""
            },
            "colorscale": [
             [
              0,
              "#0d0887"
             ],
             [
              0.1111111111111111,
              "#46039f"
             ],
             [
              0.2222222222222222,
              "#7201a8"
             ],
             [
              0.3333333333333333,
              "#9c179e"
             ],
             [
              0.4444444444444444,
              "#bd3786"
             ],
             [
              0.5555555555555556,
              "#d8576b"
             ],
             [
              0.6666666666666666,
              "#ed7953"
             ],
             [
              0.7777777777777778,
              "#fb9f3a"
             ],
             [
              0.8888888888888888,
              "#fdca26"
             ],
             [
              1,
              "#f0f921"
             ]
            ],
            "type": "histogram2dcontour"
           }
          ],
          "mesh3d": [
           {
            "colorbar": {
             "outlinewidth": 0,
             "ticks": ""
            },
            "type": "mesh3d"
           }
          ],
          "parcoords": [
           {
            "line": {
             "colorbar": {
              "outlinewidth": 0,
              "ticks": ""
             }
            },
            "type": "parcoords"
           }
          ],
          "pie": [
           {
            "automargin": true,
            "type": "pie"
           }
          ],
          "scatter": [
           {
            "fillpattern": {
             "fillmode": "overlay",
             "size": 10,
             "solidity": 0.2
            },
            "type": "scatter"
           }
          ],
          "scatter3d": [
           {
            "line": {
             "colorbar": {
              "outlinewidth": 0,
              "ticks": ""
             }
            },
            "marker": {
             "colorbar": {
              "outlinewidth": 0,
              "ticks": ""
             }
            },
            "type": "scatter3d"
           }
          ],
          "scattercarpet": [
           {
            "marker": {
             "colorbar": {
              "outlinewidth": 0,
              "ticks": ""
             }
            },
            "type": "scattercarpet"
           }
          ],
          "scattergeo": [
           {
            "marker": {
             "colorbar": {
              "outlinewidth": 0,
              "ticks": ""
             }
            },
            "type": "scattergeo"
           }
          ],
          "scattergl": [
           {
            "marker": {
             "colorbar": {
              "outlinewidth": 0,
              "ticks": ""
             }
            },
            "type": "scattergl"
           }
          ],
          "scattermapbox": [
           {
            "marker": {
             "colorbar": {
              "outlinewidth": 0,
              "ticks": ""
             }
            },
            "type": "scattermapbox"
           }
          ],
          "scatterpolar": [
           {
            "marker": {
             "colorbar": {
              "outlinewidth": 0,
              "ticks": ""
             }
            },
            "type": "scatterpolar"
           }
          ],
          "scatterpolargl": [
           {
            "marker": {
             "colorbar": {
              "outlinewidth": 0,
              "ticks": ""
             }
            },
            "type": "scatterpolargl"
           }
          ],
          "scatterternary": [
           {
            "marker": {
             "colorbar": {
              "outlinewidth": 0,
              "ticks": ""
             }
            },
            "type": "scatterternary"
           }
          ],
          "surface": [
           {
            "colorbar": {
             "outlinewidth": 0,
             "ticks": ""
            },
            "colorscale": [
             [
              0,
              "#0d0887"
             ],
             [
              0.1111111111111111,
              "#46039f"
             ],
             [
              0.2222222222222222,
              "#7201a8"
             ],
             [
              0.3333333333333333,
              "#9c179e"
             ],
             [
              0.4444444444444444,
              "#bd3786"
             ],
             [
              0.5555555555555556,
              "#d8576b"
             ],
             [
              0.6666666666666666,
              "#ed7953"
             ],
             [
              0.7777777777777778,
              "#fb9f3a"
             ],
             [
              0.8888888888888888,
              "#fdca26"
             ],
             [
              1,
              "#f0f921"
             ]
            ],
            "type": "surface"
           }
          ],
          "table": [
           {
            "cells": {
             "fill": {
              "color": "#EBF0F8"
             },
             "line": {
              "color": "white"
             }
            },
            "header": {
             "fill": {
              "color": "#C8D4E3"
             },
             "line": {
              "color": "white"
             }
            },
            "type": "table"
           }
          ]
         },
         "layout": {
          "annotationdefaults": {
           "arrowcolor": "#2a3f5f",
           "arrowhead": 0,
           "arrowwidth": 1
          },
          "autotypenumbers": "strict",
          "coloraxis": {
           "colorbar": {
            "outlinewidth": 0,
            "ticks": ""
           }
          },
          "colorscale": {
           "diverging": [
            [
             0,
             "#8e0152"
            ],
            [
             0.1,
             "#c51b7d"
            ],
            [
             0.2,
             "#de77ae"
            ],
            [
             0.3,
             "#f1b6da"
            ],
            [
             0.4,
             "#fde0ef"
            ],
            [
             0.5,
             "#f7f7f7"
            ],
            [
             0.6,
             "#e6f5d0"
            ],
            [
             0.7,
             "#b8e186"
            ],
            [
             0.8,
             "#7fbc41"
            ],
            [
             0.9,
             "#4d9221"
            ],
            [
             1,
             "#276419"
            ]
           ],
           "sequential": [
            [
             0,
             "#0d0887"
            ],
            [
             0.1111111111111111,
             "#46039f"
            ],
            [
             0.2222222222222222,
             "#7201a8"
            ],
            [
             0.3333333333333333,
             "#9c179e"
            ],
            [
             0.4444444444444444,
             "#bd3786"
            ],
            [
             0.5555555555555556,
             "#d8576b"
            ],
            [
             0.6666666666666666,
             "#ed7953"
            ],
            [
             0.7777777777777778,
             "#fb9f3a"
            ],
            [
             0.8888888888888888,
             "#fdca26"
            ],
            [
             1,
             "#f0f921"
            ]
           ],
           "sequentialminus": [
            [
             0,
             "#0d0887"
            ],
            [
             0.1111111111111111,
             "#46039f"
            ],
            [
             0.2222222222222222,
             "#7201a8"
            ],
            [
             0.3333333333333333,
             "#9c179e"
            ],
            [
             0.4444444444444444,
             "#bd3786"
            ],
            [
             0.5555555555555556,
             "#d8576b"
            ],
            [
             0.6666666666666666,
             "#ed7953"
            ],
            [
             0.7777777777777778,
             "#fb9f3a"
            ],
            [
             0.8888888888888888,
             "#fdca26"
            ],
            [
             1,
             "#f0f921"
            ]
           ]
          },
          "colorway": [
           "#636efa",
           "#EF553B",
           "#00cc96",
           "#ab63fa",
           "#FFA15A",
           "#19d3f3",
           "#FF6692",
           "#B6E880",
           "#FF97FF",
           "#FECB52"
          ],
          "font": {
           "color": "#2a3f5f"
          },
          "geo": {
           "bgcolor": "white",
           "lakecolor": "white",
           "landcolor": "#E5ECF6",
           "showlakes": true,
           "showland": true,
           "subunitcolor": "white"
          },
          "hoverlabel": {
           "align": "left"
          },
          "hovermode": "closest",
          "mapbox": {
           "style": "light"
          },
          "paper_bgcolor": "white",
          "plot_bgcolor": "#E5ECF6",
          "polar": {
           "angularaxis": {
            "gridcolor": "white",
            "linecolor": "white",
            "ticks": ""
           },
           "bgcolor": "#E5ECF6",
           "radialaxis": {
            "gridcolor": "white",
            "linecolor": "white",
            "ticks": ""
           }
          },
          "scene": {
           "xaxis": {
            "backgroundcolor": "#E5ECF6",
            "gridcolor": "white",
            "gridwidth": 2,
            "linecolor": "white",
            "showbackground": true,
            "ticks": "",
            "zerolinecolor": "white"
           },
           "yaxis": {
            "backgroundcolor": "#E5ECF6",
            "gridcolor": "white",
            "gridwidth": 2,
            "linecolor": "white",
            "showbackground": true,
            "ticks": "",
            "zerolinecolor": "white"
           },
           "zaxis": {
            "backgroundcolor": "#E5ECF6",
            "gridcolor": "white",
            "gridwidth": 2,
            "linecolor": "white",
            "showbackground": true,
            "ticks": "",
            "zerolinecolor": "white"
           }
          },
          "shapedefaults": {
           "line": {
            "color": "#2a3f5f"
           }
          },
          "ternary": {
           "aaxis": {
            "gridcolor": "white",
            "linecolor": "white",
            "ticks": ""
           },
           "baxis": {
            "gridcolor": "white",
            "linecolor": "white",
            "ticks": ""
           },
           "bgcolor": "#E5ECF6",
           "caxis": {
            "gridcolor": "white",
            "linecolor": "white",
            "ticks": ""
           }
          },
          "title": {
           "x": 0.05
          },
          "xaxis": {
           "automargin": true,
           "gridcolor": "white",
           "linecolor": "white",
           "ticks": "",
           "title": {
            "standoff": 15
           },
           "zerolinecolor": "white",
           "zerolinewidth": 2
          },
          "yaxis": {
           "automargin": true,
           "gridcolor": "white",
           "linecolor": "white",
           "ticks": "",
           "title": {
            "standoff": 15
           },
           "zerolinecolor": "white",
           "zerolinewidth": 2
          }
         }
        },
        "title": {
         "font": {
          "size": 20
         },
         "text": "Top 19 Programs by Average Actual Contractual Commitments ($)"
        },
        "xaxis": {
         "anchor": "y",
         "domain": [
          0,
          1
         ],
         "title": {
          "text": "Average Actual Contractual Commitment ($)"
         }
        },
        "yaxis": {
         "anchor": "x",
         "categoryarray": [
          "Industry Tech Fund",
          "Softbank",
          "Life Sciences Queensland - Catalyst",
          "Startup Onramp Regional Program",
          "Fraunhofer Institute Partnership",
          "Innovation Partnerships Grants",
          "Mit Bootcamp",
          "Life Sciences Queensland",
          "Innovate Queensland",
          "Growing Queensland'S Companies",
          "Rockhampton Technology And Innovation Centre",
          "Agtech And Logistics Hub",
          "Siemens Healthcare",
          "Platform Technology Program",
          "Queensland Emory Drug Discovery Initiative",
          "Clem Jones Centre For Ageing Dementia Research",
          "Artificial Intelligence Hub",
          "Data61",
          "Uq - Covid-19 Vaccine"
         ],
         "categoryorder": "array",
         "domain": [
          0,
          1
         ],
         "title": {
          "text": "Program"
         }
        }
       }
      }
     },
     "metadata": {},
     "output_type": "display_data"
    }
   ],
   "source": [
    "# Group the dataframe by 'Program' and calculate the mean of 'Actual Contractual Commitment ($)'\n",
    "average_commitment_df = df.groupby('Program')['Actual Contractual Commitment ($)'].mean().reset_index()\n",
    "\n",
    "# Rename the column to reflect that it contains average values\n",
    "average_commitment_df = average_commitment_df.rename(columns={'Actual Contractual Commitment ($)': 'Average Actual Contractual Commitment ($)'})\n",
    "\n",
    "# Sort the dataframe in descending order and select the top 19 programs\n",
    "top_19_programs_df = average_commitment_df.sort_values(by='Average Actual Contractual Commitment ($)', ascending=False).head(19)\n",
    "\n",
    "top_19_programs_df = top_19_programs_df.reset_index(drop=True)\n",
    "top_19_programs_df['Rank'] = top_19_programs_df.index + 1\n",
    "\n",
    "fig = px.bar(\n",
    "    top_19_programs_df,\n",
    "    x='Average Actual Contractual Commitment ($)',\n",
    "    y='Program',\n",
    "    orientation='h',\n",
    "    title='Top 19 Programs by Average Actual Contractual Commitments ($)',\n",
    "    hover_data={'Average Actual Contractual Commitment ($)':True, 'Program': True},\n",
    "    text='Average Actual Contractual Commitment ($)',\n",
    "    color='Program',\n",
    "    color_discrete_sequence=px.colors.qualitative.Set3\n",
    ")\n",
    "\n",
    "# Update the text and layout of the bar chart\n",
    "fig.update_traces(texttemplate='%{text:.2s}', textposition='outside')\n",
    "fig.update_layout(\n",
    "    title=dict(font=dict(size=20)),\n",
    "    xaxis_title=\"Average Actual Contractual Commitment ($)\",\n",
    "    yaxis_title=\"Program\",\n",
    "    margin=dict(l=150, r=20, t=70, b=70),\n",
    "    height=700 \n",
    ")\n",
    "\n",
    "# Show the figure\n",
    "fig.show()\n"
   ]
  },
  {
   "cell_type": "markdown",
   "id": "2c8fe1f3",
   "metadata": {},
   "source": [
    "#### Chart2 - Top 15 Investment/Projects Title by Average Actual Contractual Commitments ($)\n",
    "* The Uq Covid-19 Vaccine Program appears to have garnered a significantly greater level of financial backing in contrast to alternative initiatives, thereby underscoring its perceived significance and potential ramifications. The infusion of financial resources into this program is indicative of the recognition of its pivotal role in addressing the current pandemic crisis and underscores the urgency and priority attached to its development and potential impact.\n",
    "\n",
    "* The second tier, referred to as Tier 1 Of 3, within the scope of Advanced Autonomy Platform Technologies, represents an elevated level of financial support and investment that serves as a pivotal component in the progression and development of cutting-edge technologies in the realm of autonomous systems\n"
   ]
  },
  {
   "cell_type": "code",
   "execution_count": 12,
   "id": "1e779e5d",
   "metadata": {},
   "outputs": [
    {
     "data": {
      "application/vnd.plotly.v1+json": {
       "config": {
        "plotlyServerURL": "https://plot.ly"
       },
       "data": [
        {
         "customdata": [
          [
           "Rapid Acceleration Of The Uq Covid-19 Vaccine Program"
          ],
          [
           "Advanced Autonomy Platform Technologies  Tier 1 Of 3"
          ],
          [
           "Establishing A Functional Programming Open Lab, Big Data Platform Challenge, Q-Foresight, Queensland Research Fellow (Q-Foresight)"
          ],
          [
           "Commercial Development Of The Ultrasound Application For Alzheimer'S Disease Treatment Developed At Queensland Brain Institute'S Clem Jones Centre For Ageing Dementia Research"
          ],
          [
           "Artificial Intelligence Hub"
          ],
          [
           "Operation Of The Queensland Emory Drug Discovery Initiative (Qeddi)"
          ],
          [
           "Redback Smart Monitoring Platform"
          ],
          [
           "Operation Of The Tri Innovation And Translation Centre In Collaboration With Siemens Healthcare (Iat Centre) Headquartered At The Translational Research Centre Building"
          ],
          [
           "Agtech And Logistics Hub"
          ],
          [
           "Rockhampton Advanced Technology And Innovation Centre"
          ],
          [
           "Growing Queensland'S Companies"
          ],
          [
           "Lsq Project Delivery 2016-2020"
          ],
          [
           "Commercialise Multi-Modal Imaging And Stimulation"
          ],
          [
           "Humanoid Robotics R&D Program"
          ],
          [
           "Provision Of Innovation Services Contract No. Ditid 18009"
          ]
         ],
         "domain": {
          "x": [
           0,
           1
          ],
          "y": [
           0,
           1
          ]
         },
         "hole": 0.3,
         "hovertemplate": "<b>%{hovertext}</b><br><br>Truncated Title=%{label}<br>Average Actual Contractual Commitment ($)=%{value}<br>Investment/Project Title=%{customdata[0]}<extra></extra>",
         "hovertext": [
          "Rapid Acceleration Of The Uq Covid-19 Vaccine Program",
          "Advanced Autonomy Platform Technologies  Tier 1 Of 3",
          "Establishing A Functional Programming Open Lab, Big Data Platform Challenge, Q-Foresight, Queensland Research Fellow (Q-Foresight)",
          "Commercial Development Of The Ultrasound Application For Alzheimer'S Disease Treatment Developed At Queensland Brain Institute'S Clem Jones Centre For Ageing Dementia Research",
          "Artificial Intelligence Hub",
          "Operation Of The Queensland Emory Drug Discovery Initiative (Qeddi)",
          "Redback Smart Monitoring Platform",
          "Operation Of The Tri Innovation And Translation Centre In Collaboration With Siemens Healthcare (Iat Centre) Headquartered At The Translational Research Centre Building",
          "Agtech And Logistics Hub",
          "Rockhampton Advanced Technology And Innovation Centre",
          "Growing Queensland'S Companies",
          "Lsq Project Delivery 2016-2020",
          "Commercialise Multi-Modal Imaging And Stimulation",
          "Humanoid Robotics R&D Program",
          "Provision Of Innovation Services Contract No. Ditid 18009"
         ],
         "labels": [
          "Rapid Acceleration O...",
          "Advanced Autonomy Pl...",
          "Establishing A Funct...",
          "Commercial Developme...",
          "Artificial Intellige...",
          "Operation Of The Que...",
          "Redback Smart Monito...",
          "Operation Of The Tri...",
          "Agtech And Logistics...",
          "Rockhampton Advanced...",
          "Growing Queensland'S...",
          "Lsq Project Delivery...",
          "Commercialise Multi-...",
          "Humanoid Robotics R&...",
          "Provision Of Innovat..."
         ],
         "legendgroup": "",
         "marker": {
          "colors": [
           "rgb(141,211,199)",
           "rgb(255,255,179)",
           "rgb(190,186,218)",
           "rgb(251,128,114)",
           "rgb(128,177,211)",
           "rgb(253,180,98)",
           "rgb(179,222,105)",
           "rgb(252,205,229)",
           "rgb(217,217,217)",
           "rgb(188,128,189)",
           "rgb(204,235,197)",
           "rgb(255,237,111)",
           "rgb(141,211,199)",
           "rgb(255,255,179)",
           "rgb(190,186,218)"
          ]
         },
         "name": "",
         "showlegend": true,
         "type": "pie",
         "values": [
          10000000,
          9000000,
          5695000,
          5000000,
          5000000,
          4169000,
          3807672,
          3198649,
          3000000,
          2800000,
          2202334,
          1860000,
          1500000,
          1500000,
          1500000
         ]
        }
       ],
       "layout": {
        "height": 700,
        "legend": {
         "tracegroupgap": 0
        },
        "margin": {
         "b": 70,
         "l": 150,
         "r": 20,
         "t": 70
        },
        "piecolorway": [
         "rgb(141,211,199)",
         "rgb(255,255,179)",
         "rgb(190,186,218)",
         "rgb(251,128,114)",
         "rgb(128,177,211)",
         "rgb(253,180,98)",
         "rgb(179,222,105)",
         "rgb(252,205,229)",
         "rgb(217,217,217)",
         "rgb(188,128,189)",
         "rgb(204,235,197)",
         "rgb(255,237,111)"
        ],
        "template": {
         "data": {
          "bar": [
           {
            "error_x": {
             "color": "#2a3f5f"
            },
            "error_y": {
             "color": "#2a3f5f"
            },
            "marker": {
             "line": {
              "color": "#E5ECF6",
              "width": 0.5
             },
             "pattern": {
              "fillmode": "overlay",
              "size": 10,
              "solidity": 0.2
             }
            },
            "type": "bar"
           }
          ],
          "barpolar": [
           {
            "marker": {
             "line": {
              "color": "#E5ECF6",
              "width": 0.5
             },
             "pattern": {
              "fillmode": "overlay",
              "size": 10,
              "solidity": 0.2
             }
            },
            "type": "barpolar"
           }
          ],
          "carpet": [
           {
            "aaxis": {
             "endlinecolor": "#2a3f5f",
             "gridcolor": "white",
             "linecolor": "white",
             "minorgridcolor": "white",
             "startlinecolor": "#2a3f5f"
            },
            "baxis": {
             "endlinecolor": "#2a3f5f",
             "gridcolor": "white",
             "linecolor": "white",
             "minorgridcolor": "white",
             "startlinecolor": "#2a3f5f"
            },
            "type": "carpet"
           }
          ],
          "choropleth": [
           {
            "colorbar": {
             "outlinewidth": 0,
             "ticks": ""
            },
            "type": "choropleth"
           }
          ],
          "contour": [
           {
            "colorbar": {
             "outlinewidth": 0,
             "ticks": ""
            },
            "colorscale": [
             [
              0,
              "#0d0887"
             ],
             [
              0.1111111111111111,
              "#46039f"
             ],
             [
              0.2222222222222222,
              "#7201a8"
             ],
             [
              0.3333333333333333,
              "#9c179e"
             ],
             [
              0.4444444444444444,
              "#bd3786"
             ],
             [
              0.5555555555555556,
              "#d8576b"
             ],
             [
              0.6666666666666666,
              "#ed7953"
             ],
             [
              0.7777777777777778,
              "#fb9f3a"
             ],
             [
              0.8888888888888888,
              "#fdca26"
             ],
             [
              1,
              "#f0f921"
             ]
            ],
            "type": "contour"
           }
          ],
          "contourcarpet": [
           {
            "colorbar": {
             "outlinewidth": 0,
             "ticks": ""
            },
            "type": "contourcarpet"
           }
          ],
          "heatmap": [
           {
            "colorbar": {
             "outlinewidth": 0,
             "ticks": ""
            },
            "colorscale": [
             [
              0,
              "#0d0887"
             ],
             [
              0.1111111111111111,
              "#46039f"
             ],
             [
              0.2222222222222222,
              "#7201a8"
             ],
             [
              0.3333333333333333,
              "#9c179e"
             ],
             [
              0.4444444444444444,
              "#bd3786"
             ],
             [
              0.5555555555555556,
              "#d8576b"
             ],
             [
              0.6666666666666666,
              "#ed7953"
             ],
             [
              0.7777777777777778,
              "#fb9f3a"
             ],
             [
              0.8888888888888888,
              "#fdca26"
             ],
             [
              1,
              "#f0f921"
             ]
            ],
            "type": "heatmap"
           }
          ],
          "heatmapgl": [
           {
            "colorbar": {
             "outlinewidth": 0,
             "ticks": ""
            },
            "colorscale": [
             [
              0,
              "#0d0887"
             ],
             [
              0.1111111111111111,
              "#46039f"
             ],
             [
              0.2222222222222222,
              "#7201a8"
             ],
             [
              0.3333333333333333,
              "#9c179e"
             ],
             [
              0.4444444444444444,
              "#bd3786"
             ],
             [
              0.5555555555555556,
              "#d8576b"
             ],
             [
              0.6666666666666666,
              "#ed7953"
             ],
             [
              0.7777777777777778,
              "#fb9f3a"
             ],
             [
              0.8888888888888888,
              "#fdca26"
             ],
             [
              1,
              "#f0f921"
             ]
            ],
            "type": "heatmapgl"
           }
          ],
          "histogram": [
           {
            "marker": {
             "pattern": {
              "fillmode": "overlay",
              "size": 10,
              "solidity": 0.2
             }
            },
            "type": "histogram"
           }
          ],
          "histogram2d": [
           {
            "colorbar": {
             "outlinewidth": 0,
             "ticks": ""
            },
            "colorscale": [
             [
              0,
              "#0d0887"
             ],
             [
              0.1111111111111111,
              "#46039f"
             ],
             [
              0.2222222222222222,
              "#7201a8"
             ],
             [
              0.3333333333333333,
              "#9c179e"
             ],
             [
              0.4444444444444444,
              "#bd3786"
             ],
             [
              0.5555555555555556,
              "#d8576b"
             ],
             [
              0.6666666666666666,
              "#ed7953"
             ],
             [
              0.7777777777777778,
              "#fb9f3a"
             ],
             [
              0.8888888888888888,
              "#fdca26"
             ],
             [
              1,
              "#f0f921"
             ]
            ],
            "type": "histogram2d"
           }
          ],
          "histogram2dcontour": [
           {
            "colorbar": {
             "outlinewidth": 0,
             "ticks": ""
            },
            "colorscale": [
             [
              0,
              "#0d0887"
             ],
             [
              0.1111111111111111,
              "#46039f"
             ],
             [
              0.2222222222222222,
              "#7201a8"
             ],
             [
              0.3333333333333333,
              "#9c179e"
             ],
             [
              0.4444444444444444,
              "#bd3786"
             ],
             [
              0.5555555555555556,
              "#d8576b"
             ],
             [
              0.6666666666666666,
              "#ed7953"
             ],
             [
              0.7777777777777778,
              "#fb9f3a"
             ],
             [
              0.8888888888888888,
              "#fdca26"
             ],
             [
              1,
              "#f0f921"
             ]
            ],
            "type": "histogram2dcontour"
           }
          ],
          "mesh3d": [
           {
            "colorbar": {
             "outlinewidth": 0,
             "ticks": ""
            },
            "type": "mesh3d"
           }
          ],
          "parcoords": [
           {
            "line": {
             "colorbar": {
              "outlinewidth": 0,
              "ticks": ""
             }
            },
            "type": "parcoords"
           }
          ],
          "pie": [
           {
            "automargin": true,
            "type": "pie"
           }
          ],
          "scatter": [
           {
            "fillpattern": {
             "fillmode": "overlay",
             "size": 10,
             "solidity": 0.2
            },
            "type": "scatter"
           }
          ],
          "scatter3d": [
           {
            "line": {
             "colorbar": {
              "outlinewidth": 0,
              "ticks": ""
             }
            },
            "marker": {
             "colorbar": {
              "outlinewidth": 0,
              "ticks": ""
             }
            },
            "type": "scatter3d"
           }
          ],
          "scattercarpet": [
           {
            "marker": {
             "colorbar": {
              "outlinewidth": 0,
              "ticks": ""
             }
            },
            "type": "scattercarpet"
           }
          ],
          "scattergeo": [
           {
            "marker": {
             "colorbar": {
              "outlinewidth": 0,
              "ticks": ""
             }
            },
            "type": "scattergeo"
           }
          ],
          "scattergl": [
           {
            "marker": {
             "colorbar": {
              "outlinewidth": 0,
              "ticks": ""
             }
            },
            "type": "scattergl"
           }
          ],
          "scattermapbox": [
           {
            "marker": {
             "colorbar": {
              "outlinewidth": 0,
              "ticks": ""
             }
            },
            "type": "scattermapbox"
           }
          ],
          "scatterpolar": [
           {
            "marker": {
             "colorbar": {
              "outlinewidth": 0,
              "ticks": ""
             }
            },
            "type": "scatterpolar"
           }
          ],
          "scatterpolargl": [
           {
            "marker": {
             "colorbar": {
              "outlinewidth": 0,
              "ticks": ""
             }
            },
            "type": "scatterpolargl"
           }
          ],
          "scatterternary": [
           {
            "marker": {
             "colorbar": {
              "outlinewidth": 0,
              "ticks": ""
             }
            },
            "type": "scatterternary"
           }
          ],
          "surface": [
           {
            "colorbar": {
             "outlinewidth": 0,
             "ticks": ""
            },
            "colorscale": [
             [
              0,
              "#0d0887"
             ],
             [
              0.1111111111111111,
              "#46039f"
             ],
             [
              0.2222222222222222,
              "#7201a8"
             ],
             [
              0.3333333333333333,
              "#9c179e"
             ],
             [
              0.4444444444444444,
              "#bd3786"
             ],
             [
              0.5555555555555556,
              "#d8576b"
             ],
             [
              0.6666666666666666,
              "#ed7953"
             ],
             [
              0.7777777777777778,
              "#fb9f3a"
             ],
             [
              0.8888888888888888,
              "#fdca26"
             ],
             [
              1,
              "#f0f921"
             ]
            ],
            "type": "surface"
           }
          ],
          "table": [
           {
            "cells": {
             "fill": {
              "color": "#EBF0F8"
             },
             "line": {
              "color": "white"
             }
            },
            "header": {
             "fill": {
              "color": "#C8D4E3"
             },
             "line": {
              "color": "white"
             }
            },
            "type": "table"
           }
          ]
         },
         "layout": {
          "annotationdefaults": {
           "arrowcolor": "#2a3f5f",
           "arrowhead": 0,
           "arrowwidth": 1
          },
          "autotypenumbers": "strict",
          "coloraxis": {
           "colorbar": {
            "outlinewidth": 0,
            "ticks": ""
           }
          },
          "colorscale": {
           "diverging": [
            [
             0,
             "#8e0152"
            ],
            [
             0.1,
             "#c51b7d"
            ],
            [
             0.2,
             "#de77ae"
            ],
            [
             0.3,
             "#f1b6da"
            ],
            [
             0.4,
             "#fde0ef"
            ],
            [
             0.5,
             "#f7f7f7"
            ],
            [
             0.6,
             "#e6f5d0"
            ],
            [
             0.7,
             "#b8e186"
            ],
            [
             0.8,
             "#7fbc41"
            ],
            [
             0.9,
             "#4d9221"
            ],
            [
             1,
             "#276419"
            ]
           ],
           "sequential": [
            [
             0,
             "#0d0887"
            ],
            [
             0.1111111111111111,
             "#46039f"
            ],
            [
             0.2222222222222222,
             "#7201a8"
            ],
            [
             0.3333333333333333,
             "#9c179e"
            ],
            [
             0.4444444444444444,
             "#bd3786"
            ],
            [
             0.5555555555555556,
             "#d8576b"
            ],
            [
             0.6666666666666666,
             "#ed7953"
            ],
            [
             0.7777777777777778,
             "#fb9f3a"
            ],
            [
             0.8888888888888888,
             "#fdca26"
            ],
            [
             1,
             "#f0f921"
            ]
           ],
           "sequentialminus": [
            [
             0,
             "#0d0887"
            ],
            [
             0.1111111111111111,
             "#46039f"
            ],
            [
             0.2222222222222222,
             "#7201a8"
            ],
            [
             0.3333333333333333,
             "#9c179e"
            ],
            [
             0.4444444444444444,
             "#bd3786"
            ],
            [
             0.5555555555555556,
             "#d8576b"
            ],
            [
             0.6666666666666666,
             "#ed7953"
            ],
            [
             0.7777777777777778,
             "#fb9f3a"
            ],
            [
             0.8888888888888888,
             "#fdca26"
            ],
            [
             1,
             "#f0f921"
            ]
           ]
          },
          "colorway": [
           "#636efa",
           "#EF553B",
           "#00cc96",
           "#ab63fa",
           "#FFA15A",
           "#19d3f3",
           "#FF6692",
           "#B6E880",
           "#FF97FF",
           "#FECB52"
          ],
          "font": {
           "color": "#2a3f5f"
          },
          "geo": {
           "bgcolor": "white",
           "lakecolor": "white",
           "landcolor": "#E5ECF6",
           "showlakes": true,
           "showland": true,
           "subunitcolor": "white"
          },
          "hoverlabel": {
           "align": "left"
          },
          "hovermode": "closest",
          "mapbox": {
           "style": "light"
          },
          "paper_bgcolor": "white",
          "plot_bgcolor": "#E5ECF6",
          "polar": {
           "angularaxis": {
            "gridcolor": "white",
            "linecolor": "white",
            "ticks": ""
           },
           "bgcolor": "#E5ECF6",
           "radialaxis": {
            "gridcolor": "white",
            "linecolor": "white",
            "ticks": ""
           }
          },
          "scene": {
           "xaxis": {
            "backgroundcolor": "#E5ECF6",
            "gridcolor": "white",
            "gridwidth": 2,
            "linecolor": "white",
            "showbackground": true,
            "ticks": "",
            "zerolinecolor": "white"
           },
           "yaxis": {
            "backgroundcolor": "#E5ECF6",
            "gridcolor": "white",
            "gridwidth": 2,
            "linecolor": "white",
            "showbackground": true,
            "ticks": "",
            "zerolinecolor": "white"
           },
           "zaxis": {
            "backgroundcolor": "#E5ECF6",
            "gridcolor": "white",
            "gridwidth": 2,
            "linecolor": "white",
            "showbackground": true,
            "ticks": "",
            "zerolinecolor": "white"
           }
          },
          "shapedefaults": {
           "line": {
            "color": "#2a3f5f"
           }
          },
          "ternary": {
           "aaxis": {
            "gridcolor": "white",
            "linecolor": "white",
            "ticks": ""
           },
           "baxis": {
            "gridcolor": "white",
            "linecolor": "white",
            "ticks": ""
           },
           "bgcolor": "#E5ECF6",
           "caxis": {
            "gridcolor": "white",
            "linecolor": "white",
            "ticks": ""
           }
          },
          "title": {
           "x": 0.05
          },
          "xaxis": {
           "automargin": true,
           "gridcolor": "white",
           "linecolor": "white",
           "ticks": "",
           "title": {
            "standoff": 15
           },
           "zerolinecolor": "white",
           "zerolinewidth": 2
          },
          "yaxis": {
           "automargin": true,
           "gridcolor": "white",
           "linecolor": "white",
           "ticks": "",
           "title": {
            "standoff": 15
           },
           "zerolinecolor": "white",
           "zerolinewidth": 2
          }
         }
        },
        "title": {
         "font": {
          "size": 20
         },
         "text": "Top 15 Investment/Projects Title by Average Actual Contractual Commitments ($)"
        }
       }
      }
     },
     "metadata": {},
     "output_type": "display_data"
    }
   ],
   "source": [
    "# Group the dataframe by 'Investment/Project Title' and calculate the mean of 'Actual Contractual Commitment ($)'\n",
    "average_commitment_df = df.groupby('Investment/Project Title')['Actual Contractual Commitment ($)'].mean().reset_index()\n",
    "\n",
    "# Rename the column to reflect that it contains average values\n",
    "average_commitment_df = average_commitment_df.rename(columns={'Actual Contractual Commitment ($)': 'Average Actual Contractual Commitment ($)'})\n",
    "\n",
    "# Sort the dataframe in descending order and select the top 15 investment/projects\n",
    "top_15_projects_df = average_commitment_df.sort_values(by='Average Actual Contractual Commitment ($)', ascending=False).head(15)\n",
    "\n",
    "# Reset the index and add a 'Rank' column\n",
    "top_15_projects_df = top_15_projects_df.reset_index(drop=True)\n",
    "top_15_projects_df['Rank'] = top_15_projects_df.index + 1\n",
    "\n",
    "# Truncate labels after 20 characters\n",
    "top_15_projects_df['Truncated Title'] = top_15_projects_df['Investment/Project Title'].apply(lambda x: x[:20] + '...' if len(x) > 20 else x)\n",
    "\n",
    "\n",
    "fig = px.pie(\n",
    "    top_15_projects_df,\n",
    "    values='Average Actual Contractual Commitment ($)',\n",
    "    names='Truncated Title',\n",
    "    title='Top 15 Investment/Projects Title by Average Actual Contractual Commitments ($)',\n",
    "    color='Investment/Project Title',\n",
    "    color_discrete_sequence=px.colors.qualitative.Set3,\n",
    "    hole=0.3,\n",
    "    hover_name='Investment/Project Title'\n",
    ")\n",
    "\n",
    "fig.update_layout(\n",
    "    title=dict(font=dict(size=20)),\n",
    "    margin=dict(l=150, r=20, t=70, b=70),\n",
    "    height=700 \n",
    ")\n",
    "\n",
    "fig.show()\n"
   ]
  },
  {
   "cell_type": "markdown",
   "id": "fdd08d5f",
   "metadata": {},
   "source": [
    "#### Chart3 - Top 10 Recipient Names averaged by Actual Contractual Commitments ($)\n",
    "- This implies that the Commonwealth Scientific And Industrial Research Organisation T/A Data61 is engaging in substantial financial investments, potentially reflecting a deep dedication to the pursuit of research and development endeavors or the undertaking of large-scale projects.\n",
    "\n",
    "- It is noteworthy that the Commonwealth Scientific And Industrial Research Organisation T/A Data61 exhibits the most elevated average \"Actual Contractual Commitment ($)\" in comparison to various other entities, such as Boeing Defence Australia Ltd. This particular observation indicates that they have made a firm commitment to allocating significantly more financial resources in comparison to their counterparts.\n"
   ]
  },
  {
   "cell_type": "code",
   "execution_count": 13,
   "id": "f618c5b3",
   "metadata": {},
   "outputs": [
    {
     "data": {
      "application/vnd.plotly.v1+json": {
       "config": {
        "plotlyServerURL": "https://plot.ly"
       },
       "data": [
        {
         "alignmentgroup": "True",
         "customdata": [
          [
           "Commonwealth Scientific And Industrial Research Organisation T/A Data61"
          ]
         ],
         "hovertemplate": "Recipient Name=%{customdata[0]}<br>Average Actual Contractual Commitment ($)=%{text}<extra></extra>",
         "legendgroup": "Commonwealth Scienti...",
         "marker": {
          "color": "rgb(141,211,199)",
          "pattern": {
           "shape": ""
          }
         },
         "name": "Commonwealth Scienti...",
         "offsetgroup": "Commonwealth Scienti...",
         "orientation": "h",
         "showlegend": true,
         "text": [
          5695000
         ],
         "textposition": "outside",
         "texttemplate": "%{text:.2s}",
         "type": "bar",
         "x": [
          5695000
         ],
         "xaxis": "x",
         "y": [
          "Commonwealth Scienti..."
         ],
         "yaxis": "y"
        },
        {
         "alignmentgroup": "True",
         "customdata": [
          [
           "Boeing Defence Australia Ltd"
          ]
         ],
         "hovertemplate": "Recipient Name=%{customdata[0]}<br>Average Actual Contractual Commitment ($)=%{text}<extra></extra>",
         "legendgroup": "Boeing Defence Austr...",
         "marker": {
          "color": "rgb(255,255,179)",
          "pattern": {
           "shape": ""
          }
         },
         "name": "Boeing Defence Austr...",
         "offsetgroup": "Boeing Defence Austr...",
         "orientation": "h",
         "showlegend": true,
         "text": [
          5000000
         ],
         "textposition": "outside",
         "texttemplate": "%{text:.2s}",
         "type": "bar",
         "x": [
          5000000
         ],
         "xaxis": "x",
         "y": [
          "Boeing Defence Austr..."
         ],
         "yaxis": "y"
        },
        {
         "alignmentgroup": "True",
         "customdata": [
          [
           "Ai Consortium Pty Ltd"
          ]
         ],
         "hovertemplate": "Recipient Name=%{customdata[0]}<br>Average Actual Contractual Commitment ($)=%{text}<extra></extra>",
         "legendgroup": "Ai Consortium Pty Lt...",
         "marker": {
          "color": "rgb(190,186,218)",
          "pattern": {
           "shape": ""
          }
         },
         "name": "Ai Consortium Pty Lt...",
         "offsetgroup": "Ai Consortium Pty Lt...",
         "orientation": "h",
         "showlegend": true,
         "text": [
          5000000
         ],
         "textposition": "outside",
         "texttemplate": "%{text:.2s}",
         "type": "bar",
         "x": [
          5000000
         ],
         "xaxis": "x",
         "y": [
          "Ai Consortium Pty Lt..."
         ],
         "yaxis": "y"
        },
        {
         "alignmentgroup": "True",
         "customdata": [
          [
           "Redback Operations Pty Ltd"
          ]
         ],
         "hovertemplate": "Recipient Name=%{customdata[0]}<br>Average Actual Contractual Commitment ($)=%{text}<extra></extra>",
         "legendgroup": "Redback Operations P...",
         "marker": {
          "color": "rgb(251,128,114)",
          "pattern": {
           "shape": ""
          }
         },
         "name": "Redback Operations P...",
         "offsetgroup": "Redback Operations P...",
         "orientation": "h",
         "showlegend": true,
         "text": [
          3807672
         ],
         "textposition": "outside",
         "texttemplate": "%{text:.2s}",
         "type": "bar",
         "x": [
          3807672
         ],
         "xaxis": "x",
         "y": [
          "Redback Operations P..."
         ],
         "yaxis": "y"
        },
        {
         "alignmentgroup": "True",
         "customdata": [
          [
           "Agrifood Connect Limited"
          ]
         ],
         "hovertemplate": "Recipient Name=%{customdata[0]}<br>Average Actual Contractual Commitment ($)=%{text}<extra></extra>",
         "legendgroup": "Agrifood Connect Lim...",
         "marker": {
          "color": "rgb(128,177,211)",
          "pattern": {
           "shape": ""
          }
         },
         "name": "Agrifood Connect Lim...",
         "offsetgroup": "Agrifood Connect Lim...",
         "orientation": "h",
         "showlegend": true,
         "text": [
          3000000
         ],
         "textposition": "outside",
         "texttemplate": "%{text:.2s}",
         "type": "bar",
         "x": [
          3000000
         ],
         "xaxis": "x",
         "y": [
          "Agrifood Connect Lim..."
         ],
         "yaxis": "y"
        },
        {
         "alignmentgroup": "True",
         "customdata": [
          [
           "University Of South Australia (Australian Centre For Business Growth)"
          ]
         ],
         "hovertemplate": "Recipient Name=%{customdata[0]}<br>Average Actual Contractual Commitment ($)=%{text}<extra></extra>",
         "legendgroup": "University Of South ...",
         "marker": {
          "color": "rgb(253,180,98)",
          "pattern": {
           "shape": ""
          }
         },
         "name": "University Of South ...",
         "offsetgroup": "University Of South ...",
         "orientation": "h",
         "showlegend": true,
         "text": [
          2202334
         ],
         "textposition": "outside",
         "texttemplate": "%{text:.2s}",
         "type": "bar",
         "x": [
          2202334
         ],
         "xaxis": "x",
         "y": [
          "University Of South ..."
         ],
         "yaxis": "y"
        },
        {
         "alignmentgroup": "True",
         "customdata": [
          [
           "Datarwe Pty Ltd"
          ]
         ],
         "hovertemplate": "Recipient Name=%{customdata[0]}<br>Average Actual Contractual Commitment ($)=%{text}<extra></extra>",
         "legendgroup": "Datarwe Pty Ltd",
         "marker": {
          "color": "rgb(179,222,105)",
          "pattern": {
           "shape": ""
          }
         },
         "name": "Datarwe Pty Ltd",
         "offsetgroup": "Datarwe Pty Ltd",
         "orientation": "h",
         "showlegend": true,
         "text": [
          1500000
         ],
         "textposition": "outside",
         "texttemplate": "%{text:.2s}",
         "type": "bar",
         "x": [
          1500000
         ],
         "xaxis": "x",
         "y": [
          "Datarwe Pty Ltd"
         ],
         "yaxis": "y"
        },
        {
         "alignmentgroup": "True",
         "customdata": [
          [
           "Impact Innovation Group Pty Ltd"
          ]
         ],
         "hovertemplate": "Recipient Name=%{customdata[0]}<br>Average Actual Contractual Commitment ($)=%{text}<extra></extra>",
         "legendgroup": "Impact Innovation Gr...",
         "marker": {
          "color": "rgb(252,205,229)",
          "pattern": {
           "shape": ""
          }
         },
         "name": "Impact Innovation Gr...",
         "offsetgroup": "Impact Innovation Gr...",
         "orientation": "h",
         "showlegend": true,
         "text": [
          1476427.5
         ],
         "textposition": "outside",
         "texttemplate": "%{text:.2s}",
         "type": "bar",
         "x": [
          1476427.5
         ],
         "xaxis": "x",
         "y": [
          "Impact Innovation Gr..."
         ],
         "yaxis": "y"
        },
        {
         "alignmentgroup": "True",
         "customdata": [
          [
           "Southern Oil Refining Pty Ltd"
          ]
         ],
         "hovertemplate": "Recipient Name=%{customdata[0]}<br>Average Actual Contractual Commitment ($)=%{text}<extra></extra>",
         "legendgroup": "Southern Oil Refinin...",
         "marker": {
          "color": "rgb(217,217,217)",
          "pattern": {
           "shape": ""
          }
         },
         "name": "Southern Oil Refinin...",
         "offsetgroup": "Southern Oil Refinin...",
         "orientation": "h",
         "showlegend": true,
         "text": [
          1000000
         ],
         "textposition": "outside",
         "texttemplate": "%{text:.2s}",
         "type": "bar",
         "x": [
          1000000
         ],
         "xaxis": "x",
         "y": [
          "Southern Oil Refinin..."
         ],
         "yaxis": "y"
        },
        {
         "alignmentgroup": "True",
         "customdata": [
          [
           "Slingshot Accelerator Pty Ltd"
          ]
         ],
         "hovertemplate": "Recipient Name=%{customdata[0]}<br>Average Actual Contractual Commitment ($)=%{text}<extra></extra>",
         "legendgroup": "Slingshot Accelerato...",
         "marker": {
          "color": "rgb(188,128,189)",
          "pattern": {
           "shape": ""
          }
         },
         "name": "Slingshot Accelerato...",
         "offsetgroup": "Slingshot Accelerato...",
         "orientation": "h",
         "showlegend": true,
         "text": [
          1000000
         ],
         "textposition": "outside",
         "texttemplate": "%{text:.2s}",
         "type": "bar",
         "x": [
          1000000
         ],
         "xaxis": "x",
         "y": [
          "Slingshot Accelerato..."
         ],
         "yaxis": "y"
        }
       ],
       "layout": {
        "barmode": "relative",
        "height": 700,
        "legend": {
         "title": {
          "text": "Recipient Name"
         },
         "tracegroupgap": 0
        },
        "margin": {
         "b": 70,
         "l": 150,
         "r": 20,
         "t": 70
        },
        "template": {
         "data": {
          "bar": [
           {
            "error_x": {
             "color": "#2a3f5f"
            },
            "error_y": {
             "color": "#2a3f5f"
            },
            "marker": {
             "line": {
              "color": "#E5ECF6",
              "width": 0.5
             },
             "pattern": {
              "fillmode": "overlay",
              "size": 10,
              "solidity": 0.2
             }
            },
            "type": "bar"
           }
          ],
          "barpolar": [
           {
            "marker": {
             "line": {
              "color": "#E5ECF6",
              "width": 0.5
             },
             "pattern": {
              "fillmode": "overlay",
              "size": 10,
              "solidity": 0.2
             }
            },
            "type": "barpolar"
           }
          ],
          "carpet": [
           {
            "aaxis": {
             "endlinecolor": "#2a3f5f",
             "gridcolor": "white",
             "linecolor": "white",
             "minorgridcolor": "white",
             "startlinecolor": "#2a3f5f"
            },
            "baxis": {
             "endlinecolor": "#2a3f5f",
             "gridcolor": "white",
             "linecolor": "white",
             "minorgridcolor": "white",
             "startlinecolor": "#2a3f5f"
            },
            "type": "carpet"
           }
          ],
          "choropleth": [
           {
            "colorbar": {
             "outlinewidth": 0,
             "ticks": ""
            },
            "type": "choropleth"
           }
          ],
          "contour": [
           {
            "colorbar": {
             "outlinewidth": 0,
             "ticks": ""
            },
            "colorscale": [
             [
              0,
              "#0d0887"
             ],
             [
              0.1111111111111111,
              "#46039f"
             ],
             [
              0.2222222222222222,
              "#7201a8"
             ],
             [
              0.3333333333333333,
              "#9c179e"
             ],
             [
              0.4444444444444444,
              "#bd3786"
             ],
             [
              0.5555555555555556,
              "#d8576b"
             ],
             [
              0.6666666666666666,
              "#ed7953"
             ],
             [
              0.7777777777777778,
              "#fb9f3a"
             ],
             [
              0.8888888888888888,
              "#fdca26"
             ],
             [
              1,
              "#f0f921"
             ]
            ],
            "type": "contour"
           }
          ],
          "contourcarpet": [
           {
            "colorbar": {
             "outlinewidth": 0,
             "ticks": ""
            },
            "type": "contourcarpet"
           }
          ],
          "heatmap": [
           {
            "colorbar": {
             "outlinewidth": 0,
             "ticks": ""
            },
            "colorscale": [
             [
              0,
              "#0d0887"
             ],
             [
              0.1111111111111111,
              "#46039f"
             ],
             [
              0.2222222222222222,
              "#7201a8"
             ],
             [
              0.3333333333333333,
              "#9c179e"
             ],
             [
              0.4444444444444444,
              "#bd3786"
             ],
             [
              0.5555555555555556,
              "#d8576b"
             ],
             [
              0.6666666666666666,
              "#ed7953"
             ],
             [
              0.7777777777777778,
              "#fb9f3a"
             ],
             [
              0.8888888888888888,
              "#fdca26"
             ],
             [
              1,
              "#f0f921"
             ]
            ],
            "type": "heatmap"
           }
          ],
          "heatmapgl": [
           {
            "colorbar": {
             "outlinewidth": 0,
             "ticks": ""
            },
            "colorscale": [
             [
              0,
              "#0d0887"
             ],
             [
              0.1111111111111111,
              "#46039f"
             ],
             [
              0.2222222222222222,
              "#7201a8"
             ],
             [
              0.3333333333333333,
              "#9c179e"
             ],
             [
              0.4444444444444444,
              "#bd3786"
             ],
             [
              0.5555555555555556,
              "#d8576b"
             ],
             [
              0.6666666666666666,
              "#ed7953"
             ],
             [
              0.7777777777777778,
              "#fb9f3a"
             ],
             [
              0.8888888888888888,
              "#fdca26"
             ],
             [
              1,
              "#f0f921"
             ]
            ],
            "type": "heatmapgl"
           }
          ],
          "histogram": [
           {
            "marker": {
             "pattern": {
              "fillmode": "overlay",
              "size": 10,
              "solidity": 0.2
             }
            },
            "type": "histogram"
           }
          ],
          "histogram2d": [
           {
            "colorbar": {
             "outlinewidth": 0,
             "ticks": ""
            },
            "colorscale": [
             [
              0,
              "#0d0887"
             ],
             [
              0.1111111111111111,
              "#46039f"
             ],
             [
              0.2222222222222222,
              "#7201a8"
             ],
             [
              0.3333333333333333,
              "#9c179e"
             ],
             [
              0.4444444444444444,
              "#bd3786"
             ],
             [
              0.5555555555555556,
              "#d8576b"
             ],
             [
              0.6666666666666666,
              "#ed7953"
             ],
             [
              0.7777777777777778,
              "#fb9f3a"
             ],
             [
              0.8888888888888888,
              "#fdca26"
             ],
             [
              1,
              "#f0f921"
             ]
            ],
            "type": "histogram2d"
           }
          ],
          "histogram2dcontour": [
           {
            "colorbar": {
             "outlinewidth": 0,
             "ticks": ""
            },
            "colorscale": [
             [
              0,
              "#0d0887"
             ],
             [
              0.1111111111111111,
              "#46039f"
             ],
             [
              0.2222222222222222,
              "#7201a8"
             ],
             [
              0.3333333333333333,
              "#9c179e"
             ],
             [
              0.4444444444444444,
              "#bd3786"
             ],
             [
              0.5555555555555556,
              "#d8576b"
             ],
             [
              0.6666666666666666,
              "#ed7953"
             ],
             [
              0.7777777777777778,
              "#fb9f3a"
             ],
             [
              0.8888888888888888,
              "#fdca26"
             ],
             [
              1,
              "#f0f921"
             ]
            ],
            "type": "histogram2dcontour"
           }
          ],
          "mesh3d": [
           {
            "colorbar": {
             "outlinewidth": 0,
             "ticks": ""
            },
            "type": "mesh3d"
           }
          ],
          "parcoords": [
           {
            "line": {
             "colorbar": {
              "outlinewidth": 0,
              "ticks": ""
             }
            },
            "type": "parcoords"
           }
          ],
          "pie": [
           {
            "automargin": true,
            "type": "pie"
           }
          ],
          "scatter": [
           {
            "fillpattern": {
             "fillmode": "overlay",
             "size": 10,
             "solidity": 0.2
            },
            "type": "scatter"
           }
          ],
          "scatter3d": [
           {
            "line": {
             "colorbar": {
              "outlinewidth": 0,
              "ticks": ""
             }
            },
            "marker": {
             "colorbar": {
              "outlinewidth": 0,
              "ticks": ""
             }
            },
            "type": "scatter3d"
           }
          ],
          "scattercarpet": [
           {
            "marker": {
             "colorbar": {
              "outlinewidth": 0,
              "ticks": ""
             }
            },
            "type": "scattercarpet"
           }
          ],
          "scattergeo": [
           {
            "marker": {
             "colorbar": {
              "outlinewidth": 0,
              "ticks": ""
             }
            },
            "type": "scattergeo"
           }
          ],
          "scattergl": [
           {
            "marker": {
             "colorbar": {
              "outlinewidth": 0,
              "ticks": ""
             }
            },
            "type": "scattergl"
           }
          ],
          "scattermapbox": [
           {
            "marker": {
             "colorbar": {
              "outlinewidth": 0,
              "ticks": ""
             }
            },
            "type": "scattermapbox"
           }
          ],
          "scatterpolar": [
           {
            "marker": {
             "colorbar": {
              "outlinewidth": 0,
              "ticks": ""
             }
            },
            "type": "scatterpolar"
           }
          ],
          "scatterpolargl": [
           {
            "marker": {
             "colorbar": {
              "outlinewidth": 0,
              "ticks": ""
             }
            },
            "type": "scatterpolargl"
           }
          ],
          "scatterternary": [
           {
            "marker": {
             "colorbar": {
              "outlinewidth": 0,
              "ticks": ""
             }
            },
            "type": "scatterternary"
           }
          ],
          "surface": [
           {
            "colorbar": {
             "outlinewidth": 0,
             "ticks": ""
            },
            "colorscale": [
             [
              0,
              "#0d0887"
             ],
             [
              0.1111111111111111,
              "#46039f"
             ],
             [
              0.2222222222222222,
              "#7201a8"
             ],
             [
              0.3333333333333333,
              "#9c179e"
             ],
             [
              0.4444444444444444,
              "#bd3786"
             ],
             [
              0.5555555555555556,
              "#d8576b"
             ],
             [
              0.6666666666666666,
              "#ed7953"
             ],
             [
              0.7777777777777778,
              "#fb9f3a"
             ],
             [
              0.8888888888888888,
              "#fdca26"
             ],
             [
              1,
              "#f0f921"
             ]
            ],
            "type": "surface"
           }
          ],
          "table": [
           {
            "cells": {
             "fill": {
              "color": "#EBF0F8"
             },
             "line": {
              "color": "white"
             }
            },
            "header": {
             "fill": {
              "color": "#C8D4E3"
             },
             "line": {
              "color": "white"
             }
            },
            "type": "table"
           }
          ]
         },
         "layout": {
          "annotationdefaults": {
           "arrowcolor": "#2a3f5f",
           "arrowhead": 0,
           "arrowwidth": 1
          },
          "autotypenumbers": "strict",
          "coloraxis": {
           "colorbar": {
            "outlinewidth": 0,
            "ticks": ""
           }
          },
          "colorscale": {
           "diverging": [
            [
             0,
             "#8e0152"
            ],
            [
             0.1,
             "#c51b7d"
            ],
            [
             0.2,
             "#de77ae"
            ],
            [
             0.3,
             "#f1b6da"
            ],
            [
             0.4,
             "#fde0ef"
            ],
            [
             0.5,
             "#f7f7f7"
            ],
            [
             0.6,
             "#e6f5d0"
            ],
            [
             0.7,
             "#b8e186"
            ],
            [
             0.8,
             "#7fbc41"
            ],
            [
             0.9,
             "#4d9221"
            ],
            [
             1,
             "#276419"
            ]
           ],
           "sequential": [
            [
             0,
             "#0d0887"
            ],
            [
             0.1111111111111111,
             "#46039f"
            ],
            [
             0.2222222222222222,
             "#7201a8"
            ],
            [
             0.3333333333333333,
             "#9c179e"
            ],
            [
             0.4444444444444444,
             "#bd3786"
            ],
            [
             0.5555555555555556,
             "#d8576b"
            ],
            [
             0.6666666666666666,
             "#ed7953"
            ],
            [
             0.7777777777777778,
             "#fb9f3a"
            ],
            [
             0.8888888888888888,
             "#fdca26"
            ],
            [
             1,
             "#f0f921"
            ]
           ],
           "sequentialminus": [
            [
             0,
             "#0d0887"
            ],
            [
             0.1111111111111111,
             "#46039f"
            ],
            [
             0.2222222222222222,
             "#7201a8"
            ],
            [
             0.3333333333333333,
             "#9c179e"
            ],
            [
             0.4444444444444444,
             "#bd3786"
            ],
            [
             0.5555555555555556,
             "#d8576b"
            ],
            [
             0.6666666666666666,
             "#ed7953"
            ],
            [
             0.7777777777777778,
             "#fb9f3a"
            ],
            [
             0.8888888888888888,
             "#fdca26"
            ],
            [
             1,
             "#f0f921"
            ]
           ]
          },
          "colorway": [
           "#636efa",
           "#EF553B",
           "#00cc96",
           "#ab63fa",
           "#FFA15A",
           "#19d3f3",
           "#FF6692",
           "#B6E880",
           "#FF97FF",
           "#FECB52"
          ],
          "font": {
           "color": "#2a3f5f"
          },
          "geo": {
           "bgcolor": "white",
           "lakecolor": "white",
           "landcolor": "#E5ECF6",
           "showlakes": true,
           "showland": true,
           "subunitcolor": "white"
          },
          "hoverlabel": {
           "align": "left"
          },
          "hovermode": "closest",
          "mapbox": {
           "style": "light"
          },
          "paper_bgcolor": "white",
          "plot_bgcolor": "#E5ECF6",
          "polar": {
           "angularaxis": {
            "gridcolor": "white",
            "linecolor": "white",
            "ticks": ""
           },
           "bgcolor": "#E5ECF6",
           "radialaxis": {
            "gridcolor": "white",
            "linecolor": "white",
            "ticks": ""
           }
          },
          "scene": {
           "xaxis": {
            "backgroundcolor": "#E5ECF6",
            "gridcolor": "white",
            "gridwidth": 2,
            "linecolor": "white",
            "showbackground": true,
            "ticks": "",
            "zerolinecolor": "white"
           },
           "yaxis": {
            "backgroundcolor": "#E5ECF6",
            "gridcolor": "white",
            "gridwidth": 2,
            "linecolor": "white",
            "showbackground": true,
            "ticks": "",
            "zerolinecolor": "white"
           },
           "zaxis": {
            "backgroundcolor": "#E5ECF6",
            "gridcolor": "white",
            "gridwidth": 2,
            "linecolor": "white",
            "showbackground": true,
            "ticks": "",
            "zerolinecolor": "white"
           }
          },
          "shapedefaults": {
           "line": {
            "color": "#2a3f5f"
           }
          },
          "ternary": {
           "aaxis": {
            "gridcolor": "white",
            "linecolor": "white",
            "ticks": ""
           },
           "baxis": {
            "gridcolor": "white",
            "linecolor": "white",
            "ticks": ""
           },
           "bgcolor": "#E5ECF6",
           "caxis": {
            "gridcolor": "white",
            "linecolor": "white",
            "ticks": ""
           }
          },
          "title": {
           "x": 0.05
          },
          "xaxis": {
           "automargin": true,
           "gridcolor": "white",
           "linecolor": "white",
           "ticks": "",
           "title": {
            "standoff": 15
           },
           "zerolinecolor": "white",
           "zerolinewidth": 2
          },
          "yaxis": {
           "automargin": true,
           "gridcolor": "white",
           "linecolor": "white",
           "ticks": "",
           "title": {
            "standoff": 15
           },
           "zerolinecolor": "white",
           "zerolinewidth": 2
          }
         }
        },
        "title": {
         "font": {
          "size": 20
         },
         "text": "Top 10 Recipient Names averaged by Actual Contractual Commitments ($)"
        },
        "xaxis": {
         "anchor": "y",
         "domain": [
          0,
          1
         ],
         "title": {
          "text": "Average Actual Contractual Commitment ($)"
         }
        },
        "yaxis": {
         "anchor": "x",
         "categoryarray": [
          "Slingshot Accelerato...",
          "Southern Oil Refinin...",
          "Impact Innovation Gr...",
          "Datarwe Pty Ltd",
          "University Of South ...",
          "Agrifood Connect Lim...",
          "Redback Operations P...",
          "Ai Consortium Pty Lt...",
          "Boeing Defence Austr...",
          "Commonwealth Scienti..."
         ],
         "categoryorder": "array",
         "domain": [
          0,
          1
         ],
         "title": {
          "text": "Recipient Name"
         }
        }
       }
      }
     },
     "metadata": {},
     "output_type": "display_data"
    }
   ],
   "source": [
    "# Group the dataframe by 'Investment/Project Title' and calculate the mean of 'Actual Contractual Commitment ($)'\n",
    "average_commitment_df = df.groupby('Recipient Name')['Actual Contractual Commitment ($)'].mean().reset_index()\n",
    "\n",
    "# Rename the column to reflect that it contains average values\n",
    "average_commitment_df = average_commitment_df.rename(columns={'Actual Contractual Commitment ($)': 'Average Actual Contractual Commitment ($)'})\n",
    "\n",
    "# Sort the dataframe in descending order and select the top 15 investment/projects\n",
    "top_10_RecipientName_df = average_commitment_df.sort_values(by='Average Actual Contractual Commitment ($)', ascending=False).head(10)\n",
    "\n",
    "# Reset the index and add a 'Rank' column\n",
    "top_10_RecipientName_df = top_10_RecipientName_df.reset_index(drop=True)\n",
    "top_10_RecipientName_df['Rank'] = top_10_RecipientName_df.index + 1\n",
    "\n",
    "# Truncate labels after 20 characters\n",
    "top_10_RecipientName_df['Truncated Title'] = top_10_RecipientName_df['Recipient Name'].apply(lambda x: x[:20] + '...' if len(x) > 20 else x)\n",
    "\n",
    "\n",
    "# Create the bar chart with updated colors and sorted in descending order\n",
    "fig = px.bar(\n",
    "    top_10_RecipientName_df,\n",
    "    x='Average Actual Contractual Commitment ($)',\n",
    "    y='Truncated Title',\n",
    "    orientation='h',\n",
    "    title='Top 10 Recipient Names averaged by Actual Contractual Commitments ($)',\n",
    "    labels={'Average Actual Contractual Commitment ($)': 'Average Actual Contractual Commitment ($)', 'Truncated Title': 'Recipient Name'},\n",
    "    text='Average Actual Contractual Commitment ($)',\n",
    "    color='Truncated Title',\n",
    "    color_discrete_sequence=px.colors.qualitative.Set3,\n",
    "    hover_data={'Recipient Name': True}  # Add the full recipient name for hover data\n",
    ")\n",
    "\n",
    "# Update the text and layout of the bar chart\n",
    "fig.update_traces(texttemplate='%{text:.2s}', textposition='outside')\n",
    "fig.update_layout(\n",
    "    title=dict(font=dict(size=20)),\n",
    "    xaxis_title=\"Average Actual Contractual Commitment ($)\",\n",
    "    yaxis_title=\"Recipient Name\",\n",
    "    margin=dict(l=150, r=20, t=70, b=70),\n",
    "    height=700\n",
    ")\n",
    "\n",
    "# Show the figure\n",
    "fig.show()\n"
   ]
  },
  {
   "cell_type": "markdown",
   "id": "28ca74a1",
   "metadata": {},
   "source": [
    "#### Chart 4 - Analysis  Actual Contractual Commitment ($) for Mean, Median, count Programs \n",
    "1. Allocation of Funds and Establishment of Priorities:\n",
    "\n",
    "- The substantial total funding allocated to specific programs implies a strategic prioritization in domains such as vaccine development, artificial intelligence, and technological innovation. These allocations likely mirror overarching policy objectives or emerging necessities, such as the management of the COVID-19 crisis.\n",
    "\n",
    "2. Impact Assessment of Projects:\n",
    "\n",
    "- Individual projects that receive substantial funding, such as \"Uq - Covid-19 Vaccine\" and \"Data61,\" may represent high-impact endeavors anticipated to yield significant results. On the other hand, multi-project programs with varying funding levels may be exploring diverse aspects or phases of innovation, diversifying risks, or aiming for incremental progress.\n",
    "\n",
    "3. Relationship between Project Numbers and Funding Allocation:\n",
    "\n",
    "- The prevalence of single-project programs among the listed initiatives indicates a concentrated allocation of funds per program. Conversely, programs with multiple projects, such as \"Platform Technology Program\" and \"Innovation Partnerships Grants,\" imply sustained or diversified funding efforts for ongoing or comprehensive initiatives.\n",
    "\n",
    "4. Comparison of Mean and Median Funding Levels:\n",
    "\n",
    "- The mean and median funding amounts for most programs are identical owing to their single-project nature. In contrast, for multi-project programs, the difference between mean and median funding values offers insights into the distribution of funds across various projects. For instance, the \"Platform Technology Program\" displays a mean funding amount of $3,826,918 and a median of $2,653,836, indicating that certain projects receive substantially higher funding than others.\n"
   ]
  },
  {
   "cell_type": "code",
   "execution_count": 14,
   "id": "5f525c7f",
   "metadata": {},
   "outputs": [
    {
     "data": {
      "application/vnd.plotly.v1+json": {
       "config": {
        "plotlyServerURL": "https://plot.ly"
       },
       "data": [
        {
         "hovertemplate": "%{text}<br>Total Funding Amount: $%{y}<extra></extra>",
         "name": "Total Funding Amount",
         "text": [
          "Uq - Covid-19 Vaccine",
          "Data61",
          "Artificial Intelligence Hub",
          "Clem Jones Centre For Ageing Dementia Research",
          "Queensland Emory Drug Discovery Initiative",
          "Platform Technology Program",
          "Siemens Healthcare",
          "Agtech And Logistics Hub",
          "Rockhampton Technology And Innovation Centre",
          "Growing Queensland'S Companies",
          "Innovate Queensland",
          "Life Sciences Queensland",
          "Mit Bootcamp",
          "Innovation Partnerships Grants",
          "Fraunhofer Institute Partnership"
         ],
         "type": "bar",
         "x": [
          "Uq - Covid...",
          "Data61",
          "Artificial...",
          "Clem Jones...",
          "Queensland...",
          "Platform T...",
          "Siemens He...",
          "Agtech And...",
          "Rockhampto...",
          "Growing Qu...",
          "Innovate Q...",
          "Life Scien...",
          "Mit Bootca...",
          "Innovation...",
          "Fraunhofer..."
         ],
         "xaxis": "x",
         "y": [
          10000000,
          5695000,
          5000000,
          5000000,
          4169000,
          15307672,
          3198649,
          3000000,
          2800000,
          2202334,
          1500000,
          2310000,
          900000,
          15640265,
          700000
         ],
         "yaxis": "y"
        },
        {
         "hovertemplate": "%{text}<br>Count of Projects: %{y}<extra></extra>",
         "name": "Count of Projects",
         "text": [
          "Uq - Covid-19 Vaccine",
          "Data61",
          "Artificial Intelligence Hub",
          "Clem Jones Centre For Ageing Dementia Research",
          "Queensland Emory Drug Discovery Initiative",
          "Platform Technology Program",
          "Siemens Healthcare",
          "Agtech And Logistics Hub",
          "Rockhampton Technology And Innovation Centre",
          "Growing Queensland'S Companies",
          "Innovate Queensland",
          "Life Sciences Queensland",
          "Mit Bootcamp",
          "Innovation Partnerships Grants",
          "Fraunhofer Institute Partnership"
         ],
         "type": "bar",
         "x": [
          "Uq - Covid...",
          "Data61",
          "Artificial...",
          "Clem Jones...",
          "Queensland...",
          "Platform T...",
          "Siemens He...",
          "Agtech And...",
          "Rockhampto...",
          "Growing Qu...",
          "Innovate Q...",
          "Life Scien...",
          "Mit Bootca...",
          "Innovation...",
          "Fraunhofer..."
         ],
         "xaxis": "x2",
         "y": [
          1,
          1,
          1,
          1,
          1,
          4,
          1,
          1,
          1,
          1,
          1,
          2,
          1,
          22,
          1
         ],
         "yaxis": "y2"
        },
        {
         "hovertemplate": "%{text}<br>Mean Funding Amount: $%{y}<extra></extra>",
         "mode": "markers+lines",
         "name": "Mean Funding Amount",
         "text": [
          "Uq - Covid-19 Vaccine",
          "Data61",
          "Artificial Intelligence Hub",
          "Clem Jones Centre For Ageing Dementia Research",
          "Queensland Emory Drug Discovery Initiative",
          "Platform Technology Program",
          "Siemens Healthcare",
          "Agtech And Logistics Hub",
          "Rockhampton Technology And Innovation Centre",
          "Growing Queensland'S Companies",
          "Innovate Queensland",
          "Life Sciences Queensland",
          "Mit Bootcamp",
          "Innovation Partnerships Grants",
          "Fraunhofer Institute Partnership"
         ],
         "type": "scatter",
         "x": [
          "Uq - Covid...",
          "Data61",
          "Artificial...",
          "Clem Jones...",
          "Queensland...",
          "Platform T...",
          "Siemens He...",
          "Agtech And...",
          "Rockhampto...",
          "Growing Qu...",
          "Innovate Q...",
          "Life Scien...",
          "Mit Bootca...",
          "Innovation...",
          "Fraunhofer..."
         ],
         "xaxis": "x3",
         "y": [
          10000000,
          5695000,
          5000000,
          5000000,
          4169000,
          3826918,
          3198649,
          3000000,
          2800000,
          2202334,
          1500000,
          1155000,
          900000,
          710921.1363636364,
          700000
         ],
         "yaxis": "y3"
        },
        {
         "hovertemplate": "%{text}<br>Median Funding Amount: $%{y}<extra></extra>",
         "mode": "markers+lines",
         "name": "Median Funding Amount",
         "text": [
          "Uq - Covid-19 Vaccine",
          "Data61",
          "Artificial Intelligence Hub",
          "Clem Jones Centre For Ageing Dementia Research",
          "Queensland Emory Drug Discovery Initiative",
          "Platform Technology Program",
          "Siemens Healthcare",
          "Agtech And Logistics Hub",
          "Rockhampton Technology And Innovation Centre",
          "Growing Queensland'S Companies",
          "Innovate Queensland",
          "Life Sciences Queensland",
          "Mit Bootcamp",
          "Innovation Partnerships Grants",
          "Fraunhofer Institute Partnership"
         ],
         "type": "scatter",
         "x": [
          "Uq - Covid...",
          "Data61",
          "Artificial...",
          "Clem Jones...",
          "Queensland...",
          "Platform T...",
          "Siemens He...",
          "Agtech And...",
          "Rockhampto...",
          "Growing Qu...",
          "Innovate Q...",
          "Life Scien...",
          "Mit Bootca...",
          "Innovation...",
          "Fraunhofer..."
         ],
         "xaxis": "x4",
         "y": [
          10000000,
          5695000,
          5000000,
          5000000,
          4169000,
          2653836,
          3198649,
          3000000,
          2800000,
          2202334,
          1500000,
          1155000,
          900000,
          606865,
          700000
         ],
         "yaxis": "y4"
        }
       ],
       "layout": {
        "annotations": [
         {
          "font": {
           "size": 16
          },
          "showarrow": false,
          "text": "Total Funding Amount by Program",
          "x": 0.225,
          "xanchor": "center",
          "xref": "paper",
          "y": 1,
          "yanchor": "bottom",
          "yref": "paper"
         },
         {
          "font": {
           "size": 16
          },
          "showarrow": false,
          "text": "Count of Projects by Program",
          "x": 0.775,
          "xanchor": "center",
          "xref": "paper",
          "y": 1,
          "yanchor": "bottom",
          "yref": "paper"
         },
         {
          "font": {
           "size": 16
          },
          "showarrow": false,
          "text": "Mean Funding Amount by Program",
          "x": 0.225,
          "xanchor": "center",
          "xref": "paper",
          "y": 0.375,
          "yanchor": "bottom",
          "yref": "paper"
         },
         {
          "font": {
           "size": 16
          },
          "showarrow": false,
          "text": "Median Funding Amount by Program",
          "x": 0.775,
          "xanchor": "center",
          "xref": "paper",
          "y": 0.375,
          "yanchor": "bottom",
          "yref": "paper"
         }
        ],
        "height": 900,
        "showlegend": false,
        "template": {
         "data": {
          "bar": [
           {
            "error_x": {
             "color": "#2a3f5f"
            },
            "error_y": {
             "color": "#2a3f5f"
            },
            "marker": {
             "line": {
              "color": "#E5ECF6",
              "width": 0.5
             },
             "pattern": {
              "fillmode": "overlay",
              "size": 10,
              "solidity": 0.2
             }
            },
            "type": "bar"
           }
          ],
          "barpolar": [
           {
            "marker": {
             "line": {
              "color": "#E5ECF6",
              "width": 0.5
             },
             "pattern": {
              "fillmode": "overlay",
              "size": 10,
              "solidity": 0.2
             }
            },
            "type": "barpolar"
           }
          ],
          "carpet": [
           {
            "aaxis": {
             "endlinecolor": "#2a3f5f",
             "gridcolor": "white",
             "linecolor": "white",
             "minorgridcolor": "white",
             "startlinecolor": "#2a3f5f"
            },
            "baxis": {
             "endlinecolor": "#2a3f5f",
             "gridcolor": "white",
             "linecolor": "white",
             "minorgridcolor": "white",
             "startlinecolor": "#2a3f5f"
            },
            "type": "carpet"
           }
          ],
          "choropleth": [
           {
            "colorbar": {
             "outlinewidth": 0,
             "ticks": ""
            },
            "type": "choropleth"
           }
          ],
          "contour": [
           {
            "colorbar": {
             "outlinewidth": 0,
             "ticks": ""
            },
            "colorscale": [
             [
              0,
              "#0d0887"
             ],
             [
              0.1111111111111111,
              "#46039f"
             ],
             [
              0.2222222222222222,
              "#7201a8"
             ],
             [
              0.3333333333333333,
              "#9c179e"
             ],
             [
              0.4444444444444444,
              "#bd3786"
             ],
             [
              0.5555555555555556,
              "#d8576b"
             ],
             [
              0.6666666666666666,
              "#ed7953"
             ],
             [
              0.7777777777777778,
              "#fb9f3a"
             ],
             [
              0.8888888888888888,
              "#fdca26"
             ],
             [
              1,
              "#f0f921"
             ]
            ],
            "type": "contour"
           }
          ],
          "contourcarpet": [
           {
            "colorbar": {
             "outlinewidth": 0,
             "ticks": ""
            },
            "type": "contourcarpet"
           }
          ],
          "heatmap": [
           {
            "colorbar": {
             "outlinewidth": 0,
             "ticks": ""
            },
            "colorscale": [
             [
              0,
              "#0d0887"
             ],
             [
              0.1111111111111111,
              "#46039f"
             ],
             [
              0.2222222222222222,
              "#7201a8"
             ],
             [
              0.3333333333333333,
              "#9c179e"
             ],
             [
              0.4444444444444444,
              "#bd3786"
             ],
             [
              0.5555555555555556,
              "#d8576b"
             ],
             [
              0.6666666666666666,
              "#ed7953"
             ],
             [
              0.7777777777777778,
              "#fb9f3a"
             ],
             [
              0.8888888888888888,
              "#fdca26"
             ],
             [
              1,
              "#f0f921"
             ]
            ],
            "type": "heatmap"
           }
          ],
          "heatmapgl": [
           {
            "colorbar": {
             "outlinewidth": 0,
             "ticks": ""
            },
            "colorscale": [
             [
              0,
              "#0d0887"
             ],
             [
              0.1111111111111111,
              "#46039f"
             ],
             [
              0.2222222222222222,
              "#7201a8"
             ],
             [
              0.3333333333333333,
              "#9c179e"
             ],
             [
              0.4444444444444444,
              "#bd3786"
             ],
             [
              0.5555555555555556,
              "#d8576b"
             ],
             [
              0.6666666666666666,
              "#ed7953"
             ],
             [
              0.7777777777777778,
              "#fb9f3a"
             ],
             [
              0.8888888888888888,
              "#fdca26"
             ],
             [
              1,
              "#f0f921"
             ]
            ],
            "type": "heatmapgl"
           }
          ],
          "histogram": [
           {
            "marker": {
             "pattern": {
              "fillmode": "overlay",
              "size": 10,
              "solidity": 0.2
             }
            },
            "type": "histogram"
           }
          ],
          "histogram2d": [
           {
            "colorbar": {
             "outlinewidth": 0,
             "ticks": ""
            },
            "colorscale": [
             [
              0,
              "#0d0887"
             ],
             [
              0.1111111111111111,
              "#46039f"
             ],
             [
              0.2222222222222222,
              "#7201a8"
             ],
             [
              0.3333333333333333,
              "#9c179e"
             ],
             [
              0.4444444444444444,
              "#bd3786"
             ],
             [
              0.5555555555555556,
              "#d8576b"
             ],
             [
              0.6666666666666666,
              "#ed7953"
             ],
             [
              0.7777777777777778,
              "#fb9f3a"
             ],
             [
              0.8888888888888888,
              "#fdca26"
             ],
             [
              1,
              "#f0f921"
             ]
            ],
            "type": "histogram2d"
           }
          ],
          "histogram2dcontour": [
           {
            "colorbar": {
             "outlinewidth": 0,
             "ticks": ""
            },
            "colorscale": [
             [
              0,
              "#0d0887"
             ],
             [
              0.1111111111111111,
              "#46039f"
             ],
             [
              0.2222222222222222,
              "#7201a8"
             ],
             [
              0.3333333333333333,
              "#9c179e"
             ],
             [
              0.4444444444444444,
              "#bd3786"
             ],
             [
              0.5555555555555556,
              "#d8576b"
             ],
             [
              0.6666666666666666,
              "#ed7953"
             ],
             [
              0.7777777777777778,
              "#fb9f3a"
             ],
             [
              0.8888888888888888,
              "#fdca26"
             ],
             [
              1,
              "#f0f921"
             ]
            ],
            "type": "histogram2dcontour"
           }
          ],
          "mesh3d": [
           {
            "colorbar": {
             "outlinewidth": 0,
             "ticks": ""
            },
            "type": "mesh3d"
           }
          ],
          "parcoords": [
           {
            "line": {
             "colorbar": {
              "outlinewidth": 0,
              "ticks": ""
             }
            },
            "type": "parcoords"
           }
          ],
          "pie": [
           {
            "automargin": true,
            "type": "pie"
           }
          ],
          "scatter": [
           {
            "fillpattern": {
             "fillmode": "overlay",
             "size": 10,
             "solidity": 0.2
            },
            "type": "scatter"
           }
          ],
          "scatter3d": [
           {
            "line": {
             "colorbar": {
              "outlinewidth": 0,
              "ticks": ""
             }
            },
            "marker": {
             "colorbar": {
              "outlinewidth": 0,
              "ticks": ""
             }
            },
            "type": "scatter3d"
           }
          ],
          "scattercarpet": [
           {
            "marker": {
             "colorbar": {
              "outlinewidth": 0,
              "ticks": ""
             }
            },
            "type": "scattercarpet"
           }
          ],
          "scattergeo": [
           {
            "marker": {
             "colorbar": {
              "outlinewidth": 0,
              "ticks": ""
             }
            },
            "type": "scattergeo"
           }
          ],
          "scattergl": [
           {
            "marker": {
             "colorbar": {
              "outlinewidth": 0,
              "ticks": ""
             }
            },
            "type": "scattergl"
           }
          ],
          "scattermapbox": [
           {
            "marker": {
             "colorbar": {
              "outlinewidth": 0,
              "ticks": ""
             }
            },
            "type": "scattermapbox"
           }
          ],
          "scatterpolar": [
           {
            "marker": {
             "colorbar": {
              "outlinewidth": 0,
              "ticks": ""
             }
            },
            "type": "scatterpolar"
           }
          ],
          "scatterpolargl": [
           {
            "marker": {
             "colorbar": {
              "outlinewidth": 0,
              "ticks": ""
             }
            },
            "type": "scatterpolargl"
           }
          ],
          "scatterternary": [
           {
            "marker": {
             "colorbar": {
              "outlinewidth": 0,
              "ticks": ""
             }
            },
            "type": "scatterternary"
           }
          ],
          "surface": [
           {
            "colorbar": {
             "outlinewidth": 0,
             "ticks": ""
            },
            "colorscale": [
             [
              0,
              "#0d0887"
             ],
             [
              0.1111111111111111,
              "#46039f"
             ],
             [
              0.2222222222222222,
              "#7201a8"
             ],
             [
              0.3333333333333333,
              "#9c179e"
             ],
             [
              0.4444444444444444,
              "#bd3786"
             ],
             [
              0.5555555555555556,
              "#d8576b"
             ],
             [
              0.6666666666666666,
              "#ed7953"
             ],
             [
              0.7777777777777778,
              "#fb9f3a"
             ],
             [
              0.8888888888888888,
              "#fdca26"
             ],
             [
              1,
              "#f0f921"
             ]
            ],
            "type": "surface"
           }
          ],
          "table": [
           {
            "cells": {
             "fill": {
              "color": "#EBF0F8"
             },
             "line": {
              "color": "white"
             }
            },
            "header": {
             "fill": {
              "color": "#C8D4E3"
             },
             "line": {
              "color": "white"
             }
            },
            "type": "table"
           }
          ]
         },
         "layout": {
          "annotationdefaults": {
           "arrowcolor": "#2a3f5f",
           "arrowhead": 0,
           "arrowwidth": 1
          },
          "autotypenumbers": "strict",
          "coloraxis": {
           "colorbar": {
            "outlinewidth": 0,
            "ticks": ""
           }
          },
          "colorscale": {
           "diverging": [
            [
             0,
             "#8e0152"
            ],
            [
             0.1,
             "#c51b7d"
            ],
            [
             0.2,
             "#de77ae"
            ],
            [
             0.3,
             "#f1b6da"
            ],
            [
             0.4,
             "#fde0ef"
            ],
            [
             0.5,
             "#f7f7f7"
            ],
            [
             0.6,
             "#e6f5d0"
            ],
            [
             0.7,
             "#b8e186"
            ],
            [
             0.8,
             "#7fbc41"
            ],
            [
             0.9,
             "#4d9221"
            ],
            [
             1,
             "#276419"
            ]
           ],
           "sequential": [
            [
             0,
             "#0d0887"
            ],
            [
             0.1111111111111111,
             "#46039f"
            ],
            [
             0.2222222222222222,
             "#7201a8"
            ],
            [
             0.3333333333333333,
             "#9c179e"
            ],
            [
             0.4444444444444444,
             "#bd3786"
            ],
            [
             0.5555555555555556,
             "#d8576b"
            ],
            [
             0.6666666666666666,
             "#ed7953"
            ],
            [
             0.7777777777777778,
             "#fb9f3a"
            ],
            [
             0.8888888888888888,
             "#fdca26"
            ],
            [
             1,
             "#f0f921"
            ]
           ],
           "sequentialminus": [
            [
             0,
             "#0d0887"
            ],
            [
             0.1111111111111111,
             "#46039f"
            ],
            [
             0.2222222222222222,
             "#7201a8"
            ],
            [
             0.3333333333333333,
             "#9c179e"
            ],
            [
             0.4444444444444444,
             "#bd3786"
            ],
            [
             0.5555555555555556,
             "#d8576b"
            ],
            [
             0.6666666666666666,
             "#ed7953"
            ],
            [
             0.7777777777777778,
             "#fb9f3a"
            ],
            [
             0.8888888888888888,
             "#fdca26"
            ],
            [
             1,
             "#f0f921"
            ]
           ]
          },
          "colorway": [
           "#636efa",
           "#EF553B",
           "#00cc96",
           "#ab63fa",
           "#FFA15A",
           "#19d3f3",
           "#FF6692",
           "#B6E880",
           "#FF97FF",
           "#FECB52"
          ],
          "font": {
           "color": "#2a3f5f"
          },
          "geo": {
           "bgcolor": "white",
           "lakecolor": "white",
           "landcolor": "#E5ECF6",
           "showlakes": true,
           "showland": true,
           "subunitcolor": "white"
          },
          "hoverlabel": {
           "align": "left"
          },
          "hovermode": "closest",
          "mapbox": {
           "style": "light"
          },
          "paper_bgcolor": "white",
          "plot_bgcolor": "#E5ECF6",
          "polar": {
           "angularaxis": {
            "gridcolor": "white",
            "linecolor": "white",
            "ticks": ""
           },
           "bgcolor": "#E5ECF6",
           "radialaxis": {
            "gridcolor": "white",
            "linecolor": "white",
            "ticks": ""
           }
          },
          "scene": {
           "xaxis": {
            "backgroundcolor": "#E5ECF6",
            "gridcolor": "white",
            "gridwidth": 2,
            "linecolor": "white",
            "showbackground": true,
            "ticks": "",
            "zerolinecolor": "white"
           },
           "yaxis": {
            "backgroundcolor": "#E5ECF6",
            "gridcolor": "white",
            "gridwidth": 2,
            "linecolor": "white",
            "showbackground": true,
            "ticks": "",
            "zerolinecolor": "white"
           },
           "zaxis": {
            "backgroundcolor": "#E5ECF6",
            "gridcolor": "white",
            "gridwidth": 2,
            "linecolor": "white",
            "showbackground": true,
            "ticks": "",
            "zerolinecolor": "white"
           }
          },
          "shapedefaults": {
           "line": {
            "color": "#2a3f5f"
           }
          },
          "ternary": {
           "aaxis": {
            "gridcolor": "white",
            "linecolor": "white",
            "ticks": ""
           },
           "baxis": {
            "gridcolor": "white",
            "linecolor": "white",
            "ticks": ""
           },
           "bgcolor": "#E5ECF6",
           "caxis": {
            "gridcolor": "white",
            "linecolor": "white",
            "ticks": ""
           }
          },
          "title": {
           "x": 0.05
          },
          "xaxis": {
           "automargin": true,
           "gridcolor": "white",
           "linecolor": "white",
           "ticks": "",
           "title": {
            "standoff": 15
           },
           "zerolinecolor": "white",
           "zerolinewidth": 2
          },
          "yaxis": {
           "automargin": true,
           "gridcolor": "white",
           "linecolor": "white",
           "ticks": "",
           "title": {
            "standoff": 15
           },
           "zerolinecolor": "white",
           "zerolinewidth": 2
          }
         }
        },
        "title": {
         "font": {
          "size": 20
         },
         "text": "Funding Analysis by Program"
        },
        "xaxis": {
         "anchor": "y",
         "domain": [
          0,
          0.45
         ]
        },
        "xaxis2": {
         "anchor": "y2",
         "domain": [
          0.55,
          1
         ]
        },
        "xaxis3": {
         "anchor": "y3",
         "domain": [
          0,
          0.45
         ]
        },
        "xaxis4": {
         "anchor": "y4",
         "domain": [
          0.55,
          1
         ]
        },
        "yaxis": {
         "anchor": "x",
         "domain": [
          0.625,
          1
         ]
        },
        "yaxis2": {
         "anchor": "x2",
         "domain": [
          0.625,
          1
         ]
        },
        "yaxis3": {
         "anchor": "x3",
         "domain": [
          0,
          0.375
         ]
        },
        "yaxis4": {
         "anchor": "x4",
         "domain": [
          0,
          0.375
         ]
        }
       }
      }
     },
     "metadata": {},
     "output_type": "display_data"
    }
   ],
   "source": [
    "# Convert 'Actual Contractual Commitment ($)' to numeric, coercing errors to NaN\n",
    "df['Actual Contractual Commitment ($)'] = pd.to_numeric(df['Actual Contractual Commitment ($)'], errors='coerce')\n",
    "# Sort the dataframe in descending order and select the top 15 investment/projects\n",
    "grouped_data = df.groupby('Program').agg({\n",
    "    'Actual Contractual Commitment ($)': ['sum', 'mean', 'median', 'count']\n",
    "}).reset_index()\n",
    "\n",
    "# Flatten the column names\n",
    "grouped_data.columns = ['Program', 'Total Funding Amount ($)', 'Mean Funding Amount ($)', 'Median Funding Amount ($)', 'Count of Projects']\n",
    "grouped_data = grouped_data.sort_values(by='Mean Funding Amount ($)', ascending=False).head(15)\n",
    "# Create a truncated version of the 'Program' names for x-axis display\n",
    "grouped_data['Program_Truncated'] = grouped_data['Program'].apply(lambda x: x[:10] + '...' if len(x) > 10 else x)\n",
    "\n",
    "# Create subplots: use 'domain' type for pie charts and 'xy' for scatter plots\n",
    "fig = make_subplots(\n",
    "    rows=2, cols=2,\n",
    "    specs=[[{\"type\": \"bar\"}, {\"type\": \"bar\"}],\n",
    "           [{\"type\": \"scatter\"}, {\"type\": \"scatter\"}]],\n",
    "    subplot_titles=(\"Total Funding Amount by Program\", \"Count of Projects by Program\",\n",
    "                    \"Mean Funding Amount by Program\", \"Median Funding Amount by Program\")\n",
    ")\n",
    "\n",
    "# Add bar chart for 'Total Funding Amount ($)'\n",
    "fig.add_trace(go.Bar(x=grouped_data['Program_Truncated'], y=grouped_data['Total Funding Amount ($)'], name='Total Funding Amount', \n",
    "                     text=grouped_data['Program'], hovertemplate='%{text}<br>Total Funding Amount: $%{y}<extra></extra>'), row=1, col=1)\n",
    "\n",
    "# Add bar chart for 'Count of Projects'\n",
    "fig.add_trace(go.Bar(x=grouped_data['Program_Truncated'], y=grouped_data['Count of Projects'], name='Count of Projects', \n",
    "                     text=grouped_data['Program'], hovertemplate='%{text}<br>Count of Projects: %{y}<extra></extra>'), row=1, col=2)\n",
    "\n",
    "# Add scatter plot for 'Mean Funding Amount ($)'\n",
    "fig.add_trace(go.Scatter(x=grouped_data['Program_Truncated'], y=grouped_data['Mean Funding Amount ($)'], mode='markers+lines', name='Mean Funding Amount', \n",
    "                         text=grouped_data['Program'], hovertemplate='%{text}<br>Mean Funding Amount: $%{y}<extra></extra>'), row=2, col=1)\n",
    "\n",
    "# Add scatter plot for 'Median Funding Amount ($)'\n",
    "fig.add_trace(go.Scatter(x=grouped_data['Program_Truncated'], y=grouped_data['Median Funding Amount ($)'], mode='markers+lines', name='Median Funding Amount', \n",
    "                         text=grouped_data['Program'], hovertemplate='%{text}<br>Median Funding Amount: $%{y}<extra></extra>'), row=2, col=2)\n",
    "\n",
    "# Update layout\n",
    "fig.update_layout(\n",
    "    title_text=\"Funding Analysis by Program\",\n",
    "    height=900,\n",
    "    showlegend=False,\n",
    "    title=dict(font=dict(size=20))\n",
    ")\n",
    "\n",
    "# Show the figure\n",
    "fig.show()"
   ]
  },
  {
   "cell_type": "markdown",
   "id": "39f3b8c0",
   "metadata": {},
   "source": [
    "---\n",
    "## Part B - creating a narrative to answer significant questions\n",
    "\n",
    "**SCENARIO:**  The allocation of public money (obtained from the public via taxes) is a politically sensitive activity with governments regularly coming under scrutiny for how this money is spent. A respected media organisation is looking into the Queensland Government's Advance Queensland program. The resulting story could be a \"good news\" story reporting on the success of the program, however if inappropriate spending or irregularities are found, it could become a story that is critical of the scheme, and potentially the Government.\n",
    "\n",
    "As a data analyst, your task is to analyse the publicly available data on the distribution of the funds over time. You are looking for patterns that may support the \"good news\" story, or which may be a cause for concern. It is up to you how deeply you explore the data, but at a minimum you should look at (a) the balance between South-East Queensland and the remainder of the state (regional Queensland); and (b) how distributions align with the objectives of the scheme which may include supporting specified groups of people. \n",
    "\n",
    "**ETHICAL APPROACH:** You are expected to be fair and ethical in your analysis, and therefore the insights that you draw should take into account contextual factors. You should avoid simplistic assumptions like assuming all groups and activities should receive equal funding. For example, disproportionate funding may be appropriate due to social circumstances or the costs involved in a particular activity. Further, benefits to Queensland may come in different forms. For example, cultural benefits cannot be directly compared to economic benefits.\n",
    "\n",
    "**ESSENTIAL REQUIREMENTS:** Your task as a data analyst is to:\n",
    "\n",
    "- Ensure that you use the techniques and libraries/packages that have been used in class\n",
    "- Identify high quality questions that when answered may be helpful in addressing the scenario above\n",
    "- Obtain the data in JSON form from the API.\n",
    "- Clean and filter the data as appropriate\n",
    "- Analyse the data in a way that answers your questions and ultimately addresses the concern in the scenario\n",
    "- Visualise your results in a meaningful way that is helpful in making visible key findings\n",
    "- Provide a detailed summary of the insights found and how they address the original questions and scenario\n",
    "\n",
    "**AUTHENTICITY AND INTEGRITY**: You will be marked on (a) *HOW* you undertake the task todgether; with (b) detail of *WHY* you made various decisions involved in the tasks; and (c) acknowledgement of **WHERE** you  used material that is not directly yours. Therefore, you must document your thinking and approach throughout the notebook using the Markdown cells, and give credit to other resources as appropriate. You are encouraged to use the `Exemplars` PDF to help write your code. You may use online resources including `GenAI tools` and `stackoverflow` to help you write your code, however you must acknowledge that you are using these resources in the markdown cells explaining your analysis. Note that you do not need to use formal referencing for this.\n",
    "\n",
    "---\n"
   ]
  },
  {
   "cell_type": "markdown",
   "id": "dd047d3c",
   "metadata": {},
   "source": [
    "\n",
    "#### Chart 5 - Actual Contractual Commitment ($) per Program, grouped by RAP Region focus on  Brisbane And Redlands and Central Queensland\n",
    "### Analysis Insights:\n",
    "\n",
    "#### Brisbane And Redlands:\n",
    "\n",
    "1. **Elevated Levels of Funding:**\n",
    "\n",
    "   - The regions of Brisbane And Redlands have acquired notably higher levels of funding across various programs. The program with the highest funding allocation is the \"Ignite Ideas Fund\" at $27,914,294, succeeded by \"Industry Research Fellowships\" and \"Research Fellowships\" at $19,669,661 and $15,226,045 respectively.\n",
    "\n",
    "2. **Variety of Initiatives:**\n",
    "\n",
    "   - A broad spectrum of initiatives is endorsed in the area, encompassing fields such as health research (e.g., \"Clem Jones Centre For Ageing Dementia Research\") and technological progress (e.g., \"Platform Technology Program\").\n",
    "\n",
    "3. **Strategic Investments:**\n",
    "\n",
    "   - Prominent endeavors like the \"Uq - Covid-19 Vaccine\" project, funded with $10,000,000, reflect an emphasis on impactful research and developmental undertakings. Central Queensland:\n",
    "\n",
    "#### Central Queensland:\n",
    "1. **Reduced Funding Levels:**\n",
    "\n",
    "   - Central Queensland exhibits comparatively lower levels of funding, with the most substantial allocation directed towards the \"Rockhampton Technology And Innovation Centre\" at $2,800,000. Programs like \"Ignite Ideas Fund\" and \"Industry Research Fellowships\" received $847,993 and $682,440 respectively, indicating investments of a smaller scale.\n",
    "\n",
    "2. **Targeted Financial Support:**\n",
    "   - Funding is channeled into a limited number of projects, albeit of significant importance, such as the \"Rockhampton Technology And Innovation Centre\" and the \"Biofutures Commercialisation Program\".\n",
    "\n",
    "3. **Prospects for Expansion:**\n",
    "\n",
    "   - The existence of investments, though modest in scale, hints at the potential for future expansion and advancement in the realms of innovation and technology."
   ]
  },
  {
   "cell_type": "code",
   "execution_count": 15,
   "id": "848e0a17",
   "metadata": {},
   "outputs": [
    {
     "data": {
      "application/vnd.plotly.v1+json": {
       "config": {
        "plotlyServerURL": "https://plot.ly"
       },
       "data": [
        {
         "alignmentgroup": "True",
         "bingroup": "x",
         "customdata": [
          [
           "Biofutures Commercialisation Program"
          ],
          [
           "Biofutures Commercialisation Program"
          ],
          [
           "Clem Jones Centre For Ageing Dementia Research"
          ],
          [
           "Ignite Ideas Fund"
          ],
          [
           "Ignite Ideas Fund"
          ],
          [
           "Industry Research Fellowships"
          ],
          [
           "Industry Research Fellowships"
          ],
          [
           "Innovation Partnerships Grants"
          ],
          [
           "Innovation Partnerships Grants"
          ],
          [
           "Johnson & Johnson"
          ],
          [
           "Knowledge Transfer Partnerships"
          ],
          [
           "Knowledge Transfer Partnerships"
          ],
          [
           "Life Sciences Queensland"
          ],
          [
           "Platform Technology Program"
          ],
          [
           "Queensland Emory Drug Discovery Initiative"
          ],
          [
           "Research Fellowships"
          ],
          [
           "Rockhampton Technology And Innovation Centre"
          ],
          [
           "Siemens Healthcare"
          ],
          [
           "Softbank"
          ],
          [
           "Uq - Covid-19 Vaccine"
          ]
         ],
         "histfunc": "sum",
         "hovertemplate": "<b>Program:</b> %{customdata[0]}<br><b>Sum:</b> %{y}<br>",
         "legendgroup": "Brisbane And Redlands",
         "marker": {
          "color": "#636efa",
          "pattern": {
           "shape": ""
          }
         },
         "name": "Brisbane And Redlands",
         "offsetgroup": "Brisbane And Redlands",
         "orientation": "v",
         "showlegend": true,
         "texttemplate": "%{value}",
         "type": "histogram",
         "x": [
          "Biofutures...",
          "Clem Jones...",
          "Ignite Ide...",
          "Industry R...",
          "Innovation...",
          "Johnson & ...",
          "Knowledge ...",
          "Life Scien...",
          "Platform T...",
          "Queensland...",
          "Research F...",
          "Siemens He...",
          "Softbank",
          "Uq - Covid..."
         ],
         "xaxis": "x",
         "y": [
          1491129,
          5000000,
          27914294,
          19669661,
          12444837,
          1381895,
          2080906,
          2310000,
          13807672,
          4169000,
          15226045,
          3198649,
          2000000,
          10000000
         ],
         "yaxis": "y"
        },
        {
         "alignmentgroup": "True",
         "bingroup": "x",
         "customdata": [
          [
           "Biofutures Commercialisation Program"
          ],
          [
           "Biofutures Commercialisation Program"
          ],
          [
           "Clem Jones Centre For Ageing Dementia Research"
          ],
          [
           "Ignite Ideas Fund"
          ],
          [
           "Ignite Ideas Fund"
          ],
          [
           "Industry Research Fellowships"
          ],
          [
           "Industry Research Fellowships"
          ],
          [
           "Innovation Partnerships Grants"
          ],
          [
           "Innovation Partnerships Grants"
          ],
          [
           "Johnson & Johnson"
          ],
          [
           "Knowledge Transfer Partnerships"
          ],
          [
           "Knowledge Transfer Partnerships"
          ],
          [
           "Life Sciences Queensland"
          ],
          [
           "Platform Technology Program"
          ],
          [
           "Queensland Emory Drug Discovery Initiative"
          ],
          [
           "Research Fellowships"
          ],
          [
           "Rockhampton Technology And Innovation Centre"
          ],
          [
           "Siemens Healthcare"
          ],
          [
           "Softbank"
          ],
          [
           "Uq - Covid-19 Vaccine"
          ]
         ],
         "histfunc": "sum",
         "hovertemplate": "<b>Program:</b> %{customdata[0]}<br><b>Sum:</b> %{y}<br>",
         "legendgroup": "Central Queensland",
         "marker": {
          "color": "#EF553B",
          "pattern": {
           "shape": ""
          }
         },
         "name": "Central Queensland",
         "offsetgroup": "Central Queensland",
         "orientation": "v",
         "showlegend": true,
         "texttemplate": "%{value}",
         "type": "histogram",
         "x": [
          "Biofutures...",
          "Ignite Ide...",
          "Industry R...",
          "Innovation...",
          "Knowledge ...",
          "Rockhampto..."
         ],
         "xaxis": "x",
         "y": [
          1000000,
          847993,
          682440,
          318721,
          58339,
          2800000
         ],
         "yaxis": "y"
        },
        {
         "alignmentgroup": "True",
         "customdata": [
          [
           "Biofutures Commercialisation Program"
          ],
          [
           "Biofutures Commercialisation Program"
          ],
          [
           "Clem Jones Centre For Ageing Dementia Research"
          ],
          [
           "Ignite Ideas Fund"
          ],
          [
           "Ignite Ideas Fund"
          ],
          [
           "Industry Research Fellowships"
          ],
          [
           "Industry Research Fellowships"
          ],
          [
           "Innovation Partnerships Grants"
          ],
          [
           "Innovation Partnerships Grants"
          ],
          [
           "Johnson & Johnson"
          ],
          [
           "Knowledge Transfer Partnerships"
          ],
          [
           "Knowledge Transfer Partnerships"
          ],
          [
           "Life Sciences Queensland"
          ],
          [
           "Platform Technology Program"
          ],
          [
           "Queensland Emory Drug Discovery Initiative"
          ],
          [
           "Research Fellowships"
          ],
          [
           "Rockhampton Technology And Innovation Centre"
          ],
          [
           "Siemens Healthcare"
          ],
          [
           "Softbank"
          ],
          [
           "Uq - Covid-19 Vaccine"
          ]
         ],
         "hovertemplate": "<b>Program:</b> %{customdata[0]}<br><b>Value:</b> %{y}<br>",
         "legendgroup": "Brisbane And Redlands",
         "marker": {
          "color": "#636efa"
         },
         "name": "Brisbane And Redlands",
         "notched": false,
         "offsetgroup": "Brisbane And Redlands",
         "orientation": "v",
         "showlegend": true,
         "type": "box",
         "x": [
          "Biofutures...",
          "Clem Jones...",
          "Ignite Ide...",
          "Industry R...",
          "Innovation...",
          "Johnson & ...",
          "Knowledge ...",
          "Life Scien...",
          "Platform T...",
          "Queensland...",
          "Research F...",
          "Siemens He...",
          "Softbank",
          "Uq - Covid..."
         ],
         "x0": " ",
         "xaxis": "x",
         "y": [
          1491129,
          5000000,
          27914294,
          19669661,
          12444837,
          1381895,
          2080906,
          2310000,
          13807672,
          4169000,
          15226045,
          3198649,
          2000000,
          10000000
         ],
         "y0": " ",
         "yaxis": "y"
        },
        {
         "alignmentgroup": "True",
         "customdata": [
          [
           "Biofutures Commercialisation Program"
          ],
          [
           "Biofutures Commercialisation Program"
          ],
          [
           "Clem Jones Centre For Ageing Dementia Research"
          ],
          [
           "Ignite Ideas Fund"
          ],
          [
           "Ignite Ideas Fund"
          ],
          [
           "Industry Research Fellowships"
          ],
          [
           "Industry Research Fellowships"
          ],
          [
           "Innovation Partnerships Grants"
          ],
          [
           "Innovation Partnerships Grants"
          ],
          [
           "Johnson & Johnson"
          ],
          [
           "Knowledge Transfer Partnerships"
          ],
          [
           "Knowledge Transfer Partnerships"
          ],
          [
           "Life Sciences Queensland"
          ],
          [
           "Platform Technology Program"
          ],
          [
           "Queensland Emory Drug Discovery Initiative"
          ],
          [
           "Research Fellowships"
          ],
          [
           "Rockhampton Technology And Innovation Centre"
          ],
          [
           "Siemens Healthcare"
          ],
          [
           "Softbank"
          ],
          [
           "Uq - Covid-19 Vaccine"
          ]
         ],
         "hovertemplate": "<b>Program:</b> %{customdata[0]}<br><b>Value:</b> %{y}<br>",
         "legendgroup": "Central Queensland",
         "marker": {
          "color": "#EF553B"
         },
         "name": "Central Queensland",
         "notched": false,
         "offsetgroup": "Central Queensland",
         "orientation": "v",
         "showlegend": true,
         "type": "box",
         "x": [
          "Biofutures...",
          "Ignite Ide...",
          "Industry R...",
          "Innovation...",
          "Knowledge ...",
          "Rockhampto..."
         ],
         "x0": " ",
         "xaxis": "x",
         "y": [
          1000000,
          847993,
          682440,
          318721,
          58339,
          2800000
         ],
         "y0": " ",
         "yaxis": "y"
        }
       ],
       "layout": {
        "height": 700,
        "legend": {
         "title": {
          "text": "RAP Region"
         }
        },
        "template": {
         "data": {
          "bar": [
           {
            "error_x": {
             "color": "#2a3f5f"
            },
            "error_y": {
             "color": "#2a3f5f"
            },
            "marker": {
             "line": {
              "color": "#E5ECF6",
              "width": 0.5
             },
             "pattern": {
              "fillmode": "overlay",
              "size": 10,
              "solidity": 0.2
             }
            },
            "type": "bar"
           }
          ],
          "barpolar": [
           {
            "marker": {
             "line": {
              "color": "#E5ECF6",
              "width": 0.5
             },
             "pattern": {
              "fillmode": "overlay",
              "size": 10,
              "solidity": 0.2
             }
            },
            "type": "barpolar"
           }
          ],
          "carpet": [
           {
            "aaxis": {
             "endlinecolor": "#2a3f5f",
             "gridcolor": "white",
             "linecolor": "white",
             "minorgridcolor": "white",
             "startlinecolor": "#2a3f5f"
            },
            "baxis": {
             "endlinecolor": "#2a3f5f",
             "gridcolor": "white",
             "linecolor": "white",
             "minorgridcolor": "white",
             "startlinecolor": "#2a3f5f"
            },
            "type": "carpet"
           }
          ],
          "choropleth": [
           {
            "colorbar": {
             "outlinewidth": 0,
             "ticks": ""
            },
            "type": "choropleth"
           }
          ],
          "contour": [
           {
            "colorbar": {
             "outlinewidth": 0,
             "ticks": ""
            },
            "colorscale": [
             [
              0,
              "#0d0887"
             ],
             [
              0.1111111111111111,
              "#46039f"
             ],
             [
              0.2222222222222222,
              "#7201a8"
             ],
             [
              0.3333333333333333,
              "#9c179e"
             ],
             [
              0.4444444444444444,
              "#bd3786"
             ],
             [
              0.5555555555555556,
              "#d8576b"
             ],
             [
              0.6666666666666666,
              "#ed7953"
             ],
             [
              0.7777777777777778,
              "#fb9f3a"
             ],
             [
              0.8888888888888888,
              "#fdca26"
             ],
             [
              1,
              "#f0f921"
             ]
            ],
            "type": "contour"
           }
          ],
          "contourcarpet": [
           {
            "colorbar": {
             "outlinewidth": 0,
             "ticks": ""
            },
            "type": "contourcarpet"
           }
          ],
          "heatmap": [
           {
            "colorbar": {
             "outlinewidth": 0,
             "ticks": ""
            },
            "colorscale": [
             [
              0,
              "#0d0887"
             ],
             [
              0.1111111111111111,
              "#46039f"
             ],
             [
              0.2222222222222222,
              "#7201a8"
             ],
             [
              0.3333333333333333,
              "#9c179e"
             ],
             [
              0.4444444444444444,
              "#bd3786"
             ],
             [
              0.5555555555555556,
              "#d8576b"
             ],
             [
              0.6666666666666666,
              "#ed7953"
             ],
             [
              0.7777777777777778,
              "#fb9f3a"
             ],
             [
              0.8888888888888888,
              "#fdca26"
             ],
             [
              1,
              "#f0f921"
             ]
            ],
            "type": "heatmap"
           }
          ],
          "heatmapgl": [
           {
            "colorbar": {
             "outlinewidth": 0,
             "ticks": ""
            },
            "colorscale": [
             [
              0,
              "#0d0887"
             ],
             [
              0.1111111111111111,
              "#46039f"
             ],
             [
              0.2222222222222222,
              "#7201a8"
             ],
             [
              0.3333333333333333,
              "#9c179e"
             ],
             [
              0.4444444444444444,
              "#bd3786"
             ],
             [
              0.5555555555555556,
              "#d8576b"
             ],
             [
              0.6666666666666666,
              "#ed7953"
             ],
             [
              0.7777777777777778,
              "#fb9f3a"
             ],
             [
              0.8888888888888888,
              "#fdca26"
             ],
             [
              1,
              "#f0f921"
             ]
            ],
            "type": "heatmapgl"
           }
          ],
          "histogram": [
           {
            "marker": {
             "pattern": {
              "fillmode": "overlay",
              "size": 10,
              "solidity": 0.2
             }
            },
            "type": "histogram"
           }
          ],
          "histogram2d": [
           {
            "colorbar": {
             "outlinewidth": 0,
             "ticks": ""
            },
            "colorscale": [
             [
              0,
              "#0d0887"
             ],
             [
              0.1111111111111111,
              "#46039f"
             ],
             [
              0.2222222222222222,
              "#7201a8"
             ],
             [
              0.3333333333333333,
              "#9c179e"
             ],
             [
              0.4444444444444444,
              "#bd3786"
             ],
             [
              0.5555555555555556,
              "#d8576b"
             ],
             [
              0.6666666666666666,
              "#ed7953"
             ],
             [
              0.7777777777777778,
              "#fb9f3a"
             ],
             [
              0.8888888888888888,
              "#fdca26"
             ],
             [
              1,
              "#f0f921"
             ]
            ],
            "type": "histogram2d"
           }
          ],
          "histogram2dcontour": [
           {
            "colorbar": {
             "outlinewidth": 0,
             "ticks": ""
            },
            "colorscale": [
             [
              0,
              "#0d0887"
             ],
             [
              0.1111111111111111,
              "#46039f"
             ],
             [
              0.2222222222222222,
              "#7201a8"
             ],
             [
              0.3333333333333333,
              "#9c179e"
             ],
             [
              0.4444444444444444,
              "#bd3786"
             ],
             [
              0.5555555555555556,
              "#d8576b"
             ],
             [
              0.6666666666666666,
              "#ed7953"
             ],
             [
              0.7777777777777778,
              "#fb9f3a"
             ],
             [
              0.8888888888888888,
              "#fdca26"
             ],
             [
              1,
              "#f0f921"
             ]
            ],
            "type": "histogram2dcontour"
           }
          ],
          "mesh3d": [
           {
            "colorbar": {
             "outlinewidth": 0,
             "ticks": ""
            },
            "type": "mesh3d"
           }
          ],
          "parcoords": [
           {
            "line": {
             "colorbar": {
              "outlinewidth": 0,
              "ticks": ""
             }
            },
            "type": "parcoords"
           }
          ],
          "pie": [
           {
            "automargin": true,
            "type": "pie"
           }
          ],
          "scatter": [
           {
            "fillpattern": {
             "fillmode": "overlay",
             "size": 10,
             "solidity": 0.2
            },
            "type": "scatter"
           }
          ],
          "scatter3d": [
           {
            "line": {
             "colorbar": {
              "outlinewidth": 0,
              "ticks": ""
             }
            },
            "marker": {
             "colorbar": {
              "outlinewidth": 0,
              "ticks": ""
             }
            },
            "type": "scatter3d"
           }
          ],
          "scattercarpet": [
           {
            "marker": {
             "colorbar": {
              "outlinewidth": 0,
              "ticks": ""
             }
            },
            "type": "scattercarpet"
           }
          ],
          "scattergeo": [
           {
            "marker": {
             "colorbar": {
              "outlinewidth": 0,
              "ticks": ""
             }
            },
            "type": "scattergeo"
           }
          ],
          "scattergl": [
           {
            "marker": {
             "colorbar": {
              "outlinewidth": 0,
              "ticks": ""
             }
            },
            "type": "scattergl"
           }
          ],
          "scattermapbox": [
           {
            "marker": {
             "colorbar": {
              "outlinewidth": 0,
              "ticks": ""
             }
            },
            "type": "scattermapbox"
           }
          ],
          "scatterpolar": [
           {
            "marker": {
             "colorbar": {
              "outlinewidth": 0,
              "ticks": ""
             }
            },
            "type": "scatterpolar"
           }
          ],
          "scatterpolargl": [
           {
            "marker": {
             "colorbar": {
              "outlinewidth": 0,
              "ticks": ""
             }
            },
            "type": "scatterpolargl"
           }
          ],
          "scatterternary": [
           {
            "marker": {
             "colorbar": {
              "outlinewidth": 0,
              "ticks": ""
             }
            },
            "type": "scatterternary"
           }
          ],
          "surface": [
           {
            "colorbar": {
             "outlinewidth": 0,
             "ticks": ""
            },
            "colorscale": [
             [
              0,
              "#0d0887"
             ],
             [
              0.1111111111111111,
              "#46039f"
             ],
             [
              0.2222222222222222,
              "#7201a8"
             ],
             [
              0.3333333333333333,
              "#9c179e"
             ],
             [
              0.4444444444444444,
              "#bd3786"
             ],
             [
              0.5555555555555556,
              "#d8576b"
             ],
             [
              0.6666666666666666,
              "#ed7953"
             ],
             [
              0.7777777777777778,
              "#fb9f3a"
             ],
             [
              0.8888888888888888,
              "#fdca26"
             ],
             [
              1,
              "#f0f921"
             ]
            ],
            "type": "surface"
           }
          ],
          "table": [
           {
            "cells": {
             "fill": {
              "color": "#EBF0F8"
             },
             "line": {
              "color": "white"
             }
            },
            "header": {
             "fill": {
              "color": "#C8D4E3"
             },
             "line": {
              "color": "white"
             }
            },
            "type": "table"
           }
          ]
         },
         "layout": {
          "annotationdefaults": {
           "arrowcolor": "#2a3f5f",
           "arrowhead": 0,
           "arrowwidth": 1
          },
          "autotypenumbers": "strict",
          "coloraxis": {
           "colorbar": {
            "outlinewidth": 0,
            "ticks": ""
           }
          },
          "colorscale": {
           "diverging": [
            [
             0,
             "#8e0152"
            ],
            [
             0.1,
             "#c51b7d"
            ],
            [
             0.2,
             "#de77ae"
            ],
            [
             0.3,
             "#f1b6da"
            ],
            [
             0.4,
             "#fde0ef"
            ],
            [
             0.5,
             "#f7f7f7"
            ],
            [
             0.6,
             "#e6f5d0"
            ],
            [
             0.7,
             "#b8e186"
            ],
            [
             0.8,
             "#7fbc41"
            ],
            [
             0.9,
             "#4d9221"
            ],
            [
             1,
             "#276419"
            ]
           ],
           "sequential": [
            [
             0,
             "#0d0887"
            ],
            [
             0.1111111111111111,
             "#46039f"
            ],
            [
             0.2222222222222222,
             "#7201a8"
            ],
            [
             0.3333333333333333,
             "#9c179e"
            ],
            [
             0.4444444444444444,
             "#bd3786"
            ],
            [
             0.5555555555555556,
             "#d8576b"
            ],
            [
             0.6666666666666666,
             "#ed7953"
            ],
            [
             0.7777777777777778,
             "#fb9f3a"
            ],
            [
             0.8888888888888888,
             "#fdca26"
            ],
            [
             1,
             "#f0f921"
            ]
           ],
           "sequentialminus": [
            [
             0,
             "#0d0887"
            ],
            [
             0.1111111111111111,
             "#46039f"
            ],
            [
             0.2222222222222222,
             "#7201a8"
            ],
            [
             0.3333333333333333,
             "#9c179e"
            ],
            [
             0.4444444444444444,
             "#bd3786"
            ],
            [
             0.5555555555555556,
             "#d8576b"
            ],
            [
             0.6666666666666666,
             "#ed7953"
            ],
            [
             0.7777777777777778,
             "#fb9f3a"
            ],
            [
             0.8888888888888888,
             "#fdca26"
            ],
            [
             1,
             "#f0f921"
            ]
           ]
          },
          "colorway": [
           "#636efa",
           "#EF553B",
           "#00cc96",
           "#ab63fa",
           "#FFA15A",
           "#19d3f3",
           "#FF6692",
           "#B6E880",
           "#FF97FF",
           "#FECB52"
          ],
          "font": {
           "color": "#2a3f5f"
          },
          "geo": {
           "bgcolor": "white",
           "lakecolor": "white",
           "landcolor": "#E5ECF6",
           "showlakes": true,
           "showland": true,
           "subunitcolor": "white"
          },
          "hoverlabel": {
           "align": "left"
          },
          "hovermode": "closest",
          "mapbox": {
           "style": "light"
          },
          "paper_bgcolor": "white",
          "plot_bgcolor": "#E5ECF6",
          "polar": {
           "angularaxis": {
            "gridcolor": "white",
            "linecolor": "white",
            "ticks": ""
           },
           "bgcolor": "#E5ECF6",
           "radialaxis": {
            "gridcolor": "white",
            "linecolor": "white",
            "ticks": ""
           }
          },
          "scene": {
           "xaxis": {
            "backgroundcolor": "#E5ECF6",
            "gridcolor": "white",
            "gridwidth": 2,
            "linecolor": "white",
            "showbackground": true,
            "ticks": "",
            "zerolinecolor": "white"
           },
           "yaxis": {
            "backgroundcolor": "#E5ECF6",
            "gridcolor": "white",
            "gridwidth": 2,
            "linecolor": "white",
            "showbackground": true,
            "ticks": "",
            "zerolinecolor": "white"
           },
           "zaxis": {
            "backgroundcolor": "#E5ECF6",
            "gridcolor": "white",
            "gridwidth": 2,
            "linecolor": "white",
            "showbackground": true,
            "ticks": "",
            "zerolinecolor": "white"
           }
          },
          "shapedefaults": {
           "line": {
            "color": "#2a3f5f"
           }
          },
          "ternary": {
           "aaxis": {
            "gridcolor": "white",
            "linecolor": "white",
            "ticks": ""
           },
           "baxis": {
            "gridcolor": "white",
            "linecolor": "white",
            "ticks": ""
           },
           "bgcolor": "#E5ECF6",
           "caxis": {
            "gridcolor": "white",
            "linecolor": "white",
            "ticks": ""
           }
          },
          "title": {
           "x": 0.05
          },
          "xaxis": {
           "automargin": true,
           "gridcolor": "white",
           "linecolor": "white",
           "ticks": "",
           "title": {
            "standoff": 15
           },
           "zerolinecolor": "white",
           "zerolinewidth": 2
          },
          "yaxis": {
           "automargin": true,
           "gridcolor": "white",
           "linecolor": "white",
           "ticks": "",
           "title": {
            "standoff": 15
           },
           "zerolinecolor": "white",
           "zerolinewidth": 2
          }
         }
        },
        "xaxis": {
         "title": {
          "text": "Program"
         }
        },
        "yaxis": {
         "range": [
          0,
          10000000
         ],
         "title": {
          "text": "Actual Contractual Commitment ($)"
         }
        }
       }
      }
     },
     "metadata": {},
     "output_type": "display_data"
    }
   ],
   "source": [
    "# Filter the data for the specified RAP regions\n",
    "filtered_df = df[df['RAP Region'].isin(['Brisbane And Redlands', 'Central Queensland'])]\n",
    "\n",
    "# Group by Program and RAP Region and sum the Actual Contractual Commitment\n",
    "grouped_df = filtered_df.groupby(['Program', 'RAP Region'])['Actual Contractual Commitment ($)'].sum().reset_index()\n",
    "\n",
    "# Get the top 15 programs by sum of Actual Contractual Commitment\n",
    "top_programs = grouped_df.groupby('Program')['Actual Contractual Commitment ($)'].sum().nlargest(15).index\n",
    "grouped_df = grouped_df[grouped_df['Program'].isin(top_programs)]\n",
    "\n",
    "# Truncate Program labels longer than 10 characters\n",
    "grouped_df['Truncated Program'] = grouped_df['Program'].apply(lambda x: x if len(x) <= 10 else x[:10] + '...')\n",
    "\n",
    "# Create a histogram with truncated labels but full labels in hover\n",
    "fig_hist = px.histogram(\n",
    "    grouped_df, \n",
    "    x='Truncated Program', \n",
    "    y='Actual Contractual Commitment ($)', \n",
    "    color='RAP Region', \n",
    "    barmode='group', \n",
    "    histfunc='sum',\n",
    "    text_auto=True,\n",
    "    title='Sum of Actual Contractual Commitment ($) per Program by RAP Region'\n",
    ")\n",
    "\n",
    "# Customize the histogram\n",
    "fig_hist.update_layout(\n",
    "    xaxis_title='Program',\n",
    "    yaxis_title='Sum of Actual Contractual Commitment ($)',\n",
    "    yaxis=dict(range=[0, 10000000]),  # Set y-axis limit to 10M\n",
    "    legend_title='RAP Region',\n",
    "    bargap=0.2,\n",
    "    height=700  # Set plot height to 700\n",
    ")\n",
    "\n",
    "# Add hover data\n",
    "fig_hist.update_traces(\n",
    "    hovertemplate='<b>Program:</b> %{customdata[0]}<br><b>Sum:</b> %{y}<br>',\n",
    "    customdata=grouped_df[['Program']].values\n",
    ")\n",
    "\n",
    "# Create a box plot with truncated labels but full labels in hover\n",
    "fig_box = px.box(\n",
    "    grouped_df, \n",
    "    x='Truncated Program', \n",
    "    y='Actual Contractual Commitment ($)', \n",
    "    color='RAP Region',\n",
    "    title='Distribution of Actual Contractual Commitment ($) per Program by RAP Region'\n",
    ")\n",
    "\n",
    "# Add hover data to box plot\n",
    "fig_box.update_traces(\n",
    "    hovertemplate='<b>Program:</b> %{customdata[0]}<br><b>Value:</b> %{y}<br>',\n",
    "    customdata=grouped_df[['Program']].values\n",
    ")\n",
    "\n",
    "# Combine the plots into a single figure\n",
    "fig = go.Figure(data=fig_hist.data + fig_box.data)\n",
    "\n",
    "# Apply layout to the combined figure\n",
    "fig.update_layout(\n",
    "    xaxis_title='Program',\n",
    "    yaxis_title='Actual Contractual Commitment ($)',\n",
    "    yaxis=dict(range=[0, 10000000]),  # Set y-axis limit to 10M\n",
    "    legend_title='RAP Region',\n",
    "    height=700  # Set plot height to 700\n",
    ")\n",
    "\n",
    "# Show the plot\n",
    "fig.show()"
   ]
  },
  {
   "cell_type": "markdown",
   "id": "d93946e5",
   "metadata": {},
   "source": [
    "### Reflection:\n",
    "- This comparative analysis examines the funding disparities between Brisbane and Redlands and Central Queensland, shedding light on several crucial aspects. Brisbane and Redlands possess a significant funding advantage across various programs, indicative of their well-established infrastructure and research and innovation capabilities. The region's proficiency in attracting and overseeing large-scale ventures, particularly in health research and technology investments, emphasizes its pivotal role as a central development hub.\n",
    "\n",
    "- In contrast, Central Queensland, despite receiving a lesser total funding amount, benefits from targeted investments aimed at stimulating regional progress. Initiatives like the \"Rockhampton Technology and Innovation Centre\" demonstrate a deliberate emphasis on nurturing regional innovation centers. Despite being comparatively smaller, these investments play a pivotal role in cultivating local capacities and ensuring equitable development throughout the state.\n",
    "\n",
    "- Furthermore, the analysis highlights the critical need for an even distribution of funding to bolster both urban and regional areas. While Brisbane and Redlands excel in securing high-value projects, supporting regional endeavors in Central Queensland can help narrow the gap, promoting a more balanced and inclusive growth approach. This strategy not only enriches the overall innovation landscape but also fosters sustainable economic growth across diverse regions."
   ]
  }
 ],
 "metadata": {
  "creation_period": "",
  "kernelspec": {
   "display_name": "Python 3 (ipykernel)",
   "language": "python",
   "name": "python3"
  },
  "language_info": {
   "codemirror_mode": {
    "name": "ipython",
    "version": 3
   },
   "file_extension": ".py",
   "mimetype": "text/x-python",
   "name": "python",
   "nbconvert_exporter": "python",
   "pygments_lexer": "ipython3",
   "version": "3.12.0"
  },
  "nb_name": "template",
  "qut": {
   "creation_period": "2023_sem1",
   "nb_name": "template-assignment1",
   "unit_code": "IFN619"
  },
  "unit_code": "",
  "vscode": {
   "interpreter": {
    "hash": "d4d1e4263499bec80672ea0156c357c1ee493ec2b1c70f0acce89fc37c4a6abe"
   }
  }
 },
 "nbformat": 4,
 "nbformat_minor": 5
}
