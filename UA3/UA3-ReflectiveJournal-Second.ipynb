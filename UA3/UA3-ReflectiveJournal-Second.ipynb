{
 "cells": [
  {
   "cell_type": "markdown",
   "metadata": {},
   "source": [
    "# IFN619 Assessment 3 - Reflective Journal\n",
    "\n",
    "### Instructions\n",
    "\n",
    "1. Add your name and student number and run the cell below\n",
    "2. Change the name of this file to the format: **A3-studentNumber-full_Name.ipynb**\n",
    "3. Throughout the semester add regular reflections in **Part A**. Run the date and time cells for each reflection to record the current date and time.\n",
    "4. Include in **Part A**, supporting evidence\n",
    "5. At the conclusion of the semester write your reflective journal in **Part B**. Ensure that you follow the instructions on Canvas and include 3 threads (Experience, Personal, Learning). This part should be approximately 2-3 pages long when exported to PDF.\n",
    "6. Export this notebook as a PDF file - make sure it is named in the format: **A3-studentNumber-full_Name.pdf**\n",
    "7. Submit the exported PDF file to Canvas."
   ]
  },
  {
   "cell_type": "markdown",
   "metadata": {},
   "source": [
    "---\n",
    "\n",
    "## PART A - Records of regular reflection and supporting evidence"
   ]
  },
  {
   "cell_type": "code",
   "execution_count": 6,
   "metadata": {},
   "outputs": [
    {
     "data": {
      "text/html": [
       "<h3>Regular reflection date: 2024.06.01</h3>"
      ],
      "text/plain": [
       "<IPython.core.display.HTML object>"
      ]
     },
     "metadata": {},
     "output_type": "display_data"
    }
   ],
   "source": [
    "from IPython.display import display, HTML\n",
    "import time\n",
    "\n",
    "# run this cell when you complete a reflection\n",
    "display(HTML(f\"<h3>Regular reflection date: {time.strftime('%Y.%m.%d')}</h3>\"))\n"
   ]
  },
  {
   "cell_type": "markdown",
   "metadata": {},
   "source": [
    "### Regular Reflection\n",
    "\n",
    "Between February 26, 2023, and March 25, 2023, I undertook the journey of learning Python with the academic support provided. Over this period, I immersed myself in Python, starting with chapters 1 and 2 that covered the fundamentals like data types, functions, and library imports. These initial chapters significantly boosted my confidence levels. I then explored topics related to classes and methods, showcasing a deeper grasp of programming. This newfound knowledge was applied in completing the UA-1 Foundation technical assignment, where I developed a helper function file incorporating type checking, a skill I refined through self-directed study using YouTube resources.\n",
    "\n",
    "Chapters 3 through 7 were remarkably beneficial as they covered the topics of data cleansing, analysis, visual representation, collaboration, and storage, providing a comprehensive overview of these fundamental skills.\n",
    "\n",
    "Logical reasoning is crucial not just in data cleaning but also in data preparation. Extracting data from text files in comma-separated or other delimited formats, retrieving JSON-formatted data from APIs, and preprocessing this JSON data into clean pandas dataframes involve meticulous operations.\n",
    "\n",
    "Furthermore, I cultivated a strong interest in data frame cleaning using the pandas library. The structured learning approach and hands-on assignments significantly enhanced my understanding of these concepts, enriching my overall learning experience.\n",
    "\n",
    "Drawing insights from real-world scenarios, I recognized the prevalence of unstructured data like audio, text, or video. Major companies such as Netflix, Amazon, and Flipkart leverage this customer data for recommendation systems, recognizing buying patterns, and promoting highly-rated products. This exposure to data analysis instilled confidence in me as I acquired vital data analytics skills during this semester, edging closer to becoming a proficient data analyst. I eagerly anticipate furthering this educational journey in the upcoming semester.\n",
    "\n",
    "### Supporting evidence\n",
    "\n",
    "Overall, this learning endeavor has been incredibly rewarding, owing to the exceptional resources like beginner-oriented Python tutorials on YouTube and practical tutorials such as A2-DataAnalyticsCycle and B3-Data Analytics Visualization."
   ]
  },
  {
   "cell_type": "code",
   "execution_count": 7,
   "metadata": {},
   "outputs": [
    {
     "data": {
      "text/html": [
       "<h3>Regular reflection date: 2024.06.01</h3>"
      ],
      "text/plain": [
       "<IPython.core.display.HTML object>"
      ]
     },
     "metadata": {},
     "output_type": "display_data"
    }
   ],
   "source": [
    "# run this cell when you complete a reflection\n",
    "import time\n",
    "display(HTML(f\"<h3>Regular reflection date: {time.strftime('%Y.%m.%d')}</h3>\"))"
   ]
  },
  {
   "cell_type": "markdown",
   "metadata": {
    "vscode": {
     "languageId": "sql"
    }
   },
   "source": [
    "### Regular Reflection\n",
    "\n",
    "This semester, from 15/04/23 to 27/05/23, I embarked on a journey to learn different Plotly plots, driven by the academic resources provided to us. During these weeks, I studied the Plotly visualization library and machine learning techniques. Understanding the syntax and attributes to use with different data structures in the Plotly Express library proved challenging. I dedicated significant time to learning from online documentation and academic resources such as B2-StructuredAnalytics.\n",
    "\n",
    "Subsequently, the UA2-ExtendingAnalytics project provided an opportunity to apply my newly acquired expertise. I ensured that each chart not only met the required standards but also possessed aesthetic appeal, adhering to all guidelines.\n",
    "\n",
    "The significance of data analytics infrastructure became increasingly apparent - DevOps and containerization stand as vital components for any organizational framework. The forthcoming semester will involve an in-depth exploration of production-level methodologies, emphasizing the substantial disparities from academic practices - where meticulous attention to detail is imperative.\n",
    "\n",
    "The sessions focusing on machine learning were particularly enlightening. Exploring different models and the comprehensive process from data preprocessing to model training was a remarkable experience. Moving forward, it is essential to dedicate more time in the upcoming term to determine the most suitable machine learning model for each dataset and thoroughly analyze model performance metrics.\n",
    "\n",
    "My research has also led me to discover various AI tools that enhance the efficiency of data analytics. These tools, which we can further explore, possess remarkable capabilities, such as eliminating undesirable null values and incorporating statistical measures like mean or median effortlessly. Resources like Copilot for Excel and Data Squirrel provide immediate insights. However, it is imperative to maintain ethical standards by anonymizing sensitive information before conducting any analysis.\n",
    "\n",
    "In conclusion, I am excited about the forthcoming journey of knowledge acquisition and look forward to embarking on this intellectual adventure together.\n",
    "\n",
    "### Supporting evidence\n",
    "\n",
    "UA2 deals with the expansion of analytics capabilities, whereas C1 is centered on the analysis of unstructured data. Additionally, C3 addresses ethical issues in data analytics, and C2 examines the use of machine learning techniques in data analysis."
   ]
  },
  {
   "cell_type": "markdown",
   "metadata": {},
   "source": [
    "---\n",
    "\n",
    "## PART B - Reflective Journal\n",
    "\n",
    "Embarking on the journey of learning Plotly plots and machine learning techniques this semester has been an enlightening and transformative experience. The period from 15/04/23 to 27/05/23 provided a rich tapestry of learning opportunities, challenges, and personal growth. Throughout this time, I discovered the intricacies of the Plotly visualization library and the complexities of machine learning, guided by academic resources and hands-on projects. This journey not only expanded my technical skills but also reshaped my perspective on data analytics and its applications in the real world.\n",
    "\n",
    "From the outset, diving into Plotly was both exciting and daunting. The library's extensive capabilities for creating interactive and aesthetically pleasing visualizations were immediately apparent, but so were the challenges of mastering its syntax and attributes. The process of understanding how to use different data structures in the Plotly Express library required a considerable investment of time and effort. I often found myself poring over online documentation and leveraging academic resources such as B2-StructuredAnalytics to build a solid foundation. This initial struggle, however, was crucial in setting the stage for my subsequent achievements and deepening my appreciation for the power of data visualization.\n",
    "\n",
    "One particularly significant experience was the UA2-ExtendingAnalytics project. This project provided a practical platform to apply my newly acquired Plotly skills, ensuring that each chart met the required standards while also possessing aesthetic appeal. The project demanded meticulous attention to detail, from selecting the appropriate type of chart to customizing attributes for clarity and impact. This experience underscored the importance of not just technical accuracy but also visual storytelling in data analytics. The satisfaction of creating visually compelling and informative charts reinforced my commitment to mastering Plotly and highlighted the broader significance of effective data visualization in communicating insights.\n",
    "\n",
    "Another pivotal aspect of this semester was the exploration of machine learning. The sessions on machine learning techniques were particularly enlightening, offering a comprehensive overview of various models and the process from data preprocessing to model training. This exploration was more than just an academic exercise; it was a glimpse into the future of data analytics and its transformative potential. Learning about different machine learning models and understanding the intricacies of optimizing them was both challenging and exhilarating. This experience marked a shift in my thinking, from viewing data analytics as a purely descriptive field to recognizing its predictive and prescriptive capabilities.\n",
    "\n",
    "\n",
    "Throughout this journey, the significance of data analytics infrastructure became increasingly apparent. Concepts such as DevOps and containerization emerged as vital components of any organizational framework. The importance of these elements was underscored by the realization that production-level methodologies differ substantially from academic practices. This insight highlighted the need for meticulous attention to detail and robust infrastructure to support scalable and reliable data analytics solutions. The forthcoming semester promises to involve an in-depth exploration of these production-level methodologies, emphasizing the practical skills necessary to bridge the gap between academic learning and real-world applications.\n",
    "\n",
    "Reflecting on these experiences, I also had the opportunity to explore generative AI tools. These tools possess remarkable capabilities, such as eliminating undesirable null values and incorporating statistical measures like mean or median effortlessly. Resources like Copilot for Excel and Data Squirrel offer immediate insights, further enhancing the efficiency and effectiveness of data analysis. However, the exploration of these tools also brought to light the importance of maintaining ethical standards, particularly the need to anonymize sensitive information before conducting any analysis. This ethical consideration is crucial in ensuring that the benefits of advanced data analytics do not come at the expense of privacy and confidentiality.\n",
    "\n",
    "The personal thread of this journey was equally significant. The challenges I faced in mastering Plotly and machine learning often elicited feelings of frustration and self-doubt. However, these challenges also provided opportunities for growth and self-reflection. I found that my initial struggles with understanding complex concepts and techniques were indicative of a deeper learning process. These feelings of frustration were a natural part of pushing the boundaries of my knowledge and skills. Recognizing this helped me develop a more resilient mindset, viewing challenges as opportunities for growth rather than insurmountable obstacles.\n",
    "\n",
    "One of the most challenging aspects was the steep learning curve associated with Plotly and machine learning. The complexity of these subjects often made me question my abilities and whether I was capable of mastering them. However, the support from academic resources and the sense of accomplishment from completing projects like UA2-ExtendingAnalytics provided reassurance and motivation. These experiences reinforced the importance of perseverance and the value of incremental progress. Each small victory, whether it was successfully creating a complex plot, contributed to building my confidence and competence.\n",
    "\n",
    "Looking ahead, there are several areas where I see opportunities for personal improvement and growth. One key insight from this semester is the importance of balancing theoretical understanding with practical application. While it is essential to have a solid grasp of the underlying concepts, the ability to apply these concepts in real-world scenarios is equally crucial.\n",
    "\n",
    "Another area for improvement is time management. The demands of mastering new tools and techniques often required significant time and effort, leading to a need for better time management strategies. Developing a more structured approach to studying and project work will help me balance the various demands and ensure that I can make steady progress without feeling overwhelmed. This involves setting clear goals, breaking tasks into manageable chunks, and allocating dedicated time for focused study and practice.\n",
    "\n",
    "Furthermore, I recognize the importance of continuous learning and staying updated with the latest developments in the field of data analytics. The rapid pace of technological advancements means that there is always something new to learn. To stay ahead, I plan to regularly engage with communities. This commitment to lifelong learning will help me stay current with emerging trends and technologies, ensuring that my skills remain relevant and competitive.\n",
    "\n",
    "In conclusion, this semester has been a transformative journey of learning and growth. The experiences with Plotly and machine learning have not only expanded my technical skills but also reshaped my perspective on data analytics. The challenges I faced and the insights I gained have provided valuable lessons that will guide my future endeavors. As I continue on this path, I am excited about the opportunities for further learning and development, and I look forward to the journey ahead with a renewed sense of purpose and determination.\n",
    "\n",
    "---"
   ]
  },
  {
   "cell_type": "markdown",
   "metadata": {},
   "source": []
  }
 ],
 "metadata": {
  "kernelspec": {
   "display_name": "Python 3 (ipykernel)",
   "language": "python",
   "name": "python3"
  },
  "language_info": {
   "codemirror_mode": {
    "name": "ipython",
    "version": 3
   },
   "file_extension": ".py",
   "mimetype": "text/x-python",
   "name": "python",
   "nbconvert_exporter": "python",
   "pygments_lexer": "ipython3",
   "version": "3.12.0"
  }
 },
 "nbformat": 4,
 "nbformat_minor": 4
}
