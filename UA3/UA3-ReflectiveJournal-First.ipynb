{
 "cells": [
  {
   "cell_type": "markdown",
   "metadata": {},
   "source": [
    "# IFN619 Assessment 3 - Reflective Journal\n",
    "\n",
    "### Instructions\n",
    "\n",
    "1. Add your name and student number and run the cell below\n",
    "2. Change the name of this file to the format: **A3-studentNumber-full_Name.ipynb**\n",
    "3. Throughout the semester add regular reflections in **Part A**. Run the date and time cells for each reflection to record the current date and time.\n",
    "4. Include in **Part A**, supporting evidence\n",
    "5. At the conclusion of the semester write your reflective journal in **Part B**. Ensure that you follow the instructions on Canvas and include 3 threads (Experience, Personal, Learning). This part should be approximately 2-3 pages long when exported to PDF.\n",
    "6. Export this notebook as a PDF file - make sure it is named in the format: **A3-studentNumber-full_Name.pdf**\n",
    "7. Submit the exported PDF file to Canvas."
   ]
  },
  {
   "cell_type": "markdown",
   "metadata": {},
   "source": [
    "---\n",
    "\n",
    "## PART A - Records of regular reflection and supporting evidence"
   ]
  },
  {
   "cell_type": "code",
   "execution_count": 6,
   "metadata": {},
   "outputs": [
    {
     "data": {
      "text/html": [
       "<h3>Regular reflection date: 2024.06.01</h3>"
      ],
      "text/plain": [
       "<IPython.core.display.HTML object>"
      ]
     },
     "metadata": {},
     "output_type": "display_data"
    }
   ],
   "source": [
    "from IPython.display import display, HTML\n",
    "import time\n",
    "\n",
    "# run this cell when you complete a reflection\n",
    "display(HTML(f\"<h3>Regular reflection date: {time.strftime('%Y.%m.%d')}</h3>\"))\n"
   ]
  },
  {
   "cell_type": "markdown",
   "metadata": {},
   "source": [
    "### Regular Reflection\n",
    "\n",
    "This semester, from 26/02/23 to 25/03/23, I embarked on the journey of learning Python, driven by the academic resources provided to us. During these specified weeks,which covered the basics like data types, functions, and library imports. These initial chapters boosted my confidence, but challenges soon arose. I initially found data types and functions easy to understand, but the section on classes and methods required abstract thinking and a deeper understanding of programming. This shift contrasted sharply with the beginner-friendly approach of the earlier chapters, making it a significant hurdle.\n",
    "\n",
    "The process of the QDAVI cycle, encompassing questioning, data gathering, analysis, visualization, and insights, appeared straightforward in theory at first. However, I encountered difficulty during the questioning phase. Formulating the appropriate queries to meet organizational requirements and deliver valuable insights to stakeholders proved to be challenging. Despite grasping the cycle's purpose, effectively implementing it required time and practice. Engaging with the UA1-FoundationalTechniques task played a pivotal role in overcoming these challenges. Particularly, chapters 3 to 7 proved to be advantageous as they delved into data scrubbing, examination, illustration, sharing, and data storage. These sections granted a thorough understanding and hands-on experience with the QDAVI cycle.\n",
    "\n",
    "One of the most interesting aspects of the course was learning to make API calls and save responses locally. This practical skill felt very empowering and relevant to real-world applications.Additionally, I developed a particular interest in cleaning data frames using the pandas library. Academic resources and tutorials from platforms like w3schools proved invaluable in mastering pandas. The structured learning path and hands-on assignments significantly contributed to my grasp of these concepts, enhancing my overall learning experience.\n",
    "\n",
    "### Supporting evidence\n",
    "All in all, this whole learning experience has been quite the ride thanks to all those awesome resources like YouTube videos teaching Python basics for newbies and hands-on assignments like A2-DataAnalyticsCycle/B3-Data analytics visualisation. Major props to those academic peeps who put this together - they really nailed it!\n",
    "\n",
    "PS: Can't forget about giving a big shoutout to platforms like w3schools, gfg – they’ve been my saving grace throughout this Python adventure!"
   ]
  },
  {
   "cell_type": "code",
   "execution_count": 7,
   "metadata": {},
   "outputs": [
    {
     "data": {
      "text/html": [
       "<h3>Regular reflection date: 2024.06.01</h3>"
      ],
      "text/plain": [
       "<IPython.core.display.HTML object>"
      ]
     },
     "metadata": {},
     "output_type": "display_data"
    }
   ],
   "source": [
    "# run this cell when you complete a reflection\n",
    "import time\n",
    "display(HTML(f\"<h3>Regular reflection date: {time.strftime('%Y.%m.%d')}</h3>\"))"
   ]
  },
  {
   "cell_type": "markdown",
   "metadata": {
    "vscode": {
     "languageId": "sql"
    }
   },
   "source": [
    "### Regular Reflection\n",
    "\n",
    "During the period of 15/04/23 to 27/05/23 this semester, I delved into the realm of understanding various Plotly plots with the assistance of academic materials. Throughout these designated weeks, my focus was on grasping the Plotly visualization library and machine learning methods. It was quite a challenge to comprehend the syntax and attributes necessary for different data structures within the Plotly Express library. I dedicated a significant amount of time to studying online documentation and utilizing academic resources like B2-StructuredAnalytics. Additionally, I explored blogs discussing different types of charts on dashboards and KPIs, aiding developers in selecting suitable chart types based on requirements and data types. Moreover, I delved into several documents and articles highlighting color choices and advanced chart options such as sunburst charts(hierarchy) and treemaps.\n",
    "\n",
    "Subsequently, the UA2-ExtendingAnalytics project presented an opportunity to apply my newly acquired expertise, ensuring that each chart not only met the required standards but also possessed aesthetic appeal - all guidelines adhered to.\n",
    "\n",
    "The sessions that focused on machine learning were exceptionally insightful. Delving into various models and the thorough process from data preprocessing to model training was a truly remarkable learning experience. Looking ahead, it is crucial to allocate more time in the upcoming term towards selecting the most appropriate machine learning model for each dataset and conducting a comprehensive analysis of model performance metrics. It is important to ensure that all types of input data are incorporated in the training dataset to cover a wide range of scenarios and then rigorously test using a designated test dataset. Moreover, there is a need for further research in the next semester to explore the trend of zero-shot learning with pre-trained datasets.\n",
    "\n",
    "Reflecting on my learning journey, I realized the importance of further researching open-source machine learning models to address real-world problems. It's crucial to understand the techniques needed to determine the appropriate size of machine learning pre-trained models based on organizational requirements. This insight comes from reading online articles and daily blogs about data science, which I subscribe to and find incredibly helpful for staying current with industry trends.\n",
    "\n",
    "In conclusion, I am excited about the forthcoming journey of knowledge acquisition and look forward to embarking on this intellectual adventure together.\n",
    "\n",
    "### Supporting evidence\n",
    "\n",
    "UA2 involves the extension of analytics, while C1 focuses on the analysis of unstructured data. Additionally, C3 delves into ethical considerations within the realm of data analytics, and C2 explores the application of machine learning techniques in data analysis."
   ]
  },
  {
   "cell_type": "markdown",
   "metadata": {},
   "source": [
    "---\n",
    "\n",
    "## PART B - Reflective Journal\n",
    "\n",
    "Embarking on the academic expedition of acquiring knowledge in Python and diverse data visualization methodologies during this semester has proven to be a momentous undertaking for me. The period from 26/02/23 to 27/05/23 has been characterized by a plethora of educational prospects, obstacles to overcome, and instances of personal development. These encounters have not only honed my technical aptitude but have also influenced my perception of the effective utilization of data analytics. The objective of this journal is to retrospect on my academic voyage, the hurdles confronted, the emotions evoked, and the insights acquired, ultimately intertwining these components into a cohesive narrative that underscores my evolution as a scholar and a prospective data analyst.\n",
    "\n",
    "Throughout the initial phase, delving into fundamental Python concepts such as data classifications, functions, and library inclusions laid a robust groundwork for me. The contents of Chapters 1 and 2 were uncomplicated, instilling in me a sense of achievement upon mastering these principles. Nevertheless, the complexity escalated notably upon my encounter with classes and methodologies. These segments demanded a heightened level of abstract cogitation, representing a stark juxtaposition to the preceding, more intuitive material. This predicament proved to be both formidable and invigorating, compelling me to transcend my comfort zone and immerse myself more substantially in the subject matter. The endeavour to grasp these advanced subjects underscored the significance of perseverance and the imperative of continual education.\n",
    "\n",
    "\n",
    "A significant challenge I faced was understanding the QDAVI cycle, especially the interrogation phase. Crafting relevant questions that provide valuable insights for stakeholders was more complex than it initially seemed. I felt overwhelmed and unsure of how to frame questions that would meet organizational needs. However, working on the UA1-FoundationalTechniques assignment offered a practical scenario that helped me improve. The sections on data refinement, analysis, visualization, and retention were incredibly beneficial. They allowed me to apply theoretical knowledge in a practical setting, strengthening my understanding and boosting my confidence.\n",
    "\n",
    "The weeks from 15/04/23 to 27/05/23 introduced me to the Plotly visualization library and machine learning techniques. Learning different Plot plots was intriguing but also challenging due to the complex syntax and attributes involved. I often found myself referring to online documentation and academic resources like B2-StructuredAnalytics to overcome these hurdles. The UA1, UA2-ExtendingAnalytics assignment was a significant milestone where I could showcase my skills. Creating aesthetically pleasing charts while adhering to ethical guidelines was a rewarding experience that highlighted the practical application of my learning.\n",
    "\n",
    "Analyzing structured and unstructured data is crucial for gaining insights. Understanding the relationships between columns in structured data helps identify patterns, correlations, and trends, enhancing decision-making. Proper analysis ensures data integrity, reveals hidden connections, and supports accurate predictions. In unstructured data, recognizing relationships aids in organizing information and extracting valuable insights. This comprehensive understanding is vital for effective data-driven strategies and achieving business goals.\n",
    "\n",
    "\n",
    "Machine learning classes were another highlight of the semester. Learning about different models, from data cleaning to model training, was fascinating. However, I realized that I need more practice to determine the best models for various datasets and analyze their performance accurately. This realization made me aware of the gaps in my knowledge and the need for further improvement.\n",
    "\n",
    "\n",
    "One of the most profound insights I gained was the importance of practical application. The academic resources, assignments, and hands-on projects provided a comprehensive learning experience that theoretical knowledge alone could not offer. For instance, making API calls and saving responses locally were skills that I found particularly interesting and relevant for instance Analyze Queensland funding recipients data  which demonstrated the real-world application of the concepts I was learning and reinforced the importance of practical skills in data analytics.\n",
    "\n",
    "Another key insight was the significance of ethics in data analytics. Ensuring data security and ethical practices while analyzing data is crucial. This realization came from understanding the differences between academic-level work and production-level work. The latter requires meticulous attention to detail, ethical considerations, and secure data handling practices. This understanding will guide me in my future endeavours, ensuring that I maintain high standards of ethical behaviour and data security.\n",
    "\n",
    "The insights gained from reflecting on my personal experiences this semester have been invaluable. I have realized that effective learning often involves stepping out of my comfort zone and embracing challenges. The ability to adapt to new tools, concepts, and methodologies is crucial for personal and professional growth. Moving forward, I plan to approach new learning opportunities with an open mind and a willingness to tackle difficult topics head-on.\n",
    "\n",
    "In conclusion, this semester has been a transformative journey full of learning, challenges, and personal growth. These experiences have provided me with valuable technical skills, a deeper understanding of data analytics, and an awareness of the ethical implications of my work. As I move forward, I am dedicated to continuous improvement, maintaining ethical practices, and using my skills to make meaningful contributions in the field of data analytics.\n",
    "\n",
    "---"
   ]
  },
  {
   "cell_type": "markdown",
   "metadata": {},
   "source": []
  }
 ],
 "metadata": {
  "kernelspec": {
   "display_name": "Python 3 (ipykernel)",
   "language": "python",
   "name": "python3"
  },
  "language_info": {
   "codemirror_mode": {
    "name": "ipython",
    "version": 3
   },
   "file_extension": ".py",
   "mimetype": "text/x-python",
   "name": "python",
   "nbconvert_exporter": "python",
   "pygments_lexer": "ipython3",
   "version": "3.12.0"
  }
 },
 "nbformat": 4,
 "nbformat_minor": 4
}
