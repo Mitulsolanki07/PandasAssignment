{
 "cells": [
  {
   "attachments": {},
   "cell_type": "markdown",
   "id": "ff597d6e-cdac-4d1a-b657-f6d756380ae3",
   "metadata": {
    "cell_name": "title_cell"
   },
   "source": [
    "# IFN619 :: UA2 - Extending Analytics (40%)\n",
    "\n",
    "**IMPORTANT:** Refer to the instructions in Canvas [UA2 - Assignment 2 - extending analytics](https://canvas.qut.edu.au/courses/17432/assignments/163774) *BEFORE* working on this assignment.\n",
    "\n",
    "#### REQUIREMENTS ####\n",
    "\n",
    "1. Complete and run the code cell below to display your name, student number, and assignment option\n",
    "2. Identify an appropriate question (or questions) to be addressed by your overall data analytics narrative\n",
    "3. Extend your analysis in assignment 1 with:\n",
    "    - the analysis of additional unstructured data using the Guardian API (See accessing the Guardian API notebook),\n",
    "    - the use of one machine learning technique (as used in the class materials), and\n",
    "    - identification of ethical considerations relevant to the analysis (by drawing on class materials).\n",
    "4. Ensure that you include documentation of your thinking and decision-making using markdown cells\n",
    "5. Ensure that you include appropriate visualisations, and that they support the overall narrative\n",
    "6. Ensure that your insights answer your question/s and are appropriate to your narrative. \n",
    "7. Ensure that your insights are consistent with the ethical considerations identified.\n",
    "\n",
    "**NOTE:** you should not repeat the analysis from assignment 1, but you may need to save dataframes from assignment 1 and reload for use in this assignment. You may also summarise your assignment 1 insights as part of the process of identifying questions for analysis.\n",
    "\n",
    "#### SUBMISSION ####\n",
    "\n",
    "1. Create an assignment 2 folder named in the form **UA2-surname-idnumber** and put your notebook and any data files inside this folder. Note, do not put large training data in this folder (reference any training data that you used but keep it outside this folder), only keep small data files and models in this folder with your notebook.\n",
    "2. When you have everything in the correct folder, reset all cells and restart the kernel, then run the notebook completely, checking that all cells have run without error. If you encounter errors, fix your notebook and re-run the process. It is important that your notebook runs without errors only requiring the files in the folder that you have created.\n",
    "3. When the notebook is error free, zip the entire folder (you can select download folder in Jupyter).\n",
    "4. Submit the zipped folder on Canvas [UA2 - Assignment 2 - extending analytics](https://canvas.qut.edu.au/courses/17432/assignments/163774)\n"
   ]
  },
  {
   "attachments": {},
   "cell_type": "markdown",
   "id": "6ef62cbd-2ea0-442e-973e-e50ca1e97fa2",
   "metadata": {
    "cell_name": "header_cell"
   },
   "source": [
    "<div style=\"background:#FFFFEE; color:#440404; padding:8px; border-radius: 4px; text-align: center; font-weight: 500;\">IFN619 - Data Analytics for Strategic Decision Makers (2024 Sem 1)</div>"
   ]
  },
  {
   "attachments": {},
   "cell_type": "markdown",
   "id": "24fbcf4f",
   "metadata": {},
   "source": [
    "---\n"
   ]
  },
  {
   "cell_type": "markdown",
   "id": "5c5b9bd6",
   "metadata": {},
   "source": [
    "### Summary and Analysis of Assignment 1 Insights\n",
    "\n",
    "##### Distribution Chart: Histogram of Funding Amounts\n",
    "- **Observation**: The histogram shows a significantly right-skewed distribution, with most funding amounts concentrated within the $0 to $100k range.\n",
    "\n",
    "##### Funding by Program\n",
    "- **Observation**: Top-funded programs include Platform Technology Program and UQ - Covid-19 Vaccine Development, each exceeding $9 million.\n",
    "\n",
    "##### Top 100 Funding by Location (Suburb)\n",
    "- **Observation**: St Lucia, Brisbane City, and Fortitude Valley receive the highest funding.\n",
    "\n",
    "##### Funding Over Time\n",
    "- **Observation**: Significant fluctuations with peaks in 2017, 2018, 2019, and 2020.\n",
    "\n",
    "##### Top 10 Recipients of Funding\n",
    "- **Observation**: The University of Queensland is the dominant recipient.\n",
    "\n",
    "##### Funding by Year\n",
    "- **Observation**: A surge in funding between 2015 and 2017, followed by a decline.\n",
    "\n",
    "##### Top 10 Local Governments/Councils by Funding\n",
    "- **Observation**: Brisbane (C) receives the largest allocation.\n",
    "\n",
    "##### Committed Funds Histogram and Box Plot\n",
    "- **Hot Desq**: Diverse funding with specific focal points.\n",
    "- **Advancing Regional Innovation Program**: Emphasizes substantial funding diversity. "
   ]
  },
  {
   "cell_type": "markdown",
   "id": "681f6f82",
   "metadata": {},
   "source": [
    "Import necessary libraries:"
   ]
  },
  {
   "cell_type": "code",
   "execution_count": 1,
   "id": "dca76aa9",
   "metadata": {},
   "outputs": [],
   "source": [
    "\n",
    "import pandas as pd\n",
    "import plotly.express as px\n",
    "from sklearn.model_selection import train_test_split\n",
    "from sklearn.metrics import mean_squared_error, r2_score\n",
    "from helperFunc import CleanDataFrame\n",
    "from sklearn.ensemble import RandomForestRegressor\n",
    "from sklearn.preprocessing import StandardScaler\n",
    "from sklearn.metrics import mean_squared_error, r2_score"
   ]
  },
  {
   "cell_type": "markdown",
   "id": "9b87b13e",
   "metadata": {},
   "source": [
    "#### Overview\n",
    "\n",
    "- Query: \"Can we predict the funding amount based on the characteristics of the recipients and the program details?\"\n",
    "- Technique: To forecast the funding amount, we will use a regression model, namely RandomForestRegressor.\n",
    "- train a Random Forest Regressor  model, assess its performance, and visualize the outcomes.\n",
    "- Visualizations will include key feature histograms, correlation heatmaps, scatter plots, and a prediction vs. actual values plot."
   ]
  },
  {
   "cell_type": "markdown",
   "id": "a15e6ce1",
   "metadata": {},
   "source": [
    "Read data from json api then convert to dataframe "
   ]
  },
  {
   "cell_type": "code",
   "execution_count": 2,
   "id": "fe49040c",
   "metadata": {},
   "outputs": [
    {
     "name": "stdout",
     "output_type": "stream",
     "text": [
      "     _Id                        Program  \\\n",
      "521  522              Ignite Ideas Fund   \n",
      "737  738  Industry Research Fellowships   \n",
      "740  741  Industry Research Fellowships   \n",
      "660  661  Industry Research Fellowships   \n",
      "411  412              Ignite Ideas Fund   \n",
      "\n",
      "                                             Round  \\\n",
      "521           Aq Ignite Ideas Fund 2015-16 Round 1   \n",
      "737  Aq Industry Research Fellowships 2019 Round 2   \n",
      "740  Aq Industry Research Fellowships 2019 Round 2   \n",
      "660  Aq Industry Research Fellowships 2021 Round 4   \n",
      "411           Aq Ignite Ideas Fund 2018-19 Round 5   \n",
      "\n",
      "                    Recipient Name  \\\n",
      "521                   Opmantek Ltd   \n",
      "737   The University Of Queensland   \n",
      "740   The University Of Queensland   \n",
      "660   The University Of Queensland   \n",
      "411  Vostronet (Australia) Pty Ltd   \n",
      "\n",
      "    Physical Address Of Recipient - Suburb/Location  \\\n",
      "521                                Surfers Paradise   \n",
      "737                                        St Lucia   \n",
      "740                                        St Lucia   \n",
      "660                                        St Lucia   \n",
      "411                                   Brisbane City   \n",
      "\n",
      "     Physical Address Of Recipient - Post Code  \\\n",
      "521                                     4217.0   \n",
      "737                                     4067.0   \n",
      "740                                     4067.0   \n",
      "660                                     4067.0   \n",
      "411                                     4000.0   \n",
      "\n",
      "    University Collaborator (If Applicable)  \\\n",
      "521                                     NaN   \n",
      "737                                     NaN   \n",
      "740                                     NaN   \n",
      "660                                     NaN   \n",
      "411                                     NaN   \n",
      "\n",
      "         Other Partners; Collaborators (If Applicable)  \\\n",
      "521                                                NaN   \n",
      "737  Metro South Hospital And Health Service - Prin...   \n",
      "740  Rio Tinto Aluminium Limited  Queensland Alumin...   \n",
      "660  Santos Limited  Australia Pacific Lng  Arrow E...   \n",
      "411                                                NaN   \n",
      "\n",
      "                              Investment/Project Title  \\\n",
      "521       Reportiot - Iot And Byod Management Platform   \n",
      "737  Beyond Visible:  A Queensland Technology For E...   \n",
      "740  Developing Marine Bacteria Biotechnology For R...   \n",
      "660  Using Artificial Intelligence To Increase Gas ...   \n",
      "411   Commercialisation Of Privatemesh Vlan Technology   \n",
      "\n",
      "    Primary Location Of Activity/Project - Suburb  \\\n",
      "521                              Surfers Paradise   \n",
      "737                                      St Lucia   \n",
      "740                                      St Lucia   \n",
      "660                                      St Lucia   \n",
      "411                                 Brisbane City   \n",
      "\n",
      "     Primary Location Of Activity/Project - Post Code  \\\n",
      "521                                            4217.0   \n",
      "737                                            4067.0   \n",
      "740                                            4067.0   \n",
      "660                                            4072.0   \n",
      "411                                            4000.0   \n",
      "\n",
      "    Multiple Locations Of Activity/Project (If Applicable) Approval Date  \\\n",
      "521                                                NaN        2016-07-18   \n",
      "737                                                NaN        2019-11-18   \n",
      "740  Parson Point, Gladstone, Queensland 4680 Rio T...        2019-11-18   \n",
      "660                                                NaN        2021-10-20   \n",
      "411                                                NaN        2019-08-19   \n",
      "\n",
      "    Local Government /Council             Rap Region  State Electorate  \\\n",
      "521            Gold Coast (C)             Gold Coast  Surfers Paradise   \n",
      "737              Brisbane (C)  Brisbane And Redlands            Maiwar   \n",
      "740              Brisbane (C)  Brisbane And Redlands            Maiwar   \n",
      "660              Brisbane (C)  Brisbane And Redlands            Maiwar   \n",
      "411              Brisbane (C)  Brisbane And Redlands          Mcconnel   \n",
      "\n",
      "     Actual Contractual Commitment ($)  \n",
      "521                             250000  \n",
      "737                             300000  \n",
      "740                             180000  \n",
      "660                             160000  \n",
      "411                             200000  \n"
     ]
    }
   ],
   "source": [
    "# Define the file path for cleaned datasets\n",
    "file_path = \"cleaned-jsonapidata-queensland-funding-recipients.csv\"\n",
    "\n",
    "# Read the CSV file into a pandas DataFrame\n",
    "try:\n",
    "  df = pd.read_csv(file_path)\n",
    "  # Randomly sample 200 rows from the DataFrame\n",
    "  df_sample = df.sample(n=200, random_state=42)\n",
    "  # Display the first few rows of the sampled dataset to understand its structure\n",
    "  print(df_sample.head())\n",
    "  df = df_sample\n",
    "except FileNotFoundError:\n",
    "  print(\"Error: File not found. Please check the file path.\")\n"
   ]
  },
  {
   "cell_type": "code",
   "execution_count": 3,
   "id": "149eefff",
   "metadata": {},
   "outputs": [
    {
     "data": {
      "text/plain": [
       "Index(['_Id', 'Program', 'Round', 'Recipient Name',\n",
       "       'Physical Address Of Recipient - Suburb/Location',\n",
       "       'Physical Address Of Recipient - Post Code',\n",
       "       'University Collaborator (If Applicable)',\n",
       "       'Other Partners; Collaborators (If Applicable)',\n",
       "       'Investment/Project Title',\n",
       "       'Primary Location Of Activity/Project - Suburb',\n",
       "       'Primary Location Of Activity/Project - Post Code',\n",
       "       'Multiple Locations Of Activity/Project (If Applicable)',\n",
       "       'Approval Date', 'Local Government /Council', 'Rap Region',\n",
       "       'State Electorate', 'Actual Contractual Commitment ($)'],\n",
       "      dtype='object')"
      ]
     },
     "execution_count": 3,
     "metadata": {},
     "output_type": "execute_result"
    }
   ],
   "source": [
    "df.columns"
   ]
  },
  {
   "cell_type": "markdown",
   "id": "e6b214cf",
   "metadata": {},
   "source": [
    "### Chart - Actual Contractual Commitment ($) per Program, Grouped by RAP Region\n",
    "\n",
    "#### Observations:\n",
    "\n",
    "1. **Primary Funding Initiatives**:\n",
    "\n",
    "- The **Ignite Ideas Fund** emerges as the program that has garnered the highest overall funding, surpassing all other initiatives by a considerable margin. This suggests a noteworthy focus on nurturing innovative concepts and nascent enterprises.\n",
    "\n",
    "- Noteworthy contributions are also attributed to the **Industry Research Fellowships** and the **Platform Technology Program**, implying a significant allocation of funds towards research endeavors and technological advancements.\n",
    "\n",
    "2. **Geographical Allocation**:\n",
    "\n",
    "- **Brisbane and Redlands** emerge as pivotal regions, displaying substantial financial support across various initiatives. The prevalence of funding in this area may be attributed to its robust infrastructure and the clustering of research establishments and industries.\n",
    "\n",
    "- Significant funding is also directed towards **Brisbane**, **Gold Coast**, and **Sunshine Coast**, underscoring their significance within the state's innovation landscape.\n",
    "\n",
    "- Regions such as **Far North Queensland**, **Townsville**, **Central Queensland**, and **Mackay-Whitsunday** exhibit a dispersion of funding across multiple initiatives, illustrating a wide-ranging yet less concentrated investment strategy.\n",
    "\n",
    "3. **Diverse Program Landscape Across Regions**:\n",
    "\n",
    "- The data depicts a diverse array of initiatives receiving funding in various regions, signaling a multifaceted approach to nurturing innovation. Initiatives like the **Ignite Ideas Fund** and **Industry Research Fellowships** display a broad geographical reach.\n",
    "\n",
    "- Certain initiatives such as **Data61** and the **Artificial Intelligence Hub** receive more localized funding, potentially due to specialized expertise or facilities in those regions.\n",
    "\n",
    "4. **Specialized Initiatives and Tailored Emphasis**:\n",
    "\n",
    "- Despite having lower overall funding, several initiatives like the **Female Founders Accelerators** and the **Agtech And Logistics Hub** garner significant attention in specific regions, indicating targeted assistance for particular industries or demographic groups.\n"
   ]
  },
  {
   "cell_type": "code",
   "execution_count": 4,
   "id": "4ff5f6c5",
   "metadata": {},
   "outputs": [
    {
     "data": {
      "application/vnd.plotly.v1+json": {
       "config": {
        "plotlyServerURL": "https://plot.ly"
       },
       "data": [
        {
         "alignmentgroup": "True",
         "hovertemplate": "Rap Region=Brisbane And Redlands<br>Program=%{x}<br>Contractual Commitment ($)=%{y}<extra></extra>",
         "legendgroup": "Brisbane And Redlands",
         "marker": {
          "color": "#636efa",
          "pattern": {
           "shape": ""
          }
         },
         "name": "Brisbane And Redlands",
         "offsetgroup": "Brisbane And Redlands",
         "orientation": "v",
         "showlegend": true,
         "textposition": "auto",
         "type": "bar",
         "x": [
          "Ignite Ideas Fund",
          "Industry Research Fellowships",
          "Platform Technology Program",
          "Innovation Partnerships Grants",
          "Clem Jones Centre For Ageing Dementia Research",
          "Queensland Emory Drug Discovery Initiative",
          "Life Sciences Queensland",
          "Knowledge Transfer Partnerships",
          "Biofutures Commercialisation Program",
          "Johnson & Johnson",
          "Life Sciences Queensland - Catalyst",
          "Industry Tech Fund",
          "Advancing Regional Innovation Program",
          "Phd Scholarships"
         ],
         "xaxis": "x",
         "y": [
          27914294,
          19669661,
          13807672,
          12444837,
          5000000,
          4169000,
          2310000,
          2080906,
          1491129,
          1381895,
          600000,
          546027,
          500000,
          440112
         ],
         "yaxis": "y"
        },
        {
         "alignmentgroup": "True",
         "hovertemplate": "Rap Region=Gold Coast<br>Program=%{x}<br>Contractual Commitment ($)=%{y}<extra></extra>",
         "legendgroup": "Gold Coast",
         "marker": {
          "color": "#EF553B",
          "pattern": {
           "shape": ""
          }
         },
         "name": "Gold Coast",
         "offsetgroup": "Gold Coast",
         "orientation": "v",
         "showlegend": true,
         "textposition": "auto",
         "type": "bar",
         "x": [
          "Ignite Ideas Fund",
          "Platform Technology Program",
          "Fraunhofer Institute Partnership",
          "Industry Research Fellowships",
          "Advancing Regional Innovation Program",
          "Knowledge Transfer Partnerships"
         ],
         "xaxis": "x",
         "y": [
          5790677,
          1500000,
          700000,
          554786,
          500000,
          483087
         ],
         "yaxis": "y"
        },
        {
         "alignmentgroup": "True",
         "hovertemplate": "Rap Region=Brisbane<br>Program=%{x}<br>Contractual Commitment ($)=%{y}<extra></extra>",
         "legendgroup": "Brisbane",
         "marker": {
          "color": "#00cc96",
          "pattern": {
           "shape": ""
          }
         },
         "name": "Brisbane",
         "offsetgroup": "Brisbane",
         "orientation": "v",
         "showlegend": true,
         "textposition": "auto",
         "type": "bar",
         "x": [
          "Data61",
          "Artificial Intelligence Hub",
          "Hot Desq",
          "Industry Accelerators",
          "Female Founders Program",
          "Innovate Queensland",
          "Mit Bootcamp"
         ],
         "xaxis": "x",
         "y": [
          5695000,
          5000000,
          4317591,
          3517020,
          1654764,
          1500000,
          900000
         ],
         "yaxis": "y"
        },
        {
         "alignmentgroup": "True",
         "hovertemplate": "Rap Region=Sunshine Coast<br>Program=%{x}<br>Contractual Commitment ($)=%{y}<extra></extra>",
         "legendgroup": "Sunshine Coast",
         "marker": {
          "color": "#ab63fa",
          "pattern": {
           "shape": ""
          }
         },
         "name": "Sunshine Coast",
         "offsetgroup": "Sunshine Coast",
         "orientation": "v",
         "showlegend": true,
         "textposition": "auto",
         "type": "bar",
         "x": [
          "Ignite Ideas Fund",
          "Advancing Regional Innovation Program",
          "Industry Research Fellowships",
          "Knowledge Transfer Partnerships"
         ],
         "xaxis": "x",
         "y": [
          4294575,
          500000,
          470000,
          404216
         ],
         "yaxis": "y"
        },
        {
         "alignmentgroup": "True",
         "hovertemplate": "Rap Region=Darling Downs<br>Program=%{x}<br>Contractual Commitment ($)=%{y}<extra></extra>",
         "legendgroup": "Darling Downs",
         "marker": {
          "color": "#FFA15A",
          "pattern": {
           "shape": ""
          }
         },
         "name": "Darling Downs",
         "offsetgroup": "Darling Downs",
         "orientation": "v",
         "showlegend": true,
         "textposition": "auto",
         "type": "bar",
         "x": [
          "Agtech And Logistics Hub",
          "Ignite Ideas Fund",
          "Industry Research Fellowships",
          "Innovation Partnerships Grants",
          "Biofutures Commercialisation Program",
          "Advancing Regional Innovation Program"
         ],
         "xaxis": "x",
         "y": [
          3000000,
          1600570,
          966952,
          836707,
          579000,
          500000
         ],
         "yaxis": "y"
        },
        {
         "alignmentgroup": "True",
         "hovertemplate": "Rap Region=Statewide<br>Program=%{x}<br>Contractual Commitment ($)=%{y}<extra></extra>",
         "legendgroup": "Statewide",
         "marker": {
          "color": "#19d3f3",
          "pattern": {
           "shape": ""
          }
         },
         "name": "Statewide",
         "offsetgroup": "Statewide",
         "orientation": "v",
         "showlegend": true,
         "textposition": "auto",
         "type": "bar",
         "x": [
          "Growing Queensland'S Companies"
         ],
         "xaxis": "x",
         "y": [
          2202334
         ],
         "yaxis": "y"
        },
        {
         "alignmentgroup": "True",
         "hovertemplate": "Rap Region=Far North Queensland<br>Program=%{x}<br>Contractual Commitment ($)=%{y}<extra></extra>",
         "legendgroup": "Far North Queensland",
         "marker": {
          "color": "#FF6692",
          "pattern": {
           "shape": ""
          }
         },
         "name": "Far North Queensland",
         "offsetgroup": "Far North Queensland",
         "orientation": "v",
         "showlegend": true,
         "textposition": "auto",
         "type": "bar",
         "x": [
          "Ignite Ideas Fund",
          "Advancing Regional Innovation Program",
          "Innovation Partnerships Grants",
          "Hot Desq"
         ],
         "xaxis": "x",
         "y": [
          2111794,
          610000,
          540000,
          434000
         ],
         "yaxis": "y"
        },
        {
         "alignmentgroup": "True",
         "hovertemplate": "Rap Region=Ipswich<br>Program=%{x}<br>Contractual Commitment ($)=%{y}<extra></extra>",
         "legendgroup": "Ipswich",
         "marker": {
          "color": "#B6E880",
          "pattern": {
           "shape": ""
          }
         },
         "name": "Ipswich",
         "offsetgroup": "Ipswich",
         "orientation": "v",
         "showlegend": true,
         "textposition": "auto",
         "type": "bar",
         "x": [
          "Ignite Ideas Fund",
          "Industry Research Fellowships",
          "Advancing Regional Innovation Program",
          "Biofutures Commercialisation Program"
         ],
         "xaxis": "x",
         "y": [
          2019725,
          660000,
          432125,
          400000
         ],
         "yaxis": "y"
        },
        {
         "alignmentgroup": "True",
         "hovertemplate": "Rap Region=Townsville<br>Program=%{x}<br>Contractual Commitment ($)=%{y}<extra></extra>",
         "legendgroup": "Townsville",
         "marker": {
          "color": "#FF97FF",
          "pattern": {
           "shape": ""
          }
         },
         "name": "Townsville",
         "offsetgroup": "Townsville",
         "orientation": "v",
         "showlegend": true,
         "textposition": "auto",
         "type": "bar",
         "x": [
          "Innovation Partnerships Grants",
          "Ignite Ideas Fund",
          "Advancing Regional Innovation Program"
         ],
         "xaxis": "x",
         "y": [
          1500000,
          1013105,
          724000
         ],
         "yaxis": "y"
        },
        {
         "alignmentgroup": "True",
         "hovertemplate": "Rap Region=Moreton Bay<br>Program=%{x}<br>Contractual Commitment ($)=%{y}<extra></extra>",
         "legendgroup": "Moreton Bay",
         "marker": {
          "color": "#FECB52",
          "pattern": {
           "shape": ""
          }
         },
         "name": "Moreton Bay",
         "offsetgroup": "Moreton Bay",
         "orientation": "v",
         "showlegend": true,
         "textposition": "auto",
         "type": "bar",
         "x": [
          "Ignite Ideas Fund",
          "Advancing Regional Innovation Program"
         ],
         "xaxis": "x",
         "y": [
          1471443,
          499980
         ],
         "yaxis": "y"
        },
        {
         "alignmentgroup": "True",
         "hovertemplate": "Rap Region=Logan<br>Program=%{x}<br>Contractual Commitment ($)=%{y}<extra></extra>",
         "legendgroup": "Logan",
         "marker": {
          "color": "#636efa",
          "pattern": {
           "shape": ""
          }
         },
         "name": "Logan",
         "offsetgroup": "Logan",
         "orientation": "v",
         "showlegend": true,
         "textposition": "auto",
         "type": "bar",
         "x": [
          "Ignite Ideas Fund"
         ],
         "xaxis": "x",
         "y": [
          1305778
         ],
         "yaxis": "y"
        },
        {
         "alignmentgroup": "True",
         "hovertemplate": "Rap Region=Central Queensland<br>Program=%{x}<br>Contractual Commitment ($)=%{y}<extra></extra>",
         "legendgroup": "Central Queensland",
         "marker": {
          "color": "#EF553B",
          "pattern": {
           "shape": ""
          }
         },
         "name": "Central Queensland",
         "offsetgroup": "Central Queensland",
         "orientation": "v",
         "showlegend": true,
         "textposition": "auto",
         "type": "bar",
         "x": [
          "Biofutures Commercialisation Program",
          "Ignite Ideas Fund",
          "Industry Research Fellowships",
          "Advancing Regional Innovation Program"
         ],
         "xaxis": "x",
         "y": [
          1000000,
          847993,
          682440,
          500000
         ],
         "yaxis": "y"
        },
        {
         "alignmentgroup": "True",
         "hovertemplate": "Rap Region=Mackay-Whitsunday<br>Program=%{x}<br>Contractual Commitment ($)=%{y}<extra></extra>",
         "legendgroup": "Mackay-Whitsunday",
         "marker": {
          "color": "#00cc96",
          "pattern": {
           "shape": ""
          }
         },
         "name": "Mackay-Whitsunday",
         "offsetgroup": "Mackay-Whitsunday",
         "orientation": "v",
         "showlegend": true,
         "textposition": "auto",
         "type": "bar",
         "x": [
          "Advancing Regional Innovation Program"
         ],
         "xaxis": "x",
         "y": [
          500000
         ],
         "yaxis": "y"
        },
        {
         "alignmentgroup": "True",
         "hovertemplate": "Rap Region=Wide Bay<br>Program=%{x}<br>Contractual Commitment ($)=%{y}<extra></extra>",
         "legendgroup": "Wide Bay",
         "marker": {
          "color": "#ab63fa",
          "pattern": {
           "shape": ""
          }
         },
         "name": "Wide Bay",
         "offsetgroup": "Wide Bay",
         "orientation": "v",
         "showlegend": true,
         "textposition": "auto",
         "type": "bar",
         "x": [
          "Advancing Regional Innovation Program",
          "Ignite Ideas Fund"
         ],
         "xaxis": "x",
         "y": [
          498330,
          455862
         ],
         "yaxis": "y"
        },
        {
         "alignmentgroup": "True",
         "hovertemplate": "Rap Region=Outback Queensland<br>Program=%{x}<br>Contractual Commitment ($)=%{y}<extra></extra>",
         "legendgroup": "Outback Queensland",
         "marker": {
          "color": "#FFA15A",
          "pattern": {
           "shape": ""
          }
         },
         "name": "Outback Queensland",
         "offsetgroup": "Outback Queensland",
         "orientation": "v",
         "showlegend": true,
         "textposition": "auto",
         "type": "bar",
         "x": [
          "Advancing Regional Innovation Program"
         ],
         "xaxis": "x",
         "y": [
          487248
         ],
         "yaxis": "y"
        }
       ],
       "layout": {
        "bargap": 0.2,
        "barmode": "relative",
        "height": 700,
        "legend": {
         "title": {
          "text": "Rap Region"
         },
         "tracegroupgap": 0
        },
        "showlegend": true,
        "template": {
         "data": {
          "bar": [
           {
            "error_x": {
             "color": "#2a3f5f"
            },
            "error_y": {
             "color": "#2a3f5f"
            },
            "marker": {
             "line": {
              "color": "#E5ECF6",
              "width": 0.5
             },
             "pattern": {
              "fillmode": "overlay",
              "size": 10,
              "solidity": 0.2
             }
            },
            "type": "bar"
           }
          ],
          "barpolar": [
           {
            "marker": {
             "line": {
              "color": "#E5ECF6",
              "width": 0.5
             },
             "pattern": {
              "fillmode": "overlay",
              "size": 10,
              "solidity": 0.2
             }
            },
            "type": "barpolar"
           }
          ],
          "carpet": [
           {
            "aaxis": {
             "endlinecolor": "#2a3f5f",
             "gridcolor": "white",
             "linecolor": "white",
             "minorgridcolor": "white",
             "startlinecolor": "#2a3f5f"
            },
            "baxis": {
             "endlinecolor": "#2a3f5f",
             "gridcolor": "white",
             "linecolor": "white",
             "minorgridcolor": "white",
             "startlinecolor": "#2a3f5f"
            },
            "type": "carpet"
           }
          ],
          "choropleth": [
           {
            "colorbar": {
             "outlinewidth": 0,
             "ticks": ""
            },
            "type": "choropleth"
           }
          ],
          "contour": [
           {
            "colorbar": {
             "outlinewidth": 0,
             "ticks": ""
            },
            "colorscale": [
             [
              0,
              "#0d0887"
             ],
             [
              0.1111111111111111,
              "#46039f"
             ],
             [
              0.2222222222222222,
              "#7201a8"
             ],
             [
              0.3333333333333333,
              "#9c179e"
             ],
             [
              0.4444444444444444,
              "#bd3786"
             ],
             [
              0.5555555555555556,
              "#d8576b"
             ],
             [
              0.6666666666666666,
              "#ed7953"
             ],
             [
              0.7777777777777778,
              "#fb9f3a"
             ],
             [
              0.8888888888888888,
              "#fdca26"
             ],
             [
              1,
              "#f0f921"
             ]
            ],
            "type": "contour"
           }
          ],
          "contourcarpet": [
           {
            "colorbar": {
             "outlinewidth": 0,
             "ticks": ""
            },
            "type": "contourcarpet"
           }
          ],
          "heatmap": [
           {
            "colorbar": {
             "outlinewidth": 0,
             "ticks": ""
            },
            "colorscale": [
             [
              0,
              "#0d0887"
             ],
             [
              0.1111111111111111,
              "#46039f"
             ],
             [
              0.2222222222222222,
              "#7201a8"
             ],
             [
              0.3333333333333333,
              "#9c179e"
             ],
             [
              0.4444444444444444,
              "#bd3786"
             ],
             [
              0.5555555555555556,
              "#d8576b"
             ],
             [
              0.6666666666666666,
              "#ed7953"
             ],
             [
              0.7777777777777778,
              "#fb9f3a"
             ],
             [
              0.8888888888888888,
              "#fdca26"
             ],
             [
              1,
              "#f0f921"
             ]
            ],
            "type": "heatmap"
           }
          ],
          "heatmapgl": [
           {
            "colorbar": {
             "outlinewidth": 0,
             "ticks": ""
            },
            "colorscale": [
             [
              0,
              "#0d0887"
             ],
             [
              0.1111111111111111,
              "#46039f"
             ],
             [
              0.2222222222222222,
              "#7201a8"
             ],
             [
              0.3333333333333333,
              "#9c179e"
             ],
             [
              0.4444444444444444,
              "#bd3786"
             ],
             [
              0.5555555555555556,
              "#d8576b"
             ],
             [
              0.6666666666666666,
              "#ed7953"
             ],
             [
              0.7777777777777778,
              "#fb9f3a"
             ],
             [
              0.8888888888888888,
              "#fdca26"
             ],
             [
              1,
              "#f0f921"
             ]
            ],
            "type": "heatmapgl"
           }
          ],
          "histogram": [
           {
            "marker": {
             "pattern": {
              "fillmode": "overlay",
              "size": 10,
              "solidity": 0.2
             }
            },
            "type": "histogram"
           }
          ],
          "histogram2d": [
           {
            "colorbar": {
             "outlinewidth": 0,
             "ticks": ""
            },
            "colorscale": [
             [
              0,
              "#0d0887"
             ],
             [
              0.1111111111111111,
              "#46039f"
             ],
             [
              0.2222222222222222,
              "#7201a8"
             ],
             [
              0.3333333333333333,
              "#9c179e"
             ],
             [
              0.4444444444444444,
              "#bd3786"
             ],
             [
              0.5555555555555556,
              "#d8576b"
             ],
             [
              0.6666666666666666,
              "#ed7953"
             ],
             [
              0.7777777777777778,
              "#fb9f3a"
             ],
             [
              0.8888888888888888,
              "#fdca26"
             ],
             [
              1,
              "#f0f921"
             ]
            ],
            "type": "histogram2d"
           }
          ],
          "histogram2dcontour": [
           {
            "colorbar": {
             "outlinewidth": 0,
             "ticks": ""
            },
            "colorscale": [
             [
              0,
              "#0d0887"
             ],
             [
              0.1111111111111111,
              "#46039f"
             ],
             [
              0.2222222222222222,
              "#7201a8"
             ],
             [
              0.3333333333333333,
              "#9c179e"
             ],
             [
              0.4444444444444444,
              "#bd3786"
             ],
             [
              0.5555555555555556,
              "#d8576b"
             ],
             [
              0.6666666666666666,
              "#ed7953"
             ],
             [
              0.7777777777777778,
              "#fb9f3a"
             ],
             [
              0.8888888888888888,
              "#fdca26"
             ],
             [
              1,
              "#f0f921"
             ]
            ],
            "type": "histogram2dcontour"
           }
          ],
          "mesh3d": [
           {
            "colorbar": {
             "outlinewidth": 0,
             "ticks": ""
            },
            "type": "mesh3d"
           }
          ],
          "parcoords": [
           {
            "line": {
             "colorbar": {
              "outlinewidth": 0,
              "ticks": ""
             }
            },
            "type": "parcoords"
           }
          ],
          "pie": [
           {
            "automargin": true,
            "type": "pie"
           }
          ],
          "scatter": [
           {
            "fillpattern": {
             "fillmode": "overlay",
             "size": 10,
             "solidity": 0.2
            },
            "type": "scatter"
           }
          ],
          "scatter3d": [
           {
            "line": {
             "colorbar": {
              "outlinewidth": 0,
              "ticks": ""
             }
            },
            "marker": {
             "colorbar": {
              "outlinewidth": 0,
              "ticks": ""
             }
            },
            "type": "scatter3d"
           }
          ],
          "scattercarpet": [
           {
            "marker": {
             "colorbar": {
              "outlinewidth": 0,
              "ticks": ""
             }
            },
            "type": "scattercarpet"
           }
          ],
          "scattergeo": [
           {
            "marker": {
             "colorbar": {
              "outlinewidth": 0,
              "ticks": ""
             }
            },
            "type": "scattergeo"
           }
          ],
          "scattergl": [
           {
            "marker": {
             "colorbar": {
              "outlinewidth": 0,
              "ticks": ""
             }
            },
            "type": "scattergl"
           }
          ],
          "scattermapbox": [
           {
            "marker": {
             "colorbar": {
              "outlinewidth": 0,
              "ticks": ""
             }
            },
            "type": "scattermapbox"
           }
          ],
          "scatterpolar": [
           {
            "marker": {
             "colorbar": {
              "outlinewidth": 0,
              "ticks": ""
             }
            },
            "type": "scatterpolar"
           }
          ],
          "scatterpolargl": [
           {
            "marker": {
             "colorbar": {
              "outlinewidth": 0,
              "ticks": ""
             }
            },
            "type": "scatterpolargl"
           }
          ],
          "scatterternary": [
           {
            "marker": {
             "colorbar": {
              "outlinewidth": 0,
              "ticks": ""
             }
            },
            "type": "scatterternary"
           }
          ],
          "surface": [
           {
            "colorbar": {
             "outlinewidth": 0,
             "ticks": ""
            },
            "colorscale": [
             [
              0,
              "#0d0887"
             ],
             [
              0.1111111111111111,
              "#46039f"
             ],
             [
              0.2222222222222222,
              "#7201a8"
             ],
             [
              0.3333333333333333,
              "#9c179e"
             ],
             [
              0.4444444444444444,
              "#bd3786"
             ],
             [
              0.5555555555555556,
              "#d8576b"
             ],
             [
              0.6666666666666666,
              "#ed7953"
             ],
             [
              0.7777777777777778,
              "#fb9f3a"
             ],
             [
              0.8888888888888888,
              "#fdca26"
             ],
             [
              1,
              "#f0f921"
             ]
            ],
            "type": "surface"
           }
          ],
          "table": [
           {
            "cells": {
             "fill": {
              "color": "#EBF0F8"
             },
             "line": {
              "color": "white"
             }
            },
            "header": {
             "fill": {
              "color": "#C8D4E3"
             },
             "line": {
              "color": "white"
             }
            },
            "type": "table"
           }
          ]
         },
         "layout": {
          "annotationdefaults": {
           "arrowcolor": "#2a3f5f",
           "arrowhead": 0,
           "arrowwidth": 1
          },
          "autotypenumbers": "strict",
          "coloraxis": {
           "colorbar": {
            "outlinewidth": 0,
            "ticks": ""
           }
          },
          "colorscale": {
           "diverging": [
            [
             0,
             "#8e0152"
            ],
            [
             0.1,
             "#c51b7d"
            ],
            [
             0.2,
             "#de77ae"
            ],
            [
             0.3,
             "#f1b6da"
            ],
            [
             0.4,
             "#fde0ef"
            ],
            [
             0.5,
             "#f7f7f7"
            ],
            [
             0.6,
             "#e6f5d0"
            ],
            [
             0.7,
             "#b8e186"
            ],
            [
             0.8,
             "#7fbc41"
            ],
            [
             0.9,
             "#4d9221"
            ],
            [
             1,
             "#276419"
            ]
           ],
           "sequential": [
            [
             0,
             "#0d0887"
            ],
            [
             0.1111111111111111,
             "#46039f"
            ],
            [
             0.2222222222222222,
             "#7201a8"
            ],
            [
             0.3333333333333333,
             "#9c179e"
            ],
            [
             0.4444444444444444,
             "#bd3786"
            ],
            [
             0.5555555555555556,
             "#d8576b"
            ],
            [
             0.6666666666666666,
             "#ed7953"
            ],
            [
             0.7777777777777778,
             "#fb9f3a"
            ],
            [
             0.8888888888888888,
             "#fdca26"
            ],
            [
             1,
             "#f0f921"
            ]
           ],
           "sequentialminus": [
            [
             0,
             "#0d0887"
            ],
            [
             0.1111111111111111,
             "#46039f"
            ],
            [
             0.2222222222222222,
             "#7201a8"
            ],
            [
             0.3333333333333333,
             "#9c179e"
            ],
            [
             0.4444444444444444,
             "#bd3786"
            ],
            [
             0.5555555555555556,
             "#d8576b"
            ],
            [
             0.6666666666666666,
             "#ed7953"
            ],
            [
             0.7777777777777778,
             "#fb9f3a"
            ],
            [
             0.8888888888888888,
             "#fdca26"
            ],
            [
             1,
             "#f0f921"
            ]
           ]
          },
          "colorway": [
           "#636efa",
           "#EF553B",
           "#00cc96",
           "#ab63fa",
           "#FFA15A",
           "#19d3f3",
           "#FF6692",
           "#B6E880",
           "#FF97FF",
           "#FECB52"
          ],
          "font": {
           "color": "#2a3f5f"
          },
          "geo": {
           "bgcolor": "white",
           "lakecolor": "white",
           "landcolor": "#E5ECF6",
           "showlakes": true,
           "showland": true,
           "subunitcolor": "white"
          },
          "hoverlabel": {
           "align": "left"
          },
          "hovermode": "closest",
          "mapbox": {
           "style": "light"
          },
          "paper_bgcolor": "white",
          "plot_bgcolor": "#E5ECF6",
          "polar": {
           "angularaxis": {
            "gridcolor": "white",
            "linecolor": "white",
            "ticks": ""
           },
           "bgcolor": "#E5ECF6",
           "radialaxis": {
            "gridcolor": "white",
            "linecolor": "white",
            "ticks": ""
           }
          },
          "scene": {
           "xaxis": {
            "backgroundcolor": "#E5ECF6",
            "gridcolor": "white",
            "gridwidth": 2,
            "linecolor": "white",
            "showbackground": true,
            "ticks": "",
            "zerolinecolor": "white"
           },
           "yaxis": {
            "backgroundcolor": "#E5ECF6",
            "gridcolor": "white",
            "gridwidth": 2,
            "linecolor": "white",
            "showbackground": true,
            "ticks": "",
            "zerolinecolor": "white"
           },
           "zaxis": {
            "backgroundcolor": "#E5ECF6",
            "gridcolor": "white",
            "gridwidth": 2,
            "linecolor": "white",
            "showbackground": true,
            "ticks": "",
            "zerolinecolor": "white"
           }
          },
          "shapedefaults": {
           "line": {
            "color": "#2a3f5f"
           }
          },
          "ternary": {
           "aaxis": {
            "gridcolor": "white",
            "linecolor": "white",
            "ticks": ""
           },
           "baxis": {
            "gridcolor": "white",
            "linecolor": "white",
            "ticks": ""
           },
           "bgcolor": "#E5ECF6",
           "caxis": {
            "gridcolor": "white",
            "linecolor": "white",
            "ticks": ""
           }
          },
          "title": {
           "x": 0.05
          },
          "xaxis": {
           "automargin": true,
           "gridcolor": "white",
           "linecolor": "white",
           "ticks": "",
           "title": {
            "standoff": 15
           },
           "zerolinecolor": "white",
           "zerolinewidth": 2
          },
          "yaxis": {
           "automargin": true,
           "gridcolor": "white",
           "linecolor": "white",
           "ticks": "",
           "title": {
            "standoff": 15
           },
           "zerolinecolor": "white",
           "zerolinewidth": 2
          }
         }
        },
        "title": {
         "text": "Actual Contractual Commitment ($) per Program, grouped by RAP Region"
        },
        "xaxis": {
         "anchor": "y",
         "domain": [
          0,
          1
         ],
         "title": {
          "text": "Program"
         }
        },
        "yaxis": {
         "anchor": "x",
         "domain": [
          0,
          1
         ],
         "title": {
          "text": "Actual Contractual Commitment ($)"
         }
        }
       }
      }
     },
     "metadata": {},
     "output_type": "display_data"
    }
   ],
   "source": [
    "# Read the CSV file into a pandas DataFrame\n",
    "try:\n",
    "  data = pd.read_csv(file_path)\n",
    "except FileNotFoundError:\n",
    "  print(\"Error: File not found. Please check the file path.\")\n",
    "\n",
    "# Grouping the data by Program and RAP Region and summing the Actual Contractual Commitment\n",
    "grouped_data = data.groupby(['Program', 'Rap Region'])['Actual Contractual Commitment ($)'].sum().reset_index()\n",
    "# Sorting the grouped data in descending order and selecting the top 15\n",
    "sorted_grouped_data = grouped_data.sort_values(by='Actual Contractual Commitment ($)', ascending=False).head(60)\n",
    "\n",
    "# Creating a bar plot for Actual Contractual Commitment ($) per Program, grouped by RAP Region\n",
    "fig = px.bar(sorted_grouped_data, \n",
    "             x='Program', \n",
    "             y='Actual Contractual Commitment ($)', \n",
    "             color='Rap Region', \n",
    "             title='Actual Contractual Commitment ($) per Program, grouped by RAP Region',\n",
    "             labels={'Actual Contractual Commitment ($)': 'Contractual Commitment ($)', 'Program': 'Program'},\n",
    "             height=600)\n",
    "\n",
    "fig.update_layout(xaxis_title=\"Program\", yaxis_title=\"Actual Contractual Commitment ($)\", \n",
    "                  bargap=0.2, showlegend=True,height=700)\n",
    "\n",
    "fig.show()"
   ]
  },
  {
   "cell_type": "markdown",
   "id": "676d5926",
   "metadata": {},
   "source": [
    "### Chart - Actual Contractual Commitment ($) per Program, Grouped by University Collaborator\n",
    "\n",
    "#### Observations:\n",
    "\n",
    "1. **Preeminence of the Artificial Intelligence Hub**:\n",
    "\n",
    "- The **Artificial Intelligence Hub** emerges as the program endowed with the highest financial support, exceeding $5 million. This substantial allocation implies a pronounced focus on the advancement of AI capabilities, potentially positioning Queensland as a frontrunner in this impactful domain.\n",
    "\n",
    "2. **Eminent Collaborations with Universities**:\n",
    "\n",
    "- A significant portion of the funding allocated to the **Artificial Intelligence Hub** is attributed to a partnership between **The University of Queensland (UQ)** and **Queensland University of Technology (QUT)**, highlighting a strategic alliance between prominent academic institutions to capitalize on their collective proficiency in AI.\n",
    "\n",
    "- The **Agtech and Logistics Hub** also secures considerable funding, approximately $3 million, through a notable collaboration involving the **University of Southern Queensland (USQ)** and **UQ**, underscoring the significance of agricultural technology and logistics in the region's strategy for innovation.\n",
    "\n",
    "3. **Programs with Limited Financial Support**:\n",
    "\n",
    "- Initiatives such as **Hot DesQ**, **Create Queensland**, and **Innovation Precincts and Places** receive comparatively modest funding. This trend may signify early developmental stages, specialized thematic orientations, or alternative funding mechanisms not depicted in this analysis."
   ]
  },
  {
   "cell_type": "code",
   "execution_count": 5,
   "id": "a20f0a17",
   "metadata": {},
   "outputs": [
    {
     "data": {
      "application/vnd.plotly.v1+json": {
       "config": {
        "plotlyServerURL": "https://plot.ly"
       },
       "data": [
        {
         "alignmentgroup": "True",
         "hovertemplate": "University Collaborator=The University Of Queensland, Queensland University Of Technology<br>Program=%{x}<br>Contractual Commitment ($)=%{y}<extra></extra>",
         "legendgroup": "The University Of Queensland, Queensland University Of Technology",
         "marker": {
          "color": "#636efa",
          "pattern": {
           "shape": ""
          }
         },
         "name": "The University Of Queensland, Queensland University Of Technology",
         "offsetgroup": "The University Of Queensland, Queensland University Of Technology",
         "orientation": "v",
         "showlegend": true,
         "textposition": "auto",
         "type": "bar",
         "x": [
          "Artificial Intelligence Hub"
         ],
         "xaxis": "x",
         "y": [
          5000000
         ],
         "yaxis": "y"
        },
        {
         "alignmentgroup": "True",
         "hovertemplate": "University Collaborator=University Of Southern Queenslanduniversity Of Queensland<br>Program=%{x}<br>Contractual Commitment ($)=%{y}<extra></extra>",
         "legendgroup": "University Of Southern Queenslanduniversity Of Queensland",
         "marker": {
          "color": "#EF553B",
          "pattern": {
           "shape": ""
          }
         },
         "name": "University Of Southern Queenslanduniversity Of Queensland",
         "offsetgroup": "University Of Southern Queenslanduniversity Of Queensland",
         "orientation": "v",
         "showlegend": true,
         "textposition": "auto",
         "type": "bar",
         "x": [
          "Agtech And Logistics Hub"
         ],
         "xaxis": "x",
         "y": [
          3000000
         ],
         "yaxis": "y"
        },
        {
         "alignmentgroup": "True",
         "hovertemplate": "University Collaborator=Qut Cea<br>Program=%{x}<br>Contractual Commitment ($)=%{y}<extra></extra>",
         "legendgroup": "Qut Cea",
         "marker": {
          "color": "#00cc96",
          "pattern": {
           "shape": ""
          }
         },
         "name": "Qut Cea",
         "offsetgroup": "Qut Cea",
         "orientation": "v",
         "showlegend": true,
         "textposition": "auto",
         "type": "bar",
         "x": [
          "Hot Desq"
         ],
         "xaxis": "x",
         "y": [
          100000
         ],
         "yaxis": "y"
        },
        {
         "alignmentgroup": "True",
         "hovertemplate": "University Collaborator=Qut/Gu<br>Program=%{x}<br>Contractual Commitment ($)=%{y}<extra></extra>",
         "legendgroup": "Qut/Gu",
         "marker": {
          "color": "#ab63fa",
          "pattern": {
           "shape": ""
          }
         },
         "name": "Qut/Gu",
         "offsetgroup": "Qut/Gu",
         "orientation": "v",
         "showlegend": true,
         "textposition": "auto",
         "type": "bar",
         "x": [
          "Create Queensland"
         ],
         "xaxis": "x",
         "y": [
          55000
         ],
         "yaxis": "y"
        },
        {
         "alignmentgroup": "True",
         "hovertemplate": "University Collaborator=University Of Queensland<br>Program=%{x}<br>Contractual Commitment ($)=%{y}<extra></extra>",
         "legendgroup": "University Of Queensland",
         "marker": {
          "color": "#FFA15A",
          "pattern": {
           "shape": ""
          }
         },
         "name": "University Of Queensland",
         "offsetgroup": "University Of Queensland",
         "orientation": "v",
         "showlegend": true,
         "textposition": "auto",
         "type": "bar",
         "x": [
          "Innovation Precincts And Places"
         ],
         "xaxis": "x",
         "y": [
          10000
         ],
         "yaxis": "y"
        }
       ],
       "layout": {
        "bargap": 0.2,
        "barmode": "relative",
        "height": 700,
        "legend": {
         "title": {
          "text": "University Collaborator"
         },
         "tracegroupgap": 0
        },
        "showlegend": true,
        "template": {
         "data": {
          "bar": [
           {
            "error_x": {
             "color": "#2a3f5f"
            },
            "error_y": {
             "color": "#2a3f5f"
            },
            "marker": {
             "line": {
              "color": "#E5ECF6",
              "width": 0.5
             },
             "pattern": {
              "fillmode": "overlay",
              "size": 10,
              "solidity": 0.2
             }
            },
            "type": "bar"
           }
          ],
          "barpolar": [
           {
            "marker": {
             "line": {
              "color": "#E5ECF6",
              "width": 0.5
             },
             "pattern": {
              "fillmode": "overlay",
              "size": 10,
              "solidity": 0.2
             }
            },
            "type": "barpolar"
           }
          ],
          "carpet": [
           {
            "aaxis": {
             "endlinecolor": "#2a3f5f",
             "gridcolor": "white",
             "linecolor": "white",
             "minorgridcolor": "white",
             "startlinecolor": "#2a3f5f"
            },
            "baxis": {
             "endlinecolor": "#2a3f5f",
             "gridcolor": "white",
             "linecolor": "white",
             "minorgridcolor": "white",
             "startlinecolor": "#2a3f5f"
            },
            "type": "carpet"
           }
          ],
          "choropleth": [
           {
            "colorbar": {
             "outlinewidth": 0,
             "ticks": ""
            },
            "type": "choropleth"
           }
          ],
          "contour": [
           {
            "colorbar": {
             "outlinewidth": 0,
             "ticks": ""
            },
            "colorscale": [
             [
              0,
              "#0d0887"
             ],
             [
              0.1111111111111111,
              "#46039f"
             ],
             [
              0.2222222222222222,
              "#7201a8"
             ],
             [
              0.3333333333333333,
              "#9c179e"
             ],
             [
              0.4444444444444444,
              "#bd3786"
             ],
             [
              0.5555555555555556,
              "#d8576b"
             ],
             [
              0.6666666666666666,
              "#ed7953"
             ],
             [
              0.7777777777777778,
              "#fb9f3a"
             ],
             [
              0.8888888888888888,
              "#fdca26"
             ],
             [
              1,
              "#f0f921"
             ]
            ],
            "type": "contour"
           }
          ],
          "contourcarpet": [
           {
            "colorbar": {
             "outlinewidth": 0,
             "ticks": ""
            },
            "type": "contourcarpet"
           }
          ],
          "heatmap": [
           {
            "colorbar": {
             "outlinewidth": 0,
             "ticks": ""
            },
            "colorscale": [
             [
              0,
              "#0d0887"
             ],
             [
              0.1111111111111111,
              "#46039f"
             ],
             [
              0.2222222222222222,
              "#7201a8"
             ],
             [
              0.3333333333333333,
              "#9c179e"
             ],
             [
              0.4444444444444444,
              "#bd3786"
             ],
             [
              0.5555555555555556,
              "#d8576b"
             ],
             [
              0.6666666666666666,
              "#ed7953"
             ],
             [
              0.7777777777777778,
              "#fb9f3a"
             ],
             [
              0.8888888888888888,
              "#fdca26"
             ],
             [
              1,
              "#f0f921"
             ]
            ],
            "type": "heatmap"
           }
          ],
          "heatmapgl": [
           {
            "colorbar": {
             "outlinewidth": 0,
             "ticks": ""
            },
            "colorscale": [
             [
              0,
              "#0d0887"
             ],
             [
              0.1111111111111111,
              "#46039f"
             ],
             [
              0.2222222222222222,
              "#7201a8"
             ],
             [
              0.3333333333333333,
              "#9c179e"
             ],
             [
              0.4444444444444444,
              "#bd3786"
             ],
             [
              0.5555555555555556,
              "#d8576b"
             ],
             [
              0.6666666666666666,
              "#ed7953"
             ],
             [
              0.7777777777777778,
              "#fb9f3a"
             ],
             [
              0.8888888888888888,
              "#fdca26"
             ],
             [
              1,
              "#f0f921"
             ]
            ],
            "type": "heatmapgl"
           }
          ],
          "histogram": [
           {
            "marker": {
             "pattern": {
              "fillmode": "overlay",
              "size": 10,
              "solidity": 0.2
             }
            },
            "type": "histogram"
           }
          ],
          "histogram2d": [
           {
            "colorbar": {
             "outlinewidth": 0,
             "ticks": ""
            },
            "colorscale": [
             [
              0,
              "#0d0887"
             ],
             [
              0.1111111111111111,
              "#46039f"
             ],
             [
              0.2222222222222222,
              "#7201a8"
             ],
             [
              0.3333333333333333,
              "#9c179e"
             ],
             [
              0.4444444444444444,
              "#bd3786"
             ],
             [
              0.5555555555555556,
              "#d8576b"
             ],
             [
              0.6666666666666666,
              "#ed7953"
             ],
             [
              0.7777777777777778,
              "#fb9f3a"
             ],
             [
              0.8888888888888888,
              "#fdca26"
             ],
             [
              1,
              "#f0f921"
             ]
            ],
            "type": "histogram2d"
           }
          ],
          "histogram2dcontour": [
           {
            "colorbar": {
             "outlinewidth": 0,
             "ticks": ""
            },
            "colorscale": [
             [
              0,
              "#0d0887"
             ],
             [
              0.1111111111111111,
              "#46039f"
             ],
             [
              0.2222222222222222,
              "#7201a8"
             ],
             [
              0.3333333333333333,
              "#9c179e"
             ],
             [
              0.4444444444444444,
              "#bd3786"
             ],
             [
              0.5555555555555556,
              "#d8576b"
             ],
             [
              0.6666666666666666,
              "#ed7953"
             ],
             [
              0.7777777777777778,
              "#fb9f3a"
             ],
             [
              0.8888888888888888,
              "#fdca26"
             ],
             [
              1,
              "#f0f921"
             ]
            ],
            "type": "histogram2dcontour"
           }
          ],
          "mesh3d": [
           {
            "colorbar": {
             "outlinewidth": 0,
             "ticks": ""
            },
            "type": "mesh3d"
           }
          ],
          "parcoords": [
           {
            "line": {
             "colorbar": {
              "outlinewidth": 0,
              "ticks": ""
             }
            },
            "type": "parcoords"
           }
          ],
          "pie": [
           {
            "automargin": true,
            "type": "pie"
           }
          ],
          "scatter": [
           {
            "fillpattern": {
             "fillmode": "overlay",
             "size": 10,
             "solidity": 0.2
            },
            "type": "scatter"
           }
          ],
          "scatter3d": [
           {
            "line": {
             "colorbar": {
              "outlinewidth": 0,
              "ticks": ""
             }
            },
            "marker": {
             "colorbar": {
              "outlinewidth": 0,
              "ticks": ""
             }
            },
            "type": "scatter3d"
           }
          ],
          "scattercarpet": [
           {
            "marker": {
             "colorbar": {
              "outlinewidth": 0,
              "ticks": ""
             }
            },
            "type": "scattercarpet"
           }
          ],
          "scattergeo": [
           {
            "marker": {
             "colorbar": {
              "outlinewidth": 0,
              "ticks": ""
             }
            },
            "type": "scattergeo"
           }
          ],
          "scattergl": [
           {
            "marker": {
             "colorbar": {
              "outlinewidth": 0,
              "ticks": ""
             }
            },
            "type": "scattergl"
           }
          ],
          "scattermapbox": [
           {
            "marker": {
             "colorbar": {
              "outlinewidth": 0,
              "ticks": ""
             }
            },
            "type": "scattermapbox"
           }
          ],
          "scatterpolar": [
           {
            "marker": {
             "colorbar": {
              "outlinewidth": 0,
              "ticks": ""
             }
            },
            "type": "scatterpolar"
           }
          ],
          "scatterpolargl": [
           {
            "marker": {
             "colorbar": {
              "outlinewidth": 0,
              "ticks": ""
             }
            },
            "type": "scatterpolargl"
           }
          ],
          "scatterternary": [
           {
            "marker": {
             "colorbar": {
              "outlinewidth": 0,
              "ticks": ""
             }
            },
            "type": "scatterternary"
           }
          ],
          "surface": [
           {
            "colorbar": {
             "outlinewidth": 0,
             "ticks": ""
            },
            "colorscale": [
             [
              0,
              "#0d0887"
             ],
             [
              0.1111111111111111,
              "#46039f"
             ],
             [
              0.2222222222222222,
              "#7201a8"
             ],
             [
              0.3333333333333333,
              "#9c179e"
             ],
             [
              0.4444444444444444,
              "#bd3786"
             ],
             [
              0.5555555555555556,
              "#d8576b"
             ],
             [
              0.6666666666666666,
              "#ed7953"
             ],
             [
              0.7777777777777778,
              "#fb9f3a"
             ],
             [
              0.8888888888888888,
              "#fdca26"
             ],
             [
              1,
              "#f0f921"
             ]
            ],
            "type": "surface"
           }
          ],
          "table": [
           {
            "cells": {
             "fill": {
              "color": "#EBF0F8"
             },
             "line": {
              "color": "white"
             }
            },
            "header": {
             "fill": {
              "color": "#C8D4E3"
             },
             "line": {
              "color": "white"
             }
            },
            "type": "table"
           }
          ]
         },
         "layout": {
          "annotationdefaults": {
           "arrowcolor": "#2a3f5f",
           "arrowhead": 0,
           "arrowwidth": 1
          },
          "autotypenumbers": "strict",
          "coloraxis": {
           "colorbar": {
            "outlinewidth": 0,
            "ticks": ""
           }
          },
          "colorscale": {
           "diverging": [
            [
             0,
             "#8e0152"
            ],
            [
             0.1,
             "#c51b7d"
            ],
            [
             0.2,
             "#de77ae"
            ],
            [
             0.3,
             "#f1b6da"
            ],
            [
             0.4,
             "#fde0ef"
            ],
            [
             0.5,
             "#f7f7f7"
            ],
            [
             0.6,
             "#e6f5d0"
            ],
            [
             0.7,
             "#b8e186"
            ],
            [
             0.8,
             "#7fbc41"
            ],
            [
             0.9,
             "#4d9221"
            ],
            [
             1,
             "#276419"
            ]
           ],
           "sequential": [
            [
             0,
             "#0d0887"
            ],
            [
             0.1111111111111111,
             "#46039f"
            ],
            [
             0.2222222222222222,
             "#7201a8"
            ],
            [
             0.3333333333333333,
             "#9c179e"
            ],
            [
             0.4444444444444444,
             "#bd3786"
            ],
            [
             0.5555555555555556,
             "#d8576b"
            ],
            [
             0.6666666666666666,
             "#ed7953"
            ],
            [
             0.7777777777777778,
             "#fb9f3a"
            ],
            [
             0.8888888888888888,
             "#fdca26"
            ],
            [
             1,
             "#f0f921"
            ]
           ],
           "sequentialminus": [
            [
             0,
             "#0d0887"
            ],
            [
             0.1111111111111111,
             "#46039f"
            ],
            [
             0.2222222222222222,
             "#7201a8"
            ],
            [
             0.3333333333333333,
             "#9c179e"
            ],
            [
             0.4444444444444444,
             "#bd3786"
            ],
            [
             0.5555555555555556,
             "#d8576b"
            ],
            [
             0.6666666666666666,
             "#ed7953"
            ],
            [
             0.7777777777777778,
             "#fb9f3a"
            ],
            [
             0.8888888888888888,
             "#fdca26"
            ],
            [
             1,
             "#f0f921"
            ]
           ]
          },
          "colorway": [
           "#636efa",
           "#EF553B",
           "#00cc96",
           "#ab63fa",
           "#FFA15A",
           "#19d3f3",
           "#FF6692",
           "#B6E880",
           "#FF97FF",
           "#FECB52"
          ],
          "font": {
           "color": "#2a3f5f"
          },
          "geo": {
           "bgcolor": "white",
           "lakecolor": "white",
           "landcolor": "#E5ECF6",
           "showlakes": true,
           "showland": true,
           "subunitcolor": "white"
          },
          "hoverlabel": {
           "align": "left"
          },
          "hovermode": "closest",
          "mapbox": {
           "style": "light"
          },
          "paper_bgcolor": "white",
          "plot_bgcolor": "#E5ECF6",
          "polar": {
           "angularaxis": {
            "gridcolor": "white",
            "linecolor": "white",
            "ticks": ""
           },
           "bgcolor": "#E5ECF6",
           "radialaxis": {
            "gridcolor": "white",
            "linecolor": "white",
            "ticks": ""
           }
          },
          "scene": {
           "xaxis": {
            "backgroundcolor": "#E5ECF6",
            "gridcolor": "white",
            "gridwidth": 2,
            "linecolor": "white",
            "showbackground": true,
            "ticks": "",
            "zerolinecolor": "white"
           },
           "yaxis": {
            "backgroundcolor": "#E5ECF6",
            "gridcolor": "white",
            "gridwidth": 2,
            "linecolor": "white",
            "showbackground": true,
            "ticks": "",
            "zerolinecolor": "white"
           },
           "zaxis": {
            "backgroundcolor": "#E5ECF6",
            "gridcolor": "white",
            "gridwidth": 2,
            "linecolor": "white",
            "showbackground": true,
            "ticks": "",
            "zerolinecolor": "white"
           }
          },
          "shapedefaults": {
           "line": {
            "color": "#2a3f5f"
           }
          },
          "ternary": {
           "aaxis": {
            "gridcolor": "white",
            "linecolor": "white",
            "ticks": ""
           },
           "baxis": {
            "gridcolor": "white",
            "linecolor": "white",
            "ticks": ""
           },
           "bgcolor": "#E5ECF6",
           "caxis": {
            "gridcolor": "white",
            "linecolor": "white",
            "ticks": ""
           }
          },
          "title": {
           "x": 0.05
          },
          "xaxis": {
           "automargin": true,
           "gridcolor": "white",
           "linecolor": "white",
           "ticks": "",
           "title": {
            "standoff": 15
           },
           "zerolinecolor": "white",
           "zerolinewidth": 2
          },
          "yaxis": {
           "automargin": true,
           "gridcolor": "white",
           "linecolor": "white",
           "ticks": "",
           "title": {
            "standoff": 15
           },
           "zerolinecolor": "white",
           "zerolinewidth": 2
          }
         }
        },
        "title": {
         "text": "Actual Contractual Commitment ($) per Program, grouped by University Collaborator"
        },
        "xaxis": {
         "anchor": "y",
         "domain": [
          0,
          1
         ],
         "title": {
          "text": "Program"
         }
        },
        "yaxis": {
         "anchor": "x",
         "domain": [
          0,
          1
         ],
         "title": {
          "text": "Actual Contractual Commitment ($)"
         }
        }
       }
      }
     },
     "metadata": {},
     "output_type": "display_data"
    }
   ],
   "source": [
    "# Grouping the data by Program and University Collaborator and summing the Actual Contractual Commitment\n",
    "grouped_data = data.groupby(['Program', 'University Collaborator (If Applicable)'])['Actual Contractual Commitment ($)'].sum().reset_index()\n",
    "\n",
    "# Renaming the column\n",
    "grouped_data.rename(columns={'University Collaborator (If Applicable)': 'University Collaborator'}, inplace=True)\n",
    "\n",
    "# Sorting the grouped data in descending order and selecting the top 15\n",
    "sorted_grouped_data = grouped_data.sort_values(by='Actual Contractual Commitment ($)', ascending=False)\n",
    "\n",
    "# Creating a bar plot for Actual Contractual Commitment ($) per Program, grouped by University Collaborator\n",
    "fig = px.bar(sorted_grouped_data, \n",
    "             x='Program', \n",
    "             y='Actual Contractual Commitment ($)', \n",
    "             color='University Collaborator', \n",
    "             title='Actual Contractual Commitment ($) per Program, grouped by University Collaborator',\n",
    "             labels={'Actual Contractual Commitment ($)': 'Contractual Commitment ($)', 'Program': 'Program'},\n",
    "             height=600)\n",
    "\n",
    "fig.update_layout(xaxis_title=\"Program\", yaxis_title=\"Actual Contractual Commitment ($)\", \n",
    "                  bargap=0.2, showlegend=True, height=700)\n",
    "\n",
    "fig.show()"
   ]
  },
  {
   "cell_type": "code",
   "execution_count": 7,
   "id": "ea50e864",
   "metadata": {},
   "outputs": [
    {
     "name": "stdout",
     "output_type": "stream",
     "text": [
      "<class 'pandas.core.frame.DataFrame'>\n",
      "RangeIndex: 1000 entries, 0 to 999\n",
      "Data columns (total 17 columns):\n",
      " #   Column                                                  Non-Null Count  Dtype  \n",
      "---  ------                                                  --------------  -----  \n",
      " 0   _Id                                                     1000 non-null   int64  \n",
      " 1   Program                                                 1000 non-null   object \n",
      " 2   Round                                                   960 non-null    object \n",
      " 3   Recipient Name                                          1000 non-null   object \n",
      " 4   Physical Address Of Recipient - Suburb/Location         1000 non-null   object \n",
      " 5   Physical Address Of Recipient - Post Code               930 non-null    float64\n",
      " 6   University Collaborator (If Applicable)                 6 non-null      object \n",
      " 7   Other Partners; Collaborators (If Applicable)           286 non-null    object \n",
      " 8   Investment/Project Title                                1000 non-null   object \n",
      " 9   Primary Location Of Activity/Project - Suburb           987 non-null    object \n",
      " 10  Primary Location Of Activity/Project - Post Code        967 non-null    float64\n",
      " 11  Multiple Locations Of Activity/Project (If Applicable)  172 non-null    object \n",
      " 12  Approval Date                                           1000 non-null   object \n",
      " 13  Local Government /Council                               1000 non-null   object \n",
      " 14  Rap Region                                              1000 non-null   object \n",
      " 15  State Electorate                                        1000 non-null   object \n",
      " 16  Actual Contractual Commitment ($)                       1000 non-null   int64  \n",
      "dtypes: float64(2), int64(2), object(13)\n",
      "memory usage: 132.9+ KB\n"
     ]
    }
   ],
   "source": [
    "data.info()"
   ]
  },
  {
   "cell_type": "markdown",
   "id": "413702ee",
   "metadata": {},
   "source": [
    "### Data Exploration\n",
    "- We start by exploring the dataset to understand its structure and contents. The first few rows of the dataset are displayed below:"
   ]
  },
  {
   "cell_type": "code",
   "execution_count": 8,
   "id": "7619f813",
   "metadata": {},
   "outputs": [
    {
     "data": {
      "text/plain": [
       "_Id                                                         0\n",
       "Program                                                     0\n",
       "Round                                                       8\n",
       "Recipient Name                                              0\n",
       "Physical Address Of Recipient - Suburb/Location             0\n",
       "Physical Address Of Recipient - Post Code                  14\n",
       "University Collaborator (If Applicable)                   198\n",
       "Other Partners; Collaborators (If Applicable)             145\n",
       "Investment/Project Title                                    0\n",
       "Primary Location Of Activity/Project - Suburb               3\n",
       "Primary Location Of Activity/Project - Post Code            5\n",
       "Multiple Locations Of Activity/Project (If Applicable)    165\n",
       "Approval Date                                               0\n",
       "Local Government /Council                                   0\n",
       "Rap Region                                                  0\n",
       "State Electorate                                            0\n",
       "Actual Contractual Commitment ($)                           0\n",
       "dtype: int64"
      ]
     },
     "execution_count": 8,
     "metadata": {},
     "output_type": "execute_result"
    }
   ],
   "source": [
    "# Check for missing values\n",
    "df.isnull().sum()"
   ]
  },
  {
   "cell_type": "markdown",
   "id": "01a21f83",
   "metadata": {},
   "source": [
    "### Feature Selection and Data Preprocessing\n",
    "We will discover significant aspects that may influence the grant amount and address any missing numbers or categorical data.\n"
   ]
  },
  {
   "cell_type": "code",
   "execution_count": 9,
   "id": "0c578fc2",
   "metadata": {},
   "outputs": [
    {
     "data": {
      "text/html": [
       "<div>\n",
       "<style scoped>\n",
       "    .dataframe tbody tr th:only-of-type {\n",
       "        vertical-align: middle;\n",
       "    }\n",
       "\n",
       "    .dataframe tbody tr th {\n",
       "        vertical-align: top;\n",
       "    }\n",
       "\n",
       "    .dataframe thead th {\n",
       "        text-align: right;\n",
       "    }\n",
       "</style>\n",
       "<table border=\"1\" class=\"dataframe\">\n",
       "  <thead>\n",
       "    <tr style=\"text-align: right;\">\n",
       "      <th></th>\n",
       "      <th>_Id</th>\n",
       "      <th>Program</th>\n",
       "      <th>Round</th>\n",
       "      <th>Recipient Name</th>\n",
       "      <th>Physical Address Of Recipient - Suburb/Location</th>\n",
       "      <th>Physical Address Of Recipient - Post Code</th>\n",
       "      <th>University Collaborator (If Applicable)</th>\n",
       "      <th>Other Partners; Collaborators (If Applicable)</th>\n",
       "      <th>Investment/Project Title</th>\n",
       "      <th>Primary Location Of Activity/Project - Suburb</th>\n",
       "      <th>Primary Location Of Activity/Project - Post Code</th>\n",
       "      <th>Multiple Locations Of Activity/Project (If Applicable)</th>\n",
       "      <th>Approval Date</th>\n",
       "      <th>Local Government /Council</th>\n",
       "      <th>Rap Region</th>\n",
       "      <th>State Electorate</th>\n",
       "      <th>Actual Contractual Commitment ($)</th>\n",
       "    </tr>\n",
       "  </thead>\n",
       "  <tbody>\n",
       "    <tr>\n",
       "      <th>408</th>\n",
       "      <td>409</td>\n",
       "      <td>Ignite Ideas Fund</td>\n",
       "      <td>Aq Ignite Ideas Fund 2019-20 Round 6</td>\n",
       "      <td>Health Management Pty Ltd</td>\n",
       "      <td>Westcourt</td>\n",
       "      <td>4870.0</td>\n",
       "      <td>Nan</td>\n",
       "      <td>Nan</td>\n",
       "      <td>Sophus Nutrition Commercialisation</td>\n",
       "      <td>Westcourt</td>\n",
       "      <td>4870.0</td>\n",
       "      <td>Nan</td>\n",
       "      <td>2020-05-08</td>\n",
       "      <td>Cairns (R)</td>\n",
       "      <td>Far North Queensland</td>\n",
       "      <td>Cairns</td>\n",
       "      <td>200000</td>\n",
       "    </tr>\n",
       "    <tr>\n",
       "      <th>332</th>\n",
       "      <td>333</td>\n",
       "      <td>Ignite Ideas Fund</td>\n",
       "      <td>Aq Ignite Ideas Fund 2020-21 Round 7</td>\n",
       "      <td>Fiffy Solutions Pty Ltd</td>\n",
       "      <td>West End</td>\n",
       "      <td>4101.0</td>\n",
       "      <td>Nan</td>\n",
       "      <td>Nan</td>\n",
       "      <td>Commercialisation Of People Counting Solution</td>\n",
       "      <td>St Lucia</td>\n",
       "      <td>4067.0</td>\n",
       "      <td>Nan</td>\n",
       "      <td>2020-12-02</td>\n",
       "      <td>Brisbane (C)</td>\n",
       "      <td>Brisbane And Redlands</td>\n",
       "      <td>South Brisbane</td>\n",
       "      <td>100000</td>\n",
       "    </tr>\n",
       "    <tr>\n",
       "      <th>208</th>\n",
       "      <td>209</td>\n",
       "      <td>Hot Desq</td>\n",
       "      <td>Round 2</td>\n",
       "      <td>Canvas Coworking Inc</td>\n",
       "      <td>Toowoomba</td>\n",
       "      <td>4350.0</td>\n",
       "      <td>Nan</td>\n",
       "      <td>Nan</td>\n",
       "      <td>Host</td>\n",
       "      <td>Toowoomba City</td>\n",
       "      <td>4350.0</td>\n",
       "      <td>Nan</td>\n",
       "      <td>2016-03-14</td>\n",
       "      <td>Toowoomba (R)</td>\n",
       "      <td>Darling Downs</td>\n",
       "      <td>Toowoomba North</td>\n",
       "      <td>6000</td>\n",
       "    </tr>\n",
       "    <tr>\n",
       "      <th>613</th>\n",
       "      <td>614</td>\n",
       "      <td>Ignite Ideas Fund</td>\n",
       "      <td>Aq Ignite Ideas Fund 2017-18 Round 3</td>\n",
       "      <td>Adivo Pty Ltd</td>\n",
       "      <td>Clifton Beach</td>\n",
       "      <td>4879.0</td>\n",
       "      <td>Nan</td>\n",
       "      <td>Nan</td>\n",
       "      <td>Adivo - Automatically Inflating Lifejacket Sys...</td>\n",
       "      <td>Clifton Beach</td>\n",
       "      <td>4879.0</td>\n",
       "      <td>Nan</td>\n",
       "      <td>2017-09-05</td>\n",
       "      <td>Cairns (R)</td>\n",
       "      <td>Far North Queensland</td>\n",
       "      <td>Barron River</td>\n",
       "      <td>97141</td>\n",
       "    </tr>\n",
       "    <tr>\n",
       "      <th>78</th>\n",
       "      <td>79</td>\n",
       "      <td>Female Founders Program</td>\n",
       "      <td>Round 1</td>\n",
       "      <td>Sbe Australia Limited</td>\n",
       "      <td>Bondi Junction, Nsw</td>\n",
       "      <td></td>\n",
       "      <td>Nan</td>\n",
       "      <td>Nan</td>\n",
       "      <td>Sbe Evolve</td>\n",
       "      <td>Fortitude Valley</td>\n",
       "      <td>4006.0</td>\n",
       "      <td>Nan</td>\n",
       "      <td>2021-09-22</td>\n",
       "      <td>Nonqueensland</td>\n",
       "      <td>Brisbane</td>\n",
       "      <td>Nonqueensland</td>\n",
       "      <td>30000</td>\n",
       "    </tr>\n",
       "  </tbody>\n",
       "</table>\n",
       "</div>"
      ],
      "text/plain": [
       "     _Id                  Program                                 Round  \\\n",
       "408  409        Ignite Ideas Fund  Aq Ignite Ideas Fund 2019-20 Round 6   \n",
       "332  333        Ignite Ideas Fund  Aq Ignite Ideas Fund 2020-21 Round 7   \n",
       "208  209                 Hot Desq                               Round 2   \n",
       "613  614        Ignite Ideas Fund  Aq Ignite Ideas Fund 2017-18 Round 3   \n",
       "78    79  Female Founders Program                               Round 1   \n",
       "\n",
       "                Recipient Name  \\\n",
       "408  Health Management Pty Ltd   \n",
       "332    Fiffy Solutions Pty Ltd   \n",
       "208       Canvas Coworking Inc   \n",
       "613              Adivo Pty Ltd   \n",
       "78       Sbe Australia Limited   \n",
       "\n",
       "    Physical Address Of Recipient - Suburb/Location  \\\n",
       "408                                       Westcourt   \n",
       "332                                        West End   \n",
       "208                                       Toowoomba   \n",
       "613                                   Clifton Beach   \n",
       "78                              Bondi Junction, Nsw   \n",
       "\n",
       "    Physical Address Of Recipient - Post Code  \\\n",
       "408                                    4870.0   \n",
       "332                                    4101.0   \n",
       "208                                    4350.0   \n",
       "613                                    4879.0   \n",
       "78                                              \n",
       "\n",
       "    University Collaborator (If Applicable)  \\\n",
       "408                                     Nan   \n",
       "332                                     Nan   \n",
       "208                                     Nan   \n",
       "613                                     Nan   \n",
       "78                                      Nan   \n",
       "\n",
       "    Other Partners; Collaborators (If Applicable)  \\\n",
       "408                                           Nan   \n",
       "332                                           Nan   \n",
       "208                                           Nan   \n",
       "613                                           Nan   \n",
       "78                                            Nan   \n",
       "\n",
       "                              Investment/Project Title  \\\n",
       "408                 Sophus Nutrition Commercialisation   \n",
       "332      Commercialisation Of People Counting Solution   \n",
       "208                                               Host   \n",
       "613  Adivo - Automatically Inflating Lifejacket Sys...   \n",
       "78                                          Sbe Evolve   \n",
       "\n",
       "    Primary Location Of Activity/Project - Suburb  \\\n",
       "408                                     Westcourt   \n",
       "332                                      St Lucia   \n",
       "208                                Toowoomba City   \n",
       "613                                 Clifton Beach   \n",
       "78                               Fortitude Valley   \n",
       "\n",
       "    Primary Location Of Activity/Project - Post Code  \\\n",
       "408                                           4870.0   \n",
       "332                                           4067.0   \n",
       "208                                           4350.0   \n",
       "613                                           4879.0   \n",
       "78                                            4006.0   \n",
       "\n",
       "    Multiple Locations Of Activity/Project (If Applicable) Approval Date  \\\n",
       "408                                                Nan        2020-05-08   \n",
       "332                                                Nan        2020-12-02   \n",
       "208                                                Nan        2016-03-14   \n",
       "613                                                Nan        2017-09-05   \n",
       "78                                                 Nan        2021-09-22   \n",
       "\n",
       "    Local Government /Council             Rap Region State Electorate  \\\n",
       "408                Cairns (R)   Far North Queensland           Cairns   \n",
       "332              Brisbane (C)  Brisbane And Redlands   South Brisbane   \n",
       "208             Toowoomba (R)          Darling Downs  Toowoomba North   \n",
       "613                Cairns (R)   Far North Queensland     Barron River   \n",
       "78              Nonqueensland               Brisbane    Nonqueensland   \n",
       "\n",
       "     Actual Contractual Commitment ($)  \n",
       "408                             200000  \n",
       "332                             100000  \n",
       "208                               6000  \n",
       "613                              97141  \n",
       "78                               30000  "
      ]
     },
     "execution_count": 9,
     "metadata": {},
     "output_type": "execute_result"
    }
   ],
   "source": [
    "# clear json pandas data frame\n",
    "lsStringTypeColumnHeader = [\"Program\",'Round', 'Recipient Name','Physical Address Of Recipient - Suburb/Location','University Collaborator (If Applicable)','Other Partners; Collaborators (If Applicable)','Investment/Project Title','Primary Location Of Activity/Project - Suburb','Multiple Locations Of Activity/Project (If Applicable)','Local Government /Council', 'Rap Region','State Electorate']\n",
    "lsFloatTypeColumnHeader = [\"Primary Location Of Activity/Project - Post Code\",\"Actual Contractual Commitment ($)\",\"Physical Address Of Recipient - Post Code\"]\n",
    "\n",
    "# Clean String type and float type column headers\n",
    "for column in lsStringTypeColumnHeader:\n",
    "    df[column] = CleanDataFrame.MSCleanStrTypeColumn(df[column])\n",
    "\n",
    "for column in lsFloatTypeColumnHeader:\n",
    "    df[column] = CleanDataFrame.MSCleanFloatTypeColumn(df[column])\n",
    "\n",
    "df.tail()"
   ]
  },
  {
   "cell_type": "code",
   "execution_count": 10,
   "id": "767036ad",
   "metadata": {},
   "outputs": [
    {
     "data": {
      "text/plain": [
       "_Id                                                       0\n",
       "Program                                                   0\n",
       "Round                                                     0\n",
       "Recipient Name                                            0\n",
       "Physical Address Of Recipient - Suburb/Location           0\n",
       "Physical Address Of Recipient - Post Code                 0\n",
       "University Collaborator (If Applicable)                   0\n",
       "Other Partners; Collaborators (If Applicable)             0\n",
       "Investment/Project Title                                  0\n",
       "Primary Location Of Activity/Project - Suburb             0\n",
       "Primary Location Of Activity/Project - Post Code          0\n",
       "Multiple Locations Of Activity/Project (If Applicable)    0\n",
       "Approval Date                                             0\n",
       "Local Government /Council                                 0\n",
       "Rap Region                                                0\n",
       "State Electorate                                          0\n",
       "Actual Contractual Commitment ($)                         0\n",
       "dtype: int64"
      ]
     },
     "execution_count": 10,
     "metadata": {},
     "output_type": "execute_result"
    }
   ],
   "source": [
    "# Check for missing values\n",
    "df.isnull().sum()"
   ]
  },
  {
   "cell_type": "code",
   "execution_count": 11,
   "id": "1af316b8",
   "metadata": {},
   "outputs": [
    {
     "data": {
      "text/plain": [
       "_Id                                                       200\n",
       "Program                                                    26\n",
       "Round                                                      49\n",
       "Recipient Name                                            153\n",
       "Physical Address Of Recipient - Suburb/Location           104\n",
       "Physical Address Of Recipient - Post Code                  74\n",
       "University Collaborator (If Applicable)                     3\n",
       "Other Partners; Collaborators (If Applicable)              53\n",
       "Investment/Project Title                                  193\n",
       "Primary Location Of Activity/Project - Suburb             101\n",
       "Primary Location Of Activity/Project - Post Code           75\n",
       "Multiple Locations Of Activity/Project (If Applicable)     35\n",
       "Approval Date                                              62\n",
       "Local Government /Council                                  23\n",
       "Rap Region                                                 15\n",
       "State Electorate                                           56\n",
       "Actual Contractual Commitment ($)                          90\n",
       "dtype: int64"
      ]
     },
     "execution_count": 11,
     "metadata": {},
     "output_type": "execute_result"
    }
   ],
   "source": [
    "df.nunique()"
   ]
  },
  {
   "cell_type": "markdown",
   "id": "2df9996c",
   "metadata": {},
   "source": [
    "### Training the RandomForestRegressor Model\n",
    "We will train a Random Forest Regressor model using the training data and evaluate its performance on the test data."
   ]
  },
  {
   "cell_type": "code",
   "execution_count": 12,
   "id": "f451ccf1",
   "metadata": {},
   "outputs": [],
   "source": [
    "# Select relevant features\n",
    "features = ['Program', 'Recipient Name']\n",
    "\n",
    "# Select only the necessary columns\n",
    "df = df[features + ['Actual Contractual Commitment ($)', 'Approval Date']]\n",
    "\n",
    "# Handle missing values (for simplicity, we'll drop rows with missing values)\n",
    "df = df.dropna(subset=features + ['Actual Contractual Commitment ($)', 'Approval Date'])\n",
    "\n",
    "# Convert categorical features to numerical values\n",
    "df = pd.get_dummies(df, columns=['Program', 'Recipient Name'], drop_first=True)\n",
    "\n",
    "# Convert date feature to datetime and extract year and month\n",
    "df['Approval Date'] = pd.to_datetime(df['Approval Date'], errors='coerce')\n",
    "\n",
    "# Ensure no invalid date entries\n",
    "df = df.dropna(subset=['Approval Date'])\n",
    "\n",
    "df['approval_year'] = df['Approval Date'].dt.year\n",
    "df['approval_month'] = df['Approval Date'].dt.month\n",
    "\n",
    "# Drop original date column\n",
    "df = df.drop(columns=['Approval Date'])\n",
    "\n",
    "# Define the target variable and features\n",
    "X = df.drop(columns=['Actual Contractual Commitment ($)'])\n",
    "y = df['Actual Contractual Commitment ($)']\n",
    "\n",
    "# Ensure all features are numeric\n",
    "X = X.apply(pd.to_numeric, errors='coerce')\n",
    "X = X.fillna(0)\n",
    "\n",
    "# Feature scaling\n",
    "scaler = StandardScaler()\n",
    "X_scaled = scaler.fit_transform(X)\n",
    "\n",
    "# Split the data into training and testing sets\n",
    "X_train, X_test, y_train, y_test = train_test_split(X_scaled, y, test_size=0.2, random_state=42)\n"
   ]
  },
  {
   "cell_type": "code",
   "execution_count": 13,
   "id": "f5849983",
   "metadata": {},
   "outputs": [
    {
     "data": {
      "text/plain": [
       "(200, 180)"
      ]
     },
     "execution_count": 13,
     "metadata": {},
     "output_type": "execute_result"
    }
   ],
   "source": [
    "df.shape"
   ]
  },
  {
   "cell_type": "code",
   "execution_count": 14,
   "id": "9a2d50c3",
   "metadata": {},
   "outputs": [
    {
     "name": "stdout",
     "output_type": "stream",
     "text": [
      "RandomForestRegressor - Mean Squared Error: 1085344146480.2076, R-squared: -0.010119437372201556\n"
     ]
    }
   ],
   "source": [
    "# Function to evaluate models\n",
    "def evaluate_model(model):\n",
    "    model.fit(X_train, y_train)\n",
    "    y_pred = model.predict(X_test)\n",
    "    mse = mean_squared_error(y_test, y_pred)\n",
    "    r2 = r2_score(y_test, y_pred)\n",
    "    print(f\"{model.__class__.__name__} - Mean Squared Error: {mse}, R-squared: {r2}\")\n",
    "    return y_pred\n",
    "\n",
    "# Train and evaluate different models\n",
    "models = [\n",
    "    RandomForestRegressor(n_estimators=100, random_state=42)\n",
    "]\n",
    "\n",
    "predictions = {}\n",
    "for model in models:\n",
    "    predictions[model.__class__.__name__] = evaluate_model(model)\n",
    "\n"
   ]
  },
  {
   "cell_type": "markdown",
   "id": "9ba67a74",
   "metadata": {},
   "source": [
    "### Model Performance and Insights\n",
    "The performance of the Random Forest Regressor model is evaluated using Mean Squared Error (MSE) and R-squared metrics. We also visualize the predictions against the actual values."
   ]
  },
  {
   "cell_type": "code",
   "execution_count": 15,
   "id": "2d814000",
   "metadata": {},
   "outputs": [
    {
     "data": {
      "application/vnd.plotly.v1+json": {
       "config": {
        "plotlyServerURL": "https://plot.ly"
       },
       "data": [
        {
         "hovertemplate": "Actual Funding Amount=%{x}<br>Predicted Funding Amount=%{y}<extra></extra>",
         "legendgroup": "",
         "marker": {
          "color": "#636efa",
          "symbol": "circle"
         },
         "mode": "markers",
         "name": "",
         "orientation": "v",
         "showlegend": false,
         "type": "scatter",
         "x": [
          199999,
          10800,
          200000,
          100000,
          10800,
          100000,
          100000,
          45000,
          100000,
          80000,
          160000,
          100000,
          240000,
          80000,
          99999,
          99123,
          100000,
          3807672,
          98000,
          25000,
          50000,
          100000,
          48563,
          100000,
          283135,
          100000,
          200000,
          10800,
          96480,
          100000,
          8000,
          540000,
          180000,
          100000,
          90000,
          150000,
          5695000,
          50000,
          10800,
          180000
         ],
         "xaxis": "x",
         "y": [
          99986,
          17549.09,
          100916.26,
          42939.96,
          27768.73,
          99986,
          98251.01,
          100916.26,
          113415.28,
          101472.66,
          201685.7305,
          99986,
          224471,
          113415.28,
          99299.96,
          98251.01,
          98251.01,
          468155.55,
          132223.07,
          39879.9,
          101472.66,
          101472.66,
          38130.06,
          101472.66,
          121397.26,
          101472.66,
          100000,
          33520.34,
          98251.01,
          98251.01,
          8210.246666666668,
          821661.19,
          26971.88,
          101472.66,
          159810.8333333333,
          151185.8333333333,
          31160.68666666667,
          101472.66,
          33520.34,
          159810.8333333333
         ],
         "yaxis": "y"
        }
       ],
       "layout": {
        "legend": {
         "tracegroupgap": 0
        },
        "template": {
         "data": {
          "bar": [
           {
            "error_x": {
             "color": "#2a3f5f"
            },
            "error_y": {
             "color": "#2a3f5f"
            },
            "marker": {
             "line": {
              "color": "#E5ECF6",
              "width": 0.5
             },
             "pattern": {
              "fillmode": "overlay",
              "size": 10,
              "solidity": 0.2
             }
            },
            "type": "bar"
           }
          ],
          "barpolar": [
           {
            "marker": {
             "line": {
              "color": "#E5ECF6",
              "width": 0.5
             },
             "pattern": {
              "fillmode": "overlay",
              "size": 10,
              "solidity": 0.2
             }
            },
            "type": "barpolar"
           }
          ],
          "carpet": [
           {
            "aaxis": {
             "endlinecolor": "#2a3f5f",
             "gridcolor": "white",
             "linecolor": "white",
             "minorgridcolor": "white",
             "startlinecolor": "#2a3f5f"
            },
            "baxis": {
             "endlinecolor": "#2a3f5f",
             "gridcolor": "white",
             "linecolor": "white",
             "minorgridcolor": "white",
             "startlinecolor": "#2a3f5f"
            },
            "type": "carpet"
           }
          ],
          "choropleth": [
           {
            "colorbar": {
             "outlinewidth": 0,
             "ticks": ""
            },
            "type": "choropleth"
           }
          ],
          "contour": [
           {
            "colorbar": {
             "outlinewidth": 0,
             "ticks": ""
            },
            "colorscale": [
             [
              0,
              "#0d0887"
             ],
             [
              0.1111111111111111,
              "#46039f"
             ],
             [
              0.2222222222222222,
              "#7201a8"
             ],
             [
              0.3333333333333333,
              "#9c179e"
             ],
             [
              0.4444444444444444,
              "#bd3786"
             ],
             [
              0.5555555555555556,
              "#d8576b"
             ],
             [
              0.6666666666666666,
              "#ed7953"
             ],
             [
              0.7777777777777778,
              "#fb9f3a"
             ],
             [
              0.8888888888888888,
              "#fdca26"
             ],
             [
              1,
              "#f0f921"
             ]
            ],
            "type": "contour"
           }
          ],
          "contourcarpet": [
           {
            "colorbar": {
             "outlinewidth": 0,
             "ticks": ""
            },
            "type": "contourcarpet"
           }
          ],
          "heatmap": [
           {
            "colorbar": {
             "outlinewidth": 0,
             "ticks": ""
            },
            "colorscale": [
             [
              0,
              "#0d0887"
             ],
             [
              0.1111111111111111,
              "#46039f"
             ],
             [
              0.2222222222222222,
              "#7201a8"
             ],
             [
              0.3333333333333333,
              "#9c179e"
             ],
             [
              0.4444444444444444,
              "#bd3786"
             ],
             [
              0.5555555555555556,
              "#d8576b"
             ],
             [
              0.6666666666666666,
              "#ed7953"
             ],
             [
              0.7777777777777778,
              "#fb9f3a"
             ],
             [
              0.8888888888888888,
              "#fdca26"
             ],
             [
              1,
              "#f0f921"
             ]
            ],
            "type": "heatmap"
           }
          ],
          "heatmapgl": [
           {
            "colorbar": {
             "outlinewidth": 0,
             "ticks": ""
            },
            "colorscale": [
             [
              0,
              "#0d0887"
             ],
             [
              0.1111111111111111,
              "#46039f"
             ],
             [
              0.2222222222222222,
              "#7201a8"
             ],
             [
              0.3333333333333333,
              "#9c179e"
             ],
             [
              0.4444444444444444,
              "#bd3786"
             ],
             [
              0.5555555555555556,
              "#d8576b"
             ],
             [
              0.6666666666666666,
              "#ed7953"
             ],
             [
              0.7777777777777778,
              "#fb9f3a"
             ],
             [
              0.8888888888888888,
              "#fdca26"
             ],
             [
              1,
              "#f0f921"
             ]
            ],
            "type": "heatmapgl"
           }
          ],
          "histogram": [
           {
            "marker": {
             "pattern": {
              "fillmode": "overlay",
              "size": 10,
              "solidity": 0.2
             }
            },
            "type": "histogram"
           }
          ],
          "histogram2d": [
           {
            "colorbar": {
             "outlinewidth": 0,
             "ticks": ""
            },
            "colorscale": [
             [
              0,
              "#0d0887"
             ],
             [
              0.1111111111111111,
              "#46039f"
             ],
             [
              0.2222222222222222,
              "#7201a8"
             ],
             [
              0.3333333333333333,
              "#9c179e"
             ],
             [
              0.4444444444444444,
              "#bd3786"
             ],
             [
              0.5555555555555556,
              "#d8576b"
             ],
             [
              0.6666666666666666,
              "#ed7953"
             ],
             [
              0.7777777777777778,
              "#fb9f3a"
             ],
             [
              0.8888888888888888,
              "#fdca26"
             ],
             [
              1,
              "#f0f921"
             ]
            ],
            "type": "histogram2d"
           }
          ],
          "histogram2dcontour": [
           {
            "colorbar": {
             "outlinewidth": 0,
             "ticks": ""
            },
            "colorscale": [
             [
              0,
              "#0d0887"
             ],
             [
              0.1111111111111111,
              "#46039f"
             ],
             [
              0.2222222222222222,
              "#7201a8"
             ],
             [
              0.3333333333333333,
              "#9c179e"
             ],
             [
              0.4444444444444444,
              "#bd3786"
             ],
             [
              0.5555555555555556,
              "#d8576b"
             ],
             [
              0.6666666666666666,
              "#ed7953"
             ],
             [
              0.7777777777777778,
              "#fb9f3a"
             ],
             [
              0.8888888888888888,
              "#fdca26"
             ],
             [
              1,
              "#f0f921"
             ]
            ],
            "type": "histogram2dcontour"
           }
          ],
          "mesh3d": [
           {
            "colorbar": {
             "outlinewidth": 0,
             "ticks": ""
            },
            "type": "mesh3d"
           }
          ],
          "parcoords": [
           {
            "line": {
             "colorbar": {
              "outlinewidth": 0,
              "ticks": ""
             }
            },
            "type": "parcoords"
           }
          ],
          "pie": [
           {
            "automargin": true,
            "type": "pie"
           }
          ],
          "scatter": [
           {
            "fillpattern": {
             "fillmode": "overlay",
             "size": 10,
             "solidity": 0.2
            },
            "type": "scatter"
           }
          ],
          "scatter3d": [
           {
            "line": {
             "colorbar": {
              "outlinewidth": 0,
              "ticks": ""
             }
            },
            "marker": {
             "colorbar": {
              "outlinewidth": 0,
              "ticks": ""
             }
            },
            "type": "scatter3d"
           }
          ],
          "scattercarpet": [
           {
            "marker": {
             "colorbar": {
              "outlinewidth": 0,
              "ticks": ""
             }
            },
            "type": "scattercarpet"
           }
          ],
          "scattergeo": [
           {
            "marker": {
             "colorbar": {
              "outlinewidth": 0,
              "ticks": ""
             }
            },
            "type": "scattergeo"
           }
          ],
          "scattergl": [
           {
            "marker": {
             "colorbar": {
              "outlinewidth": 0,
              "ticks": ""
             }
            },
            "type": "scattergl"
           }
          ],
          "scattermapbox": [
           {
            "marker": {
             "colorbar": {
              "outlinewidth": 0,
              "ticks": ""
             }
            },
            "type": "scattermapbox"
           }
          ],
          "scatterpolar": [
           {
            "marker": {
             "colorbar": {
              "outlinewidth": 0,
              "ticks": ""
             }
            },
            "type": "scatterpolar"
           }
          ],
          "scatterpolargl": [
           {
            "marker": {
             "colorbar": {
              "outlinewidth": 0,
              "ticks": ""
             }
            },
            "type": "scatterpolargl"
           }
          ],
          "scatterternary": [
           {
            "marker": {
             "colorbar": {
              "outlinewidth": 0,
              "ticks": ""
             }
            },
            "type": "scatterternary"
           }
          ],
          "surface": [
           {
            "colorbar": {
             "outlinewidth": 0,
             "ticks": ""
            },
            "colorscale": [
             [
              0,
              "#0d0887"
             ],
             [
              0.1111111111111111,
              "#46039f"
             ],
             [
              0.2222222222222222,
              "#7201a8"
             ],
             [
              0.3333333333333333,
              "#9c179e"
             ],
             [
              0.4444444444444444,
              "#bd3786"
             ],
             [
              0.5555555555555556,
              "#d8576b"
             ],
             [
              0.6666666666666666,
              "#ed7953"
             ],
             [
              0.7777777777777778,
              "#fb9f3a"
             ],
             [
              0.8888888888888888,
              "#fdca26"
             ],
             [
              1,
              "#f0f921"
             ]
            ],
            "type": "surface"
           }
          ],
          "table": [
           {
            "cells": {
             "fill": {
              "color": "#EBF0F8"
             },
             "line": {
              "color": "white"
             }
            },
            "header": {
             "fill": {
              "color": "#C8D4E3"
             },
             "line": {
              "color": "white"
             }
            },
            "type": "table"
           }
          ]
         },
         "layout": {
          "annotationdefaults": {
           "arrowcolor": "#2a3f5f",
           "arrowhead": 0,
           "arrowwidth": 1
          },
          "autotypenumbers": "strict",
          "coloraxis": {
           "colorbar": {
            "outlinewidth": 0,
            "ticks": ""
           }
          },
          "colorscale": {
           "diverging": [
            [
             0,
             "#8e0152"
            ],
            [
             0.1,
             "#c51b7d"
            ],
            [
             0.2,
             "#de77ae"
            ],
            [
             0.3,
             "#f1b6da"
            ],
            [
             0.4,
             "#fde0ef"
            ],
            [
             0.5,
             "#f7f7f7"
            ],
            [
             0.6,
             "#e6f5d0"
            ],
            [
             0.7,
             "#b8e186"
            ],
            [
             0.8,
             "#7fbc41"
            ],
            [
             0.9,
             "#4d9221"
            ],
            [
             1,
             "#276419"
            ]
           ],
           "sequential": [
            [
             0,
             "#0d0887"
            ],
            [
             0.1111111111111111,
             "#46039f"
            ],
            [
             0.2222222222222222,
             "#7201a8"
            ],
            [
             0.3333333333333333,
             "#9c179e"
            ],
            [
             0.4444444444444444,
             "#bd3786"
            ],
            [
             0.5555555555555556,
             "#d8576b"
            ],
            [
             0.6666666666666666,
             "#ed7953"
            ],
            [
             0.7777777777777778,
             "#fb9f3a"
            ],
            [
             0.8888888888888888,
             "#fdca26"
            ],
            [
             1,
             "#f0f921"
            ]
           ],
           "sequentialminus": [
            [
             0,
             "#0d0887"
            ],
            [
             0.1111111111111111,
             "#46039f"
            ],
            [
             0.2222222222222222,
             "#7201a8"
            ],
            [
             0.3333333333333333,
             "#9c179e"
            ],
            [
             0.4444444444444444,
             "#bd3786"
            ],
            [
             0.5555555555555556,
             "#d8576b"
            ],
            [
             0.6666666666666666,
             "#ed7953"
            ],
            [
             0.7777777777777778,
             "#fb9f3a"
            ],
            [
             0.8888888888888888,
             "#fdca26"
            ],
            [
             1,
             "#f0f921"
            ]
           ]
          },
          "colorway": [
           "#636efa",
           "#EF553B",
           "#00cc96",
           "#ab63fa",
           "#FFA15A",
           "#19d3f3",
           "#FF6692",
           "#B6E880",
           "#FF97FF",
           "#FECB52"
          ],
          "font": {
           "color": "#2a3f5f"
          },
          "geo": {
           "bgcolor": "white",
           "lakecolor": "white",
           "landcolor": "#E5ECF6",
           "showlakes": true,
           "showland": true,
           "subunitcolor": "white"
          },
          "hoverlabel": {
           "align": "left"
          },
          "hovermode": "closest",
          "mapbox": {
           "style": "light"
          },
          "paper_bgcolor": "white",
          "plot_bgcolor": "#E5ECF6",
          "polar": {
           "angularaxis": {
            "gridcolor": "white",
            "linecolor": "white",
            "ticks": ""
           },
           "bgcolor": "#E5ECF6",
           "radialaxis": {
            "gridcolor": "white",
            "linecolor": "white",
            "ticks": ""
           }
          },
          "scene": {
           "xaxis": {
            "backgroundcolor": "#E5ECF6",
            "gridcolor": "white",
            "gridwidth": 2,
            "linecolor": "white",
            "showbackground": true,
            "ticks": "",
            "zerolinecolor": "white"
           },
           "yaxis": {
            "backgroundcolor": "#E5ECF6",
            "gridcolor": "white",
            "gridwidth": 2,
            "linecolor": "white",
            "showbackground": true,
            "ticks": "",
            "zerolinecolor": "white"
           },
           "zaxis": {
            "backgroundcolor": "#E5ECF6",
            "gridcolor": "white",
            "gridwidth": 2,
            "linecolor": "white",
            "showbackground": true,
            "ticks": "",
            "zerolinecolor": "white"
           }
          },
          "shapedefaults": {
           "line": {
            "color": "#2a3f5f"
           }
          },
          "ternary": {
           "aaxis": {
            "gridcolor": "white",
            "linecolor": "white",
            "ticks": ""
           },
           "baxis": {
            "gridcolor": "white",
            "linecolor": "white",
            "ticks": ""
           },
           "bgcolor": "#E5ECF6",
           "caxis": {
            "gridcolor": "white",
            "linecolor": "white",
            "ticks": ""
           }
          },
          "title": {
           "x": 0.05
          },
          "xaxis": {
           "automargin": true,
           "gridcolor": "white",
           "linecolor": "white",
           "ticks": "",
           "title": {
            "standoff": 15
           },
           "zerolinecolor": "white",
           "zerolinewidth": 2
          },
          "yaxis": {
           "automargin": true,
           "gridcolor": "white",
           "linecolor": "white",
           "ticks": "",
           "title": {
            "standoff": 15
           },
           "zerolinecolor": "white",
           "zerolinewidth": 2
          }
         }
        },
        "title": {
         "text": "Actual vs Predicted Funding Amount - Random Forest Regressor"
        },
        "xaxis": {
         "anchor": "y",
         "domain": [
          0,
          1
         ],
         "title": {
          "text": "Actual Funding Amount"
         }
        },
        "yaxis": {
         "anchor": "x",
         "domain": [
          0,
          1
         ],
         "title": {
          "text": "Predicted Funding Amount"
         }
        }
       }
      }
     },
     "metadata": {},
     "output_type": "display_data"
    }
   ],
   "source": [
    "fig = px.scatter(x=y_test, y=predictions['RandomForestRegressor'], labels={'x': 'Actual Funding Amount', 'y': 'Predicted Funding Amount'},\n",
    "                 title='Actual vs Predicted Funding Amount - Random Forest Regressor')\n",
    "fig.show()"
   ]
  },
  {
   "cell_type": "code",
   "execution_count": 16,
   "id": "a457a653",
   "metadata": {},
   "outputs": [
    {
     "data": {
      "application/vnd.plotly.v1+json": {
       "config": {
        "plotlyServerURL": "https://plot.ly"
       },
       "data": [
        {
         "hovertemplate": "Actual Funding Amount=%{x}<br>Predicted Funding Amount=%{y}<extra></extra>",
         "legendgroup": "",
         "marker": {
          "color": "#636efa",
          "symbol": "circle"
         },
         "mode": "markers",
         "name": "",
         "orientation": "v",
         "showlegend": false,
         "type": "scatter",
         "x": [
          199999,
          10800,
          200000,
          100000,
          10800,
          100000,
          100000,
          45000,
          100000,
          80000,
          160000,
          100000,
          240000,
          80000,
          99999,
          99123,
          100000,
          3807672,
          98000,
          25000,
          50000,
          100000,
          48563,
          100000,
          283135,
          100000,
          200000,
          10800,
          96480,
          100000,
          8000,
          540000,
          180000,
          100000,
          90000,
          150000,
          5695000,
          50000,
          10800,
          180000
         ],
         "xaxis": "x",
         "y": [
          99986,
          17549.09,
          100916.26,
          42939.96,
          27768.73,
          99986,
          98251.01,
          100916.26,
          113415.28,
          101472.66,
          201685.7305,
          99986,
          224471,
          113415.28,
          99299.96,
          98251.01,
          98251.01,
          468155.55,
          132223.07,
          39879.9,
          101472.66,
          101472.66,
          38130.06,
          101472.66,
          121397.26,
          101472.66,
          100000,
          33520.34,
          98251.01,
          98251.01,
          8210.246666666668,
          821661.19,
          26971.88,
          101472.66,
          159810.8333333333,
          151185.8333333333,
          31160.68666666667,
          101472.66,
          33520.34,
          159810.8333333333
         ],
         "yaxis": "y"
        }
       ],
       "layout": {
        "legend": {
         "tracegroupgap": 0
        },
        "template": {
         "data": {
          "bar": [
           {
            "error_x": {
             "color": "#2a3f5f"
            },
            "error_y": {
             "color": "#2a3f5f"
            },
            "marker": {
             "line": {
              "color": "#E5ECF6",
              "width": 0.5
             },
             "pattern": {
              "fillmode": "overlay",
              "size": 10,
              "solidity": 0.2
             }
            },
            "type": "bar"
           }
          ],
          "barpolar": [
           {
            "marker": {
             "line": {
              "color": "#E5ECF6",
              "width": 0.5
             },
             "pattern": {
              "fillmode": "overlay",
              "size": 10,
              "solidity": 0.2
             }
            },
            "type": "barpolar"
           }
          ],
          "carpet": [
           {
            "aaxis": {
             "endlinecolor": "#2a3f5f",
             "gridcolor": "white",
             "linecolor": "white",
             "minorgridcolor": "white",
             "startlinecolor": "#2a3f5f"
            },
            "baxis": {
             "endlinecolor": "#2a3f5f",
             "gridcolor": "white",
             "linecolor": "white",
             "minorgridcolor": "white",
             "startlinecolor": "#2a3f5f"
            },
            "type": "carpet"
           }
          ],
          "choropleth": [
           {
            "colorbar": {
             "outlinewidth": 0,
             "ticks": ""
            },
            "type": "choropleth"
           }
          ],
          "contour": [
           {
            "colorbar": {
             "outlinewidth": 0,
             "ticks": ""
            },
            "colorscale": [
             [
              0,
              "#0d0887"
             ],
             [
              0.1111111111111111,
              "#46039f"
             ],
             [
              0.2222222222222222,
              "#7201a8"
             ],
             [
              0.3333333333333333,
              "#9c179e"
             ],
             [
              0.4444444444444444,
              "#bd3786"
             ],
             [
              0.5555555555555556,
              "#d8576b"
             ],
             [
              0.6666666666666666,
              "#ed7953"
             ],
             [
              0.7777777777777778,
              "#fb9f3a"
             ],
             [
              0.8888888888888888,
              "#fdca26"
             ],
             [
              1,
              "#f0f921"
             ]
            ],
            "type": "contour"
           }
          ],
          "contourcarpet": [
           {
            "colorbar": {
             "outlinewidth": 0,
             "ticks": ""
            },
            "type": "contourcarpet"
           }
          ],
          "heatmap": [
           {
            "colorbar": {
             "outlinewidth": 0,
             "ticks": ""
            },
            "colorscale": [
             [
              0,
              "#0d0887"
             ],
             [
              0.1111111111111111,
              "#46039f"
             ],
             [
              0.2222222222222222,
              "#7201a8"
             ],
             [
              0.3333333333333333,
              "#9c179e"
             ],
             [
              0.4444444444444444,
              "#bd3786"
             ],
             [
              0.5555555555555556,
              "#d8576b"
             ],
             [
              0.6666666666666666,
              "#ed7953"
             ],
             [
              0.7777777777777778,
              "#fb9f3a"
             ],
             [
              0.8888888888888888,
              "#fdca26"
             ],
             [
              1,
              "#f0f921"
             ]
            ],
            "type": "heatmap"
           }
          ],
          "heatmapgl": [
           {
            "colorbar": {
             "outlinewidth": 0,
             "ticks": ""
            },
            "colorscale": [
             [
              0,
              "#0d0887"
             ],
             [
              0.1111111111111111,
              "#46039f"
             ],
             [
              0.2222222222222222,
              "#7201a8"
             ],
             [
              0.3333333333333333,
              "#9c179e"
             ],
             [
              0.4444444444444444,
              "#bd3786"
             ],
             [
              0.5555555555555556,
              "#d8576b"
             ],
             [
              0.6666666666666666,
              "#ed7953"
             ],
             [
              0.7777777777777778,
              "#fb9f3a"
             ],
             [
              0.8888888888888888,
              "#fdca26"
             ],
             [
              1,
              "#f0f921"
             ]
            ],
            "type": "heatmapgl"
           }
          ],
          "histogram": [
           {
            "marker": {
             "pattern": {
              "fillmode": "overlay",
              "size": 10,
              "solidity": 0.2
             }
            },
            "type": "histogram"
           }
          ],
          "histogram2d": [
           {
            "colorbar": {
             "outlinewidth": 0,
             "ticks": ""
            },
            "colorscale": [
             [
              0,
              "#0d0887"
             ],
             [
              0.1111111111111111,
              "#46039f"
             ],
             [
              0.2222222222222222,
              "#7201a8"
             ],
             [
              0.3333333333333333,
              "#9c179e"
             ],
             [
              0.4444444444444444,
              "#bd3786"
             ],
             [
              0.5555555555555556,
              "#d8576b"
             ],
             [
              0.6666666666666666,
              "#ed7953"
             ],
             [
              0.7777777777777778,
              "#fb9f3a"
             ],
             [
              0.8888888888888888,
              "#fdca26"
             ],
             [
              1,
              "#f0f921"
             ]
            ],
            "type": "histogram2d"
           }
          ],
          "histogram2dcontour": [
           {
            "colorbar": {
             "outlinewidth": 0,
             "ticks": ""
            },
            "colorscale": [
             [
              0,
              "#0d0887"
             ],
             [
              0.1111111111111111,
              "#46039f"
             ],
             [
              0.2222222222222222,
              "#7201a8"
             ],
             [
              0.3333333333333333,
              "#9c179e"
             ],
             [
              0.4444444444444444,
              "#bd3786"
             ],
             [
              0.5555555555555556,
              "#d8576b"
             ],
             [
              0.6666666666666666,
              "#ed7953"
             ],
             [
              0.7777777777777778,
              "#fb9f3a"
             ],
             [
              0.8888888888888888,
              "#fdca26"
             ],
             [
              1,
              "#f0f921"
             ]
            ],
            "type": "histogram2dcontour"
           }
          ],
          "mesh3d": [
           {
            "colorbar": {
             "outlinewidth": 0,
             "ticks": ""
            },
            "type": "mesh3d"
           }
          ],
          "parcoords": [
           {
            "line": {
             "colorbar": {
              "outlinewidth": 0,
              "ticks": ""
             }
            },
            "type": "parcoords"
           }
          ],
          "pie": [
           {
            "automargin": true,
            "type": "pie"
           }
          ],
          "scatter": [
           {
            "fillpattern": {
             "fillmode": "overlay",
             "size": 10,
             "solidity": 0.2
            },
            "type": "scatter"
           }
          ],
          "scatter3d": [
           {
            "line": {
             "colorbar": {
              "outlinewidth": 0,
              "ticks": ""
             }
            },
            "marker": {
             "colorbar": {
              "outlinewidth": 0,
              "ticks": ""
             }
            },
            "type": "scatter3d"
           }
          ],
          "scattercarpet": [
           {
            "marker": {
             "colorbar": {
              "outlinewidth": 0,
              "ticks": ""
             }
            },
            "type": "scattercarpet"
           }
          ],
          "scattergeo": [
           {
            "marker": {
             "colorbar": {
              "outlinewidth": 0,
              "ticks": ""
             }
            },
            "type": "scattergeo"
           }
          ],
          "scattergl": [
           {
            "marker": {
             "colorbar": {
              "outlinewidth": 0,
              "ticks": ""
             }
            },
            "type": "scattergl"
           }
          ],
          "scattermapbox": [
           {
            "marker": {
             "colorbar": {
              "outlinewidth": 0,
              "ticks": ""
             }
            },
            "type": "scattermapbox"
           }
          ],
          "scatterpolar": [
           {
            "marker": {
             "colorbar": {
              "outlinewidth": 0,
              "ticks": ""
             }
            },
            "type": "scatterpolar"
           }
          ],
          "scatterpolargl": [
           {
            "marker": {
             "colorbar": {
              "outlinewidth": 0,
              "ticks": ""
             }
            },
            "type": "scatterpolargl"
           }
          ],
          "scatterternary": [
           {
            "marker": {
             "colorbar": {
              "outlinewidth": 0,
              "ticks": ""
             }
            },
            "type": "scatterternary"
           }
          ],
          "surface": [
           {
            "colorbar": {
             "outlinewidth": 0,
             "ticks": ""
            },
            "colorscale": [
             [
              0,
              "#0d0887"
             ],
             [
              0.1111111111111111,
              "#46039f"
             ],
             [
              0.2222222222222222,
              "#7201a8"
             ],
             [
              0.3333333333333333,
              "#9c179e"
             ],
             [
              0.4444444444444444,
              "#bd3786"
             ],
             [
              0.5555555555555556,
              "#d8576b"
             ],
             [
              0.6666666666666666,
              "#ed7953"
             ],
             [
              0.7777777777777778,
              "#fb9f3a"
             ],
             [
              0.8888888888888888,
              "#fdca26"
             ],
             [
              1,
              "#f0f921"
             ]
            ],
            "type": "surface"
           }
          ],
          "table": [
           {
            "cells": {
             "fill": {
              "color": "#EBF0F8"
             },
             "line": {
              "color": "white"
             }
            },
            "header": {
             "fill": {
              "color": "#C8D4E3"
             },
             "line": {
              "color": "white"
             }
            },
            "type": "table"
           }
          ]
         },
         "layout": {
          "annotationdefaults": {
           "arrowcolor": "#2a3f5f",
           "arrowhead": 0,
           "arrowwidth": 1
          },
          "autotypenumbers": "strict",
          "coloraxis": {
           "colorbar": {
            "outlinewidth": 0,
            "ticks": ""
           }
          },
          "colorscale": {
           "diverging": [
            [
             0,
             "#8e0152"
            ],
            [
             0.1,
             "#c51b7d"
            ],
            [
             0.2,
             "#de77ae"
            ],
            [
             0.3,
             "#f1b6da"
            ],
            [
             0.4,
             "#fde0ef"
            ],
            [
             0.5,
             "#f7f7f7"
            ],
            [
             0.6,
             "#e6f5d0"
            ],
            [
             0.7,
             "#b8e186"
            ],
            [
             0.8,
             "#7fbc41"
            ],
            [
             0.9,
             "#4d9221"
            ],
            [
             1,
             "#276419"
            ]
           ],
           "sequential": [
            [
             0,
             "#0d0887"
            ],
            [
             0.1111111111111111,
             "#46039f"
            ],
            [
             0.2222222222222222,
             "#7201a8"
            ],
            [
             0.3333333333333333,
             "#9c179e"
            ],
            [
             0.4444444444444444,
             "#bd3786"
            ],
            [
             0.5555555555555556,
             "#d8576b"
            ],
            [
             0.6666666666666666,
             "#ed7953"
            ],
            [
             0.7777777777777778,
             "#fb9f3a"
            ],
            [
             0.8888888888888888,
             "#fdca26"
            ],
            [
             1,
             "#f0f921"
            ]
           ],
           "sequentialminus": [
            [
             0,
             "#0d0887"
            ],
            [
             0.1111111111111111,
             "#46039f"
            ],
            [
             0.2222222222222222,
             "#7201a8"
            ],
            [
             0.3333333333333333,
             "#9c179e"
            ],
            [
             0.4444444444444444,
             "#bd3786"
            ],
            [
             0.5555555555555556,
             "#d8576b"
            ],
            [
             0.6666666666666666,
             "#ed7953"
            ],
            [
             0.7777777777777778,
             "#fb9f3a"
            ],
            [
             0.8888888888888888,
             "#fdca26"
            ],
            [
             1,
             "#f0f921"
            ]
           ]
          },
          "colorway": [
           "#636efa",
           "#EF553B",
           "#00cc96",
           "#ab63fa",
           "#FFA15A",
           "#19d3f3",
           "#FF6692",
           "#B6E880",
           "#FF97FF",
           "#FECB52"
          ],
          "font": {
           "color": "#2a3f5f"
          },
          "geo": {
           "bgcolor": "white",
           "lakecolor": "white",
           "landcolor": "#E5ECF6",
           "showlakes": true,
           "showland": true,
           "subunitcolor": "white"
          },
          "hoverlabel": {
           "align": "left"
          },
          "hovermode": "closest",
          "mapbox": {
           "style": "light"
          },
          "paper_bgcolor": "white",
          "plot_bgcolor": "#E5ECF6",
          "polar": {
           "angularaxis": {
            "gridcolor": "white",
            "linecolor": "white",
            "ticks": ""
           },
           "bgcolor": "#E5ECF6",
           "radialaxis": {
            "gridcolor": "white",
            "linecolor": "white",
            "ticks": ""
           }
          },
          "scene": {
           "xaxis": {
            "backgroundcolor": "#E5ECF6",
            "gridcolor": "white",
            "gridwidth": 2,
            "linecolor": "white",
            "showbackground": true,
            "ticks": "",
            "zerolinecolor": "white"
           },
           "yaxis": {
            "backgroundcolor": "#E5ECF6",
            "gridcolor": "white",
            "gridwidth": 2,
            "linecolor": "white",
            "showbackground": true,
            "ticks": "",
            "zerolinecolor": "white"
           },
           "zaxis": {
            "backgroundcolor": "#E5ECF6",
            "gridcolor": "white",
            "gridwidth": 2,
            "linecolor": "white",
            "showbackground": true,
            "ticks": "",
            "zerolinecolor": "white"
           }
          },
          "shapedefaults": {
           "line": {
            "color": "#2a3f5f"
           }
          },
          "ternary": {
           "aaxis": {
            "gridcolor": "white",
            "linecolor": "white",
            "ticks": ""
           },
           "baxis": {
            "gridcolor": "white",
            "linecolor": "white",
            "ticks": ""
           },
           "bgcolor": "#E5ECF6",
           "caxis": {
            "gridcolor": "white",
            "linecolor": "white",
            "ticks": ""
           }
          },
          "title": {
           "x": 0.05
          },
          "xaxis": {
           "automargin": true,
           "gridcolor": "white",
           "linecolor": "white",
           "ticks": "",
           "title": {
            "standoff": 15
           },
           "zerolinecolor": "white",
           "zerolinewidth": 2
          },
          "yaxis": {
           "automargin": true,
           "gridcolor": "white",
           "linecolor": "white",
           "ticks": "",
           "title": {
            "standoff": 15
           },
           "zerolinecolor": "white",
           "zerolinewidth": 2
          }
         }
        },
        "title": {
         "text": "Actual vs Predicted Funding Amount - Random Forest Regressor"
        },
        "xaxis": {
         "anchor": "y",
         "domain": [
          0,
          1
         ],
         "title": {
          "text": "Actual Funding Amount"
         }
        },
        "yaxis": {
         "anchor": "x",
         "domain": [
          0,
          1
         ],
         "title": {
          "text": "Predicted Funding Amount"
         }
        }
       }
      }
     },
     "metadata": {},
     "output_type": "display_data"
    }
   ],
   "source": [
    "fig = px.scatter(x=y_test, y=predictions['RandomForestRegressor'], labels={'x': 'Actual Funding Amount', 'y': 'Predicted Funding Amount'},\n",
    "                 title='Actual vs Predicted Funding Amount - Random Forest Regressor')\n",
    "fig.show()"
   ]
  },
  {
   "cell_type": "markdown",
   "id": "589a2e79",
   "metadata": {},
   "source": [
    "### Conclusion\n",
    "The Random Forest Regressor model provides us with a basic understanding of how different features influence the funding amount. The model's performance, as indicated by the MSE and R-squared metrics, suggests that there is room for improvement, possibly by using more complex models or additional features. The scatter plot of actual vs. predicted values helps us visually assess the model's accuracy.\n"
   ]
  }
 ],
 "metadata": {
  "creation_period": "",
  "kernelspec": {
   "display_name": "Python 3 (ipykernel)",
   "language": "python",
   "name": "python3"
  },
  "language_info": {
   "codemirror_mode": {
    "name": "ipython",
    "version": 3
   },
   "file_extension": ".py",
   "mimetype": "text/x-python",
   "name": "python",
   "nbconvert_exporter": "python",
   "pygments_lexer": "ipython3",
   "version": "3.12.0"
  },
  "nb_name": "template",
  "qut": {
   "creation_period": "2023_sem1",
   "nb_name": "template-assignment2",
   "unit_code": "IFN619"
  },
  "unit_code": "",
  "vscode": {
   "interpreter": {
    "hash": "d4d1e4263499bec80672ea0156c357c1ee493ec2b1c70f0acce89fc37c4a6abe"
   }
  }
 },
 "nbformat": 4,
 "nbformat_minor": 5
}
