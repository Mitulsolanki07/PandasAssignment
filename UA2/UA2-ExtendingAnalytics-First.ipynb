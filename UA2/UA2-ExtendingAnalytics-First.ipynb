{
 "cells": [
  {
   "attachments": {},
   "cell_type": "markdown",
   "id": "ff597d6e-cdac-4d1a-b657-f6d756380ae3",
   "metadata": {
    "cell_name": "title_cell"
   },
   "source": [
    "# IFN619 :: UA2 - Extending Analytics (40%)\n",
    "\n",
    "**IMPORTANT:** Refer to the instructions in Canvas [UA2 - Assignment 2 - extending analytics](https://canvas.qut.edu.au/courses/17432/assignments/163774) *BEFORE* working on this assignment.\n",
    "\n",
    "#### REQUIREMENTS ####\n",
    "\n",
    "1. Complete and run the code cell below to display your name, student number, and assignment option\n",
    "2. Identify an appropriate question (or questions) to be addressed by your overall data analytics narrative\n",
    "3. Extend your analysis in assignment 1 with:\n",
    "    - the analysis of additional unstructured data using the Guardian API (See accessing the Guardian API notebook),\n",
    "    - the use of one machine learning technique (as used in the class materials), and\n",
    "    - identification of ethical considerations relevant to the analysis (by drawing on class materials).\n",
    "4. Ensure that you include documentation of your thinking and decision-making using markdown cells\n",
    "5. Ensure that you include appropriate visualisations, and that they support the overall narrative\n",
    "6. Ensure that your insights answer your question/s and are appropriate to your narrative. \n",
    "7. Ensure that your insights are consistent with the ethical considerations identified.\n",
    "\n",
    "**NOTE:** you should not repeat the analysis from assignment 1, but you may need to save dataframes from assignment 1 and reload for use in this assignment. You may also summarise your assignment 1 insights as part of the process of identifying questions for analysis.\n",
    "\n",
    "#### SUBMISSION ####\n",
    "\n",
    "1. Create an assignment 2 folder named in the form **UA2-surname-idnumber** and put your notebook and any data files inside this folder. Note, do not put large training data in this folder (reference any training data that you used but keep it outside this folder), only keep small data files and models in this folder with your notebook.\n",
    "2. When you have everything in the correct folder, reset all cells and restart the kernel, then run the notebook completely, checking that all cells have run without error. If you encounter errors, fix your notebook and re-run the process. It is important that your notebook runs without errors only requiring the files in the folder that you have created.\n",
    "3. When the notebook is error free, zip the entire folder (you can select download folder in Jupyter).\n",
    "4. Submit the zipped folder on Canvas [UA2 - Assignment 2 - extending analytics](https://canvas.qut.edu.au/courses/17432/assignments/163774)\n"
   ]
  },
  {
   "attachments": {},
   "cell_type": "markdown",
   "id": "6ef62cbd-2ea0-442e-973e-e50ca1e97fa2",
   "metadata": {
    "cell_name": "header_cell"
   },
   "source": [
    "<div style=\"background:#FFFFEE; color:#440404; padding:8px; border-radius: 4px; text-align: center; font-weight: 500;\">IFN619 - Data Analytics for Strategic Decision Makers (2024 Sem 1)</div>"
   ]
  },
  {
   "attachments": {},
   "cell_type": "markdown",
   "id": "24fbcf4f",
   "metadata": {},
   "source": [
    "---\n"
   ]
  },
  {
   "cell_type": "markdown",
   "id": "681f6f82",
   "metadata": {},
   "source": [
    "Import necessary libraries:"
   ]
  },
  {
   "cell_type": "code",
   "execution_count": 7,
   "id": "dca76aa9",
   "metadata": {},
   "outputs": [],
   "source": [
    "\n",
    "import pandas as pd\n",
    "import plotly.graph_objects as go\n",
    "import plotly.express as px\n",
    "import numpy as np\n",
    "from plotly.subplots import make_subplots\n",
    "\n",
    "from sklearn.model_selection import train_test_split\n",
    "from sklearn.tree import DecisionTreeRegressor\n",
    "from sklearn.metrics import mean_squared_error, r2_score\n",
    "import matplotlib.pyplot as plt\n",
    "from sklearn.tree import plot_tree"
   ]
  },
  {
   "cell_type": "code",
   "execution_count": 8,
   "id": "fe49040c",
   "metadata": {},
   "outputs": [],
   "source": [
    "# Define the file path for cleaned datasets\n",
    "file_path = r\"cleaned-queensland-funding-recipients.csv\"\n",
    "\n",
    "# Read the CSV file into a pandas DataFrame\n",
    "try:\n",
    "  df = pd.read_csv(file_path)\n",
    "except FileNotFoundError:\n",
    "  print(\"Error: File not found. Please check the file path.\")"
   ]
  },
  {
   "cell_type": "markdown",
   "id": "7619f813",
   "metadata": {},
   "source": [
    "#### Charts"
   ]
  },
  {
   "cell_type": "markdown",
   "id": "f4287362-b384-45df-b7a9-ab9d531c25dd",
   "metadata": {},
   "source": [
    "#### Chart 1 - Top 15 Other Partners; Collaborators (if applicable) averaged by Actual Contractual Commitments ($)\n",
    "* The Partners Will Be Selected might exhibit a more robust financial obligation towards the project in contrast to their counterparts, potentially reflecting a heightened degree of dedication and capital investment in the project. This differential financial stance could imply a deeper level of engagement and a more substantial commitment to the project's success on the part of The Partners Will Be Selected.\n",
    "\n",
    "* The quantum of financial resources pledged to contracts by the chosen partners subsequent to securing funding is notably higher for The Partners Will Be Selected when juxtaposed with Data61 and other collaborators. This disparity underscores the fact that The Partners Will Be Selected are indeed assuming significantly greater financial responsibilities in comparison to their peer partners, indicating a potentially stronger financial backing and a more substantial stake in the project's outcomes."
   ]
  },
  {
   "cell_type": "code",
   "execution_count": 9,
   "id": "f451ccf1",
   "metadata": {},
   "outputs": [
    {
     "data": {
      "application/vnd.plotly.v1+json": {
       "config": {
        "plotlyServerURL": "https://plot.ly"
       },
       "data": [
        {
         "alignmentgroup": "True",
         "customdata": [
          [
           " The partners will be selected post-funding award (see details below in section on partner relationships)."
          ]
         ],
         "hovertemplate": "Other Partners; Collaborators (if applicable)=%{customdata[0]}<br>Average Actual Contractual Commitment ($)=%{text}<extra></extra>",
         "legendgroup": " The partners will b...",
         "marker": {
          "color": "rgb(141,211,199)",
          "pattern": {
           "shape": ""
          }
         },
         "name": " The partners will b...",
         "offsetgroup": " The partners will b...",
         "orientation": "h",
         "showlegend": true,
         "text": [
          9000000
         ],
         "textposition": "outside",
         "texttemplate": "%{text:.2s}",
         "type": "bar",
         "x": [
          9000000
         ],
         "xaxis": "x",
         "y": [
          " The partners will b..."
         ],
         "yaxis": "y"
        },
        {
         "alignmentgroup": "True",
         "customdata": [
          [
           "Data61"
          ]
         ],
         "hovertemplate": "Other Partners; Collaborators (if applicable)=%{customdata[0]}<br>Average Actual Contractual Commitment ($)=%{text}<extra></extra>",
         "legendgroup": "Data61",
         "marker": {
          "color": "rgb(255,255,179)",
          "pattern": {
           "shape": ""
          }
         },
         "name": "Data61",
         "offsetgroup": "Data61",
         "orientation": "h",
         "showlegend": true,
         "text": [
          5695000
         ],
         "textposition": "outside",
         "texttemplate": "%{text:.2s}",
         "type": "bar",
         "x": [
          5695000
         ],
         "xaxis": "x",
         "y": [
          "Data61"
         ],
         "yaxis": "y"
        },
        {
         "alignmentgroup": "True",
         "customdata": [
          [
           "KPMG"
          ]
         ],
         "hovertemplate": "Other Partners; Collaborators (if applicable)=%{customdata[0]}<br>Average Actual Contractual Commitment ($)=%{text}<extra></extra>",
         "legendgroup": "KPMG",
         "marker": {
          "color": "rgb(190,186,218)",
          "pattern": {
           "shape": ""
          }
         },
         "name": "KPMG",
         "offsetgroup": "KPMG",
         "orientation": "h",
         "showlegend": true,
         "text": [
          5000000
         ],
         "textposition": "outside",
         "texttemplate": "%{text:.2s}",
         "type": "bar",
         "x": [
          5000000
         ],
         "xaxis": "x",
         "y": [
          "KPMG"
         ],
         "yaxis": "y"
        },
        {
         "alignmentgroup": "True",
         "customdata": [
          [
           " Emory University"
          ]
         ],
         "hovertemplate": "Other Partners; Collaborators (if applicable)=%{customdata[0]}<br>Average Actual Contractual Commitment ($)=%{text}<extra></extra>",
         "legendgroup": " Emory University",
         "marker": {
          "color": "rgb(251,128,114)",
          "pattern": {
           "shape": ""
          }
         },
         "name": " Emory University",
         "offsetgroup": " Emory University",
         "orientation": "h",
         "showlegend": true,
         "text": [
          4169000
         ],
         "textposition": "outside",
         "texttemplate": "%{text:.2s}",
         "type": "bar",
         "x": [
          4169000
         ],
         "xaxis": "x",
         "y": [
          " Emory University"
         ],
         "yaxis": "y"
        },
        {
         "alignmentgroup": "True",
         "customdata": [
          [
           " Energy Queensland Limited \n University of Queensland \n Springfield City Group Pty Limited \n Redback Operations Pty Ltd"
          ]
         ],
         "hovertemplate": "Other Partners; Collaborators (if applicable)=%{customdata[0]}<br>Average Actual Contractual Commitment ($)=%{text}<extra></extra>",
         "legendgroup": " Energy Queensland L...",
         "marker": {
          "color": "rgb(128,177,211)",
          "pattern": {
           "shape": ""
          }
         },
         "name": " Energy Queensland L...",
         "offsetgroup": " Energy Queensland L...",
         "orientation": "h",
         "showlegend": true,
         "text": [
          3807672
         ],
         "textposition": "outside",
         "texttemplate": "%{text:.2s}",
         "type": "bar",
         "x": [
          3807672
         ],
         "xaxis": "x",
         "y": [
          " Energy Queensland L..."
         ],
         "yaxis": "y"
        },
        {
         "alignmentgroup": "True",
         "customdata": [
          [
           "Toowoomba and Surat Basin Enterprise\nFKG Group"
          ]
         ],
         "hovertemplate": "Other Partners; Collaborators (if applicable)=%{customdata[0]}<br>Average Actual Contractual Commitment ($)=%{text}<extra></extra>",
         "legendgroup": "Toowoomba and Surat ...",
         "marker": {
          "color": "rgb(253,180,98)",
          "pattern": {
           "shape": ""
          }
         },
         "name": "Toowoomba and Surat ...",
         "offsetgroup": "Toowoomba and Surat ...",
         "orientation": "h",
         "showlegend": true,
         "text": [
          3000000
         ],
         "textposition": "outside",
         "texttemplate": "%{text:.2s}",
         "type": "bar",
         "x": [
          3000000
         ],
         "xaxis": "x",
         "y": [
          "Toowoomba and Surat ..."
         ],
         "yaxis": "y"
        },
        {
         "alignmentgroup": "True",
         "customdata": [
          [
           " Translational Research Institute"
          ]
         ],
         "hovertemplate": "Other Partners; Collaborators (if applicable)=%{customdata[0]}<br>Average Actual Contractual Commitment ($)=%{text}<extra></extra>",
         "legendgroup": " Translational Resea...",
         "marker": {
          "color": "rgb(179,222,105)",
          "pattern": {
           "shape": ""
          }
         },
         "name": " Translational Resea...",
         "offsetgroup": " Translational Resea...",
         "orientation": "h",
         "showlegend": true,
         "text": [
          1739324.5
         ],
         "textposition": "outside",
         "texttemplate": "%{text:.2s}",
         "type": "bar",
         "x": [
          1739324.5
         ],
         "xaxis": "x",
         "y": [
          " Translational Resea..."
         ],
         "yaxis": "y"
        },
        {
         "alignmentgroup": "True",
         "customdata": [
          [
           " Mater Hospital \n Queensland University of Technology - Kelvin Grove Campus Master"
          ]
         ],
         "hovertemplate": "Other Partners; Collaborators (if applicable)=%{customdata[0]}<br>Average Actual Contractual Commitment ($)=%{text}<extra></extra>",
         "legendgroup": " Mater Hospital \n Qu...",
         "marker": {
          "color": "rgb(252,205,229)",
          "pattern": {
           "shape": ""
          }
         },
         "name": " Mater Hospital \n Qu...",
         "offsetgroup": " Mater Hospital \n Qu...",
         "orientation": "h",
         "showlegend": true,
         "text": [
          1500000
         ],
         "textposition": "outside",
         "texttemplate": "%{text:.2s}",
         "type": "bar",
         "x": [
          1500000
         ],
         "xaxis": "x",
         "y": [
          " Mater Hospital \n Qu..."
         ],
         "yaxis": "y"
        },
        {
         "alignmentgroup": "True",
         "customdata": [
          [
           " Ceres Tag Pty Ltd \n CSIRO - Townsville - Master"
          ]
         ],
         "hovertemplate": "Other Partners; Collaborators (if applicable)=%{customdata[0]}<br>Average Actual Contractual Commitment ($)=%{text}<extra></extra>",
         "legendgroup": " Ceres Tag Pty Ltd \n...",
         "marker": {
          "color": "rgb(217,217,217)",
          "pattern": {
           "shape": ""
          }
         },
         "name": " Ceres Tag Pty Ltd \n...",
         "offsetgroup": " Ceres Tag Pty Ltd \n...",
         "orientation": "h",
         "showlegend": true,
         "text": [
          1500000
         ],
         "textposition": "outside",
         "texttemplate": "%{text:.2s}",
         "type": "bar",
         "x": [
          1500000
         ],
         "xaxis": "x",
         "y": [
          " Ceres Tag Pty Ltd \n..."
         ],
         "yaxis": "y"
        },
        {
         "alignmentgroup": "True",
         "customdata": [
          [
           " Smart AI Connect Pty Ltd \n Eliiza Pty Ltd \n BitQ Pty Ltd \n Amazon Web Services Australia Pty Ltd \n IntelliHQ Group Limited \n Alive Technologies Pty Ltd \n K J Ross and Associates Pty Ltd \n Techconnect Software Services Pty Ltd \n GE Healthcare Australia Pty Limited \n Intel Australia Pty Ltd \n Griffith University \n Augmented Intelligence Pty Ltd"
          ]
         ],
         "hovertemplate": "Other Partners; Collaborators (if applicable)=%{customdata[0]}<br>Average Actual Contractual Commitment ($)=%{text}<extra></extra>",
         "legendgroup": " Smart AI Connect Pt...",
         "marker": {
          "color": "rgb(188,128,189)",
          "pattern": {
           "shape": ""
          }
         },
         "name": " Smart AI Connect Pt...",
         "offsetgroup": " Smart AI Connect Pt...",
         "orientation": "h",
         "showlegend": true,
         "text": [
          1500000
         ],
         "textposition": "outside",
         "texttemplate": "%{text:.2s}",
         "type": "bar",
         "x": [
          1500000
         ],
         "xaxis": "x",
         "y": [
          " Smart AI Connect Pt..."
         ],
         "yaxis": "y"
        },
        {
         "alignmentgroup": "True",
         "customdata": [
          [
           " Griffith University - Nathan Campus - Master \n Cerebral Palsy Alliance \n Merchant Charitable Foundation \n Children's Health Queensland Hospital and Health Service - Master \n CSIRO - Australian e-Health Research Centre - Master"
          ]
         ],
         "hovertemplate": "Other Partners; Collaborators (if applicable)=%{customdata[0]}<br>Average Actual Contractual Commitment ($)=%{text}<extra></extra>",
         "legendgroup": " Griffith University...",
         "marker": {
          "color": "rgb(204,235,197)",
          "pattern": {
           "shape": ""
          }
         },
         "name": " Griffith University...",
         "offsetgroup": " Griffith University...",
         "orientation": "h",
         "showlegend": true,
         "text": [
          1499710
         ],
         "textposition": "outside",
         "texttemplate": "%{text:.2s}",
         "type": "bar",
         "x": [
          1499710
         ],
         "xaxis": "x",
         "y": [
          " Griffith University..."
         ],
         "yaxis": "y"
        },
        {
         "alignmentgroup": "True",
         "customdata": [
          [
           " Shake It Up Australia Foundation \n Anagenix Ltd (NZ) \n Microba Pty Ltd \n Metro North Hospital and Health Service (MNHHS) \n Wesley Medical Research Ltd - Master \n The Cure Parkinson's Trust, London UK"
          ]
         ],
         "hovertemplate": "Other Partners; Collaborators (if applicable)=%{customdata[0]}<br>Average Actual Contractual Commitment ($)=%{text}<extra></extra>",
         "legendgroup": " Shake It Up Austral...",
         "marker": {
          "color": "rgb(255,237,111)",
          "pattern": {
           "shape": ""
          }
         },
         "name": " Shake It Up Austral...",
         "offsetgroup": " Shake It Up Austral...",
         "orientation": "h",
         "showlegend": true,
         "text": [
          1260949
         ],
         "textposition": "outside",
         "texttemplate": "%{text:.2s}",
         "type": "bar",
         "x": [
          1260949
         ],
         "xaxis": "x",
         "y": [
          " Shake It Up Austral..."
         ],
         "yaxis": "y"
        },
        {
         "alignmentgroup": "True",
         "customdata": [
          [
           " QMI (Queensland Manufacturing Institute) Solutions \n Boeing Defence Australia"
          ]
         ],
         "hovertemplate": "Other Partners; Collaborators (if applicable)=%{customdata[0]}<br>Average Actual Contractual Commitment ($)=%{text}<extra></extra>",
         "legendgroup": " QMI (Queensland Man...",
         "marker": {
          "color": "rgb(141,211,199)",
          "pattern": {
           "shape": ""
          }
         },
         "name": " QMI (Queensland Man...",
         "offsetgroup": " QMI (Queensland Man...",
         "orientation": "h",
         "showlegend": true,
         "text": [
          1224000
         ],
         "textposition": "outside",
         "texttemplate": "%{text:.2s}",
         "type": "bar",
         "x": [
          1224000
         ],
         "xaxis": "x",
         "y": [
          " QMI (Queensland Man..."
         ],
         "yaxis": "y"
        },
        {
         "alignmentgroup": "True",
         "customdata": [
          [
           " Carbon Free Renewables Pty Ltd"
          ]
         ],
         "hovertemplate": "Other Partners; Collaborators (if applicable)=%{customdata[0]}<br>Average Actual Contractual Commitment ($)=%{text}<extra></extra>",
         "legendgroup": " Carbon Free Renewab...",
         "marker": {
          "color": "rgb(255,255,179)",
          "pattern": {
           "shape": ""
          }
         },
         "name": " Carbon Free Renewab...",
         "offsetgroup": " Carbon Free Renewab...",
         "orientation": "h",
         "showlegend": true,
         "text": [
          1000000
         ],
         "textposition": "outside",
         "texttemplate": "%{text:.2s}",
         "type": "bar",
         "x": [
          1000000
         ],
         "xaxis": "x",
         "y": [
          " Carbon Free Renewab..."
         ],
         "yaxis": "y"
        },
        {
         "alignmentgroup": "True",
         "customdata": [
          [
           " QGC Pty Limited \n Telstra Corporation Limited"
          ]
         ],
         "hovertemplate": "Other Partners; Collaborators (if applicable)=%{customdata[0]}<br>Average Actual Contractual Commitment ($)=%{text}<extra></extra>",
         "legendgroup": " QGC Pty Limited \n T...",
         "marker": {
          "color": "rgb(190,186,218)",
          "pattern": {
           "shape": ""
          }
         },
         "name": " QGC Pty Limited \n T...",
         "offsetgroup": " QGC Pty Limited \n T...",
         "orientation": "h",
         "showlegend": true,
         "text": [
          1000000
         ],
         "textposition": "outside",
         "texttemplate": "%{text:.2s}",
         "type": "bar",
         "x": [
          1000000
         ],
         "xaxis": "x",
         "y": [
          " QGC Pty Limited \n T..."
         ],
         "yaxis": "y"
        }
       ],
       "layout": {
        "barmode": "relative",
        "height": 700,
        "legend": {
         "title": {
          "text": "Other Partners; Collaborators (if applicable)"
         },
         "tracegroupgap": 0
        },
        "margin": {
         "b": 70,
         "l": 150,
         "r": 20,
         "t": 70
        },
        "template": {
         "data": {
          "bar": [
           {
            "error_x": {
             "color": "#2a3f5f"
            },
            "error_y": {
             "color": "#2a3f5f"
            },
            "marker": {
             "line": {
              "color": "#E5ECF6",
              "width": 0.5
             },
             "pattern": {
              "fillmode": "overlay",
              "size": 10,
              "solidity": 0.2
             }
            },
            "type": "bar"
           }
          ],
          "barpolar": [
           {
            "marker": {
             "line": {
              "color": "#E5ECF6",
              "width": 0.5
             },
             "pattern": {
              "fillmode": "overlay",
              "size": 10,
              "solidity": 0.2
             }
            },
            "type": "barpolar"
           }
          ],
          "carpet": [
           {
            "aaxis": {
             "endlinecolor": "#2a3f5f",
             "gridcolor": "white",
             "linecolor": "white",
             "minorgridcolor": "white",
             "startlinecolor": "#2a3f5f"
            },
            "baxis": {
             "endlinecolor": "#2a3f5f",
             "gridcolor": "white",
             "linecolor": "white",
             "minorgridcolor": "white",
             "startlinecolor": "#2a3f5f"
            },
            "type": "carpet"
           }
          ],
          "choropleth": [
           {
            "colorbar": {
             "outlinewidth": 0,
             "ticks": ""
            },
            "type": "choropleth"
           }
          ],
          "contour": [
           {
            "colorbar": {
             "outlinewidth": 0,
             "ticks": ""
            },
            "colorscale": [
             [
              0,
              "#0d0887"
             ],
             [
              0.1111111111111111,
              "#46039f"
             ],
             [
              0.2222222222222222,
              "#7201a8"
             ],
             [
              0.3333333333333333,
              "#9c179e"
             ],
             [
              0.4444444444444444,
              "#bd3786"
             ],
             [
              0.5555555555555556,
              "#d8576b"
             ],
             [
              0.6666666666666666,
              "#ed7953"
             ],
             [
              0.7777777777777778,
              "#fb9f3a"
             ],
             [
              0.8888888888888888,
              "#fdca26"
             ],
             [
              1,
              "#f0f921"
             ]
            ],
            "type": "contour"
           }
          ],
          "contourcarpet": [
           {
            "colorbar": {
             "outlinewidth": 0,
             "ticks": ""
            },
            "type": "contourcarpet"
           }
          ],
          "heatmap": [
           {
            "colorbar": {
             "outlinewidth": 0,
             "ticks": ""
            },
            "colorscale": [
             [
              0,
              "#0d0887"
             ],
             [
              0.1111111111111111,
              "#46039f"
             ],
             [
              0.2222222222222222,
              "#7201a8"
             ],
             [
              0.3333333333333333,
              "#9c179e"
             ],
             [
              0.4444444444444444,
              "#bd3786"
             ],
             [
              0.5555555555555556,
              "#d8576b"
             ],
             [
              0.6666666666666666,
              "#ed7953"
             ],
             [
              0.7777777777777778,
              "#fb9f3a"
             ],
             [
              0.8888888888888888,
              "#fdca26"
             ],
             [
              1,
              "#f0f921"
             ]
            ],
            "type": "heatmap"
           }
          ],
          "heatmapgl": [
           {
            "colorbar": {
             "outlinewidth": 0,
             "ticks": ""
            },
            "colorscale": [
             [
              0,
              "#0d0887"
             ],
             [
              0.1111111111111111,
              "#46039f"
             ],
             [
              0.2222222222222222,
              "#7201a8"
             ],
             [
              0.3333333333333333,
              "#9c179e"
             ],
             [
              0.4444444444444444,
              "#bd3786"
             ],
             [
              0.5555555555555556,
              "#d8576b"
             ],
             [
              0.6666666666666666,
              "#ed7953"
             ],
             [
              0.7777777777777778,
              "#fb9f3a"
             ],
             [
              0.8888888888888888,
              "#fdca26"
             ],
             [
              1,
              "#f0f921"
             ]
            ],
            "type": "heatmapgl"
           }
          ],
          "histogram": [
           {
            "marker": {
             "pattern": {
              "fillmode": "overlay",
              "size": 10,
              "solidity": 0.2
             }
            },
            "type": "histogram"
           }
          ],
          "histogram2d": [
           {
            "colorbar": {
             "outlinewidth": 0,
             "ticks": ""
            },
            "colorscale": [
             [
              0,
              "#0d0887"
             ],
             [
              0.1111111111111111,
              "#46039f"
             ],
             [
              0.2222222222222222,
              "#7201a8"
             ],
             [
              0.3333333333333333,
              "#9c179e"
             ],
             [
              0.4444444444444444,
              "#bd3786"
             ],
             [
              0.5555555555555556,
              "#d8576b"
             ],
             [
              0.6666666666666666,
              "#ed7953"
             ],
             [
              0.7777777777777778,
              "#fb9f3a"
             ],
             [
              0.8888888888888888,
              "#fdca26"
             ],
             [
              1,
              "#f0f921"
             ]
            ],
            "type": "histogram2d"
           }
          ],
          "histogram2dcontour": [
           {
            "colorbar": {
             "outlinewidth": 0,
             "ticks": ""
            },
            "colorscale": [
             [
              0,
              "#0d0887"
             ],
             [
              0.1111111111111111,
              "#46039f"
             ],
             [
              0.2222222222222222,
              "#7201a8"
             ],
             [
              0.3333333333333333,
              "#9c179e"
             ],
             [
              0.4444444444444444,
              "#bd3786"
             ],
             [
              0.5555555555555556,
              "#d8576b"
             ],
             [
              0.6666666666666666,
              "#ed7953"
             ],
             [
              0.7777777777777778,
              "#fb9f3a"
             ],
             [
              0.8888888888888888,
              "#fdca26"
             ],
             [
              1,
              "#f0f921"
             ]
            ],
            "type": "histogram2dcontour"
           }
          ],
          "mesh3d": [
           {
            "colorbar": {
             "outlinewidth": 0,
             "ticks": ""
            },
            "type": "mesh3d"
           }
          ],
          "parcoords": [
           {
            "line": {
             "colorbar": {
              "outlinewidth": 0,
              "ticks": ""
             }
            },
            "type": "parcoords"
           }
          ],
          "pie": [
           {
            "automargin": true,
            "type": "pie"
           }
          ],
          "scatter": [
           {
            "fillpattern": {
             "fillmode": "overlay",
             "size": 10,
             "solidity": 0.2
            },
            "type": "scatter"
           }
          ],
          "scatter3d": [
           {
            "line": {
             "colorbar": {
              "outlinewidth": 0,
              "ticks": ""
             }
            },
            "marker": {
             "colorbar": {
              "outlinewidth": 0,
              "ticks": ""
             }
            },
            "type": "scatter3d"
           }
          ],
          "scattercarpet": [
           {
            "marker": {
             "colorbar": {
              "outlinewidth": 0,
              "ticks": ""
             }
            },
            "type": "scattercarpet"
           }
          ],
          "scattergeo": [
           {
            "marker": {
             "colorbar": {
              "outlinewidth": 0,
              "ticks": ""
             }
            },
            "type": "scattergeo"
           }
          ],
          "scattergl": [
           {
            "marker": {
             "colorbar": {
              "outlinewidth": 0,
              "ticks": ""
             }
            },
            "type": "scattergl"
           }
          ],
          "scattermapbox": [
           {
            "marker": {
             "colorbar": {
              "outlinewidth": 0,
              "ticks": ""
             }
            },
            "type": "scattermapbox"
           }
          ],
          "scatterpolar": [
           {
            "marker": {
             "colorbar": {
              "outlinewidth": 0,
              "ticks": ""
             }
            },
            "type": "scatterpolar"
           }
          ],
          "scatterpolargl": [
           {
            "marker": {
             "colorbar": {
              "outlinewidth": 0,
              "ticks": ""
             }
            },
            "type": "scatterpolargl"
           }
          ],
          "scatterternary": [
           {
            "marker": {
             "colorbar": {
              "outlinewidth": 0,
              "ticks": ""
             }
            },
            "type": "scatterternary"
           }
          ],
          "surface": [
           {
            "colorbar": {
             "outlinewidth": 0,
             "ticks": ""
            },
            "colorscale": [
             [
              0,
              "#0d0887"
             ],
             [
              0.1111111111111111,
              "#46039f"
             ],
             [
              0.2222222222222222,
              "#7201a8"
             ],
             [
              0.3333333333333333,
              "#9c179e"
             ],
             [
              0.4444444444444444,
              "#bd3786"
             ],
             [
              0.5555555555555556,
              "#d8576b"
             ],
             [
              0.6666666666666666,
              "#ed7953"
             ],
             [
              0.7777777777777778,
              "#fb9f3a"
             ],
             [
              0.8888888888888888,
              "#fdca26"
             ],
             [
              1,
              "#f0f921"
             ]
            ],
            "type": "surface"
           }
          ],
          "table": [
           {
            "cells": {
             "fill": {
              "color": "#EBF0F8"
             },
             "line": {
              "color": "white"
             }
            },
            "header": {
             "fill": {
              "color": "#C8D4E3"
             },
             "line": {
              "color": "white"
             }
            },
            "type": "table"
           }
          ]
         },
         "layout": {
          "annotationdefaults": {
           "arrowcolor": "#2a3f5f",
           "arrowhead": 0,
           "arrowwidth": 1
          },
          "autotypenumbers": "strict",
          "coloraxis": {
           "colorbar": {
            "outlinewidth": 0,
            "ticks": ""
           }
          },
          "colorscale": {
           "diverging": [
            [
             0,
             "#8e0152"
            ],
            [
             0.1,
             "#c51b7d"
            ],
            [
             0.2,
             "#de77ae"
            ],
            [
             0.3,
             "#f1b6da"
            ],
            [
             0.4,
             "#fde0ef"
            ],
            [
             0.5,
             "#f7f7f7"
            ],
            [
             0.6,
             "#e6f5d0"
            ],
            [
             0.7,
             "#b8e186"
            ],
            [
             0.8,
             "#7fbc41"
            ],
            [
             0.9,
             "#4d9221"
            ],
            [
             1,
             "#276419"
            ]
           ],
           "sequential": [
            [
             0,
             "#0d0887"
            ],
            [
             0.1111111111111111,
             "#46039f"
            ],
            [
             0.2222222222222222,
             "#7201a8"
            ],
            [
             0.3333333333333333,
             "#9c179e"
            ],
            [
             0.4444444444444444,
             "#bd3786"
            ],
            [
             0.5555555555555556,
             "#d8576b"
            ],
            [
             0.6666666666666666,
             "#ed7953"
            ],
            [
             0.7777777777777778,
             "#fb9f3a"
            ],
            [
             0.8888888888888888,
             "#fdca26"
            ],
            [
             1,
             "#f0f921"
            ]
           ],
           "sequentialminus": [
            [
             0,
             "#0d0887"
            ],
            [
             0.1111111111111111,
             "#46039f"
            ],
            [
             0.2222222222222222,
             "#7201a8"
            ],
            [
             0.3333333333333333,
             "#9c179e"
            ],
            [
             0.4444444444444444,
             "#bd3786"
            ],
            [
             0.5555555555555556,
             "#d8576b"
            ],
            [
             0.6666666666666666,
             "#ed7953"
            ],
            [
             0.7777777777777778,
             "#fb9f3a"
            ],
            [
             0.8888888888888888,
             "#fdca26"
            ],
            [
             1,
             "#f0f921"
            ]
           ]
          },
          "colorway": [
           "#636efa",
           "#EF553B",
           "#00cc96",
           "#ab63fa",
           "#FFA15A",
           "#19d3f3",
           "#FF6692",
           "#B6E880",
           "#FF97FF",
           "#FECB52"
          ],
          "font": {
           "color": "#2a3f5f"
          },
          "geo": {
           "bgcolor": "white",
           "lakecolor": "white",
           "landcolor": "#E5ECF6",
           "showlakes": true,
           "showland": true,
           "subunitcolor": "white"
          },
          "hoverlabel": {
           "align": "left"
          },
          "hovermode": "closest",
          "mapbox": {
           "style": "light"
          },
          "paper_bgcolor": "white",
          "plot_bgcolor": "#E5ECF6",
          "polar": {
           "angularaxis": {
            "gridcolor": "white",
            "linecolor": "white",
            "ticks": ""
           },
           "bgcolor": "#E5ECF6",
           "radialaxis": {
            "gridcolor": "white",
            "linecolor": "white",
            "ticks": ""
           }
          },
          "scene": {
           "xaxis": {
            "backgroundcolor": "#E5ECF6",
            "gridcolor": "white",
            "gridwidth": 2,
            "linecolor": "white",
            "showbackground": true,
            "ticks": "",
            "zerolinecolor": "white"
           },
           "yaxis": {
            "backgroundcolor": "#E5ECF6",
            "gridcolor": "white",
            "gridwidth": 2,
            "linecolor": "white",
            "showbackground": true,
            "ticks": "",
            "zerolinecolor": "white"
           },
           "zaxis": {
            "backgroundcolor": "#E5ECF6",
            "gridcolor": "white",
            "gridwidth": 2,
            "linecolor": "white",
            "showbackground": true,
            "ticks": "",
            "zerolinecolor": "white"
           }
          },
          "shapedefaults": {
           "line": {
            "color": "#2a3f5f"
           }
          },
          "ternary": {
           "aaxis": {
            "gridcolor": "white",
            "linecolor": "white",
            "ticks": ""
           },
           "baxis": {
            "gridcolor": "white",
            "linecolor": "white",
            "ticks": ""
           },
           "bgcolor": "#E5ECF6",
           "caxis": {
            "gridcolor": "white",
            "linecolor": "white",
            "ticks": ""
           }
          },
          "title": {
           "x": 0.05
          },
          "xaxis": {
           "automargin": true,
           "gridcolor": "white",
           "linecolor": "white",
           "ticks": "",
           "title": {
            "standoff": 15
           },
           "zerolinecolor": "white",
           "zerolinewidth": 2
          },
          "yaxis": {
           "automargin": true,
           "gridcolor": "white",
           "linecolor": "white",
           "ticks": "",
           "title": {
            "standoff": 15
           },
           "zerolinecolor": "white",
           "zerolinewidth": 2
          }
         }
        },
        "title": {
         "font": {
          "size": 20
         },
         "text": "Top 15 Other Partners; Collaborators (if applicable) averaged by Actual Contractual Commitments ($)"
        },
        "xaxis": {
         "anchor": "y",
         "domain": [
          0,
          1
         ],
         "title": {
          "text": "Average Actual Contractual Commitment ($)"
         }
        },
        "yaxis": {
         "anchor": "x",
         "categoryarray": [
          " QGC Pty Limited \n T...",
          " Carbon Free Renewab...",
          " QMI (Queensland Man...",
          " Shake It Up Austral...",
          " Griffith University...",
          " Smart AI Connect Pt...",
          " Ceres Tag Pty Ltd \n...",
          " Mater Hospital \n Qu...",
          " Translational Resea...",
          "Toowoomba and Surat ...",
          " Energy Queensland L...",
          " Emory University",
          "KPMG",
          "Data61",
          " The partners will b..."
         ],
         "categoryorder": "array",
         "domain": [
          0,
          1
         ],
         "title": {
          "text": "Other Partners; Collaborators (if applicable)"
         }
        }
       }
      }
     },
     "metadata": {},
     "output_type": "display_data"
    }
   ],
   "source": [
    "# Group the dataframe by 'Investment/Project Title' and calculate the mean of 'Actual Contractual Commitment ($)'\n",
    "average_commitment_df = df.groupby('Other Partners; Collaborators (if applicable)')['Actual Contractual Commitment ($)'].mean().reset_index()\n",
    "\n",
    "# Rename the column to reflect that it contains average values\n",
    "average_commitment_df = average_commitment_df.rename(columns={'Actual Contractual Commitment ($)': 'Average Actual Contractual Commitment ($)'})\n",
    "\n",
    "# Sort the dataframe in descending order and select the top 15 investment/projects\n",
    "top_15_other_partner_collaborators = average_commitment_df.sort_values(by='Average Actual Contractual Commitment ($)', ascending=False).head(15)\n",
    "\n",
    "# Reset the index and add a 'Rank' column\n",
    "top_15_other_partner_collaborators = top_15_other_partner_collaborators.reset_index(drop=True)\n",
    "top_15_other_partner_collaborators['Rank'] = top_15_other_partner_collaborators.index + 1\n",
    "\n",
    "# Truncate labels after 20 characters\n",
    "top_15_other_partner_collaborators['Truncated Title'] = top_15_other_partner_collaborators['Other Partners; Collaborators (if applicable)'].apply(lambda x: x[:20] + '...' if len(x) > 20 else x)\n",
    "\n",
    "\n",
    "# Create the bar chart with updated colors and sorted in descending order\n",
    "fig = px.bar(\n",
    "    top_15_other_partner_collaborators,\n",
    "    x='Average Actual Contractual Commitment ($)',\n",
    "    y='Truncated Title',\n",
    "    orientation='h',\n",
    "    title='Top 15 Other Partners; Collaborators (if applicable) averaged by Actual Contractual Commitments ($)',\n",
    "    labels={'Average Actual Contractual Commitment ($)': 'Average Actual Contractual Commitment ($)', 'Truncated Title': 'Other Partners; Collaborators (if applicable)'},\n",
    "    text='Average Actual Contractual Commitment ($)',\n",
    "    color='Truncated Title',\n",
    "    color_discrete_sequence=px.colors.qualitative.Set3,\n",
    "    hover_data={'Other Partners; Collaborators (if applicable)': True}\n",
    ")\n",
    "\n",
    "\n",
    "fig.update_traces(texttemplate='%{text:.2s}', textposition='outside')\n",
    "fig.update_layout(\n",
    "    title=dict(font=dict(size=20)),\n",
    "    xaxis_title=\"Average Actual Contractual Commitment ($)\",\n",
    "    yaxis_title=\"Other Partners; Collaborators (if applicable)\",\n",
    "    margin=dict(l=150, r=20, t=70, b=70),\n",
    "    height=700\n",
    ")\n",
    "\n",
    "fig.show()"
   ]
  },
  {
   "cell_type": "markdown",
   "id": "01191227",
   "metadata": {},
   "source": [
    "#### Chart 2 - Analyze Average Actual Contractual Commitments ($) for RAP Region\n",
    "* Nonqueensland significantly lags behind other regions. \n",
    "* While certain discrepancies in contract funding may seem insignificant, it is imperative to delve into the reasons behind Nonqueensland having considerably less funds allocated to contracts in comparison to other areas. \n",
    "* Within the RAP Region, specific categories exhibit a substantial influence on the extent of funds allocated to contracts. Discrepancies in contract funding across categories may not hold much significance, potentially occurring randomly. For instance, the average funds allocated to contracts in Brisbane And Redlands do not differ significantly from the statewide average. However, Nonqueensland stands out for its significantly lower funding in contracts compared to Brisbane And Redlands, Darling Downs, Brisbane, Gold Coast, and Ipswich."
   ]
  },
  {
   "cell_type": "code",
   "execution_count": 10,
   "id": "b3acb5a2",
   "metadata": {},
   "outputs": [
    {
     "data": {
      "application/vnd.plotly.v1+json": {
       "config": {
        "plotlyServerURL": "https://plot.ly"
       },
       "data": [
        {
         "alignmentgroup": "True",
         "hovertemplate": "RAP Region=%{y}<br>Average Actual Contractual Commitment ($)=%{text}<extra></extra>",
         "legendgroup": "Brisbane And Redlands",
         "marker": {
          "color": "rgb(141,211,199)",
          "pattern": {
           "shape": ""
          }
         },
         "name": "Brisbane And Redlands",
         "offsetgroup": "Brisbane And Redlands",
         "orientation": "h",
         "showlegend": true,
         "text": [
          217214.36779661017
         ],
         "textposition": "outside",
         "texttemplate": "%{text:.2s}",
         "type": "bar",
         "x": [
          217214.36779661017
         ],
         "xaxis": "x",
         "y": [
          "Brisbane And Redlands"
         ],
         "yaxis": "y"
        },
        {
         "alignmentgroup": "True",
         "hovertemplate": "RAP Region=%{y}<br>Average Actual Contractual Commitment ($)=%{text}<extra></extra>",
         "legendgroup": "Statewide",
         "marker": {
          "color": "rgb(255,255,179)",
          "pattern": {
           "shape": ""
          }
         },
         "name": "Statewide",
         "offsetgroup": "Statewide",
         "orientation": "h",
         "showlegend": true,
         "text": [
          210583.375
         ],
         "textposition": "outside",
         "texttemplate": "%{text:.2s}",
         "type": "bar",
         "x": [
          210583.375
         ],
         "xaxis": "x",
         "y": [
          "Statewide"
         ],
         "yaxis": "y"
        },
        {
         "alignmentgroup": "True",
         "hovertemplate": "RAP Region=%{y}<br>Average Actual Contractual Commitment ($)=%{text}<extra></extra>",
         "legendgroup": "Darling Downs",
         "marker": {
          "color": "rgb(190,186,218)",
          "pattern": {
           "shape": ""
          }
         },
         "name": "Darling Downs",
         "offsetgroup": "Darling Downs",
         "orientation": "h",
         "showlegend": true,
         "text": [
          197003.95555555556
         ],
         "textposition": "outside",
         "texttemplate": "%{text:.2s}",
         "type": "bar",
         "x": [
          197003.95555555556
         ],
         "xaxis": "x",
         "y": [
          "Darling Downs"
         ],
         "yaxis": "y"
        },
        {
         "alignmentgroup": "True",
         "hovertemplate": "RAP Region=%{y}<br>Average Actual Contractual Commitment ($)=%{text}<extra></extra>",
         "legendgroup": "Central Queensland",
         "marker": {
          "color": "rgb(251,128,114)",
          "pattern": {
           "shape": ""
          }
         },
         "name": "Central Queensland",
         "offsetgroup": "Central Queensland",
         "orientation": "h",
         "showlegend": true,
         "text": [
          195081.24324324325
         ],
         "textposition": "outside",
         "texttemplate": "%{text:.2s}",
         "type": "bar",
         "x": [
          195081.24324324325
         ],
         "xaxis": "x",
         "y": [
          "Central Queensland"
         ],
         "yaxis": "y"
        },
        {
         "alignmentgroup": "True",
         "hovertemplate": "RAP Region=%{y}<br>Average Actual Contractual Commitment ($)=%{text}<extra></extra>",
         "legendgroup": "Brisbane",
         "marker": {
          "color": "rgb(128,177,211)",
          "pattern": {
           "shape": ""
          }
         },
         "name": "Brisbane",
         "offsetgroup": "Brisbane",
         "orientation": "h",
         "showlegend": true,
         "text": [
          169536.97931034482
         ],
         "textposition": "outside",
         "texttemplate": "%{text:.2s}",
         "type": "bar",
         "x": [
          169536.97931034482
         ],
         "xaxis": "x",
         "y": [
          "Brisbane"
         ],
         "yaxis": "y"
        },
        {
         "alignmentgroup": "True",
         "hovertemplate": "RAP Region=%{y}<br>Average Actual Contractual Commitment ($)=%{text}<extra></extra>",
         "legendgroup": "Outback Queensland",
         "marker": {
          "color": "rgb(253,180,98)",
          "pattern": {
           "shape": ""
          }
         },
         "name": "Outback Queensland",
         "offsetgroup": "Outback Queensland",
         "orientation": "h",
         "showlegend": true,
         "text": [
          116496.83333333333
         ],
         "textposition": "outside",
         "texttemplate": "%{text:.2s}",
         "type": "bar",
         "x": [
          116496.83333333333
         ],
         "xaxis": "x",
         "y": [
          "Outback Queensland"
         ],
         "yaxis": "y"
        },
        {
         "alignmentgroup": "True",
         "hovertemplate": "RAP Region=%{y}<br>Average Actual Contractual Commitment ($)=%{text}<extra></extra>",
         "legendgroup": "Gold Coast",
         "marker": {
          "color": "rgb(179,222,105)",
          "pattern": {
           "shape": ""
          }
         },
         "name": "Gold Coast",
         "offsetgroup": "Gold Coast",
         "orientation": "h",
         "showlegend": true,
         "text": [
          113202.88571428572
         ],
         "textposition": "outside",
         "texttemplate": "%{text:.2s}",
         "type": "bar",
         "x": [
          113202.88571428572
         ],
         "xaxis": "x",
         "y": [
          "Gold Coast"
         ],
         "yaxis": "y"
        },
        {
         "alignmentgroup": "True",
         "hovertemplate": "RAP Region=%{y}<br>Average Actual Contractual Commitment ($)=%{text}<extra></extra>",
         "legendgroup": "Townsville",
         "marker": {
          "color": "rgb(252,205,229)",
          "pattern": {
           "shape": ""
          }
         },
         "name": "Townsville",
         "offsetgroup": "Townsville",
         "orientation": "h",
         "showlegend": true,
         "text": [
          111764.37735849057
         ],
         "textposition": "outside",
         "texttemplate": "%{text:.2s}",
         "type": "bar",
         "x": [
          111764.37735849057
         ],
         "xaxis": "x",
         "y": [
          "Townsville"
         ],
         "yaxis": "y"
        },
        {
         "alignmentgroup": "True",
         "hovertemplate": "RAP Region=%{y}<br>Average Actual Contractual Commitment ($)=%{text}<extra></extra>",
         "legendgroup": "Moreton Bay",
         "marker": {
          "color": "rgb(217,217,217)",
          "pattern": {
           "shape": ""
          }
         },
         "name": "Moreton Bay",
         "offsetgroup": "Moreton Bay",
         "orientation": "h",
         "showlegend": true,
         "text": [
          107348.80952380953
         ],
         "textposition": "outside",
         "texttemplate": "%{text:.2s}",
         "type": "bar",
         "x": [
          107348.80952380953
         ],
         "xaxis": "x",
         "y": [
          "Moreton Bay"
         ],
         "yaxis": "y"
        },
        {
         "alignmentgroup": "True",
         "hovertemplate": "RAP Region=%{y}<br>Average Actual Contractual Commitment ($)=%{text}<extra></extra>",
         "legendgroup": "Ipswich",
         "marker": {
          "color": "rgb(188,128,189)",
          "pattern": {
           "shape": ""
          }
         },
         "name": "Ipswich",
         "offsetgroup": "Ipswich",
         "orientation": "h",
         "showlegend": true,
         "text": [
          101883.70212765958
         ],
         "textposition": "outside",
         "texttemplate": "%{text:.2s}",
         "type": "bar",
         "x": [
          101883.70212765958
         ],
         "xaxis": "x",
         "y": [
          "Ipswich"
         ],
         "yaxis": "y"
        },
        {
         "alignmentgroup": "True",
         "hovertemplate": "RAP Region=%{y}<br>Average Actual Contractual Commitment ($)=%{text}<extra></extra>",
         "legendgroup": "Sunshine Coast",
         "marker": {
          "color": "rgb(204,235,197)",
          "pattern": {
           "shape": ""
          }
         },
         "name": "Sunshine Coast",
         "offsetgroup": "Sunshine Coast",
         "orientation": "h",
         "showlegend": true,
         "text": [
          90057.53846153847
         ],
         "textposition": "outside",
         "texttemplate": "%{text:.2s}",
         "type": "bar",
         "x": [
          90057.53846153847
         ],
         "xaxis": "x",
         "y": [
          "Sunshine Coast"
         ],
         "yaxis": "y"
        },
        {
         "alignmentgroup": "True",
         "hovertemplate": "RAP Region=%{y}<br>Average Actual Contractual Commitment ($)=%{text}<extra></extra>",
         "legendgroup": "Far North Queensland",
         "marker": {
          "color": "rgb(255,237,111)",
          "pattern": {
           "shape": ""
          }
         },
         "name": "Far North Queensland",
         "offsetgroup": "Far North Queensland",
         "orientation": "h",
         "showlegend": true,
         "text": [
          80248.65333333334
         ],
         "textposition": "outside",
         "texttemplate": "%{text:.2s}",
         "type": "bar",
         "x": [
          80248.65333333334
         ],
         "xaxis": "x",
         "y": [
          "Far North Queensland"
         ],
         "yaxis": "y"
        },
        {
         "alignmentgroup": "True",
         "hovertemplate": "RAP Region=%{y}<br>Average Actual Contractual Commitment ($)=%{text}<extra></extra>",
         "legendgroup": "Mackay-Whitsunday",
         "marker": {
          "color": "rgb(141,211,199)",
          "pattern": {
           "shape": ""
          }
         },
         "name": "Mackay-Whitsunday",
         "offsetgroup": "Mackay-Whitsunday",
         "orientation": "h",
         "showlegend": true,
         "text": [
          78907.61111111111
         ],
         "textposition": "outside",
         "texttemplate": "%{text:.2s}",
         "type": "bar",
         "x": [
          78907.61111111111
         ],
         "xaxis": "x",
         "y": [
          "Mackay-Whitsunday"
         ],
         "yaxis": "y"
        },
        {
         "alignmentgroup": "True",
         "hovertemplate": "RAP Region=%{y}<br>Average Actual Contractual Commitment ($)=%{text}<extra></extra>",
         "legendgroup": "Wide Bay",
         "marker": {
          "color": "rgb(255,255,179)",
          "pattern": {
           "shape": ""
          }
         },
         "name": "Wide Bay",
         "offsetgroup": "Wide Bay",
         "orientation": "h",
         "showlegend": true,
         "text": [
          77650.37931034483
         ],
         "textposition": "outside",
         "texttemplate": "%{text:.2s}",
         "type": "bar",
         "x": [
          77650.37931034483
         ],
         "xaxis": "x",
         "y": [
          "Wide Bay"
         ],
         "yaxis": "y"
        },
        {
         "alignmentgroup": "True",
         "hovertemplate": "RAP Region=%{y}<br>Average Actual Contractual Commitment ($)=%{text}<extra></extra>",
         "legendgroup": "Logan",
         "marker": {
          "color": "rgb(190,186,218)",
          "pattern": {
           "shape": ""
          }
         },
         "name": "Logan",
         "offsetgroup": "Logan",
         "orientation": "h",
         "showlegend": true,
         "text": [
          75151
         ],
         "textposition": "outside",
         "texttemplate": "%{text:.2s}",
         "type": "bar",
         "x": [
          75151
         ],
         "xaxis": "x",
         "y": [
          "Logan"
         ],
         "yaxis": "y"
        },
        {
         "alignmentgroup": "True",
         "hovertemplate": "RAP Region=%{y}<br>Average Actual Contractual Commitment ($)=%{text}<extra></extra>",
         "legendgroup": "Nonqueensland",
         "marker": {
          "color": "rgb(251,128,114)",
          "pattern": {
           "shape": ""
          }
         },
         "name": "Nonqueensland",
         "offsetgroup": "Nonqueensland",
         "orientation": "h",
         "showlegend": true,
         "text": [
          61007
         ],
         "textposition": "outside",
         "texttemplate": "%{text:.2s}",
         "type": "bar",
         "x": [
          61007
         ],
         "xaxis": "x",
         "y": [
          "Nonqueensland"
         ],
         "yaxis": "y"
        }
       ],
       "layout": {
        "barmode": "relative",
        "height": 700,
        "legend": {
         "title": {
          "text": "RAP Region"
         },
         "tracegroupgap": 0
        },
        "margin": {
         "b": 70,
         "l": 150,
         "r": 20,
         "t": 70
        },
        "template": {
         "data": {
          "bar": [
           {
            "error_x": {
             "color": "#2a3f5f"
            },
            "error_y": {
             "color": "#2a3f5f"
            },
            "marker": {
             "line": {
              "color": "#E5ECF6",
              "width": 0.5
             },
             "pattern": {
              "fillmode": "overlay",
              "size": 10,
              "solidity": 0.2
             }
            },
            "type": "bar"
           }
          ],
          "barpolar": [
           {
            "marker": {
             "line": {
              "color": "#E5ECF6",
              "width": 0.5
             },
             "pattern": {
              "fillmode": "overlay",
              "size": 10,
              "solidity": 0.2
             }
            },
            "type": "barpolar"
           }
          ],
          "carpet": [
           {
            "aaxis": {
             "endlinecolor": "#2a3f5f",
             "gridcolor": "white",
             "linecolor": "white",
             "minorgridcolor": "white",
             "startlinecolor": "#2a3f5f"
            },
            "baxis": {
             "endlinecolor": "#2a3f5f",
             "gridcolor": "white",
             "linecolor": "white",
             "minorgridcolor": "white",
             "startlinecolor": "#2a3f5f"
            },
            "type": "carpet"
           }
          ],
          "choropleth": [
           {
            "colorbar": {
             "outlinewidth": 0,
             "ticks": ""
            },
            "type": "choropleth"
           }
          ],
          "contour": [
           {
            "colorbar": {
             "outlinewidth": 0,
             "ticks": ""
            },
            "colorscale": [
             [
              0,
              "#0d0887"
             ],
             [
              0.1111111111111111,
              "#46039f"
             ],
             [
              0.2222222222222222,
              "#7201a8"
             ],
             [
              0.3333333333333333,
              "#9c179e"
             ],
             [
              0.4444444444444444,
              "#bd3786"
             ],
             [
              0.5555555555555556,
              "#d8576b"
             ],
             [
              0.6666666666666666,
              "#ed7953"
             ],
             [
              0.7777777777777778,
              "#fb9f3a"
             ],
             [
              0.8888888888888888,
              "#fdca26"
             ],
             [
              1,
              "#f0f921"
             ]
            ],
            "type": "contour"
           }
          ],
          "contourcarpet": [
           {
            "colorbar": {
             "outlinewidth": 0,
             "ticks": ""
            },
            "type": "contourcarpet"
           }
          ],
          "heatmap": [
           {
            "colorbar": {
             "outlinewidth": 0,
             "ticks": ""
            },
            "colorscale": [
             [
              0,
              "#0d0887"
             ],
             [
              0.1111111111111111,
              "#46039f"
             ],
             [
              0.2222222222222222,
              "#7201a8"
             ],
             [
              0.3333333333333333,
              "#9c179e"
             ],
             [
              0.4444444444444444,
              "#bd3786"
             ],
             [
              0.5555555555555556,
              "#d8576b"
             ],
             [
              0.6666666666666666,
              "#ed7953"
             ],
             [
              0.7777777777777778,
              "#fb9f3a"
             ],
             [
              0.8888888888888888,
              "#fdca26"
             ],
             [
              1,
              "#f0f921"
             ]
            ],
            "type": "heatmap"
           }
          ],
          "heatmapgl": [
           {
            "colorbar": {
             "outlinewidth": 0,
             "ticks": ""
            },
            "colorscale": [
             [
              0,
              "#0d0887"
             ],
             [
              0.1111111111111111,
              "#46039f"
             ],
             [
              0.2222222222222222,
              "#7201a8"
             ],
             [
              0.3333333333333333,
              "#9c179e"
             ],
             [
              0.4444444444444444,
              "#bd3786"
             ],
             [
              0.5555555555555556,
              "#d8576b"
             ],
             [
              0.6666666666666666,
              "#ed7953"
             ],
             [
              0.7777777777777778,
              "#fb9f3a"
             ],
             [
              0.8888888888888888,
              "#fdca26"
             ],
             [
              1,
              "#f0f921"
             ]
            ],
            "type": "heatmapgl"
           }
          ],
          "histogram": [
           {
            "marker": {
             "pattern": {
              "fillmode": "overlay",
              "size": 10,
              "solidity": 0.2
             }
            },
            "type": "histogram"
           }
          ],
          "histogram2d": [
           {
            "colorbar": {
             "outlinewidth": 0,
             "ticks": ""
            },
            "colorscale": [
             [
              0,
              "#0d0887"
             ],
             [
              0.1111111111111111,
              "#46039f"
             ],
             [
              0.2222222222222222,
              "#7201a8"
             ],
             [
              0.3333333333333333,
              "#9c179e"
             ],
             [
              0.4444444444444444,
              "#bd3786"
             ],
             [
              0.5555555555555556,
              "#d8576b"
             ],
             [
              0.6666666666666666,
              "#ed7953"
             ],
             [
              0.7777777777777778,
              "#fb9f3a"
             ],
             [
              0.8888888888888888,
              "#fdca26"
             ],
             [
              1,
              "#f0f921"
             ]
            ],
            "type": "histogram2d"
           }
          ],
          "histogram2dcontour": [
           {
            "colorbar": {
             "outlinewidth": 0,
             "ticks": ""
            },
            "colorscale": [
             [
              0,
              "#0d0887"
             ],
             [
              0.1111111111111111,
              "#46039f"
             ],
             [
              0.2222222222222222,
              "#7201a8"
             ],
             [
              0.3333333333333333,
              "#9c179e"
             ],
             [
              0.4444444444444444,
              "#bd3786"
             ],
             [
              0.5555555555555556,
              "#d8576b"
             ],
             [
              0.6666666666666666,
              "#ed7953"
             ],
             [
              0.7777777777777778,
              "#fb9f3a"
             ],
             [
              0.8888888888888888,
              "#fdca26"
             ],
             [
              1,
              "#f0f921"
             ]
            ],
            "type": "histogram2dcontour"
           }
          ],
          "mesh3d": [
           {
            "colorbar": {
             "outlinewidth": 0,
             "ticks": ""
            },
            "type": "mesh3d"
           }
          ],
          "parcoords": [
           {
            "line": {
             "colorbar": {
              "outlinewidth": 0,
              "ticks": ""
             }
            },
            "type": "parcoords"
           }
          ],
          "pie": [
           {
            "automargin": true,
            "type": "pie"
           }
          ],
          "scatter": [
           {
            "fillpattern": {
             "fillmode": "overlay",
             "size": 10,
             "solidity": 0.2
            },
            "type": "scatter"
           }
          ],
          "scatter3d": [
           {
            "line": {
             "colorbar": {
              "outlinewidth": 0,
              "ticks": ""
             }
            },
            "marker": {
             "colorbar": {
              "outlinewidth": 0,
              "ticks": ""
             }
            },
            "type": "scatter3d"
           }
          ],
          "scattercarpet": [
           {
            "marker": {
             "colorbar": {
              "outlinewidth": 0,
              "ticks": ""
             }
            },
            "type": "scattercarpet"
           }
          ],
          "scattergeo": [
           {
            "marker": {
             "colorbar": {
              "outlinewidth": 0,
              "ticks": ""
             }
            },
            "type": "scattergeo"
           }
          ],
          "scattergl": [
           {
            "marker": {
             "colorbar": {
              "outlinewidth": 0,
              "ticks": ""
             }
            },
            "type": "scattergl"
           }
          ],
          "scattermapbox": [
           {
            "marker": {
             "colorbar": {
              "outlinewidth": 0,
              "ticks": ""
             }
            },
            "type": "scattermapbox"
           }
          ],
          "scatterpolar": [
           {
            "marker": {
             "colorbar": {
              "outlinewidth": 0,
              "ticks": ""
             }
            },
            "type": "scatterpolar"
           }
          ],
          "scatterpolargl": [
           {
            "marker": {
             "colorbar": {
              "outlinewidth": 0,
              "ticks": ""
             }
            },
            "type": "scatterpolargl"
           }
          ],
          "scatterternary": [
           {
            "marker": {
             "colorbar": {
              "outlinewidth": 0,
              "ticks": ""
             }
            },
            "type": "scatterternary"
           }
          ],
          "surface": [
           {
            "colorbar": {
             "outlinewidth": 0,
             "ticks": ""
            },
            "colorscale": [
             [
              0,
              "#0d0887"
             ],
             [
              0.1111111111111111,
              "#46039f"
             ],
             [
              0.2222222222222222,
              "#7201a8"
             ],
             [
              0.3333333333333333,
              "#9c179e"
             ],
             [
              0.4444444444444444,
              "#bd3786"
             ],
             [
              0.5555555555555556,
              "#d8576b"
             ],
             [
              0.6666666666666666,
              "#ed7953"
             ],
             [
              0.7777777777777778,
              "#fb9f3a"
             ],
             [
              0.8888888888888888,
              "#fdca26"
             ],
             [
              1,
              "#f0f921"
             ]
            ],
            "type": "surface"
           }
          ],
          "table": [
           {
            "cells": {
             "fill": {
              "color": "#EBF0F8"
             },
             "line": {
              "color": "white"
             }
            },
            "header": {
             "fill": {
              "color": "#C8D4E3"
             },
             "line": {
              "color": "white"
             }
            },
            "type": "table"
           }
          ]
         },
         "layout": {
          "annotationdefaults": {
           "arrowcolor": "#2a3f5f",
           "arrowhead": 0,
           "arrowwidth": 1
          },
          "autotypenumbers": "strict",
          "coloraxis": {
           "colorbar": {
            "outlinewidth": 0,
            "ticks": ""
           }
          },
          "colorscale": {
           "diverging": [
            [
             0,
             "#8e0152"
            ],
            [
             0.1,
             "#c51b7d"
            ],
            [
             0.2,
             "#de77ae"
            ],
            [
             0.3,
             "#f1b6da"
            ],
            [
             0.4,
             "#fde0ef"
            ],
            [
             0.5,
             "#f7f7f7"
            ],
            [
             0.6,
             "#e6f5d0"
            ],
            [
             0.7,
             "#b8e186"
            ],
            [
             0.8,
             "#7fbc41"
            ],
            [
             0.9,
             "#4d9221"
            ],
            [
             1,
             "#276419"
            ]
           ],
           "sequential": [
            [
             0,
             "#0d0887"
            ],
            [
             0.1111111111111111,
             "#46039f"
            ],
            [
             0.2222222222222222,
             "#7201a8"
            ],
            [
             0.3333333333333333,
             "#9c179e"
            ],
            [
             0.4444444444444444,
             "#bd3786"
            ],
            [
             0.5555555555555556,
             "#d8576b"
            ],
            [
             0.6666666666666666,
             "#ed7953"
            ],
            [
             0.7777777777777778,
             "#fb9f3a"
            ],
            [
             0.8888888888888888,
             "#fdca26"
            ],
            [
             1,
             "#f0f921"
            ]
           ],
           "sequentialminus": [
            [
             0,
             "#0d0887"
            ],
            [
             0.1111111111111111,
             "#46039f"
            ],
            [
             0.2222222222222222,
             "#7201a8"
            ],
            [
             0.3333333333333333,
             "#9c179e"
            ],
            [
             0.4444444444444444,
             "#bd3786"
            ],
            [
             0.5555555555555556,
             "#d8576b"
            ],
            [
             0.6666666666666666,
             "#ed7953"
            ],
            [
             0.7777777777777778,
             "#fb9f3a"
            ],
            [
             0.8888888888888888,
             "#fdca26"
            ],
            [
             1,
             "#f0f921"
            ]
           ]
          },
          "colorway": [
           "#636efa",
           "#EF553B",
           "#00cc96",
           "#ab63fa",
           "#FFA15A",
           "#19d3f3",
           "#FF6692",
           "#B6E880",
           "#FF97FF",
           "#FECB52"
          ],
          "font": {
           "color": "#2a3f5f"
          },
          "geo": {
           "bgcolor": "white",
           "lakecolor": "white",
           "landcolor": "#E5ECF6",
           "showlakes": true,
           "showland": true,
           "subunitcolor": "white"
          },
          "hoverlabel": {
           "align": "left"
          },
          "hovermode": "closest",
          "mapbox": {
           "style": "light"
          },
          "paper_bgcolor": "white",
          "plot_bgcolor": "#E5ECF6",
          "polar": {
           "angularaxis": {
            "gridcolor": "white",
            "linecolor": "white",
            "ticks": ""
           },
           "bgcolor": "#E5ECF6",
           "radialaxis": {
            "gridcolor": "white",
            "linecolor": "white",
            "ticks": ""
           }
          },
          "scene": {
           "xaxis": {
            "backgroundcolor": "#E5ECF6",
            "gridcolor": "white",
            "gridwidth": 2,
            "linecolor": "white",
            "showbackground": true,
            "ticks": "",
            "zerolinecolor": "white"
           },
           "yaxis": {
            "backgroundcolor": "#E5ECF6",
            "gridcolor": "white",
            "gridwidth": 2,
            "linecolor": "white",
            "showbackground": true,
            "ticks": "",
            "zerolinecolor": "white"
           },
           "zaxis": {
            "backgroundcolor": "#E5ECF6",
            "gridcolor": "white",
            "gridwidth": 2,
            "linecolor": "white",
            "showbackground": true,
            "ticks": "",
            "zerolinecolor": "white"
           }
          },
          "shapedefaults": {
           "line": {
            "color": "#2a3f5f"
           }
          },
          "ternary": {
           "aaxis": {
            "gridcolor": "white",
            "linecolor": "white",
            "ticks": ""
           },
           "baxis": {
            "gridcolor": "white",
            "linecolor": "white",
            "ticks": ""
           },
           "bgcolor": "#E5ECF6",
           "caxis": {
            "gridcolor": "white",
            "linecolor": "white",
            "ticks": ""
           }
          },
          "title": {
           "x": 0.05
          },
          "xaxis": {
           "automargin": true,
           "gridcolor": "white",
           "linecolor": "white",
           "ticks": "",
           "title": {
            "standoff": 15
           },
           "zerolinecolor": "white",
           "zerolinewidth": 2
          },
          "yaxis": {
           "automargin": true,
           "gridcolor": "white",
           "linecolor": "white",
           "ticks": "",
           "title": {
            "standoff": 15
           },
           "zerolinecolor": "white",
           "zerolinewidth": 2
          }
         }
        },
        "title": {
         "font": {
          "size": 20
         },
         "text": "RAP Region over Average Actual Contractual Commitments ($)"
        },
        "xaxis": {
         "anchor": "y",
         "domain": [
          0,
          1
         ],
         "title": {
          "text": "Average Actual Contractual Commitment ($)"
         }
        },
        "yaxis": {
         "anchor": "x",
         "categoryarray": [
          "Nonqueensland",
          "Logan",
          "Wide Bay",
          "Mackay-Whitsunday",
          "Far North Queensland",
          "Sunshine Coast",
          "Ipswich",
          "Moreton Bay",
          "Townsville",
          "Gold Coast",
          "Outback Queensland",
          "Brisbane",
          "Central Queensland",
          "Darling Downs",
          "Statewide",
          "Brisbane And Redlands"
         ],
         "categoryorder": "array",
         "domain": [
          0,
          1
         ],
         "title": {
          "text": "RAP Region"
         }
        }
       }
      }
     },
     "metadata": {},
     "output_type": "display_data"
    }
   ],
   "source": [
    "# Group the dataframe by 'Investment/Project Title' and calculate the mean of 'Actual Contractual Commitment ($)'\n",
    "average_commitment_df = df.groupby('RAP Region')['Actual Contractual Commitment ($)'].mean().reset_index()\n",
    "\n",
    "# Rename the column to reflect that it contains average values\n",
    "average_commitment_df = average_commitment_df.rename(columns={'Actual Contractual Commitment ($)': 'Average Actual Contractual Commitment ($)'})\n",
    "average_commitment_df = average_commitment_df.sort_values(by='Average Actual Contractual Commitment ($)', ascending=False)\n",
    "\n",
    "\n",
    "fig = px.bar(\n",
    "    average_commitment_df,\n",
    "    x='Average Actual Contractual Commitment ($)',\n",
    "    y='RAP Region',\n",
    "    orientation='h',\n",
    "    title='RAP Region over Average Actual Contractual Commitments ($)',\n",
    "    labels={'Average Actual Contractual Commitment ($)': 'Average Actual Contractual Commitment ($)', 'RAP Region': 'RAP Region'},\n",
    "    text='Average Actual Contractual Commitment ($)',\n",
    "    color='RAP Region',\n",
    "    color_discrete_sequence=px.colors.qualitative.Set3,\n",
    "    hover_data={'RAP Region': True}\n",
    ")\n",
    "\n",
    "\n",
    "fig.update_traces(texttemplate='%{text:.2s}', textposition='outside')\n",
    "fig.update_layout(\n",
    "    title=dict(font=dict(size=20)),\n",
    "    xaxis_title=\"Average Actual Contractual Commitment ($)\",\n",
    "    yaxis_title=\"RAP Region\",\n",
    "    margin=dict(l=150, r=20, t=70, b=70),\n",
    "    height=700\n",
    ")\n",
    "\n",
    "fig.show()"
   ]
  },
  {
   "cell_type": "markdown",
   "id": "186ba8e6",
   "metadata": {},
   "source": [
    "#### Chart 3 -  Average Actual Contractual Commitments ($) within State Electorate\n",
    "* Proportions for the nineteen classifications within the State Electorate are being accounted for (%).\n",
    "\n",
    "* Mcconnel and Maiwar exhibit notably elevated percentages in comparison to the remaining classifications, potentially reflecting heightened levels of engagement or involvement within those regions. However, it is imperative to acknowledge the extensive array of classifications encompassed within the residual category when interpreting these proportions.\n",
    "\n",
    "* Analysis of the figures pertaining to the State Electorate reveals that Mcconnel boasts a percentage of 23.36%, a substantially higher figure, whereas Maiwar registers 12.09%, also demonstrating an elevated proportion in contrast to the other classifications.\n",
    "\n",
    "* It is crucial to bear in mind that the residual category comprises 88 classifications. Given the substantial size of this cohort, it is essential to factor this into consideration when examining the graphical representations."
   ]
  },
  {
   "cell_type": "code",
   "execution_count": 11,
   "id": "e4e7c914",
   "metadata": {},
   "outputs": [
    {
     "data": {
      "application/vnd.plotly.v1+json": {
       "config": {
        "plotlyServerURL": "https://plot.ly"
       },
       "data": [
        {
         "alignmentgroup": "True",
         "customdata": [
          [
           16776.89952723101,
           34.39
          ],
          [
           189799.07443365696,
           23.36
          ],
          [
           351276.71875,
           12.09
          ],
          [
           135910.4065934066,
           6.88
          ],
          [
           152344.77777777778,
           4.08
          ],
          [
           100835.57894736843,
           2.87
          ],
          [
           64490.4,
           2.27
          ],
          [
           228207.9,
           2.27
          ],
          [
           117173.06896551725,
           2.19
          ],
          [
           185582.92,
           1.89
          ],
          [
           103119.8,
           1.89
          ],
          [
           87241.625,
           1.81
          ],
          [
           170612.2,
           1.51
          ],
          [
           112921.58823529411,
           1.28
          ],
          [
           106700.875,
           1.21
          ]
         ],
         "hovertemplate": "Frequency Count=%{text}<br>State Electorate=%{y}<br>Average_Commitment=%{marker.color}<br>Percentage=%{customdata[1]:.2f%}<extra></extra>",
         "legendgroup": "",
         "marker": {
          "color": [
           16776.89952723101,
           189799.07443365696,
           351276.71875,
           135910.4065934066,
           152344.77777777778,
           100835.57894736843,
           64490.4,
           228207.9,
           117173.06896551725,
           185582.92,
           103119.8,
           87241.625,
           170612.2,
           112921.58823529411,
           106700.875
          ],
          "coloraxis": "coloraxis",
          "pattern": {
           "shape": ""
          }
         },
         "name": "",
         "offsetgroup": "",
         "orientation": "h",
         "showlegend": false,
         "text": [
          455,
          309,
          160,
          91,
          54,
          38,
          30,
          30,
          29,
          25,
          25,
          24,
          20,
          17,
          16
         ],
         "textposition": "outside",
         "texttemplate": [
          "455 (34.39%)",
          "309 (23.36%)",
          "160 (12.09%)",
          "91 (6.88%)",
          "54 (4.08%)",
          "38 (2.87%)",
          "30 (2.27%)",
          "30 (2.27%)",
          "29 (2.19%)",
          "25 (1.89%)",
          "25 (1.89%)",
          "24 (1.81%)",
          "20 (1.51%)",
          "17 (1.28%)",
          "16 (1.21%)"
         ],
         "type": "bar",
         "x": [
          455,
          309,
          160,
          91,
          54,
          38,
          30,
          30,
          29,
          25,
          25,
          24,
          20,
          17,
          16
         ],
         "xaxis": "x",
         "y": [
          "Rest",
          "Mcconnel",
          "Maiwar",
          "Nonqueensland",
          "South Brisbane",
          "Buderim",
          "Cairns",
          "Mackay",
          "Toohey",
          "Bonney",
          "Cooper",
          "Townsville",
          "Mundingburra",
          "Clayfield",
          "Burleigh"
         ],
         "yaxis": "y"
        }
       ],
       "layout": {
        "barmode": "relative",
        "coloraxis": {
         "colorbar": {
          "title": {
           "text": "Average_Commitment"
          }
         },
         "colorscale": [
          [
           0,
           "#440154"
          ],
          [
           0.1111111111111111,
           "#482878"
          ],
          [
           0.2222222222222222,
           "#3e4989"
          ],
          [
           0.3333333333333333,
           "#31688e"
          ],
          [
           0.4444444444444444,
           "#26828e"
          ],
          [
           0.5555555555555556,
           "#1f9e89"
          ],
          [
           0.6666666666666666,
           "#35b779"
          ],
          [
           0.7777777777777778,
           "#6ece58"
          ],
          [
           0.8888888888888888,
           "#b5de2b"
          ],
          [
           1,
           "#fde725"
          ]
         ]
        },
        "height": 700,
        "legend": {
         "tracegroupgap": 0
        },
        "margin": {
         "b": 70,
         "l": 150,
         "r": 20,
         "t": 70
        },
        "template": {
         "data": {
          "bar": [
           {
            "error_x": {
             "color": "#2a3f5f"
            },
            "error_y": {
             "color": "#2a3f5f"
            },
            "marker": {
             "line": {
              "color": "#E5ECF6",
              "width": 0.5
             },
             "pattern": {
              "fillmode": "overlay",
              "size": 10,
              "solidity": 0.2
             }
            },
            "type": "bar"
           }
          ],
          "barpolar": [
           {
            "marker": {
             "line": {
              "color": "#E5ECF6",
              "width": 0.5
             },
             "pattern": {
              "fillmode": "overlay",
              "size": 10,
              "solidity": 0.2
             }
            },
            "type": "barpolar"
           }
          ],
          "carpet": [
           {
            "aaxis": {
             "endlinecolor": "#2a3f5f",
             "gridcolor": "white",
             "linecolor": "white",
             "minorgridcolor": "white",
             "startlinecolor": "#2a3f5f"
            },
            "baxis": {
             "endlinecolor": "#2a3f5f",
             "gridcolor": "white",
             "linecolor": "white",
             "minorgridcolor": "white",
             "startlinecolor": "#2a3f5f"
            },
            "type": "carpet"
           }
          ],
          "choropleth": [
           {
            "colorbar": {
             "outlinewidth": 0,
             "ticks": ""
            },
            "type": "choropleth"
           }
          ],
          "contour": [
           {
            "colorbar": {
             "outlinewidth": 0,
             "ticks": ""
            },
            "colorscale": [
             [
              0,
              "#0d0887"
             ],
             [
              0.1111111111111111,
              "#46039f"
             ],
             [
              0.2222222222222222,
              "#7201a8"
             ],
             [
              0.3333333333333333,
              "#9c179e"
             ],
             [
              0.4444444444444444,
              "#bd3786"
             ],
             [
              0.5555555555555556,
              "#d8576b"
             ],
             [
              0.6666666666666666,
              "#ed7953"
             ],
             [
              0.7777777777777778,
              "#fb9f3a"
             ],
             [
              0.8888888888888888,
              "#fdca26"
             ],
             [
              1,
              "#f0f921"
             ]
            ],
            "type": "contour"
           }
          ],
          "contourcarpet": [
           {
            "colorbar": {
             "outlinewidth": 0,
             "ticks": ""
            },
            "type": "contourcarpet"
           }
          ],
          "heatmap": [
           {
            "colorbar": {
             "outlinewidth": 0,
             "ticks": ""
            },
            "colorscale": [
             [
              0,
              "#0d0887"
             ],
             [
              0.1111111111111111,
              "#46039f"
             ],
             [
              0.2222222222222222,
              "#7201a8"
             ],
             [
              0.3333333333333333,
              "#9c179e"
             ],
             [
              0.4444444444444444,
              "#bd3786"
             ],
             [
              0.5555555555555556,
              "#d8576b"
             ],
             [
              0.6666666666666666,
              "#ed7953"
             ],
             [
              0.7777777777777778,
              "#fb9f3a"
             ],
             [
              0.8888888888888888,
              "#fdca26"
             ],
             [
              1,
              "#f0f921"
             ]
            ],
            "type": "heatmap"
           }
          ],
          "heatmapgl": [
           {
            "colorbar": {
             "outlinewidth": 0,
             "ticks": ""
            },
            "colorscale": [
             [
              0,
              "#0d0887"
             ],
             [
              0.1111111111111111,
              "#46039f"
             ],
             [
              0.2222222222222222,
              "#7201a8"
             ],
             [
              0.3333333333333333,
              "#9c179e"
             ],
             [
              0.4444444444444444,
              "#bd3786"
             ],
             [
              0.5555555555555556,
              "#d8576b"
             ],
             [
              0.6666666666666666,
              "#ed7953"
             ],
             [
              0.7777777777777778,
              "#fb9f3a"
             ],
             [
              0.8888888888888888,
              "#fdca26"
             ],
             [
              1,
              "#f0f921"
             ]
            ],
            "type": "heatmapgl"
           }
          ],
          "histogram": [
           {
            "marker": {
             "pattern": {
              "fillmode": "overlay",
              "size": 10,
              "solidity": 0.2
             }
            },
            "type": "histogram"
           }
          ],
          "histogram2d": [
           {
            "colorbar": {
             "outlinewidth": 0,
             "ticks": ""
            },
            "colorscale": [
             [
              0,
              "#0d0887"
             ],
             [
              0.1111111111111111,
              "#46039f"
             ],
             [
              0.2222222222222222,
              "#7201a8"
             ],
             [
              0.3333333333333333,
              "#9c179e"
             ],
             [
              0.4444444444444444,
              "#bd3786"
             ],
             [
              0.5555555555555556,
              "#d8576b"
             ],
             [
              0.6666666666666666,
              "#ed7953"
             ],
             [
              0.7777777777777778,
              "#fb9f3a"
             ],
             [
              0.8888888888888888,
              "#fdca26"
             ],
             [
              1,
              "#f0f921"
             ]
            ],
            "type": "histogram2d"
           }
          ],
          "histogram2dcontour": [
           {
            "colorbar": {
             "outlinewidth": 0,
             "ticks": ""
            },
            "colorscale": [
             [
              0,
              "#0d0887"
             ],
             [
              0.1111111111111111,
              "#46039f"
             ],
             [
              0.2222222222222222,
              "#7201a8"
             ],
             [
              0.3333333333333333,
              "#9c179e"
             ],
             [
              0.4444444444444444,
              "#bd3786"
             ],
             [
              0.5555555555555556,
              "#d8576b"
             ],
             [
              0.6666666666666666,
              "#ed7953"
             ],
             [
              0.7777777777777778,
              "#fb9f3a"
             ],
             [
              0.8888888888888888,
              "#fdca26"
             ],
             [
              1,
              "#f0f921"
             ]
            ],
            "type": "histogram2dcontour"
           }
          ],
          "mesh3d": [
           {
            "colorbar": {
             "outlinewidth": 0,
             "ticks": ""
            },
            "type": "mesh3d"
           }
          ],
          "parcoords": [
           {
            "line": {
             "colorbar": {
              "outlinewidth": 0,
              "ticks": ""
             }
            },
            "type": "parcoords"
           }
          ],
          "pie": [
           {
            "automargin": true,
            "type": "pie"
           }
          ],
          "scatter": [
           {
            "fillpattern": {
             "fillmode": "overlay",
             "size": 10,
             "solidity": 0.2
            },
            "type": "scatter"
           }
          ],
          "scatter3d": [
           {
            "line": {
             "colorbar": {
              "outlinewidth": 0,
              "ticks": ""
             }
            },
            "marker": {
             "colorbar": {
              "outlinewidth": 0,
              "ticks": ""
             }
            },
            "type": "scatter3d"
           }
          ],
          "scattercarpet": [
           {
            "marker": {
             "colorbar": {
              "outlinewidth": 0,
              "ticks": ""
             }
            },
            "type": "scattercarpet"
           }
          ],
          "scattergeo": [
           {
            "marker": {
             "colorbar": {
              "outlinewidth": 0,
              "ticks": ""
             }
            },
            "type": "scattergeo"
           }
          ],
          "scattergl": [
           {
            "marker": {
             "colorbar": {
              "outlinewidth": 0,
              "ticks": ""
             }
            },
            "type": "scattergl"
           }
          ],
          "scattermapbox": [
           {
            "marker": {
             "colorbar": {
              "outlinewidth": 0,
              "ticks": ""
             }
            },
            "type": "scattermapbox"
           }
          ],
          "scatterpolar": [
           {
            "marker": {
             "colorbar": {
              "outlinewidth": 0,
              "ticks": ""
             }
            },
            "type": "scatterpolar"
           }
          ],
          "scatterpolargl": [
           {
            "marker": {
             "colorbar": {
              "outlinewidth": 0,
              "ticks": ""
             }
            },
            "type": "scatterpolargl"
           }
          ],
          "scatterternary": [
           {
            "marker": {
             "colorbar": {
              "outlinewidth": 0,
              "ticks": ""
             }
            },
            "type": "scatterternary"
           }
          ],
          "surface": [
           {
            "colorbar": {
             "outlinewidth": 0,
             "ticks": ""
            },
            "colorscale": [
             [
              0,
              "#0d0887"
             ],
             [
              0.1111111111111111,
              "#46039f"
             ],
             [
              0.2222222222222222,
              "#7201a8"
             ],
             [
              0.3333333333333333,
              "#9c179e"
             ],
             [
              0.4444444444444444,
              "#bd3786"
             ],
             [
              0.5555555555555556,
              "#d8576b"
             ],
             [
              0.6666666666666666,
              "#ed7953"
             ],
             [
              0.7777777777777778,
              "#fb9f3a"
             ],
             [
              0.8888888888888888,
              "#fdca26"
             ],
             [
              1,
              "#f0f921"
             ]
            ],
            "type": "surface"
           }
          ],
          "table": [
           {
            "cells": {
             "fill": {
              "color": "#EBF0F8"
             },
             "line": {
              "color": "white"
             }
            },
            "header": {
             "fill": {
              "color": "#C8D4E3"
             },
             "line": {
              "color": "white"
             }
            },
            "type": "table"
           }
          ]
         },
         "layout": {
          "annotationdefaults": {
           "arrowcolor": "#2a3f5f",
           "arrowhead": 0,
           "arrowwidth": 1
          },
          "autotypenumbers": "strict",
          "coloraxis": {
           "colorbar": {
            "outlinewidth": 0,
            "ticks": ""
           }
          },
          "colorscale": {
           "diverging": [
            [
             0,
             "#8e0152"
            ],
            [
             0.1,
             "#c51b7d"
            ],
            [
             0.2,
             "#de77ae"
            ],
            [
             0.3,
             "#f1b6da"
            ],
            [
             0.4,
             "#fde0ef"
            ],
            [
             0.5,
             "#f7f7f7"
            ],
            [
             0.6,
             "#e6f5d0"
            ],
            [
             0.7,
             "#b8e186"
            ],
            [
             0.8,
             "#7fbc41"
            ],
            [
             0.9,
             "#4d9221"
            ],
            [
             1,
             "#276419"
            ]
           ],
           "sequential": [
            [
             0,
             "#0d0887"
            ],
            [
             0.1111111111111111,
             "#46039f"
            ],
            [
             0.2222222222222222,
             "#7201a8"
            ],
            [
             0.3333333333333333,
             "#9c179e"
            ],
            [
             0.4444444444444444,
             "#bd3786"
            ],
            [
             0.5555555555555556,
             "#d8576b"
            ],
            [
             0.6666666666666666,
             "#ed7953"
            ],
            [
             0.7777777777777778,
             "#fb9f3a"
            ],
            [
             0.8888888888888888,
             "#fdca26"
            ],
            [
             1,
             "#f0f921"
            ]
           ],
           "sequentialminus": [
            [
             0,
             "#0d0887"
            ],
            [
             0.1111111111111111,
             "#46039f"
            ],
            [
             0.2222222222222222,
             "#7201a8"
            ],
            [
             0.3333333333333333,
             "#9c179e"
            ],
            [
             0.4444444444444444,
             "#bd3786"
            ],
            [
             0.5555555555555556,
             "#d8576b"
            ],
            [
             0.6666666666666666,
             "#ed7953"
            ],
            [
             0.7777777777777778,
             "#fb9f3a"
            ],
            [
             0.8888888888888888,
             "#fdca26"
            ],
            [
             1,
             "#f0f921"
            ]
           ]
          },
          "colorway": [
           "#636efa",
           "#EF553B",
           "#00cc96",
           "#ab63fa",
           "#FFA15A",
           "#19d3f3",
           "#FF6692",
           "#B6E880",
           "#FF97FF",
           "#FECB52"
          ],
          "font": {
           "color": "#2a3f5f"
          },
          "geo": {
           "bgcolor": "white",
           "lakecolor": "white",
           "landcolor": "#E5ECF6",
           "showlakes": true,
           "showland": true,
           "subunitcolor": "white"
          },
          "hoverlabel": {
           "align": "left"
          },
          "hovermode": "closest",
          "mapbox": {
           "style": "light"
          },
          "paper_bgcolor": "white",
          "plot_bgcolor": "#E5ECF6",
          "polar": {
           "angularaxis": {
            "gridcolor": "white",
            "linecolor": "white",
            "ticks": ""
           },
           "bgcolor": "#E5ECF6",
           "radialaxis": {
            "gridcolor": "white",
            "linecolor": "white",
            "ticks": ""
           }
          },
          "scene": {
           "xaxis": {
            "backgroundcolor": "#E5ECF6",
            "gridcolor": "white",
            "gridwidth": 2,
            "linecolor": "white",
            "showbackground": true,
            "ticks": "",
            "zerolinecolor": "white"
           },
           "yaxis": {
            "backgroundcolor": "#E5ECF6",
            "gridcolor": "white",
            "gridwidth": 2,
            "linecolor": "white",
            "showbackground": true,
            "ticks": "",
            "zerolinecolor": "white"
           },
           "zaxis": {
            "backgroundcolor": "#E5ECF6",
            "gridcolor": "white",
            "gridwidth": 2,
            "linecolor": "white",
            "showbackground": true,
            "ticks": "",
            "zerolinecolor": "white"
           }
          },
          "shapedefaults": {
           "line": {
            "color": "#2a3f5f"
           }
          },
          "ternary": {
           "aaxis": {
            "gridcolor": "white",
            "linecolor": "white",
            "ticks": ""
           },
           "baxis": {
            "gridcolor": "white",
            "linecolor": "white",
            "ticks": ""
           },
           "bgcolor": "#E5ECF6",
           "caxis": {
            "gridcolor": "white",
            "linecolor": "white",
            "ticks": ""
           }
          },
          "title": {
           "x": 0.05
          },
          "xaxis": {
           "automargin": true,
           "gridcolor": "white",
           "linecolor": "white",
           "ticks": "",
           "title": {
            "standoff": 15
           },
           "zerolinecolor": "white",
           "zerolinewidth": 2
          },
          "yaxis": {
           "automargin": true,
           "gridcolor": "white",
           "linecolor": "white",
           "ticks": "",
           "title": {
            "standoff": 15
           },
           "zerolinecolor": "white",
           "zerolinewidth": 2
          }
         }
        },
        "title": {
         "font": {
          "size": 20
         },
         "text": "State Electorate by Frequency Count and Average Actual Contractual Commitments ($)"
        },
        "xaxis": {
         "anchor": "y",
         "domain": [
          0,
          1
         ],
         "title": {
          "text": "Frequency Count"
         }
        },
        "yaxis": {
         "anchor": "x",
         "domain": [
          0,
          1
         ],
         "title": {
          "text": "State Electorate"
         }
        }
       }
      }
     },
     "metadata": {},
     "output_type": "display_data"
    }
   ],
   "source": [
    "# Calculate the frequency count and mean actual contractual commitment for each state electorate\n",
    "frequency_df = df.groupby('State Electorate').agg(\n",
    "    Frequency=('State Electorate', 'size'),\n",
    "    Average_Commitment=('Actual Contractual Commitment ($)', 'mean')\n",
    ").reset_index()\n",
    "\n",
    "# Calculate the mean frequency count\n",
    "mean_frequency = frequency_df['Frequency'].mean()\n",
    "\n",
    "# Separate entries above and below the threshold\n",
    "above_threshold = frequency_df[frequency_df['Frequency'] >= mean_frequency]\n",
    "below_threshold = frequency_df[frequency_df['Frequency'] < mean_frequency]\n",
    "\n",
    "# Sum the values below the threshold and label them as \"Rest\"\n",
    "rest_sum_frequency = below_threshold['Frequency'].sum()\n",
    "rest_sum_commitment = below_threshold['Average_Commitment'].sum()\n",
    "rest_row = pd.DataFrame([{'State Electorate': 'Rest', 'Frequency': rest_sum_frequency, 'Average_Commitment': rest_sum_commitment / rest_sum_frequency}])\n",
    "\n",
    "# Concatenate the above threshold data with the \"Rest\" row\n",
    "final_df = pd.concat([above_threshold, rest_row], ignore_index=True)\n",
    "\n",
    "# Sort the data in descending order and take the top 15 entries\n",
    "final_df = final_df.sort_values(by='Frequency', ascending=False).head(15)\n",
    "\n",
    "# Calculate percentages and round them\n",
    "total_frequency = final_df['Frequency'].sum()\n",
    "final_df['Percentage'] = ((final_df['Frequency'] / total_frequency) * 100).round(2)\n",
    "\n",
    "# Create the bar chart with updated colors and sorted in descending order\n",
    "fig = px.bar(\n",
    "    final_df,\n",
    "    x='Frequency',\n",
    "    y='State Electorate',\n",
    "    orientation='h',\n",
    "    title='State Electorate by Frequency Count and Average Actual Contractual Commitments ($)',\n",
    "    labels={'Frequency': 'Frequency Count', 'State Electorate': 'State Electorate'},\n",
    "    text='Frequency',\n",
    "    color='Average_Commitment',\n",
    "    color_continuous_scale=px.colors.sequential.Viridis,\n",
    "    hover_data={\n",
    "        'State Electorate': True,\n",
    "        'Average_Commitment': True,\n",
    "        'Frequency': True,\n",
    "        'Percentage': ':.2f%'  # Format the percentage to 2 decimal places\n",
    "    }\n",
    ")\n",
    "\n",
    "# Update the text to include percentage\n",
    "final_df['Text'] = final_df.apply(lambda row: f\"{row['Frequency']} ({row['Percentage']}%)\", axis=1)\n",
    "fig.update_traces(texttemplate=final_df['Text'], textposition='outside')\n",
    "\n",
    "\n",
    "fig.update_layout(\n",
    "    title=dict(font=dict(size=20)),\n",
    "    xaxis_title=\"Frequency Count\",\n",
    "    yaxis_title=\"State Electorate\",\n",
    "    margin=dict(l=150, r=20, t=70, b=70),\n",
    "    height=700\n",
    ")\n",
    "\n",
    "# Show the figure\n",
    "fig.show()"
   ]
  },
  {
   "cell_type": "code",
   "execution_count": 13,
   "id": "02f0b3d2",
   "metadata": {},
   "outputs": [
    {
     "name": "stdout",
     "output_type": "stream",
     "text": [
      "Best Parameters: {'max_depth': 30, 'min_samples_leaf': 1, 'min_samples_split': 2}\n",
      "Mean Squared Error: 100731362994.17317\n",
      "R^2 Score: 0.15457031853342773\n"
     ]
    }
   ],
   "source": [
    "from sklearn.model_selection import train_test_split\n",
    "from sklearn.tree import DecisionTreeRegressor\n",
    "from sklearn.metrics import mean_squared_error, r2_score\n",
    "\n",
    "# Convert categorical variables to dummy variables if needed\n",
    "data = pd.get_dummies(df)\n",
    "\n",
    "# Split the data into features (X) and target variable (y)\n",
    "X = data.drop('Actual Contractual Commitment ($)', axis=1)\n",
    "y = data['Actual Contractual Commitment ($)']\n",
    "\n",
    "# Adjust the test size parameter\n",
    "test_size = 0.3  # You can adjust this value as needed\n",
    "\n",
    "# Perform train-test split\n",
    "X_train, X_test, y_train, y_test = train_test_split(X, y, test_size=test_size, random_state=42)\n",
    "\n",
    "# Check if test set has enough samples\n",
    "if len(X_test) < 2:\n",
    "    print(\"Test set has too few samples. Try increasing the test size or using a larger dataset.\")\n",
    "else:\n",
    "    # Train the Decision Tree Regressor model\n",
    "    model = DecisionTreeRegressor(random_state=42)\n",
    "    model.fit(X_train, y_train)\n",
    "\n",
    "    # Make predictions on the test set\n",
    "    y_pred = model.predict(X_test)\n",
    "\n",
    "    # Evaluate the model\n",
    "    mse = mean_squared_error(y_test, y_pred)\n",
    "    r2 = r2_score(y_test, y_pred)\n",
    "\n",
    "    print(f'Mean Squared Error: {mse}')\n",
    "    print(f'R^2 Score: {r2}')\n"
   ]
  }
 ],
 "metadata": {
  "creation_period": "",
  "kernelspec": {
   "display_name": "Python 3 (ipykernel)",
   "language": "python",
   "name": "python3"
  },
  "language_info": {
   "codemirror_mode": {
    "name": "ipython",
    "version": 3
   },
   "file_extension": ".py",
   "mimetype": "text/x-python",
   "name": "python",
   "nbconvert_exporter": "python",
   "pygments_lexer": "ipython3",
   "version": "3.12.0"
  },
  "nb_name": "template",
  "qut": {
   "creation_period": "2023_sem1",
   "nb_name": "template-assignment2",
   "unit_code": "IFN619"
  },
  "unit_code": "",
  "vscode": {
   "interpreter": {
    "hash": "d4d1e4263499bec80672ea0156c357c1ee493ec2b1c70f0acce89fc37c4a6abe"
   }
  }
 },
 "nbformat": 4,
 "nbformat_minor": 5
}
