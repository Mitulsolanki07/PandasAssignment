{
 "cells": [
  {
   "attachments": {},
   "cell_type": "raw",
   "id": "e02d7ff7-ec7e-4b8f-9a7e-cdd85849ede3",
   "metadata": {
    "cell_name": "title_cell",
    "vscode": {
     "languageId": "raw"
    }
   },
   "source": [
    "# IFN619 :: UA1 - Assignment 1 - Foundational techniques (40%)\n",
    "\n",
    "**IMPORTANT:** Refer to the instructions in Canvas module [UA1 - Assignment 1]() *BEFORE* working on this assignment. Ensure that you are familiar with the marking rubric and understand how the grade for this assignment will be awarded according to the criteria.\n",
    "\n",
    "1. Complete and run the code cell below to display your name and student number\n",
    "2. Complete all questions in Part A (within 2 weeks) - you can get assistance from your tutor with this part.\n",
    "3. Ensure that your tutor has verified your understanding of your work in Part A (no later than week 5)\n",
    "4. Complete a full analysis for Part B. Ensure that you use the techniques and libraries/packages that have been used in class.\n",
    "5. Submit your final notebook on Canvas [UA1 - Assignment 1]()"
   ]
  },
  {
   "attachments": {},
   "cell_type": "markdown",
   "id": "6ef62cbd-2ea0-442e-973e-e50ca1e97fa2",
   "metadata": {
    "cell_name": "header_cell"
   },
   "source": [
    "<div style=\"background:#FFFFEE; color:#440404; padding:8px; border-radius: 4px; text-align: center; font-weight: 500;\">IFN619 - Data Analytics for Strategic Decision Makers (2024 Sem 1)</div>"
   ]
  },
  {
   "cell_type": "markdown",
   "id": "daf5273e-1027-4a97-a7bc-b821b5e6f81c",
   "metadata": {},
   "source": [
    "---\n",
    "\n",
    "## Data for both Part A and Part B\n",
    "\n",
    "This assignment uses data from the Queensland Government [Open Data Portal](https://www.data.qld.gov.au). Both parts will use data on [Advance Queensland Funding Recipients](https://www.data.qld.gov.au/dataset/advance-queensland-funding-recipients). You should familiarise yourself with the [Advance Queensland Program and Grants](https://advance.qld.gov.au) to understand the context for the data. You should also refer to the `field descriptions` metadata to better understand the fields that are relevant to the `funding recipients` data."
   ]
  },
  {
   "attachments": {},
   "cell_type": "markdown",
   "id": "24fbcf4f",
   "metadata": {},
   "source": [
    "---\n",
    "## Part A\n",
    "\n",
    "**IMPORTANT** For the following task, keep a record of the dates and times where you demonstrated your understanding with your tutor. These should be AFTER you have completed the questions, and BEFORE week 5."
   ]
  },
  {
   "cell_type": "markdown",
   "id": "026d1e84-a04b-49bf-8bd2-1b43920bf2a4",
   "metadata": {},
   "source": [
    "### [Q1] Read the data\n",
    "\n",
    "- Open the CSV version of the file. Open directly from the URL into a pandas dataframe.\n",
    "- Identify an appropriate index, and make a note of the columns."
   ]
  },
  {
   "cell_type": "markdown",
   "id": "fa6193a7",
   "metadata": {},
   "source": [
    "Import necessary libraries:"
   ]
  },
  {
   "cell_type": "code",
   "execution_count": 44,
   "id": "3eac0c4a",
   "metadata": {},
   "outputs": [],
   "source": [
    "import pandas as pd\n",
    "import plotly.express as px\n",
    "from helperFunc import CleanDataFrame, DataFetcher"
   ]
  },
  {
   "cell_type": "markdown",
   "id": "0bf038b0",
   "metadata": {},
   "source": [
    "Read the CSV data from the URL:"
   ]
  },
  {
   "cell_type": "code",
   "execution_count": 45,
   "id": "56036ac9",
   "metadata": {},
   "outputs": [],
   "source": [
    "url = 'https://www.data.qld.gov.au/dataset/db190f2d-f866-4811-9a6e-4b78744b551b/resource/0f97b985-f5c7-49d2-8b0a-bc5dfbe070b9/download/advance-queensland-funding-recipients.csv'\n",
    "df = pd.read_csv(url, encoding='ISO-8859-1')"
   ]
  },
  {
   "cell_type": "markdown",
   "id": "cf93f159",
   "metadata": {},
   "source": [
    "Inspect the dataframe to identify an appropriate index and note the columns:"
   ]
  },
  {
   "cell_type": "code",
   "execution_count": 46,
   "id": "b38e42b5",
   "metadata": {},
   "outputs": [
    {
     "data": {
      "text/html": [
       "<div>\n",
       "<style scoped>\n",
       "    .dataframe tbody tr th:only-of-type {\n",
       "        vertical-align: middle;\n",
       "    }\n",
       "\n",
       "    .dataframe tbody tr th {\n",
       "        vertical-align: top;\n",
       "    }\n",
       "\n",
       "    .dataframe thead th {\n",
       "        text-align: right;\n",
       "    }\n",
       "</style>\n",
       "<table border=\"1\" class=\"dataframe\">\n",
       "  <thead>\n",
       "    <tr style=\"text-align: right;\">\n",
       "      <th></th>\n",
       "      <th>Program</th>\n",
       "      <th>Round</th>\n",
       "      <th>Recipient Name</th>\n",
       "      <th>Physical Address of Recipient - Suburb/Location</th>\n",
       "      <th>Physical Address of Recipient - Post Code</th>\n",
       "      <th>University Collaborator (if applicable)</th>\n",
       "      <th>Other Partners; Collaborators (if applicable)</th>\n",
       "      <th>Investment/Project Title</th>\n",
       "      <th>Primary Location of Activity/Project - Suburb</th>\n",
       "      <th>Primary Location of Activity/Project - Post Code</th>\n",
       "      <th>Multiple Locations of Activity/Project (if applicable)</th>\n",
       "      <th>Approval date</th>\n",
       "      <th>Local Government /Council</th>\n",
       "      <th>RAP Region</th>\n",
       "      <th>State Electorate</th>\n",
       "      <th>Actual Contractual Commitment ($)</th>\n",
       "    </tr>\n",
       "  </thead>\n",
       "  <tbody>\n",
       "    <tr>\n",
       "      <th>0</th>\n",
       "      <td>Aboriginal and Torres Strait Islander PhD Scho...</td>\n",
       "      <td>AQ Aboriginal &amp; Torres Strait Islander PhD Sch...</td>\n",
       "      <td>Central Queensland University</td>\n",
       "      <td>Norman Gardens</td>\n",
       "      <td>4701.0</td>\n",
       "      <td>NaN</td>\n",
       "      <td>BHP Billiton</td>\n",
       "      <td>Decolonising the systematic barriers and enabl...</td>\n",
       "      <td>Brisbane City</td>\n",
       "      <td>4001.0</td>\n",
       "      <td>NaN</td>\n",
       "      <td>14/06/2019</td>\n",
       "      <td>Rockhampton (R)</td>\n",
       "      <td>Brisbane and Redlands</td>\n",
       "      <td>Keppel</td>\n",
       "      <td>107084</td>\n",
       "    </tr>\n",
       "    <tr>\n",
       "      <th>1</th>\n",
       "      <td>Aboriginal and Torres Strait Islander PhD Scho...</td>\n",
       "      <td>AQ Aboriginal &amp; Torres Strait Islander PhD Sch...</td>\n",
       "      <td>Griffith University</td>\n",
       "      <td>Nathan</td>\n",
       "      <td>4111.0</td>\n",
       "      <td>NaN</td>\n",
       "      <td>NaN</td>\n",
       "      <td>An indigenous journey through the 21st century...</td>\n",
       "      <td>Nathan</td>\n",
       "      <td>4111.0</td>\n",
       "      <td>NaN</td>\n",
       "      <td>28/01/2016</td>\n",
       "      <td>Brisbane (C)</td>\n",
       "      <td>Brisbane and Redlands</td>\n",
       "      <td>Toohey</td>\n",
       "      <td>117500</td>\n",
       "    </tr>\n",
       "    <tr>\n",
       "      <th>2</th>\n",
       "      <td>Aboriginal and Torres Strait Islander Research...</td>\n",
       "      <td>AQ Aboriginal &amp; Torres Strait Islander Researc...</td>\n",
       "      <td>Queensland University of Technology</td>\n",
       "      <td>Brisbane City</td>\n",
       "      <td>4000.0</td>\n",
       "      <td>NaN</td>\n",
       "      <td>Engineered Wood Products Association Australa...</td>\n",
       "      <td>An Innovative Framing System for Taller Timber...</td>\n",
       "      <td>Brisbane City</td>\n",
       "      <td>4000.0</td>\n",
       "      <td>NaN</td>\n",
       "      <td>21/08/2018</td>\n",
       "      <td>Brisbane (C)</td>\n",
       "      <td>Brisbane and Redlands</td>\n",
       "      <td>McConnel</td>\n",
       "      <td>240000</td>\n",
       "    </tr>\n",
       "    <tr>\n",
       "      <th>3</th>\n",
       "      <td>Aboriginal and Torres Strait Islander Research...</td>\n",
       "      <td>AQ Aboriginal &amp; Torres Strait Islander Researc...</td>\n",
       "      <td>CSIRO</td>\n",
       "      <td>Smithfield</td>\n",
       "      <td>4878.0</td>\n",
       "      <td>NaN</td>\n",
       "      <td>CSIRO</td>\n",
       "      <td>Transforming hidden data: An integrative infor...</td>\n",
       "      <td>Smithfield</td>\n",
       "      <td>4878.0</td>\n",
       "      <td>NaN</td>\n",
       "      <td>28/01/2016</td>\n",
       "      <td>Cairns (R)</td>\n",
       "      <td>Far North Queensland</td>\n",
       "      <td>Barron River</td>\n",
       "      <td>158032</td>\n",
       "    </tr>\n",
       "    <tr>\n",
       "      <th>4</th>\n",
       "      <td>Advancing Regional Innovation Program</td>\n",
       "      <td>AQ Advancing Regional Innovation Full 2016-17</td>\n",
       "      <td>Redland City Council</td>\n",
       "      <td>Cleveland</td>\n",
       "      <td>4163.0</td>\n",
       "      <td>NaN</td>\n",
       "      <td>Community Information Support Services Ltd \\n...</td>\n",
       "      <td>Growing innovation in the Redlands and Logan r...</td>\n",
       "      <td>Cleveland</td>\n",
       "      <td>4163.0</td>\n",
       "      <td>Meadowbrook, Alexandra Hills, Springwood</td>\n",
       "      <td>21/09/2017</td>\n",
       "      <td>Redland (C)</td>\n",
       "      <td>Brisbane and Redlands</td>\n",
       "      <td>Oodgeroo</td>\n",
       "      <td>500000</td>\n",
       "    </tr>\n",
       "    <tr>\n",
       "      <th>5</th>\n",
       "      <td>Advancing Regional Innovation Program</td>\n",
       "      <td>AQ Advancing Regional Innovation Full 2020-21</td>\n",
       "      <td>Tablelands Regional Council</td>\n",
       "      <td>Atherton</td>\n",
       "      <td>4883.0</td>\n",
       "      <td>NaN</td>\n",
       "      <td>Natural Evolution Pty Ltd \\n Farmer Meets Foo...</td>\n",
       "      <td>Tablelands Innovation Program</td>\n",
       "      <td>Atherton</td>\n",
       "      <td>4883.0</td>\n",
       "      <td>NaN</td>\n",
       "      <td>11/11/2020</td>\n",
       "      <td>Tablelands (R)</td>\n",
       "      <td>Far North Queensland</td>\n",
       "      <td>Hill</td>\n",
       "      <td>45000</td>\n",
       "    </tr>\n",
       "    <tr>\n",
       "      <th>6</th>\n",
       "      <td>Advancing Regional Innovation Program</td>\n",
       "      <td>AQ Advancing Regional Innovation Full 2016-17</td>\n",
       "      <td>Sunshine Coast Regional Council</td>\n",
       "      <td>Maroochydore</td>\n",
       "      <td>4558.0</td>\n",
       "      <td>NaN</td>\n",
       "      <td>Noosa Shire Council \\n University of the Suns...</td>\n",
       "      <td>Sunshine Coast Regional Innovation Program #SC...</td>\n",
       "      <td>Maroochydore</td>\n",
       "      <td>4558.0</td>\n",
       "      <td>Sippy Downs, Nambour, Tewantin</td>\n",
       "      <td>2/06/2017</td>\n",
       "      <td>Sunshine Coast (R)</td>\n",
       "      <td>Sunshine Coast</td>\n",
       "      <td>Maroochydore</td>\n",
       "      <td>500000</td>\n",
       "    </tr>\n",
       "    <tr>\n",
       "      <th>7</th>\n",
       "      <td>Advancing Regional Innovation Program</td>\n",
       "      <td>AQ Advancing Regional Innovation Full 2020-21</td>\n",
       "      <td>Smart Precinct NQ Limited</td>\n",
       "      <td>Townsville City</td>\n",
       "      <td>4810.0</td>\n",
       "      <td>NaN</td>\n",
       "      <td>NaN</td>\n",
       "      <td>North Queensland Investment, Innovation &amp; Indu...</td>\n",
       "      <td>Townsville City</td>\n",
       "      <td>4810.0</td>\n",
       "      <td>NaN</td>\n",
       "      <td>2/07/2020</td>\n",
       "      <td>Townsville (C)</td>\n",
       "      <td>Townsville</td>\n",
       "      <td>Townsville</td>\n",
       "      <td>500000</td>\n",
       "    </tr>\n",
       "    <tr>\n",
       "      <th>8</th>\n",
       "      <td>Advancing Regional Innovation Program</td>\n",
       "      <td>AQ Advancing Regional Innovation Staged 2016-17</td>\n",
       "      <td>Wide Bay Burnett Regional Organisation of Coun...</td>\n",
       "      <td>Gympie</td>\n",
       "      <td>4570.0</td>\n",
       "      <td>NaN</td>\n",
       "      <td>University of the Sunshine Coast \\n The Gener...</td>\n",
       "      <td>Develop a Collaborative Action Plan and advise...</td>\n",
       "      <td>Gympie</td>\n",
       "      <td>4570.0</td>\n",
       "      <td>NaN</td>\n",
       "      <td>19/01/2017</td>\n",
       "      <td>Gympie (R)</td>\n",
       "      <td>Wide Bay</td>\n",
       "      <td>Gympie</td>\n",
       "      <td>20000</td>\n",
       "    </tr>\n",
       "    <tr>\n",
       "      <th>9</th>\n",
       "      <td>Advancing Regional Innovation Program</td>\n",
       "      <td>AQ Advancing Regional Innovation Full 2016-17</td>\n",
       "      <td>Wide Bay Burnett Regional Organisation of Coun...</td>\n",
       "      <td>Gympie</td>\n",
       "      <td>4570.0</td>\n",
       "      <td>NaN</td>\n",
       "      <td>University of the Sunshine Coast \\n Fraser Co...</td>\n",
       "      <td>Delivering Innovation in the Wide Bay Burnett ...</td>\n",
       "      <td>Gympie</td>\n",
       "      <td>4570.0</td>\n",
       "      <td>Gayndah, Kingaroy</td>\n",
       "      <td>17/07/2017</td>\n",
       "      <td>Gympie (R)</td>\n",
       "      <td>Wide Bay</td>\n",
       "      <td>Gympie</td>\n",
       "      <td>478330</td>\n",
       "    </tr>\n",
       "  </tbody>\n",
       "</table>\n",
       "</div>"
      ],
      "text/plain": [
       "                                             Program  \\\n",
       "0  Aboriginal and Torres Strait Islander PhD Scho...   \n",
       "1  Aboriginal and Torres Strait Islander PhD Scho...   \n",
       "2  Aboriginal and Torres Strait Islander Research...   \n",
       "3  Aboriginal and Torres Strait Islander Research...   \n",
       "4              Advancing Regional Innovation Program   \n",
       "5              Advancing Regional Innovation Program   \n",
       "6              Advancing Regional Innovation Program   \n",
       "7              Advancing Regional Innovation Program   \n",
       "8              Advancing Regional Innovation Program   \n",
       "9              Advancing Regional Innovation Program   \n",
       "\n",
       "                                              Round   \\\n",
       "0  AQ Aboriginal & Torres Strait Islander PhD Sch...   \n",
       "1  AQ Aboriginal & Torres Strait Islander PhD Sch...   \n",
       "2  AQ Aboriginal & Torres Strait Islander Researc...   \n",
       "3  AQ Aboriginal & Torres Strait Islander Researc...   \n",
       "4      AQ Advancing Regional Innovation Full 2016-17   \n",
       "5      AQ Advancing Regional Innovation Full 2020-21   \n",
       "6      AQ Advancing Regional Innovation Full 2016-17   \n",
       "7      AQ Advancing Regional Innovation Full 2020-21   \n",
       "8    AQ Advancing Regional Innovation Staged 2016-17   \n",
       "9      AQ Advancing Regional Innovation Full 2016-17   \n",
       "\n",
       "                                      Recipient Name  \\\n",
       "0                      Central Queensland University   \n",
       "1                                Griffith University   \n",
       "2                Queensland University of Technology   \n",
       "3                                              CSIRO   \n",
       "4                               Redland City Council   \n",
       "5                        Tablelands Regional Council   \n",
       "6                    Sunshine Coast Regional Council   \n",
       "7                          Smart Precinct NQ Limited   \n",
       "8  Wide Bay Burnett Regional Organisation of Coun...   \n",
       "9  Wide Bay Burnett Regional Organisation of Coun...   \n",
       "\n",
       "  Physical Address of Recipient - Suburb/Location  \\\n",
       "0                                  Norman Gardens   \n",
       "1                                          Nathan   \n",
       "2                                   Brisbane City   \n",
       "3                                      Smithfield   \n",
       "4                                       Cleveland   \n",
       "5                                        Atherton   \n",
       "6                                    Maroochydore   \n",
       "7                                 Townsville City   \n",
       "8                                          Gympie   \n",
       "9                                          Gympie   \n",
       "\n",
       "   Physical Address of Recipient - Post Code  \\\n",
       "0                                     4701.0   \n",
       "1                                     4111.0   \n",
       "2                                     4000.0   \n",
       "3                                     4878.0   \n",
       "4                                     4163.0   \n",
       "5                                     4883.0   \n",
       "6                                     4558.0   \n",
       "7                                     4810.0   \n",
       "8                                     4570.0   \n",
       "9                                     4570.0   \n",
       "\n",
       "  University Collaborator (if applicable)  \\\n",
       "0                                     NaN   \n",
       "1                                     NaN   \n",
       "2                                     NaN   \n",
       "3                                     NaN   \n",
       "4                                     NaN   \n",
       "5                                     NaN   \n",
       "6                                     NaN   \n",
       "7                                     NaN   \n",
       "8                                     NaN   \n",
       "9                                     NaN   \n",
       "\n",
       "       Other Partners; Collaborators (if applicable)  \\\n",
       "0                                       BHP Billiton   \n",
       "1                                                NaN   \n",
       "2   Engineered Wood Products Association Australa...   \n",
       "3                                              CSIRO   \n",
       "4   Community Information Support Services Ltd \\n...   \n",
       "5   Natural Evolution Pty Ltd \\n Farmer Meets Foo...   \n",
       "6   Noosa Shire Council \\n University of the Suns...   \n",
       "7                                                NaN   \n",
       "8   University of the Sunshine Coast \\n The Gener...   \n",
       "9   University of the Sunshine Coast \\n Fraser Co...   \n",
       "\n",
       "                            Investment/Project Title  \\\n",
       "0  Decolonising the systematic barriers and enabl...   \n",
       "1  An indigenous journey through the 21st century...   \n",
       "2  An Innovative Framing System for Taller Timber...   \n",
       "3  Transforming hidden data: An integrative infor...   \n",
       "4  Growing innovation in the Redlands and Logan r...   \n",
       "5                      Tablelands Innovation Program   \n",
       "6  Sunshine Coast Regional Innovation Program #SC...   \n",
       "7  North Queensland Investment, Innovation & Indu...   \n",
       "8  Develop a Collaborative Action Plan and advise...   \n",
       "9  Delivering Innovation in the Wide Bay Burnett ...   \n",
       "\n",
       "  Primary Location of Activity/Project - Suburb  \\\n",
       "0                                 Brisbane City   \n",
       "1                                        Nathan   \n",
       "2                                 Brisbane City   \n",
       "3                                    Smithfield   \n",
       "4                                     Cleveland   \n",
       "5                                      Atherton   \n",
       "6                                  Maroochydore   \n",
       "7                               Townsville City   \n",
       "8                                        Gympie   \n",
       "9                                        Gympie   \n",
       "\n",
       "   Primary Location of Activity/Project - Post Code  \\\n",
       "0                                            4001.0   \n",
       "1                                            4111.0   \n",
       "2                                            4000.0   \n",
       "3                                            4878.0   \n",
       "4                                            4163.0   \n",
       "5                                            4883.0   \n",
       "6                                            4558.0   \n",
       "7                                            4810.0   \n",
       "8                                            4570.0   \n",
       "9                                            4570.0   \n",
       "\n",
       "  Multiple Locations of Activity/Project (if applicable) Approval date  \\\n",
       "0                                                NaN        14/06/2019   \n",
       "1                                                NaN        28/01/2016   \n",
       "2                                                NaN        21/08/2018   \n",
       "3                                                NaN        28/01/2016   \n",
       "4           Meadowbrook, Alexandra Hills, Springwood        21/09/2017   \n",
       "5                                                NaN        11/11/2020   \n",
       "6                     Sippy Downs, Nambour, Tewantin         2/06/2017   \n",
       "7                                                NaN         2/07/2020   \n",
       "8                                                NaN        19/01/2017   \n",
       "9                                  Gayndah, Kingaroy        17/07/2017   \n",
       "\n",
       "  Local Government /Council             RAP Region State Electorate  \\\n",
       "0           Rockhampton (R)  Brisbane and Redlands           Keppel   \n",
       "1              Brisbane (C)  Brisbane and Redlands           Toohey   \n",
       "2              Brisbane (C)  Brisbane and Redlands         McConnel   \n",
       "3                Cairns (R)   Far North Queensland     Barron River   \n",
       "4               Redland (C)  Brisbane and Redlands         Oodgeroo   \n",
       "5            Tablelands (R)   Far North Queensland             Hill   \n",
       "6        Sunshine Coast (R)         Sunshine Coast     Maroochydore   \n",
       "7            Townsville (C)             Townsville       Townsville   \n",
       "8                Gympie (R)               Wide Bay           Gympie   \n",
       "9                Gympie (R)               Wide Bay           Gympie   \n",
       "\n",
       "  Actual Contractual Commitment ($)  \n",
       "0                            107084  \n",
       "1                            117500  \n",
       "2                            240000  \n",
       "3                            158032  \n",
       "4                            500000  \n",
       "5                             45000  \n",
       "6                            500000  \n",
       "7                            500000  \n",
       "8                             20000  \n",
       "9                            478330  "
      ]
     },
     "execution_count": 46,
     "metadata": {},
     "output_type": "execute_result"
    }
   ],
   "source": [
    "df.head(10)"
   ]
  },
  {
   "cell_type": "code",
   "execution_count": 47,
   "id": "1b0f422e",
   "metadata": {},
   "outputs": [
    {
     "name": "stdout",
     "output_type": "stream",
     "text": [
      "<class 'pandas.core.frame.DataFrame'>\n",
      "RangeIndex: 1339 entries, 0 to 1338\n",
      "Data columns (total 16 columns):\n",
      " #   Column                                                  Non-Null Count  Dtype  \n",
      "---  ------                                                  --------------  -----  \n",
      " 0   Program                                                 1339 non-null   object \n",
      " 1   Round                                                   1288 non-null   object \n",
      " 2   Recipient Name                                          1339 non-null   object \n",
      " 3   Physical Address of Recipient - Suburb/Location         1339 non-null   object \n",
      " 4   Physical Address of Recipient - Post Code               1268 non-null   float64\n",
      " 5   University Collaborator (if applicable)                 12 non-null     object \n",
      " 6   Other Partners; Collaborators (if applicable)           477 non-null    object \n",
      " 7   Investment/Project Title                                1339 non-null   object \n",
      " 8   Primary Location of Activity/Project - Suburb           1306 non-null   object \n",
      " 9   Primary Location of Activity/Project - Post Code        1284 non-null   float64\n",
      " 10  Multiple Locations of Activity/Project (if applicable)  249 non-null    object \n",
      " 11  Approval date                                           1339 non-null   object \n",
      " 12  Local Government /Council                               1339 non-null   object \n",
      " 13  RAP Region                                              1339 non-null   object \n",
      " 14  State Electorate                                        1339 non-null   object \n",
      " 15  Actual Contractual Commitment ($)                       1339 non-null   object \n",
      "dtypes: float64(2), object(14)\n",
      "memory usage: 167.5+ KB\n"
     ]
    }
   ],
   "source": [
    "# check available columns, type, number of records\n",
    "df.info()"
   ]
  },
  {
   "cell_type": "code",
   "execution_count": 48,
   "id": "019a6b04",
   "metadata": {},
   "outputs": [
    {
     "name": "stdout",
     "output_type": "stream",
     "text": [
      "Empty values:\n",
      " Program                                                      0\n",
      "Round                                                       51\n",
      "Recipient Name                                               0\n",
      "Physical Address of Recipient - Suburb/Location              0\n",
      "Physical Address of Recipient - Post Code                   71\n",
      "University Collaborator (if applicable)                   1327\n",
      "Other Partners; Collaborators (if applicable)              862\n",
      "Investment/Project Title                                     0\n",
      "Primary Location of Activity/Project - Suburb               33\n",
      "Primary Location of Activity/Project - Post Code            55\n",
      "Multiple Locations of Activity/Project (if applicable)    1090\n",
      "Approval date                                                0\n",
      "Local Government /Council                                    0\n",
      "RAP Region                                                   0\n",
      "State Electorate                                             0\n",
      "Actual Contractual Commitment ($)                            0\n",
      "dtype: int64\n"
     ]
    }
   ],
   "source": [
    "empty_values = df.isna().sum()\n",
    "print(\"Empty values:\\n\", empty_values)"
   ]
  },
  {
   "cell_type": "code",
   "execution_count": 49,
   "id": "58d89277",
   "metadata": {},
   "outputs": [
    {
     "name": "stdout",
     "output_type": "stream",
     "text": [
      "Unique values:\n",
      " Program                                                     81\n",
      "Round                                                      124\n",
      "Recipient Name                                             816\n",
      "Physical Address of Recipient - Suburb/Location            350\n",
      "Physical Address of Recipient - Post Code                  194\n",
      "University Collaborator (if applicable)                     11\n",
      "Other Partners; Collaborators (if applicable)              382\n",
      "Investment/Project Title                                  1243\n",
      "Primary Location of Activity/Project - Suburb              303\n",
      "Primary Location of Activity/Project - Post Code           188\n",
      "Multiple Locations of Activity/Project (if applicable)     231\n",
      "Approval date                                              218\n",
      "Local Government /Council                                   47\n",
      "RAP Region                                                  16\n",
      "State Electorate                                            88\n",
      "Actual Contractual Commitment ($)                          476\n",
      "dtype: int64\n"
     ]
    }
   ],
   "source": [
    "# check Unique values\n",
    "\n",
    "unique_values = df.nunique()\n",
    "print(\"Unique values:\\n\", unique_values)"
   ]
  },
  {
   "cell_type": "markdown",
   "id": "4e445e1a-ad6e-4b2d-b157-c4d50a3a3d16",
   "metadata": {},
   "source": [
    "### [Q2] Group the data\n",
    "- Choose at least one category and group the data\n",
    "- Obtain an appropriate aggregate for the groups (e.g. Sum, Mean, etc)"
   ]
  },
  {
   "cell_type": "markdown",
   "id": "f53b1c9e",
   "metadata": {},
   "source": [
    "#### The CleanDataFrame class comprises static methods named MSCleanStrTypeColumn and MSCleanFloatTypeColumn, which execute preprocessing operations on a pandas DataFrame. \n",
    "- These operations include stripping spaces from column names, converting specific columns to title case while handling newline characters, filling missing values with empty strings, and removing excess whitespace. \n",
    "- Moreover, appropriate columns are converted to numeric types to ensure data consistency, with monetary values being converted to float after removing commas. This meticulous cleaning process guarantees data uniformity and readies the DataFrame for precise analysis."
   ]
  },
  {
   "cell_type": "code",
   "execution_count": 50,
   "id": "d2f69afc",
   "metadata": {},
   "outputs": [
    {
     "data": {
      "text/html": [
       "<div>\n",
       "<style scoped>\n",
       "    .dataframe tbody tr th:only-of-type {\n",
       "        vertical-align: middle;\n",
       "    }\n",
       "\n",
       "    .dataframe tbody tr th {\n",
       "        vertical-align: top;\n",
       "    }\n",
       "\n",
       "    .dataframe thead th {\n",
       "        text-align: right;\n",
       "    }\n",
       "</style>\n",
       "<table border=\"1\" class=\"dataframe\">\n",
       "  <thead>\n",
       "    <tr style=\"text-align: right;\">\n",
       "      <th></th>\n",
       "      <th>Program</th>\n",
       "      <th>Round</th>\n",
       "      <th>Recipient Name</th>\n",
       "      <th>Physical Address Of Recipient - Suburb/Location</th>\n",
       "      <th>Physical Address Of Recipient - Post Code</th>\n",
       "      <th>University Collaborator (If Applicable)</th>\n",
       "      <th>Other Partners; Collaborators (If Applicable)</th>\n",
       "      <th>Investment/Project Title</th>\n",
       "      <th>Primary Location Of Activity/Project - Suburb</th>\n",
       "      <th>Primary Location Of Activity/Project - Post Code</th>\n",
       "      <th>Multiple Locations Of Activity/Project (If Applicable)</th>\n",
       "      <th>Approval Date</th>\n",
       "      <th>Local Government /Council</th>\n",
       "      <th>Rap Region</th>\n",
       "      <th>State Electorate</th>\n",
       "      <th>Actual Contractual Commitment ($)</th>\n",
       "    </tr>\n",
       "  </thead>\n",
       "  <tbody>\n",
       "    <tr>\n",
       "      <th>1334</th>\n",
       "      <td>Young Starters' Fund</td>\n",
       "      <td>Aq Young Starters Fund Round 2015-16 Round 5</td>\n",
       "      <td>Griffith University</td>\n",
       "      <td>Southport</td>\n",
       "      <td>4215.0</td>\n",
       "      <td>Nan</td>\n",
       "      <td>Nan</td>\n",
       "      <td>Mentor Revolution  Get Started - Ygstrs-49249...</td>\n",
       "      <td>Southport</td>\n",
       "      <td>4215.0</td>\n",
       "      <td>University Of Queensland - St Lucia</td>\n",
       "      <td>2016-06-21</td>\n",
       "      <td>Gold Coast (C)</td>\n",
       "      <td>Gold Coast</td>\n",
       "      <td>Bonney</td>\n",
       "      <td>19226.0</td>\n",
       "    </tr>\n",
       "    <tr>\n",
       "      <th>1335</th>\n",
       "      <td>Young Starters' Fund</td>\n",
       "      <td>Aq Young Starters Fund Round 2015-16 Round 5</td>\n",
       "      <td>Fifty Six Creations Pty Ltd - Mt Gravatt</td>\n",
       "      <td>Upper Mount Gravatt</td>\n",
       "      <td>4122.0</td>\n",
       "      <td>Nan</td>\n",
       "      <td>Nan</td>\n",
       "      <td>Fiftysix Academy And Advance Queensland In Mac...</td>\n",
       "      <td>Mackay</td>\n",
       "      <td>4740.0</td>\n",
       "      <td>Nan</td>\n",
       "      <td>2016-06-21</td>\n",
       "      <td>Brisbane (C)</td>\n",
       "      <td>Mackay-Whitsunday</td>\n",
       "      <td>Mansfield</td>\n",
       "      <td>20000.0</td>\n",
       "    </tr>\n",
       "    <tr>\n",
       "      <th>1336</th>\n",
       "      <td>Young Starters' Fund</td>\n",
       "      <td>Aq Young Starters Fund Round 2016-17 Round 1</td>\n",
       "      <td>South Bank Business Association Incorporated</td>\n",
       "      <td>South Brisbane</td>\n",
       "      <td>4101.0</td>\n",
       "      <td>Nan</td>\n",
       "      <td>Nan</td>\n",
       "      <td>The Big 5 - 5 Big Learnings From Industry Experts</td>\n",
       "      <td>South Brisbane</td>\n",
       "      <td>4101.0</td>\n",
       "      <td>Nan</td>\n",
       "      <td>2016-07-28</td>\n",
       "      <td>Brisbane (C)</td>\n",
       "      <td>Brisbane And Redlands</td>\n",
       "      <td>South Brisbane</td>\n",
       "      <td>7500.0</td>\n",
       "    </tr>\n",
       "    <tr>\n",
       "      <th>1337</th>\n",
       "      <td>Young Starters' Fund</td>\n",
       "      <td>Aq Young Starters Fund Round 2015-16 Round 5</td>\n",
       "      <td>Time Masters (Australia) Pty Limited</td>\n",
       "      <td>Runaway Bay</td>\n",
       "      <td>4216.0</td>\n",
       "      <td>Nan</td>\n",
       "      <td>Nan</td>\n",
       "      <td>Open Your Eyes To Cash - Logan - Ygstrs-479994...</td>\n",
       "      <td>Loganholme</td>\n",
       "      <td>4129.0</td>\n",
       "      <td>Logan</td>\n",
       "      <td>2016-06-21</td>\n",
       "      <td>Gold Coast (C)</td>\n",
       "      <td>Logan</td>\n",
       "      <td>Broadwater</td>\n",
       "      <td>10350.0</td>\n",
       "    </tr>\n",
       "    <tr>\n",
       "      <th>1338</th>\n",
       "      <td>Young Starters' Fund</td>\n",
       "      <td>Aq Young Starters Fund Round 2015-16 Round 5</td>\n",
       "      <td>Marist Youth Care Limited</td>\n",
       "      <td>Paddington</td>\n",
       "      <td>4064.0</td>\n",
       "      <td>Nan</td>\n",
       "      <td>Nan</td>\n",
       "      <td>Impact National Conference - Ygstrs-5061022-69</td>\n",
       "      <td>South Brisbane</td>\n",
       "      <td>4101.0</td>\n",
       "      <td>Nan</td>\n",
       "      <td>2016-06-21</td>\n",
       "      <td>Brisbane (C)</td>\n",
       "      <td>Brisbane And Redlands</td>\n",
       "      <td>Cooper</td>\n",
       "      <td>9546.0</td>\n",
       "    </tr>\n",
       "  </tbody>\n",
       "</table>\n",
       "</div>"
      ],
      "text/plain": [
       "                   Program                                         Round  \\\n",
       "1334  Young Starters' Fund  Aq Young Starters Fund Round 2015-16 Round 5   \n",
       "1335  Young Starters' Fund  Aq Young Starters Fund Round 2015-16 Round 5   \n",
       "1336  Young Starters' Fund  Aq Young Starters Fund Round 2016-17 Round 1   \n",
       "1337  Young Starters' Fund  Aq Young Starters Fund Round 2015-16 Round 5   \n",
       "1338  Young Starters' Fund  Aq Young Starters Fund Round 2015-16 Round 5   \n",
       "\n",
       "                                    Recipient Name  \\\n",
       "1334                           Griffith University   \n",
       "1335      Fifty Six Creations Pty Ltd - Mt Gravatt   \n",
       "1336  South Bank Business Association Incorporated   \n",
       "1337          Time Masters (Australia) Pty Limited   \n",
       "1338                     Marist Youth Care Limited   \n",
       "\n",
       "     Physical Address Of Recipient - Suburb/Location  \\\n",
       "1334                                       Southport   \n",
       "1335                             Upper Mount Gravatt   \n",
       "1336                                  South Brisbane   \n",
       "1337                                     Runaway Bay   \n",
       "1338                                      Paddington   \n",
       "\n",
       "     Physical Address Of Recipient - Post Code  \\\n",
       "1334                                    4215.0   \n",
       "1335                                    4122.0   \n",
       "1336                                    4101.0   \n",
       "1337                                    4216.0   \n",
       "1338                                    4064.0   \n",
       "\n",
       "     University Collaborator (If Applicable)  \\\n",
       "1334                                     Nan   \n",
       "1335                                     Nan   \n",
       "1336                                     Nan   \n",
       "1337                                     Nan   \n",
       "1338                                     Nan   \n",
       "\n",
       "     Other Partners; Collaborators (If Applicable)  \\\n",
       "1334                                           Nan   \n",
       "1335                                           Nan   \n",
       "1336                                           Nan   \n",
       "1337                                           Nan   \n",
       "1338                                           Nan   \n",
       "\n",
       "                               Investment/Project Title  \\\n",
       "1334  Mentor Revolution  Get Started - Ygstrs-49249...   \n",
       "1335  Fiftysix Academy And Advance Queensland In Mac...   \n",
       "1336  The Big 5 - 5 Big Learnings From Industry Experts   \n",
       "1337  Open Your Eyes To Cash - Logan - Ygstrs-479994...   \n",
       "1338     Impact National Conference - Ygstrs-5061022-69   \n",
       "\n",
       "     Primary Location Of Activity/Project - Suburb  \\\n",
       "1334                                     Southport   \n",
       "1335                                        Mackay   \n",
       "1336                                South Brisbane   \n",
       "1337                                    Loganholme   \n",
       "1338                                South Brisbane   \n",
       "\n",
       "     Primary Location Of Activity/Project - Post Code  \\\n",
       "1334                                           4215.0   \n",
       "1335                                           4740.0   \n",
       "1336                                           4101.0   \n",
       "1337                                           4129.0   \n",
       "1338                                           4101.0   \n",
       "\n",
       "     Multiple Locations Of Activity/Project (If Applicable) Approval Date  \\\n",
       "1334                University Of Queensland - St Lucia        2016-06-21   \n",
       "1335                                                Nan        2016-06-21   \n",
       "1336                                                Nan        2016-07-28   \n",
       "1337                                              Logan        2016-06-21   \n",
       "1338                                                Nan        2016-06-21   \n",
       "\n",
       "     Local Government /Council             Rap Region State Electorate  \\\n",
       "1334            Gold Coast (C)             Gold Coast           Bonney   \n",
       "1335              Brisbane (C)      Mackay-Whitsunday        Mansfield   \n",
       "1336              Brisbane (C)  Brisbane And Redlands   South Brisbane   \n",
       "1337            Gold Coast (C)                  Logan       Broadwater   \n",
       "1338              Brisbane (C)  Brisbane And Redlands           Cooper   \n",
       "\n",
       "      Actual Contractual Commitment ($)  \n",
       "1334                            19226.0  \n",
       "1335                            20000.0  \n",
       "1336                             7500.0  \n",
       "1337                            10350.0  \n",
       "1338                             9546.0  "
      ]
     },
     "execution_count": 50,
     "metadata": {},
     "output_type": "execute_result"
    }
   ],
   "source": [
    "# Strip leading/trailing spaces from column names & capitalize\n",
    "df.columns = df.columns.str.strip().str.title()\n",
    "\n",
    "lsStringTypeColumnHeader = [\"Program\",'Round', 'Recipient Name','Physical Address Of Recipient - Suburb/Location','University Collaborator (If Applicable)','Other Partners; Collaborators (If Applicable)','Investment/Project Title','Primary Location Of Activity/Project - Suburb','Multiple Locations Of Activity/Project (If Applicable)','Local Government /Council', 'Rap Region','State Electorate']\n",
    "lsFloatTypeColumnHeader = [\"Primary Location Of Activity/Project - Post Code\",\"Actual Contractual Commitment ($)\",\"Physical Address Of Recipient - Post Code\"]\n",
    "\n",
    "# Clean String type and float type column headers\n",
    "for column in lsStringTypeColumnHeader:\n",
    "    df[column] = CleanDataFrame.MSCleanStrTypeColumn(df[column])\n",
    "\n",
    "for column in lsFloatTypeColumnHeader:\n",
    "    df[column] = CleanDataFrame.MSCleanFloatTypeColumn(df[column])\n",
    "\n",
    "df[\"Approval Date\"] = pd.to_datetime(df[\"Approval Date\"], format='%d/%m/%Y', errors='coerce')\n",
    "\n",
    "df.tail()"
   ]
  },
  {
   "cell_type": "code",
   "execution_count": 51,
   "id": "888233ea",
   "metadata": {},
   "outputs": [
    {
     "name": "stdout",
     "output_type": "stream",
     "text": [
      "Empty values:\n",
      " Program                                                   0\n",
      "Round                                                     0\n",
      "Recipient Name                                            0\n",
      "Physical Address Of Recipient - Suburb/Location           0\n",
      "Physical Address Of Recipient - Post Code                 0\n",
      "University Collaborator (If Applicable)                   0\n",
      "Other Partners; Collaborators (If Applicable)             0\n",
      "Investment/Project Title                                  0\n",
      "Primary Location Of Activity/Project - Suburb             0\n",
      "Primary Location Of Activity/Project - Post Code          0\n",
      "Multiple Locations Of Activity/Project (If Applicable)    0\n",
      "Approval Date                                             0\n",
      "Local Government /Council                                 0\n",
      "Rap Region                                                0\n",
      "State Electorate                                          0\n",
      "Actual Contractual Commitment ($)                         0\n",
      "dtype: int64\n"
     ]
    }
   ],
   "source": [
    "# after cleaning check null values\n",
    "empty_values = df.isna().sum()\n",
    "print(\"Empty values:\\n\", empty_values)"
   ]
  },
  {
   "cell_type": "code",
   "execution_count": 54,
   "id": "0db563b8",
   "metadata": {},
   "outputs": [
    {
     "name": "stdout",
     "output_type": "stream",
     "text": [
      "<class 'pandas.core.frame.DataFrame'>\n",
      "RangeIndex: 1339 entries, 0 to 1338\n",
      "Data columns (total 16 columns):\n",
      " #   Column                                                  Non-Null Count  Dtype         \n",
      "---  ------                                                  --------------  -----         \n",
      " 0   Program                                                 1339 non-null   object        \n",
      " 1   Round                                                   1339 non-null   object        \n",
      " 2   Recipient Name                                          1339 non-null   object        \n",
      " 3   Physical Address Of Recipient - Suburb/Location         1339 non-null   object        \n",
      " 4   Physical Address Of Recipient - Post Code               1339 non-null   object        \n",
      " 5   University Collaborator (If Applicable)                 1339 non-null   object        \n",
      " 6   Other Partners; Collaborators (If Applicable)           1339 non-null   object        \n",
      " 7   Investment/Project Title                                1339 non-null   object        \n",
      " 8   Primary Location Of Activity/Project - Suburb           1339 non-null   object        \n",
      " 9   Primary Location Of Activity/Project - Post Code        1339 non-null   object        \n",
      " 10  Multiple Locations Of Activity/Project (If Applicable)  1339 non-null   object        \n",
      " 11  Approval Date                                           1339 non-null   datetime64[ns]\n",
      " 12  Local Government /Council                               1339 non-null   object        \n",
      " 13  Rap Region                                              1339 non-null   object        \n",
      " 14  State Electorate                                        1339 non-null   object        \n",
      " 15  Actual Contractual Commitment ($)                       1339 non-null   float64       \n",
      "dtypes: datetime64[ns](1), float64(1), object(14)\n",
      "memory usage: 167.5+ KB\n"
     ]
    }
   ],
   "source": [
    "# number of rows after cleaning up dataframe\n",
    "df.info()"
   ]
  },
  {
   "cell_type": "markdown",
   "id": "2e837435-bc10-4d43-97ee-5115773af630",
   "metadata": {},
   "source": [
    "### [Q3] Save the data\n",
    "- Transform your grouped data into a dataframe\n",
    "- Save the dataframe as a CSV file\n"
   ]
  },
  {
   "cell_type": "code",
   "execution_count": 55,
   "id": "700480a8",
   "metadata": {},
   "outputs": [],
   "source": [
    "cleaned_file_path = r'cleaned-queensland-funding-recipients.csv'\n",
    "# Save the cleaned dataframe to a CSV file\n",
    "df.to_csv(cleaned_file_path, index=False)"
   ]
  },
  {
   "cell_type": "markdown",
   "id": "2408a2f1",
   "metadata": {},
   "source": [
    "### [Q4] Visualise the data\n",
    "\t\n",
    "- Visualise the grouped data with an appropriate chart\n",
    "- Ensure X and Y axes are labelled appropriately\n",
    "- Add an appropriate title for the chart\n",
    "\n",
    "### [Q5] Create new dataframes\n",
    "- Select 2 groups from a particular category and filter the data into 2 separate dataframes\n",
    "- For each dataframe group by at least one logical category with meaningful aggregates\n",
    "\n",
    "### [Q6] Obtain descriptive statistics\n",
    "\t\n",
    "- Find the descriptive statistics for the funds committed for the different groups.\n",
    "- Assign the `count`, `mean`, `min`, and `max` to variables. Round the mean to a reasonable precision.\n",
    "- Use the variables to create a string which describes in words the basic descriptive statistics of the committed funds.\n",
    "- Print the constructed strings for each group\n",
    "\n",
    "### [Q7] Visualise the data\n",
    "\n",
    "- Using the plotly library, create histograms of the committed funds for the different groups\n",
    "- Set the number of bins to an appropriate value\n",
    "- Display the actual counts in the bars\n",
    "- Enhance the visualisation of the variance by including a box plot\n",
    "- Use suitable colours and add appropriate textual information\n",
    "\n",
    "### Charts"
   ]
  },
  {
   "cell_type": "markdown",
   "id": "b779c4c8",
   "metadata": {},
   "source": [
    "#### Chart - Distribution: The histogram illustrates a significantly skewed distribution, with the majority of the funding amounts concentrated within the range of $0 to $100k.\n",
    "\n",
    "#### Observation\n",
    "    - The skewness of the distribution is notably right-skewed, indicating that a large portion of the financial commitments fall towards the lower end of the spectrum. \n",
    "    - Funding Pattern: A predominant number of funding amounts are relatively small, with a minimal proportion allocated to larger funding amounts. This observation may imply that the funding approach prioritizes disbursing smaller sums to a wider array of recipients as opposed to allocating substantial amounts to a select few.\n",
    "    - Resource Allocation: If the objective is to extend support to more participants through modest funds, this approach proves to be effective."
   ]
  },
  {
   "cell_type": "code",
   "execution_count": 57,
   "id": "100c24ce",
   "metadata": {},
   "outputs": [
    {
     "data": {
      "application/vnd.plotly.v1+json": {
       "config": {
        "plotlyServerURL": "https://plot.ly"
       },
       "data": [
        {
         "alignmentgroup": "True",
         "bingroup": "x",
         "hovertemplate": "Actual Contractual Commitment ($)=%{x}<br>count=%{y}<extra></extra>",
         "legendgroup": "",
         "marker": {
          "color": "#636efa",
          "pattern": {
           "shape": ""
          }
         },
         "name": "",
         "nbinsx": 100,
         "offsetgroup": "",
         "orientation": "v",
         "showlegend": false,
         "type": "histogram",
         "x": [
          107084,
          117500,
          240000,
          158032,
          500000,
          45000,
          500000,
          500000,
          20000,
          478330,
          20000,
          500000,
          499980,
          500000,
          480000,
          74000,
          230000,
          315000,
          500000,
          432125,
          150000,
          487248,
          20000,
          3000000,
          5000000,
          160000,
          356396,
          1000000,
          496000,
          579000,
          180000,
          400000,
          995129,
          125000,
          100000,
          60000,
          5000000,
          17482,
          17070,
          15895,
          19899,
          13209,
          17727,
          9853,
          30000,
          30000,
          10000,
          27500,
          30000,
          10000,
          10000,
          30000,
          30000,
          30000,
          27500,
          5695000,
          35391,
          10000,
          150000,
          100000,
          100000,
          100000,
          25000,
          35638,
          100000,
          100000,
          100000,
          45800,
          50000,
          35000,
          25000,
          75000,
          15750,
          200000,
          40500,
          355000,
          76500,
          1452855,
          30000,
          95409,
          100000,
          100000,
          100000,
          100000,
          700000,
          75000,
          2202334,
          50000,
          45000,
          100000,
          100000,
          100000,
          6000,
          75000,
          75000,
          10000,
          75000,
          9091,
          8000,
          6000,
          6000,
          100000,
          8000,
          75000,
          6000,
          100000,
          100000,
          100000,
          6000,
          8000,
          6000,
          100000,
          75000,
          75000,
          100000,
          8000,
          50000,
          8000,
          10000,
          6000,
          8000,
          75000,
          8000,
          6000,
          8000,
          6000,
          8000,
          8000,
          100000,
          75000,
          6000,
          100000,
          55000,
          6000,
          8000,
          3000,
          8000,
          8000,
          6000,
          75000,
          75000,
          75000,
          100000,
          8000,
          8000,
          100000,
          75000,
          75000,
          8000,
          6000,
          6000,
          50000,
          100000,
          100000,
          75000,
          10000,
          75000,
          75000,
          75000,
          50000,
          8000,
          8000,
          100000,
          75000,
          8000,
          6000,
          6000,
          37500,
          75000,
          100000,
          100000,
          8000,
          6000,
          100000,
          75000,
          100000,
          100000,
          100000,
          75000,
          10000,
          10000,
          6000,
          6000,
          6000,
          6000,
          100000,
          6000,
          100000,
          8000,
          6000,
          6000,
          10000,
          8000,
          10000,
          100000,
          75000,
          10000,
          10000,
          8000,
          50000,
          6000,
          100000,
          75000,
          100000,
          75000,
          75000,
          25000,
          75000,
          6000,
          6000,
          75000,
          8000,
          6000,
          75000,
          79070,
          50000,
          204614,
          100000,
          100000,
          100000,
          99663,
          100000,
          100000,
          100000,
          250000,
          99964,
          100000,
          87952,
          100000,
          100000,
          100000,
          100000,
          96630,
          100000,
          60000,
          98633,
          100000,
          50000,
          100000,
          96700,
          100000,
          99485,
          100000,
          100000,
          100000,
          100000,
          250000,
          250000,
          62500,
          100000,
          79313,
          250000,
          197000,
          100000,
          250000,
          100000,
          88070,
          241750,
          96000,
          99123,
          100000,
          95500,
          78870,
          100000,
          98500,
          100000,
          100000,
          97500,
          88969,
          100000,
          100000,
          100000,
          100000,
          99280,
          100000,
          98000,
          200386,
          80000,
          90878,
          95140,
          100000,
          94000,
          250000,
          96644,
          100000,
          80000,
          100000,
          100000,
          100000,
          100000,
          48550,
          249360,
          100000,
          100000,
          100000,
          100000,
          100000,
          80000,
          100000,
          100000,
          100000,
          100000,
          100000,
          100000,
          150000,
          100000,
          50000,
          97000,
          100000,
          100000,
          99996,
          100000,
          200000,
          100000,
          100000,
          100000,
          100000,
          200000,
          200000,
          100000,
          100000,
          100000,
          200000,
          180000,
          100000,
          100000,
          100000,
          100000,
          100000,
          200000,
          100000,
          100000,
          100000,
          100000,
          100000,
          100000,
          177000,
          100000,
          200000,
          197950,
          100000,
          100000,
          100000,
          100000,
          100000,
          92940,
          200000,
          98500,
          200000,
          100000,
          100000,
          100000,
          99560,
          200000,
          100000,
          99999,
          100000,
          92400,
          100000,
          200000,
          100000,
          45000,
          100000,
          100000,
          100000,
          150000,
          78000,
          100000,
          195000,
          100000,
          100000,
          98600,
          100000,
          100000,
          100000,
          100000,
          100000,
          100000,
          100000,
          200000,
          185449,
          100000,
          100000,
          100000,
          199739,
          100000,
          200000,
          90000,
          100000,
          100000,
          100000,
          100000,
          85408,
          100000,
          99930,
          100000,
          100000,
          100000,
          100000,
          100000,
          200000,
          200000,
          100000,
          99928,
          199456,
          100000,
          100000,
          100000,
          200000,
          150000,
          100000,
          200000,
          80000,
          90000,
          90000,
          100000,
          200000,
          99603,
          100000,
          100000,
          100000,
          50000,
          104000,
          200000,
          100000,
          100000,
          200000,
          100000,
          99500,
          100000,
          50000,
          90000,
          100000,
          200000,
          100000,
          100000,
          199999,
          99462,
          95000,
          160000,
          100000,
          56400,
          208000,
          249150,
          50000,
          96000,
          100000,
          100000,
          49140,
          99245,
          100000,
          250000,
          100000,
          100000,
          94961,
          100000,
          250000,
          240000,
          99500,
          100000,
          100000,
          79600,
          85000,
          99600,
          250000,
          99700,
          250000,
          222900,
          84518,
          247228,
          100000,
          88500,
          100000,
          245343,
          100000,
          187500,
          250000,
          62500,
          88975,
          250000,
          71600,
          187500,
          97593,
          100000,
          94000,
          100000,
          100000,
          100000,
          128175,
          100000,
          250000,
          250000,
          178000,
          100000,
          49834,
          100000,
          100000,
          98900,
          100000,
          93500,
          100000,
          187500,
          50000,
          100000,
          100700,
          97000,
          244400,
          100000,
          100000,
          91000,
          97800,
          100000,
          100000,
          250000,
          234128,
          95000,
          245500,
          74340,
          100000,
          99800,
          99390,
          250000,
          100000,
          250000,
          250000,
          250000,
          100000,
          79200,
          100000,
          99144,
          100000,
          250000,
          100000,
          99918,
          100000,
          100000,
          100000,
          249725,
          100000,
          99901,
          250000,
          250000,
          94000,
          100000,
          88190,
          100000,
          100000,
          100000,
          99500,
          100000,
          99871,
          68948,
          98080,
          250000,
          100000,
          100000,
          100000,
          100000,
          246500,
          96480,
          97636,
          100000,
          100000,
          97664,
          98100,
          100000,
          91123,
          100000,
          100000,
          100000,
          99297,
          100000,
          100000,
          75000,
          100000,
          100000,
          250000,
          100000,
          100000,
          100000,
          250000,
          250000,
          100000,
          100000,
          112500,
          250000,
          80000,
          100000,
          77568,
          80000,
          97585,
          99960,
          100000,
          100000,
          99710,
          220000,
          97900,
          100000,
          158872,
          97644,
          79520,
          50000,
          100000,
          100000,
          250000,
          99550,
          100000,
          100000,
          100000,
          95000,
          29745,
          250000,
          100000,
          97141,
          250000,
          95597,
          100000,
          100000,
          92160,
          94350,
          242946,
          275880,
          1000000,
          457000,
          450000,
          750000,
          245020,
          99800,
          391000,
          615000,
          300000,
          150000,
          300000,
          53062,
          150000,
          150000,
          300000,
          150000,
          300000,
          300000,
          90000,
          300000,
          300000,
          90000,
          80000,
          150000,
          74786,
          300000,
          300000,
          180000,
          150000,
          180000,
          180000,
          120000,
          180000,
          90000,
          55000,
          240000,
          360000,
          240000,
          160000,
          160000,
          160000,
          360000,
          240000,
          360000,
          240000,
          240000,
          240000,
          160000,
          240000,
          86952,
          180000,
          300000,
          90000,
          300000,
          300000,
          90000,
          360000,
          240000,
          360000,
          360000,
          240000,
          240000,
          300000,
          180000,
          300000,
          180000,
          65587,
          180000,
          180000,
          171361,
          283135,
          82440,
          180000,
          300000,
          256630,
          300000,
          288862,
          180000,
          297375,
          180000,
          180000,
          180000,
          300000,
          180000,
          180000,
          180000,
          64578,
          300000,
          300000,
          294173,
          180000,
          31569,
          300000,
          180000,
          180000,
          180000,
          180000,
          180000,
          300000,
          180000,
          180000,
          180000,
          180000,
          180000,
          139682,
          300000,
          180000,
          300000,
          180000,
          300000,
          180000,
          180000,
          118647,
          180000,
          180000,
          300000,
          300000,
          300000,
          180000,
          546027,
          1500000,
          10000,
          1260949,
          540000,
          400000,
          577730,
          1499710,
          636000,
          428240,
          750000,
          705000,
          894704,
          318721,
          225000,
          258977,
          1500000,
          175000,
          960000,
          677953,
          540000,
          1224000,
          448281,
          1500000,
          120000,
          5500,
          5500,
          5000,
          5000,
          5000,
          5000,
          10000,
          5000,
          5000,
          5000,
          5500,
          5000,
          5000,
          5000,
          5500,
          5000,
          5500,
          99475,
          100000,
          98452,
          1083968,
          44267,
          50000,
          48527,
          41430,
          8092,
          1415,
          49332,
          37333,
          50000,
          24960,
          40619,
          22550,
          42668,
          38098,
          46270,
          35430,
          50000,
          50000,
          47960,
          50000,
          39749,
          50000,
          30000,
          37000,
          37963,
          25333,
          24000,
          49811,
          39316,
          50000,
          50000,
          40667,
          46711,
          35509,
          47539,
          48563,
          47000,
          18816,
          50000,
          42186,
          40077,
          44000,
          50000,
          33333,
          50000,
          26666,
          47793,
          20600,
          44000,
          41515,
          38000,
          40000,
          36000,
          33074,
          50000,
          31066,
          41153,
          48000,
          33412,
          44146,
          29654,
          36667,
          37167,
          26320,
          50000,
          50000,
          45625,
          35200,
          48889,
          42529,
          10800,
          6750,
          10800,
          10800,
          10800,
          7200,
          5400,
          10800,
          10800,
          10800,
          10800,
          10800,
          10800,
          8100,
          10800,
          10800,
          10800,
          10800,
          7200,
          10800,
          10800,
          9000,
          9000,
          2925,
          900,
          5400,
          10800,
          10800,
          10800,
          10800,
          10800,
          10800,
          9112,
          10800,
          10800,
          10800,
          10800,
          8100,
          6300,
          10800,
          10800,
          10800,
          10800,
          29831,
          40626,
          10800,
          43909,
          50000,
          10800,
          9693,
          10800,
          47533,
          10800,
          48188,
          5175,
          48000,
          49351,
          50000,
          10800,
          10800,
          10800,
          10800,
          8100,
          10800,
          10800,
          900,
          10800,
          10800,
          10800,
          8100,
          3600,
          10800,
          1800,
          10800,
          10800,
          10800,
          10800,
          9000,
          10800,
          10800,
          10800,
          10800,
          10800,
          10800,
          1860000,
          450000,
          600000,
          900000,
          205000,
          200000,
          52499,
          40000,
          40000,
          74000,
          150000,
          120000,
          42500,
          42500,
          42500,
          15000,
          13032,
          40000,
          45000,
          45000,
          9889,
          42500,
          45000,
          45000,
          45000,
          42000,
          45000,
          45000,
          45000,
          42000,
          7691,
          42500,
          42500,
          6858,
          1000000,
          9000000,
          3807672,
          1500000,
          47345,
          197000,
          350000,
          52000,
          250000,
          100000,
          52668,
          96190,
          4169000,
          157440,
          24219,
          22335,
          13095,
          8270,
          25000,
          3500,
          8384,
          9070,
          17900,
          25000,
          13500,
          22100,
          20000,
          10600,
          25000,
          24283,
          23000,
          12825,
          25000,
          3665,
          15400,
          25000,
          25000,
          25000,
          17237,
          25000,
          17960,
          23719,
          25000,
          15310,
          23000,
          15625,
          2823,
          12775,
          24950,
          12500,
          6686,
          25000,
          21600,
          25000,
          3375,
          5293,
          22350,
          24400,
          15000,
          10800,
          16050,
          11475,
          12750,
          25000,
          13950,
          8779,
          2390,
          3000,
          12503,
          14416,
          23325,
          12800,
          16616,
          23000,
          25000,
          5802,
          4000,
          25000,
          15919,
          9500,
          20000,
          15588,
          15000,
          15000,
          7336,
          8998,
          25000,
          119000,
          20000,
          19900,
          17399,
          20000,
          20000,
          20000,
          20000,
          20000,
          5540,
          20000,
          200000,
          100000,
          60000,
          200000,
          152840,
          150000,
          199676,
          35000,
          35000,
          35000,
          30000,
          30000,
          30000,
          30000,
          30000,
          30000,
          30000,
          37500,
          200000,
          20000,
          10000,
          60000,
          10000,
          15000,
          13636,
          30000,
          598,
          14400,
          5000,
          30000,
          22500,
          10000,
          30505,
          15250,
          15000,
          25000,
          70000,
          72000,
          50000,
          25108,
          60000,
          75000,
          75000,
          52500,
          40290,
          51824,
          75000,
          75000,
          75000,
          75000,
          75000,
          7500,
          75000,
          21347,
          7500,
          75000,
          7500,
          75000,
          43750,
          75000,
          75000,
          75000,
          43750,
          75000,
          180000,
          180000,
          149544,
          300000,
          300000,
          300000,
          180000,
          300000,
          180000,
          300000,
          180000,
          113552,
          180000,
          300000,
          300000,
          172500,
          101737,
          180000,
          180000,
          96268,
          300000,
          180000,
          180000,
          180000,
          180000,
          1000000,
          129799,
          180000,
          180000,
          300000,
          59780,
          300000,
          300000,
          300000,
          180000,
          300000,
          110716,
          120000,
          300000,
          300000,
          300000,
          180000,
          180000,
          280000,
          296856,
          180000,
          300000,
          300000,
          300000,
          180000,
          300000,
          180000,
          280000,
          300000,
          300000,
          118152,
          120000,
          300000,
          152308,
          180000,
          228114,
          300000,
          300000,
          180000,
          180000,
          180000,
          280000,
          180000,
          180000,
          180000,
          180000,
          180000,
          151570,
          180000,
          300000,
          300000,
          300000,
          300000,
          300000,
          300000,
          300000,
          180000,
          180000,
          180000,
          98823,
          54126,
          180000,
          164508,
          2800000,
          10000,
          23750,
          24970,
          9680,
          12830,
          25000,
          10000,
          24999,
          14580,
          21790,
          3198649,
          45200,
          58000,
          228200,
          218050,
          62500,
          10000,
          40000,
          104167,
          104166,
          20833,
          104166,
          191750,
          20833,
          20835,
          41250,
          30000,
          125000,
          125000,
          94550,
          310000,
          81500,
          165000,
          36180,
          1500000,
          500000,
          500000,
          400000,
          100000,
          100000,
          40000,
          85000,
          100000,
          95175,
          494000,
          60000,
          667000,
          300000,
          180000,
          35000,
          35000,
          35000,
          10500,
          35000,
          114309,
          300000,
          10000000,
          500000,
          300000,
          30000,
          15000,
          15000,
          30000,
          20000,
          17435,
          16000,
          11200,
          15402,
          10680,
          15200,
          7600,
          1096,
          12240,
          18000,
          9000,
          11351,
          11200,
          3000,
          15840,
          13370,
          15000,
          15680,
          8318,
          11033,
          15680,
          15000,
          5237,
          19270,
          4085,
          10247,
          20000,
          20000,
          20000,
          20000,
          7500,
          19500,
          17636,
          20000,
          16450,
          10800,
          18500,
          9500,
          15897,
          3386,
          14000,
          9500,
          5600,
          13500,
          19226,
          20000,
          7500,
          10350,
          9546
         ],
         "xaxis": "x",
         "yaxis": "y"
        }
       ],
       "layout": {
        "barmode": "relative",
        "legend": {
         "tracegroupgap": 0
        },
        "template": {
         "data": {
          "bar": [
           {
            "error_x": {
             "color": "#2a3f5f"
            },
            "error_y": {
             "color": "#2a3f5f"
            },
            "marker": {
             "line": {
              "color": "#E5ECF6",
              "width": 0.5
             },
             "pattern": {
              "fillmode": "overlay",
              "size": 10,
              "solidity": 0.2
             }
            },
            "type": "bar"
           }
          ],
          "barpolar": [
           {
            "marker": {
             "line": {
              "color": "#E5ECF6",
              "width": 0.5
             },
             "pattern": {
              "fillmode": "overlay",
              "size": 10,
              "solidity": 0.2
             }
            },
            "type": "barpolar"
           }
          ],
          "carpet": [
           {
            "aaxis": {
             "endlinecolor": "#2a3f5f",
             "gridcolor": "white",
             "linecolor": "white",
             "minorgridcolor": "white",
             "startlinecolor": "#2a3f5f"
            },
            "baxis": {
             "endlinecolor": "#2a3f5f",
             "gridcolor": "white",
             "linecolor": "white",
             "minorgridcolor": "white",
             "startlinecolor": "#2a3f5f"
            },
            "type": "carpet"
           }
          ],
          "choropleth": [
           {
            "colorbar": {
             "outlinewidth": 0,
             "ticks": ""
            },
            "type": "choropleth"
           }
          ],
          "contour": [
           {
            "colorbar": {
             "outlinewidth": 0,
             "ticks": ""
            },
            "colorscale": [
             [
              0,
              "#0d0887"
             ],
             [
              0.1111111111111111,
              "#46039f"
             ],
             [
              0.2222222222222222,
              "#7201a8"
             ],
             [
              0.3333333333333333,
              "#9c179e"
             ],
             [
              0.4444444444444444,
              "#bd3786"
             ],
             [
              0.5555555555555556,
              "#d8576b"
             ],
             [
              0.6666666666666666,
              "#ed7953"
             ],
             [
              0.7777777777777778,
              "#fb9f3a"
             ],
             [
              0.8888888888888888,
              "#fdca26"
             ],
             [
              1,
              "#f0f921"
             ]
            ],
            "type": "contour"
           }
          ],
          "contourcarpet": [
           {
            "colorbar": {
             "outlinewidth": 0,
             "ticks": ""
            },
            "type": "contourcarpet"
           }
          ],
          "heatmap": [
           {
            "colorbar": {
             "outlinewidth": 0,
             "ticks": ""
            },
            "colorscale": [
             [
              0,
              "#0d0887"
             ],
             [
              0.1111111111111111,
              "#46039f"
             ],
             [
              0.2222222222222222,
              "#7201a8"
             ],
             [
              0.3333333333333333,
              "#9c179e"
             ],
             [
              0.4444444444444444,
              "#bd3786"
             ],
             [
              0.5555555555555556,
              "#d8576b"
             ],
             [
              0.6666666666666666,
              "#ed7953"
             ],
             [
              0.7777777777777778,
              "#fb9f3a"
             ],
             [
              0.8888888888888888,
              "#fdca26"
             ],
             [
              1,
              "#f0f921"
             ]
            ],
            "type": "heatmap"
           }
          ],
          "heatmapgl": [
           {
            "colorbar": {
             "outlinewidth": 0,
             "ticks": ""
            },
            "colorscale": [
             [
              0,
              "#0d0887"
             ],
             [
              0.1111111111111111,
              "#46039f"
             ],
             [
              0.2222222222222222,
              "#7201a8"
             ],
             [
              0.3333333333333333,
              "#9c179e"
             ],
             [
              0.4444444444444444,
              "#bd3786"
             ],
             [
              0.5555555555555556,
              "#d8576b"
             ],
             [
              0.6666666666666666,
              "#ed7953"
             ],
             [
              0.7777777777777778,
              "#fb9f3a"
             ],
             [
              0.8888888888888888,
              "#fdca26"
             ],
             [
              1,
              "#f0f921"
             ]
            ],
            "type": "heatmapgl"
           }
          ],
          "histogram": [
           {
            "marker": {
             "pattern": {
              "fillmode": "overlay",
              "size": 10,
              "solidity": 0.2
             }
            },
            "type": "histogram"
           }
          ],
          "histogram2d": [
           {
            "colorbar": {
             "outlinewidth": 0,
             "ticks": ""
            },
            "colorscale": [
             [
              0,
              "#0d0887"
             ],
             [
              0.1111111111111111,
              "#46039f"
             ],
             [
              0.2222222222222222,
              "#7201a8"
             ],
             [
              0.3333333333333333,
              "#9c179e"
             ],
             [
              0.4444444444444444,
              "#bd3786"
             ],
             [
              0.5555555555555556,
              "#d8576b"
             ],
             [
              0.6666666666666666,
              "#ed7953"
             ],
             [
              0.7777777777777778,
              "#fb9f3a"
             ],
             [
              0.8888888888888888,
              "#fdca26"
             ],
             [
              1,
              "#f0f921"
             ]
            ],
            "type": "histogram2d"
           }
          ],
          "histogram2dcontour": [
           {
            "colorbar": {
             "outlinewidth": 0,
             "ticks": ""
            },
            "colorscale": [
             [
              0,
              "#0d0887"
             ],
             [
              0.1111111111111111,
              "#46039f"
             ],
             [
              0.2222222222222222,
              "#7201a8"
             ],
             [
              0.3333333333333333,
              "#9c179e"
             ],
             [
              0.4444444444444444,
              "#bd3786"
             ],
             [
              0.5555555555555556,
              "#d8576b"
             ],
             [
              0.6666666666666666,
              "#ed7953"
             ],
             [
              0.7777777777777778,
              "#fb9f3a"
             ],
             [
              0.8888888888888888,
              "#fdca26"
             ],
             [
              1,
              "#f0f921"
             ]
            ],
            "type": "histogram2dcontour"
           }
          ],
          "mesh3d": [
           {
            "colorbar": {
             "outlinewidth": 0,
             "ticks": ""
            },
            "type": "mesh3d"
           }
          ],
          "parcoords": [
           {
            "line": {
             "colorbar": {
              "outlinewidth": 0,
              "ticks": ""
             }
            },
            "type": "parcoords"
           }
          ],
          "pie": [
           {
            "automargin": true,
            "type": "pie"
           }
          ],
          "scatter": [
           {
            "fillpattern": {
             "fillmode": "overlay",
             "size": 10,
             "solidity": 0.2
            },
            "type": "scatter"
           }
          ],
          "scatter3d": [
           {
            "line": {
             "colorbar": {
              "outlinewidth": 0,
              "ticks": ""
             }
            },
            "marker": {
             "colorbar": {
              "outlinewidth": 0,
              "ticks": ""
             }
            },
            "type": "scatter3d"
           }
          ],
          "scattercarpet": [
           {
            "marker": {
             "colorbar": {
              "outlinewidth": 0,
              "ticks": ""
             }
            },
            "type": "scattercarpet"
           }
          ],
          "scattergeo": [
           {
            "marker": {
             "colorbar": {
              "outlinewidth": 0,
              "ticks": ""
             }
            },
            "type": "scattergeo"
           }
          ],
          "scattergl": [
           {
            "marker": {
             "colorbar": {
              "outlinewidth": 0,
              "ticks": ""
             }
            },
            "type": "scattergl"
           }
          ],
          "scattermapbox": [
           {
            "marker": {
             "colorbar": {
              "outlinewidth": 0,
              "ticks": ""
             }
            },
            "type": "scattermapbox"
           }
          ],
          "scatterpolar": [
           {
            "marker": {
             "colorbar": {
              "outlinewidth": 0,
              "ticks": ""
             }
            },
            "type": "scatterpolar"
           }
          ],
          "scatterpolargl": [
           {
            "marker": {
             "colorbar": {
              "outlinewidth": 0,
              "ticks": ""
             }
            },
            "type": "scatterpolargl"
           }
          ],
          "scatterternary": [
           {
            "marker": {
             "colorbar": {
              "outlinewidth": 0,
              "ticks": ""
             }
            },
            "type": "scatterternary"
           }
          ],
          "surface": [
           {
            "colorbar": {
             "outlinewidth": 0,
             "ticks": ""
            },
            "colorscale": [
             [
              0,
              "#0d0887"
             ],
             [
              0.1111111111111111,
              "#46039f"
             ],
             [
              0.2222222222222222,
              "#7201a8"
             ],
             [
              0.3333333333333333,
              "#9c179e"
             ],
             [
              0.4444444444444444,
              "#bd3786"
             ],
             [
              0.5555555555555556,
              "#d8576b"
             ],
             [
              0.6666666666666666,
              "#ed7953"
             ],
             [
              0.7777777777777778,
              "#fb9f3a"
             ],
             [
              0.8888888888888888,
              "#fdca26"
             ],
             [
              1,
              "#f0f921"
             ]
            ],
            "type": "surface"
           }
          ],
          "table": [
           {
            "cells": {
             "fill": {
              "color": "#EBF0F8"
             },
             "line": {
              "color": "white"
             }
            },
            "header": {
             "fill": {
              "color": "#C8D4E3"
             },
             "line": {
              "color": "white"
             }
            },
            "type": "table"
           }
          ]
         },
         "layout": {
          "annotationdefaults": {
           "arrowcolor": "#2a3f5f",
           "arrowhead": 0,
           "arrowwidth": 1
          },
          "autotypenumbers": "strict",
          "coloraxis": {
           "colorbar": {
            "outlinewidth": 0,
            "ticks": ""
           }
          },
          "colorscale": {
           "diverging": [
            [
             0,
             "#8e0152"
            ],
            [
             0.1,
             "#c51b7d"
            ],
            [
             0.2,
             "#de77ae"
            ],
            [
             0.3,
             "#f1b6da"
            ],
            [
             0.4,
             "#fde0ef"
            ],
            [
             0.5,
             "#f7f7f7"
            ],
            [
             0.6,
             "#e6f5d0"
            ],
            [
             0.7,
             "#b8e186"
            ],
            [
             0.8,
             "#7fbc41"
            ],
            [
             0.9,
             "#4d9221"
            ],
            [
             1,
             "#276419"
            ]
           ],
           "sequential": [
            [
             0,
             "#0d0887"
            ],
            [
             0.1111111111111111,
             "#46039f"
            ],
            [
             0.2222222222222222,
             "#7201a8"
            ],
            [
             0.3333333333333333,
             "#9c179e"
            ],
            [
             0.4444444444444444,
             "#bd3786"
            ],
            [
             0.5555555555555556,
             "#d8576b"
            ],
            [
             0.6666666666666666,
             "#ed7953"
            ],
            [
             0.7777777777777778,
             "#fb9f3a"
            ],
            [
             0.8888888888888888,
             "#fdca26"
            ],
            [
             1,
             "#f0f921"
            ]
           ],
           "sequentialminus": [
            [
             0,
             "#0d0887"
            ],
            [
             0.1111111111111111,
             "#46039f"
            ],
            [
             0.2222222222222222,
             "#7201a8"
            ],
            [
             0.3333333333333333,
             "#9c179e"
            ],
            [
             0.4444444444444444,
             "#bd3786"
            ],
            [
             0.5555555555555556,
             "#d8576b"
            ],
            [
             0.6666666666666666,
             "#ed7953"
            ],
            [
             0.7777777777777778,
             "#fb9f3a"
            ],
            [
             0.8888888888888888,
             "#fdca26"
            ],
            [
             1,
             "#f0f921"
            ]
           ]
          },
          "colorway": [
           "#636efa",
           "#EF553B",
           "#00cc96",
           "#ab63fa",
           "#FFA15A",
           "#19d3f3",
           "#FF6692",
           "#B6E880",
           "#FF97FF",
           "#FECB52"
          ],
          "font": {
           "color": "#2a3f5f"
          },
          "geo": {
           "bgcolor": "white",
           "lakecolor": "white",
           "landcolor": "#E5ECF6",
           "showlakes": true,
           "showland": true,
           "subunitcolor": "white"
          },
          "hoverlabel": {
           "align": "left"
          },
          "hovermode": "closest",
          "mapbox": {
           "style": "light"
          },
          "paper_bgcolor": "white",
          "plot_bgcolor": "#E5ECF6",
          "polar": {
           "angularaxis": {
            "gridcolor": "white",
            "linecolor": "white",
            "ticks": ""
           },
           "bgcolor": "#E5ECF6",
           "radialaxis": {
            "gridcolor": "white",
            "linecolor": "white",
            "ticks": ""
           }
          },
          "scene": {
           "xaxis": {
            "backgroundcolor": "#E5ECF6",
            "gridcolor": "white",
            "gridwidth": 2,
            "linecolor": "white",
            "showbackground": true,
            "ticks": "",
            "zerolinecolor": "white"
           },
           "yaxis": {
            "backgroundcolor": "#E5ECF6",
            "gridcolor": "white",
            "gridwidth": 2,
            "linecolor": "white",
            "showbackground": true,
            "ticks": "",
            "zerolinecolor": "white"
           },
           "zaxis": {
            "backgroundcolor": "#E5ECF6",
            "gridcolor": "white",
            "gridwidth": 2,
            "linecolor": "white",
            "showbackground": true,
            "ticks": "",
            "zerolinecolor": "white"
           }
          },
          "shapedefaults": {
           "line": {
            "color": "#2a3f5f"
           }
          },
          "ternary": {
           "aaxis": {
            "gridcolor": "white",
            "linecolor": "white",
            "ticks": ""
           },
           "baxis": {
            "gridcolor": "white",
            "linecolor": "white",
            "ticks": ""
           },
           "bgcolor": "#E5ECF6",
           "caxis": {
            "gridcolor": "white",
            "linecolor": "white",
            "ticks": ""
           }
          },
          "title": {
           "x": 0.05
          },
          "xaxis": {
           "automargin": true,
           "gridcolor": "white",
           "linecolor": "white",
           "ticks": "",
           "title": {
            "standoff": 15
           },
           "zerolinecolor": "white",
           "zerolinewidth": 2
          },
          "yaxis": {
           "automargin": true,
           "gridcolor": "white",
           "linecolor": "white",
           "ticks": "",
           "title": {
            "standoff": 15
           },
           "zerolinecolor": "white",
           "zerolinewidth": 2
          }
         }
        },
        "title": {
         "text": "Distribution of Funding Amounts"
        },
        "xaxis": {
         "anchor": "y",
         "domain": [
          0,
          1
         ],
         "title": {
          "text": "Actual Contractual Commitment ($)"
         }
        },
        "yaxis": {
         "anchor": "x",
         "domain": [
          0,
          1
         ],
         "title": {
          "text": "count"
         }
        }
       }
      }
     },
     "metadata": {},
     "output_type": "display_data"
    }
   ],
   "source": [
    "# Distribution of funding amounts\n",
    "fig = px.histogram(df, x='Actual Contractual Commitment ($)', nbins=100, title='Distribution of Funding Amounts')\n",
    "fig.show()"
   ]
  },
  {
   "cell_type": "markdown",
   "id": "29cc71de",
   "metadata": {},
   "source": [
    "#### Chart - Funding by Program\n",
    "\n",
    "#### Observation\n",
    "\n",
    "- **Top-funded programs**:\n",
    "    - The Platform Technology Program and UQ - Covid-19 Vaccine Development are the most generously funded initiatives, each securing in excess of $9 million.\n",
    "    - This signifies a substantial allocation of funds towards technological and healthcare endeavors, particularly in response to the COVID-19 pandemic.\n",
    "\n",
    "- **Middle Tier Funding**:\n",
    "    - Initiatives such as Innovation Partnership, Data61, and the Artificial Intelligence Hub also garner considerable backing, with funding ranging from $5 to $7 million.\n",
    "    - This indicates a notable emphasis on innovation and emerging technologies.\n",
    "\n",
    "- **Lower Tier Funding**:\n",
    "    - Initiatives ranked at the lower end of the top 20 list, such as Softbank and Female Founders, receive notably lesser financial support, ranging from $1 million to $2 million.\n",
    "    - This may pertain to endeavors on a smaller scale or within more specialized investment areas.\n",
    "\n",
    "- **Funding Focus Areas**:\n",
    "    - The allocation of funding underscores key focus areas: technology, healthcare, innovation, and specific targeted endeavors like Female Founders. These areas are likely given priority due to their potential for substantial impact and expansion. \n",
    "    \n",
    "- **Overall Funding Distribution:**: \n",
    "    - The chart illustrates a broad spectrum of funding allocations, suggesting a diverse investment portfolio spanning various initiatives. This may reflect a well-rounded funding strategy aimed at ensuring diverse sectors and initiatives receive requisite backing.\n"
   ]
  },
  {
   "cell_type": "code",
   "execution_count": 58,
   "id": "1122a416",
   "metadata": {},
   "outputs": [
    {
     "data": {
      "application/vnd.plotly.v1+json": {
       "config": {
        "plotlyServerURL": "https://plot.ly"
       },
       "data": [
        {
         "alignmentgroup": "True",
         "customdata": [
          [
           "Uq - Covid-19 Vaccine"
          ],
          [
           "Platform Technology Program"
          ],
          [
           "Data61"
          ],
          [
           "Clem Jones Centre For Ageing Dementia Research"
          ],
          [
           "Artificial Intelligence Hub"
          ],
          [
           "Queensland Emory Drug Discovery Initiative"
          ],
          [
           "Platform Technology Program"
          ],
          [
           "Siemens Healthcare"
          ],
          [
           "Agtech And Logistics Hub"
          ],
          [
           "Rockhampton Technology And Innovation Centre"
          ],
          [
           "Growing Queensland'S Companies"
          ],
          [
           "Life Sciences Queensland"
          ],
          [
           "Platform Technology Program"
          ],
          [
           "Softbank"
          ],
          [
           "Innovation Partnerships Grants"
          ],
          [
           "Innovate Queensland"
          ],
          [
           "Innovation Partnerships Grants"
          ],
          [
           "Innovation Partnerships Grants"
          ],
          [
           "Female Founders Program"
          ],
          [
           "Innovation Partnerships Grants"
          ]
         ],
         "hovertemplate": "Funding Amount ($)=%{x}<br>Program=%{customdata[0]}<extra></extra>",
         "legendgroup": "",
         "marker": {
          "color": "#636efa",
          "pattern": {
           "shape": ""
          }
         },
         "name": "",
         "offsetgroup": "",
         "orientation": "h",
         "showlegend": false,
         "textposition": "auto",
         "type": "bar",
         "x": [
          10000000,
          9000000,
          5695000,
          5000000,
          5000000,
          4169000,
          3807672,
          3198649,
          3000000,
          2800000,
          2202334,
          1860000,
          1500000,
          1500000,
          1500000,
          1500000,
          1500000,
          1499710,
          1452855,
          1260949
         ],
         "xaxis": "x",
         "y": [
          "Uq - Covid-19 V...",
          "Platform Techno...",
          "Data61",
          "Clem Jones Cent...",
          "Artificial Inte...",
          "Queensland Emor...",
          "Platform Techno...",
          "Siemens Healthc...",
          "Agtech And Logi...",
          "Rockhampton Tec...",
          "Growing Queensl...",
          "Life Sciences Q...",
          "Platform Techno...",
          "Softbank",
          "Innovation Part...",
          "Innovate Queens...",
          "Innovation Part...",
          "Innovation Part...",
          "Female Founders...",
          "Innovation Part..."
         ],
         "yaxis": "y"
        }
       ],
       "layout": {
        "barmode": "relative",
        "height": 700,
        "legend": {
         "tracegroupgap": 0
        },
        "template": {
         "data": {
          "bar": [
           {
            "error_x": {
             "color": "#2a3f5f"
            },
            "error_y": {
             "color": "#2a3f5f"
            },
            "marker": {
             "line": {
              "color": "#E5ECF6",
              "width": 0.5
             },
             "pattern": {
              "fillmode": "overlay",
              "size": 10,
              "solidity": 0.2
             }
            },
            "type": "bar"
           }
          ],
          "barpolar": [
           {
            "marker": {
             "line": {
              "color": "#E5ECF6",
              "width": 0.5
             },
             "pattern": {
              "fillmode": "overlay",
              "size": 10,
              "solidity": 0.2
             }
            },
            "type": "barpolar"
           }
          ],
          "carpet": [
           {
            "aaxis": {
             "endlinecolor": "#2a3f5f",
             "gridcolor": "white",
             "linecolor": "white",
             "minorgridcolor": "white",
             "startlinecolor": "#2a3f5f"
            },
            "baxis": {
             "endlinecolor": "#2a3f5f",
             "gridcolor": "white",
             "linecolor": "white",
             "minorgridcolor": "white",
             "startlinecolor": "#2a3f5f"
            },
            "type": "carpet"
           }
          ],
          "choropleth": [
           {
            "colorbar": {
             "outlinewidth": 0,
             "ticks": ""
            },
            "type": "choropleth"
           }
          ],
          "contour": [
           {
            "colorbar": {
             "outlinewidth": 0,
             "ticks": ""
            },
            "colorscale": [
             [
              0,
              "#0d0887"
             ],
             [
              0.1111111111111111,
              "#46039f"
             ],
             [
              0.2222222222222222,
              "#7201a8"
             ],
             [
              0.3333333333333333,
              "#9c179e"
             ],
             [
              0.4444444444444444,
              "#bd3786"
             ],
             [
              0.5555555555555556,
              "#d8576b"
             ],
             [
              0.6666666666666666,
              "#ed7953"
             ],
             [
              0.7777777777777778,
              "#fb9f3a"
             ],
             [
              0.8888888888888888,
              "#fdca26"
             ],
             [
              1,
              "#f0f921"
             ]
            ],
            "type": "contour"
           }
          ],
          "contourcarpet": [
           {
            "colorbar": {
             "outlinewidth": 0,
             "ticks": ""
            },
            "type": "contourcarpet"
           }
          ],
          "heatmap": [
           {
            "colorbar": {
             "outlinewidth": 0,
             "ticks": ""
            },
            "colorscale": [
             [
              0,
              "#0d0887"
             ],
             [
              0.1111111111111111,
              "#46039f"
             ],
             [
              0.2222222222222222,
              "#7201a8"
             ],
             [
              0.3333333333333333,
              "#9c179e"
             ],
             [
              0.4444444444444444,
              "#bd3786"
             ],
             [
              0.5555555555555556,
              "#d8576b"
             ],
             [
              0.6666666666666666,
              "#ed7953"
             ],
             [
              0.7777777777777778,
              "#fb9f3a"
             ],
             [
              0.8888888888888888,
              "#fdca26"
             ],
             [
              1,
              "#f0f921"
             ]
            ],
            "type": "heatmap"
           }
          ],
          "heatmapgl": [
           {
            "colorbar": {
             "outlinewidth": 0,
             "ticks": ""
            },
            "colorscale": [
             [
              0,
              "#0d0887"
             ],
             [
              0.1111111111111111,
              "#46039f"
             ],
             [
              0.2222222222222222,
              "#7201a8"
             ],
             [
              0.3333333333333333,
              "#9c179e"
             ],
             [
              0.4444444444444444,
              "#bd3786"
             ],
             [
              0.5555555555555556,
              "#d8576b"
             ],
             [
              0.6666666666666666,
              "#ed7953"
             ],
             [
              0.7777777777777778,
              "#fb9f3a"
             ],
             [
              0.8888888888888888,
              "#fdca26"
             ],
             [
              1,
              "#f0f921"
             ]
            ],
            "type": "heatmapgl"
           }
          ],
          "histogram": [
           {
            "marker": {
             "pattern": {
              "fillmode": "overlay",
              "size": 10,
              "solidity": 0.2
             }
            },
            "type": "histogram"
           }
          ],
          "histogram2d": [
           {
            "colorbar": {
             "outlinewidth": 0,
             "ticks": ""
            },
            "colorscale": [
             [
              0,
              "#0d0887"
             ],
             [
              0.1111111111111111,
              "#46039f"
             ],
             [
              0.2222222222222222,
              "#7201a8"
             ],
             [
              0.3333333333333333,
              "#9c179e"
             ],
             [
              0.4444444444444444,
              "#bd3786"
             ],
             [
              0.5555555555555556,
              "#d8576b"
             ],
             [
              0.6666666666666666,
              "#ed7953"
             ],
             [
              0.7777777777777778,
              "#fb9f3a"
             ],
             [
              0.8888888888888888,
              "#fdca26"
             ],
             [
              1,
              "#f0f921"
             ]
            ],
            "type": "histogram2d"
           }
          ],
          "histogram2dcontour": [
           {
            "colorbar": {
             "outlinewidth": 0,
             "ticks": ""
            },
            "colorscale": [
             [
              0,
              "#0d0887"
             ],
             [
              0.1111111111111111,
              "#46039f"
             ],
             [
              0.2222222222222222,
              "#7201a8"
             ],
             [
              0.3333333333333333,
              "#9c179e"
             ],
             [
              0.4444444444444444,
              "#bd3786"
             ],
             [
              0.5555555555555556,
              "#d8576b"
             ],
             [
              0.6666666666666666,
              "#ed7953"
             ],
             [
              0.7777777777777778,
              "#fb9f3a"
             ],
             [
              0.8888888888888888,
              "#fdca26"
             ],
             [
              1,
              "#f0f921"
             ]
            ],
            "type": "histogram2dcontour"
           }
          ],
          "mesh3d": [
           {
            "colorbar": {
             "outlinewidth": 0,
             "ticks": ""
            },
            "type": "mesh3d"
           }
          ],
          "parcoords": [
           {
            "line": {
             "colorbar": {
              "outlinewidth": 0,
              "ticks": ""
             }
            },
            "type": "parcoords"
           }
          ],
          "pie": [
           {
            "automargin": true,
            "type": "pie"
           }
          ],
          "scatter": [
           {
            "fillpattern": {
             "fillmode": "overlay",
             "size": 10,
             "solidity": 0.2
            },
            "type": "scatter"
           }
          ],
          "scatter3d": [
           {
            "line": {
             "colorbar": {
              "outlinewidth": 0,
              "ticks": ""
             }
            },
            "marker": {
             "colorbar": {
              "outlinewidth": 0,
              "ticks": ""
             }
            },
            "type": "scatter3d"
           }
          ],
          "scattercarpet": [
           {
            "marker": {
             "colorbar": {
              "outlinewidth": 0,
              "ticks": ""
             }
            },
            "type": "scattercarpet"
           }
          ],
          "scattergeo": [
           {
            "marker": {
             "colorbar": {
              "outlinewidth": 0,
              "ticks": ""
             }
            },
            "type": "scattergeo"
           }
          ],
          "scattergl": [
           {
            "marker": {
             "colorbar": {
              "outlinewidth": 0,
              "ticks": ""
             }
            },
            "type": "scattergl"
           }
          ],
          "scattermapbox": [
           {
            "marker": {
             "colorbar": {
              "outlinewidth": 0,
              "ticks": ""
             }
            },
            "type": "scattermapbox"
           }
          ],
          "scatterpolar": [
           {
            "marker": {
             "colorbar": {
              "outlinewidth": 0,
              "ticks": ""
             }
            },
            "type": "scatterpolar"
           }
          ],
          "scatterpolargl": [
           {
            "marker": {
             "colorbar": {
              "outlinewidth": 0,
              "ticks": ""
             }
            },
            "type": "scatterpolargl"
           }
          ],
          "scatterternary": [
           {
            "marker": {
             "colorbar": {
              "outlinewidth": 0,
              "ticks": ""
             }
            },
            "type": "scatterternary"
           }
          ],
          "surface": [
           {
            "colorbar": {
             "outlinewidth": 0,
             "ticks": ""
            },
            "colorscale": [
             [
              0,
              "#0d0887"
             ],
             [
              0.1111111111111111,
              "#46039f"
             ],
             [
              0.2222222222222222,
              "#7201a8"
             ],
             [
              0.3333333333333333,
              "#9c179e"
             ],
             [
              0.4444444444444444,
              "#bd3786"
             ],
             [
              0.5555555555555556,
              "#d8576b"
             ],
             [
              0.6666666666666666,
              "#ed7953"
             ],
             [
              0.7777777777777778,
              "#fb9f3a"
             ],
             [
              0.8888888888888888,
              "#fdca26"
             ],
             [
              1,
              "#f0f921"
             ]
            ],
            "type": "surface"
           }
          ],
          "table": [
           {
            "cells": {
             "fill": {
              "color": "#EBF0F8"
             },
             "line": {
              "color": "white"
             }
            },
            "header": {
             "fill": {
              "color": "#C8D4E3"
             },
             "line": {
              "color": "white"
             }
            },
            "type": "table"
           }
          ]
         },
         "layout": {
          "annotationdefaults": {
           "arrowcolor": "#2a3f5f",
           "arrowhead": 0,
           "arrowwidth": 1
          },
          "autotypenumbers": "strict",
          "coloraxis": {
           "colorbar": {
            "outlinewidth": 0,
            "ticks": ""
           }
          },
          "colorscale": {
           "diverging": [
            [
             0,
             "#8e0152"
            ],
            [
             0.1,
             "#c51b7d"
            ],
            [
             0.2,
             "#de77ae"
            ],
            [
             0.3,
             "#f1b6da"
            ],
            [
             0.4,
             "#fde0ef"
            ],
            [
             0.5,
             "#f7f7f7"
            ],
            [
             0.6,
             "#e6f5d0"
            ],
            [
             0.7,
             "#b8e186"
            ],
            [
             0.8,
             "#7fbc41"
            ],
            [
             0.9,
             "#4d9221"
            ],
            [
             1,
             "#276419"
            ]
           ],
           "sequential": [
            [
             0,
             "#0d0887"
            ],
            [
             0.1111111111111111,
             "#46039f"
            ],
            [
             0.2222222222222222,
             "#7201a8"
            ],
            [
             0.3333333333333333,
             "#9c179e"
            ],
            [
             0.4444444444444444,
             "#bd3786"
            ],
            [
             0.5555555555555556,
             "#d8576b"
            ],
            [
             0.6666666666666666,
             "#ed7953"
            ],
            [
             0.7777777777777778,
             "#fb9f3a"
            ],
            [
             0.8888888888888888,
             "#fdca26"
            ],
            [
             1,
             "#f0f921"
            ]
           ],
           "sequentialminus": [
            [
             0,
             "#0d0887"
            ],
            [
             0.1111111111111111,
             "#46039f"
            ],
            [
             0.2222222222222222,
             "#7201a8"
            ],
            [
             0.3333333333333333,
             "#9c179e"
            ],
            [
             0.4444444444444444,
             "#bd3786"
            ],
            [
             0.5555555555555556,
             "#d8576b"
            ],
            [
             0.6666666666666666,
             "#ed7953"
            ],
            [
             0.7777777777777778,
             "#fb9f3a"
            ],
            [
             0.8888888888888888,
             "#fdca26"
            ],
            [
             1,
             "#f0f921"
            ]
           ]
          },
          "colorway": [
           "#636efa",
           "#EF553B",
           "#00cc96",
           "#ab63fa",
           "#FFA15A",
           "#19d3f3",
           "#FF6692",
           "#B6E880",
           "#FF97FF",
           "#FECB52"
          ],
          "font": {
           "color": "#2a3f5f"
          },
          "geo": {
           "bgcolor": "white",
           "lakecolor": "white",
           "landcolor": "#E5ECF6",
           "showlakes": true,
           "showland": true,
           "subunitcolor": "white"
          },
          "hoverlabel": {
           "align": "left"
          },
          "hovermode": "closest",
          "mapbox": {
           "style": "light"
          },
          "paper_bgcolor": "white",
          "plot_bgcolor": "#E5ECF6",
          "polar": {
           "angularaxis": {
            "gridcolor": "white",
            "linecolor": "white",
            "ticks": ""
           },
           "bgcolor": "#E5ECF6",
           "radialaxis": {
            "gridcolor": "white",
            "linecolor": "white",
            "ticks": ""
           }
          },
          "scene": {
           "xaxis": {
            "backgroundcolor": "#E5ECF6",
            "gridcolor": "white",
            "gridwidth": 2,
            "linecolor": "white",
            "showbackground": true,
            "ticks": "",
            "zerolinecolor": "white"
           },
           "yaxis": {
            "backgroundcolor": "#E5ECF6",
            "gridcolor": "white",
            "gridwidth": 2,
            "linecolor": "white",
            "showbackground": true,
            "ticks": "",
            "zerolinecolor": "white"
           },
           "zaxis": {
            "backgroundcolor": "#E5ECF6",
            "gridcolor": "white",
            "gridwidth": 2,
            "linecolor": "white",
            "showbackground": true,
            "ticks": "",
            "zerolinecolor": "white"
           }
          },
          "shapedefaults": {
           "line": {
            "color": "#2a3f5f"
           }
          },
          "ternary": {
           "aaxis": {
            "gridcolor": "white",
            "linecolor": "white",
            "ticks": ""
           },
           "baxis": {
            "gridcolor": "white",
            "linecolor": "white",
            "ticks": ""
           },
           "bgcolor": "#E5ECF6",
           "caxis": {
            "gridcolor": "white",
            "linecolor": "white",
            "ticks": ""
           }
          },
          "title": {
           "x": 0.05
          },
          "xaxis": {
           "automargin": true,
           "gridcolor": "white",
           "linecolor": "white",
           "ticks": "",
           "title": {
            "standoff": 15
           },
           "zerolinecolor": "white",
           "zerolinewidth": 2
          },
          "yaxis": {
           "automargin": true,
           "gridcolor": "white",
           "linecolor": "white",
           "ticks": "",
           "title": {
            "standoff": 15
           },
           "zerolinecolor": "white",
           "zerolinewidth": 2
          }
         }
        },
        "title": {
         "text": "Funding by Program"
        },
        "xaxis": {
         "anchor": "y",
         "domain": [
          0,
          1
         ],
         "title": {
          "text": "Funding Amount ($)"
         }
        },
        "yaxis": {
         "anchor": "x",
         "categoryorder": "total ascending",
         "domain": [
          0,
          1
         ],
         "title": {
          "text": "Program"
         }
        }
       }
      }
     },
     "metadata": {},
     "output_type": "display_data"
    }
   ],
   "source": [
    "# Top 20 Funding by program\n",
    "# Sort by 'Actual Contractual Commitment ($)' in descending order and select top 20\n",
    "df_sorted = df.sort_values(by='Actual Contractual Commitment ($)', ascending=False).head(20)\n",
    "\n",
    "# Truncate program names for display and keep full names for hover data\n",
    "df_sorted['Short Program Name'] = df_sorted['Program'].apply(lambda x: x if len(x) <= 15 else x[:15] + '...')\n",
    "\n",
    "# Create the bar plot\n",
    "fig = px.bar(\n",
    "    df_sorted,\n",
    "    x='Actual Contractual Commitment ($)',\n",
    "    y='Short Program Name',\n",
    "    title='Funding by Program',\n",
    "    labels={'Actual Contractual Commitment ($)': 'Funding Amount ($)', 'Short Program Name': 'Program'},\n",
    "    hover_data={'Program': True},\n",
    "    orientation='h',\n",
    "    height=700\n",
    ")\n",
    "\n",
    "fig.update_layout(\n",
    "    yaxis={'categoryorder':'total ascending'},\n",
    "    xaxis_title='Funding Amount ($)',\n",
    "    yaxis_title='Program'\n",
    ")\n",
    "\n",
    "fig.show()"
   ]
  },
  {
   "cell_type": "markdown",
   "id": "587e960f",
   "metadata": {},
   "source": [
    "#### Chart - Top 100 Funding by Location (Suburb)\n",
    "- The bar chart depicts the distribution of money across various suburbs. This can assist determine whether any geographic areas are underfunded or overfunded.\n",
    "- Allocate resources based on the unique requirements of each area.If some suburbs have greater needs but receive less money, resources can be reallocated to guarantee fair support.\n",
    "\n",
    "#### Observations:\n",
    "\n",
    "1. **Suburban Areas with High Levels of Funding**:\n",
    "\n",
    "- **St Lucia**: Is allocated the highest amount of funding, surpassing $20 million.\n",
    "\n",
    "- **Brisbane City**: Also benefits from significant funding, approximately $18 million.\n",
    "\n",
    "- **Fortitude Valley**: Receives an allocation of around $12 million.\n",
    "\n",
    "2. **Remaining Residential Areas**:\n",
    "\n",
    "- The rest of the suburbs experience a gradual decrease in the funding they receive.\n",
    "\n",
    "- There is a noticeable decline in funding levels once the top-ranking suburbs are surpassed."
   ]
  },
  {
   "cell_type": "code",
   "execution_count": 59,
   "id": "57d5ce97",
   "metadata": {},
   "outputs": [
    {
     "data": {
      "application/vnd.plotly.v1+json": {
       "config": {
        "plotlyServerURL": "https://plot.ly"
       },
       "data": [
        {
         "alignmentgroup": "True",
         "hovertemplate": "Location (Suburb)=%{x}<br>Funding Amount ($)=%{y}<extra></extra>",
         "legendgroup": "",
         "marker": {
          "color": "#636efa",
          "pattern": {
           "shape": ""
          }
         },
         "name": "",
         "offsetgroup": "",
         "orientation": "v",
         "showlegend": false,
         "textposition": "auto",
         "type": "bar",
         "x": [
          "St Lucia",
          "Brisbane City",
          "Fortitude Valley",
          "St Lucia",
          "Fortitude Valley",
          "St Lucia",
          "Indooroopilly",
          "Woolloongabba",
          "Toowoomba City",
          "Norman Gardens",
          "Nan",
          "Toowong",
          "Southport",
          "Brisbane City",
          "Douglas",
          "Brisbane City",
          "Herston",
          "South Brisbane",
          "Brisbane City",
          "St Lucia",
          "St Lucia",
          "Kelvin Grove",
          "Fortitude Valley",
          "Yarwun",
          "Brisbane City",
          "Toowong",
          "Indooroopilly",
          "St Lucia",
          "Brisbane City",
          "Brisbane City",
          "Fortitude Valley",
          "Brisbane City",
          "Brisbane City",
          "Southport",
          "St Lucia",
          "Nan",
          "St Lucia",
          "Kelvin Grove",
          "Toowong",
          "Goondiwindi",
          "Gatton",
          "Sinnamon Park",
          "St Lucia",
          "Weipa",
          "Maroochydore",
          "Cleveland",
          "Toowoomba City",
          "Varsity Lakes",
          "Townsville City",
          "Kelvin Grove",
          "Fortitude Valley",
          "Brisbane City",
          "Emerald",
          "Kippa-Ring",
          "St Lucia",
          "Fortitude Valley",
          "Longreach",
          "Mackay",
          "Gympie",
          "Fortitude Valley",
          "Toowong",
          "Fortitude Valley",
          "St Lucia",
          "Ipswich",
          "Brisbane City",
          "St Lucia",
          "Fortitude Valley",
          "Carole Park",
          "Sippy Downs",
          "St Lucia",
          "Brisbane City",
          "St Lucia",
          "Springfield Central",
          "Norman Gardens",
          "Nathan",
          "Brisbane City",
          "Dubai",
          "Garbutt",
          "Norman Gardens",
          "Cairns City",
          "Goonellabah",
          "Enoggera",
          "Woolloongabba",
          "Branyan",
          "Sumner",
          "St Lucia",
          "Sippy Downs",
          "Smithfield",
          "Southport",
          "Nathan",
          "Douglas",
          "Charleville",
          "Herston",
          "Southport",
          "Darling Heights",
          "St Lucia",
          "St Lucia",
          "Chermside",
          "Helensvale",
          "Woolloongabba"
         ],
         "xaxis": "x",
         "y": [
          10000000,
          9000000,
          5695000,
          5000000,
          5000000,
          4169000,
          3807672,
          3198649,
          3000000,
          2800000,
          2202334,
          1860000,
          1500000,
          1500000,
          1500000,
          1500000,
          1500000,
          1499710,
          1452855,
          1260949,
          1224000,
          1083968,
          1000000,
          1000000,
          1000000,
          1000000,
          995129,
          960000,
          900000,
          894704,
          750000,
          750000,
          705000,
          700000,
          677953,
          667000,
          636000,
          615000,
          600000,
          579000,
          577730,
          546027,
          540000,
          540000,
          500000,
          500000,
          500000,
          500000,
          500000,
          500000,
          500000,
          500000,
          500000,
          499980,
          496000,
          494000,
          487248,
          480000,
          478330,
          457000,
          450000,
          450000,
          448281,
          432125,
          428240,
          400000,
          400000,
          400000,
          391000,
          360000,
          360000,
          360000,
          360000,
          360000,
          360000,
          356396,
          355000,
          350000,
          318721,
          315000,
          310000,
          300000,
          300000,
          300000,
          300000,
          300000,
          300000,
          300000,
          300000,
          300000,
          300000,
          300000,
          300000,
          300000,
          300000,
          300000,
          300000,
          300000,
          300000,
          300000
         ],
         "yaxis": "y"
        }
       ],
       "layout": {
        "barmode": "relative",
        "height": 700,
        "legend": {
         "tracegroupgap": 0
        },
        "template": {
         "data": {
          "bar": [
           {
            "error_x": {
             "color": "#2a3f5f"
            },
            "error_y": {
             "color": "#2a3f5f"
            },
            "marker": {
             "line": {
              "color": "#E5ECF6",
              "width": 0.5
             },
             "pattern": {
              "fillmode": "overlay",
              "size": 10,
              "solidity": 0.2
             }
            },
            "type": "bar"
           }
          ],
          "barpolar": [
           {
            "marker": {
             "line": {
              "color": "#E5ECF6",
              "width": 0.5
             },
             "pattern": {
              "fillmode": "overlay",
              "size": 10,
              "solidity": 0.2
             }
            },
            "type": "barpolar"
           }
          ],
          "carpet": [
           {
            "aaxis": {
             "endlinecolor": "#2a3f5f",
             "gridcolor": "white",
             "linecolor": "white",
             "minorgridcolor": "white",
             "startlinecolor": "#2a3f5f"
            },
            "baxis": {
             "endlinecolor": "#2a3f5f",
             "gridcolor": "white",
             "linecolor": "white",
             "minorgridcolor": "white",
             "startlinecolor": "#2a3f5f"
            },
            "type": "carpet"
           }
          ],
          "choropleth": [
           {
            "colorbar": {
             "outlinewidth": 0,
             "ticks": ""
            },
            "type": "choropleth"
           }
          ],
          "contour": [
           {
            "colorbar": {
             "outlinewidth": 0,
             "ticks": ""
            },
            "colorscale": [
             [
              0,
              "#0d0887"
             ],
             [
              0.1111111111111111,
              "#46039f"
             ],
             [
              0.2222222222222222,
              "#7201a8"
             ],
             [
              0.3333333333333333,
              "#9c179e"
             ],
             [
              0.4444444444444444,
              "#bd3786"
             ],
             [
              0.5555555555555556,
              "#d8576b"
             ],
             [
              0.6666666666666666,
              "#ed7953"
             ],
             [
              0.7777777777777778,
              "#fb9f3a"
             ],
             [
              0.8888888888888888,
              "#fdca26"
             ],
             [
              1,
              "#f0f921"
             ]
            ],
            "type": "contour"
           }
          ],
          "contourcarpet": [
           {
            "colorbar": {
             "outlinewidth": 0,
             "ticks": ""
            },
            "type": "contourcarpet"
           }
          ],
          "heatmap": [
           {
            "colorbar": {
             "outlinewidth": 0,
             "ticks": ""
            },
            "colorscale": [
             [
              0,
              "#0d0887"
             ],
             [
              0.1111111111111111,
              "#46039f"
             ],
             [
              0.2222222222222222,
              "#7201a8"
             ],
             [
              0.3333333333333333,
              "#9c179e"
             ],
             [
              0.4444444444444444,
              "#bd3786"
             ],
             [
              0.5555555555555556,
              "#d8576b"
             ],
             [
              0.6666666666666666,
              "#ed7953"
             ],
             [
              0.7777777777777778,
              "#fb9f3a"
             ],
             [
              0.8888888888888888,
              "#fdca26"
             ],
             [
              1,
              "#f0f921"
             ]
            ],
            "type": "heatmap"
           }
          ],
          "heatmapgl": [
           {
            "colorbar": {
             "outlinewidth": 0,
             "ticks": ""
            },
            "colorscale": [
             [
              0,
              "#0d0887"
             ],
             [
              0.1111111111111111,
              "#46039f"
             ],
             [
              0.2222222222222222,
              "#7201a8"
             ],
             [
              0.3333333333333333,
              "#9c179e"
             ],
             [
              0.4444444444444444,
              "#bd3786"
             ],
             [
              0.5555555555555556,
              "#d8576b"
             ],
             [
              0.6666666666666666,
              "#ed7953"
             ],
             [
              0.7777777777777778,
              "#fb9f3a"
             ],
             [
              0.8888888888888888,
              "#fdca26"
             ],
             [
              1,
              "#f0f921"
             ]
            ],
            "type": "heatmapgl"
           }
          ],
          "histogram": [
           {
            "marker": {
             "pattern": {
              "fillmode": "overlay",
              "size": 10,
              "solidity": 0.2
             }
            },
            "type": "histogram"
           }
          ],
          "histogram2d": [
           {
            "colorbar": {
             "outlinewidth": 0,
             "ticks": ""
            },
            "colorscale": [
             [
              0,
              "#0d0887"
             ],
             [
              0.1111111111111111,
              "#46039f"
             ],
             [
              0.2222222222222222,
              "#7201a8"
             ],
             [
              0.3333333333333333,
              "#9c179e"
             ],
             [
              0.4444444444444444,
              "#bd3786"
             ],
             [
              0.5555555555555556,
              "#d8576b"
             ],
             [
              0.6666666666666666,
              "#ed7953"
             ],
             [
              0.7777777777777778,
              "#fb9f3a"
             ],
             [
              0.8888888888888888,
              "#fdca26"
             ],
             [
              1,
              "#f0f921"
             ]
            ],
            "type": "histogram2d"
           }
          ],
          "histogram2dcontour": [
           {
            "colorbar": {
             "outlinewidth": 0,
             "ticks": ""
            },
            "colorscale": [
             [
              0,
              "#0d0887"
             ],
             [
              0.1111111111111111,
              "#46039f"
             ],
             [
              0.2222222222222222,
              "#7201a8"
             ],
             [
              0.3333333333333333,
              "#9c179e"
             ],
             [
              0.4444444444444444,
              "#bd3786"
             ],
             [
              0.5555555555555556,
              "#d8576b"
             ],
             [
              0.6666666666666666,
              "#ed7953"
             ],
             [
              0.7777777777777778,
              "#fb9f3a"
             ],
             [
              0.8888888888888888,
              "#fdca26"
             ],
             [
              1,
              "#f0f921"
             ]
            ],
            "type": "histogram2dcontour"
           }
          ],
          "mesh3d": [
           {
            "colorbar": {
             "outlinewidth": 0,
             "ticks": ""
            },
            "type": "mesh3d"
           }
          ],
          "parcoords": [
           {
            "line": {
             "colorbar": {
              "outlinewidth": 0,
              "ticks": ""
             }
            },
            "type": "parcoords"
           }
          ],
          "pie": [
           {
            "automargin": true,
            "type": "pie"
           }
          ],
          "scatter": [
           {
            "fillpattern": {
             "fillmode": "overlay",
             "size": 10,
             "solidity": 0.2
            },
            "type": "scatter"
           }
          ],
          "scatter3d": [
           {
            "line": {
             "colorbar": {
              "outlinewidth": 0,
              "ticks": ""
             }
            },
            "marker": {
             "colorbar": {
              "outlinewidth": 0,
              "ticks": ""
             }
            },
            "type": "scatter3d"
           }
          ],
          "scattercarpet": [
           {
            "marker": {
             "colorbar": {
              "outlinewidth": 0,
              "ticks": ""
             }
            },
            "type": "scattercarpet"
           }
          ],
          "scattergeo": [
           {
            "marker": {
             "colorbar": {
              "outlinewidth": 0,
              "ticks": ""
             }
            },
            "type": "scattergeo"
           }
          ],
          "scattergl": [
           {
            "marker": {
             "colorbar": {
              "outlinewidth": 0,
              "ticks": ""
             }
            },
            "type": "scattergl"
           }
          ],
          "scattermapbox": [
           {
            "marker": {
             "colorbar": {
              "outlinewidth": 0,
              "ticks": ""
             }
            },
            "type": "scattermapbox"
           }
          ],
          "scatterpolar": [
           {
            "marker": {
             "colorbar": {
              "outlinewidth": 0,
              "ticks": ""
             }
            },
            "type": "scatterpolar"
           }
          ],
          "scatterpolargl": [
           {
            "marker": {
             "colorbar": {
              "outlinewidth": 0,
              "ticks": ""
             }
            },
            "type": "scatterpolargl"
           }
          ],
          "scatterternary": [
           {
            "marker": {
             "colorbar": {
              "outlinewidth": 0,
              "ticks": ""
             }
            },
            "type": "scatterternary"
           }
          ],
          "surface": [
           {
            "colorbar": {
             "outlinewidth": 0,
             "ticks": ""
            },
            "colorscale": [
             [
              0,
              "#0d0887"
             ],
             [
              0.1111111111111111,
              "#46039f"
             ],
             [
              0.2222222222222222,
              "#7201a8"
             ],
             [
              0.3333333333333333,
              "#9c179e"
             ],
             [
              0.4444444444444444,
              "#bd3786"
             ],
             [
              0.5555555555555556,
              "#d8576b"
             ],
             [
              0.6666666666666666,
              "#ed7953"
             ],
             [
              0.7777777777777778,
              "#fb9f3a"
             ],
             [
              0.8888888888888888,
              "#fdca26"
             ],
             [
              1,
              "#f0f921"
             ]
            ],
            "type": "surface"
           }
          ],
          "table": [
           {
            "cells": {
             "fill": {
              "color": "#EBF0F8"
             },
             "line": {
              "color": "white"
             }
            },
            "header": {
             "fill": {
              "color": "#C8D4E3"
             },
             "line": {
              "color": "white"
             }
            },
            "type": "table"
           }
          ]
         },
         "layout": {
          "annotationdefaults": {
           "arrowcolor": "#2a3f5f",
           "arrowhead": 0,
           "arrowwidth": 1
          },
          "autotypenumbers": "strict",
          "coloraxis": {
           "colorbar": {
            "outlinewidth": 0,
            "ticks": ""
           }
          },
          "colorscale": {
           "diverging": [
            [
             0,
             "#8e0152"
            ],
            [
             0.1,
             "#c51b7d"
            ],
            [
             0.2,
             "#de77ae"
            ],
            [
             0.3,
             "#f1b6da"
            ],
            [
             0.4,
             "#fde0ef"
            ],
            [
             0.5,
             "#f7f7f7"
            ],
            [
             0.6,
             "#e6f5d0"
            ],
            [
             0.7,
             "#b8e186"
            ],
            [
             0.8,
             "#7fbc41"
            ],
            [
             0.9,
             "#4d9221"
            ],
            [
             1,
             "#276419"
            ]
           ],
           "sequential": [
            [
             0,
             "#0d0887"
            ],
            [
             0.1111111111111111,
             "#46039f"
            ],
            [
             0.2222222222222222,
             "#7201a8"
            ],
            [
             0.3333333333333333,
             "#9c179e"
            ],
            [
             0.4444444444444444,
             "#bd3786"
            ],
            [
             0.5555555555555556,
             "#d8576b"
            ],
            [
             0.6666666666666666,
             "#ed7953"
            ],
            [
             0.7777777777777778,
             "#fb9f3a"
            ],
            [
             0.8888888888888888,
             "#fdca26"
            ],
            [
             1,
             "#f0f921"
            ]
           ],
           "sequentialminus": [
            [
             0,
             "#0d0887"
            ],
            [
             0.1111111111111111,
             "#46039f"
            ],
            [
             0.2222222222222222,
             "#7201a8"
            ],
            [
             0.3333333333333333,
             "#9c179e"
            ],
            [
             0.4444444444444444,
             "#bd3786"
            ],
            [
             0.5555555555555556,
             "#d8576b"
            ],
            [
             0.6666666666666666,
             "#ed7953"
            ],
            [
             0.7777777777777778,
             "#fb9f3a"
            ],
            [
             0.8888888888888888,
             "#fdca26"
            ],
            [
             1,
             "#f0f921"
            ]
           ]
          },
          "colorway": [
           "#636efa",
           "#EF553B",
           "#00cc96",
           "#ab63fa",
           "#FFA15A",
           "#19d3f3",
           "#FF6692",
           "#B6E880",
           "#FF97FF",
           "#FECB52"
          ],
          "font": {
           "color": "#2a3f5f"
          },
          "geo": {
           "bgcolor": "white",
           "lakecolor": "white",
           "landcolor": "#E5ECF6",
           "showlakes": true,
           "showland": true,
           "subunitcolor": "white"
          },
          "hoverlabel": {
           "align": "left"
          },
          "hovermode": "closest",
          "mapbox": {
           "style": "light"
          },
          "paper_bgcolor": "white",
          "plot_bgcolor": "#E5ECF6",
          "polar": {
           "angularaxis": {
            "gridcolor": "white",
            "linecolor": "white",
            "ticks": ""
           },
           "bgcolor": "#E5ECF6",
           "radialaxis": {
            "gridcolor": "white",
            "linecolor": "white",
            "ticks": ""
           }
          },
          "scene": {
           "xaxis": {
            "backgroundcolor": "#E5ECF6",
            "gridcolor": "white",
            "gridwidth": 2,
            "linecolor": "white",
            "showbackground": true,
            "ticks": "",
            "zerolinecolor": "white"
           },
           "yaxis": {
            "backgroundcolor": "#E5ECF6",
            "gridcolor": "white",
            "gridwidth": 2,
            "linecolor": "white",
            "showbackground": true,
            "ticks": "",
            "zerolinecolor": "white"
           },
           "zaxis": {
            "backgroundcolor": "#E5ECF6",
            "gridcolor": "white",
            "gridwidth": 2,
            "linecolor": "white",
            "showbackground": true,
            "ticks": "",
            "zerolinecolor": "white"
           }
          },
          "shapedefaults": {
           "line": {
            "color": "#2a3f5f"
           }
          },
          "ternary": {
           "aaxis": {
            "gridcolor": "white",
            "linecolor": "white",
            "ticks": ""
           },
           "baxis": {
            "gridcolor": "white",
            "linecolor": "white",
            "ticks": ""
           },
           "bgcolor": "#E5ECF6",
           "caxis": {
            "gridcolor": "white",
            "linecolor": "white",
            "ticks": ""
           }
          },
          "title": {
           "x": 0.05
          },
          "xaxis": {
           "automargin": true,
           "gridcolor": "white",
           "linecolor": "white",
           "ticks": "",
           "title": {
            "standoff": 15
           },
           "zerolinecolor": "white",
           "zerolinewidth": 2
          },
          "yaxis": {
           "automargin": true,
           "gridcolor": "white",
           "linecolor": "white",
           "ticks": "",
           "title": {
            "standoff": 15
           },
           "zerolinecolor": "white",
           "zerolinewidth": 2
          }
         }
        },
        "title": {
         "text": "Top 100 Funding by Location (Suburb)"
        },
        "xaxis": {
         "anchor": "y",
         "categoryorder": "total descending",
         "domain": [
          0,
          1
         ],
         "title": {
          "text": "Location (Suburb)"
         }
        },
        "yaxis": {
         "anchor": "x",
         "domain": [
          0,
          1
         ],
         "title": {
          "text": "Funding Amount ($)"
         }
        }
       }
      }
     },
     "metadata": {},
     "output_type": "display_data"
    }
   ],
   "source": [
    "# Top 100 Funding by location (Suburb)\n",
    "# Sort by 'Actual Contractual Commitment ($)' in descending order and select Top 100\n",
    "df_sorted_by_location = df.sort_values(by='Actual Contractual Commitment ($)', ascending=False).head(100)\n",
    "\n",
    "# Create the bar plot\n",
    "fig = px.bar(\n",
    "    df_sorted_by_location,\n",
    "    x='Primary Location Of Activity/Project - Suburb',\n",
    "    y='Actual Contractual Commitment ($)',\n",
    "    title='Top 100 Funding by Location (Suburb)',\n",
    "    labels={'Actual Contractual Commitment ($)': 'Funding Amount ($)', \n",
    "            'Primary Location Of Activity/Project - Suburb': 'Location (Suburb)'},\n",
    "    height=700\n",
    ")\n",
    "\n",
    "fig.update_layout(\n",
    "    xaxis={'categoryorder':'total descending'},\n",
    "    xaxis_title='Location (Suburb)',\n",
    "    yaxis_title='Funding Amount ($)'\n",
    ")\n",
    "\n",
    "fig.show()"
   ]
  },
  {
   "cell_type": "markdown",
   "id": "fb82fa2b",
   "metadata": {},
   "source": [
    "#### Chart - Funding Over Time\n",
    "- The line chart will show how funding has changed over time. This can help in identifying any trends or patterns in funding allocation.\n",
    "- The moving average line (e.g., 30-day moving average) helps to smooth out short-term fluctuations and highlight the overall trend.This can be particularly useful for identifying long-term trends in funding over time.\n",
    "\n",
    "#### Observations\n",
    "\n",
    "1. **Volatility in Funding**:\n",
    "   - Considerable fluctuations are observed in the funding allocations, characterized by multiple peaks representing periods of heightened funding.\n",
    "   - These peaks are interspersed with intervals of reduced funding, indicating fluctuations in the approval of substantial funding amounts.\n",
    "\n",
    "2. **Identifiable Peaks**:\n",
    "   - Prominent peaks are identifiable in the years 2017, 2018, 2019, and 2020, with funding exceeding $8 million and nearing $10 million in certain instances.\n",
    "   - These spikes may align with specific occurrences, initiatives, or sizable projects that secured substantial funding during those specific time frames for instance covid19 pandemic.\n",
    "\n",
    "3. **Smoothing by Moving Average**:\n",
    "   - The moving average line (depicted in red) serves to mitigate the fluctuations, offering a more lucid depiction of the overarching pattern.\n",
    "   - Analysis of the moving average reveals a consistent average funding per approval ranging between $1 million to $2 million, with minor deviations across time periods.\n",
    "\n",
    "4. **Decreasing Trend in Recent Years**:\n",
    "   - Examination of the moving average unveils a gradual decline in the latter years (2022-2023), implying a potential decrease in the average funding per project or a decline in high-value approvals in recent times."
   ]
  },
  {
   "cell_type": "code",
   "execution_count": 60,
   "id": "03614d47",
   "metadata": {},
   "outputs": [
    {
     "data": {
      "application/vnd.plotly.v1+json": {
       "config": {
        "plotlyServerURL": "https://plot.ly"
       },
       "data": [
        {
         "hovertemplate": "Approval Date=%{x}<br>Funding Amount ($)=%{y}<extra></extra>",
         "legendgroup": "",
         "line": {
          "color": "#636efa",
          "dash": "solid"
         },
         "marker": {
          "size": 4,
          "symbol": "circle"
         },
         "mode": "lines+markers",
         "name": "",
         "orientation": "v",
         "showlegend": false,
         "type": "scatter",
         "x": [
          "2015-09-25T00:00:00",
          "2015-10-08T00:00:00",
          "2015-10-20T00:00:00",
          "2015-11-02T00:00:00",
          "2015-11-05T00:00:00",
          "2015-12-03T00:00:00",
          "2015-12-23T00:00:00",
          "2015-12-24T00:00:00",
          "2016-01-28T00:00:00",
          "2016-02-15T00:00:00",
          "2016-02-18T00:00:00",
          "2016-02-22T00:00:00",
          "2016-02-24T00:00:00",
          "2016-03-03T00:00:00",
          "2016-03-14T00:00:00",
          "2016-03-20T00:00:00",
          "2016-03-29T00:00:00",
          "2016-04-01T00:00:00",
          "2016-04-08T00:00:00",
          "2016-04-12T00:00:00",
          "2016-05-10T00:00:00",
          "2016-05-14T00:00:00",
          "2016-05-17T00:00:00",
          "2016-05-20T00:00:00",
          "2016-06-21T00:00:00",
          "2016-07-08T00:00:00",
          "2016-07-18T00:00:00",
          "2016-07-28T00:00:00",
          "2016-08-02T00:00:00",
          "2016-08-03T00:00:00",
          "2016-08-05T00:00:00",
          "2016-08-09T00:00:00",
          "2016-08-19T00:00:00",
          "2016-09-06T00:00:00",
          "2016-09-26T00:00:00",
          "2016-09-27T00:00:00",
          "2016-09-29T00:00:00",
          "2016-10-06T00:00:00",
          "2016-10-10T00:00:00",
          "2016-10-22T00:00:00",
          "2016-11-07T00:00:00",
          "2016-11-08T00:00:00",
          "2016-11-18T00:00:00",
          "2016-11-21T00:00:00",
          "2016-11-28T00:00:00",
          "2016-12-05T00:00:00",
          "2016-12-09T00:00:00",
          "2016-12-23T00:00:00",
          "2017-01-19T00:00:00",
          "2017-01-22T00:00:00",
          "2017-02-07T00:00:00",
          "2017-02-13T00:00:00",
          "2017-02-24T00:00:00",
          "2017-02-28T00:00:00",
          "2017-03-09T00:00:00",
          "2017-03-10T00:00:00",
          "2017-03-20T00:00:00",
          "2017-03-23T00:00:00",
          "2017-03-29T00:00:00",
          "2017-04-13T00:00:00",
          "2017-04-20T00:00:00",
          "2017-04-24T00:00:00",
          "2017-04-27T00:00:00",
          "2017-05-02T00:00:00",
          "2017-05-04T00:00:00",
          "2017-05-10T00:00:00",
          "2017-05-12T00:00:00",
          "2017-05-19T00:00:00",
          "2017-05-23T00:00:00",
          "2017-05-29T00:00:00",
          "2017-05-30T00:00:00",
          "2017-06-01T00:00:00",
          "2017-06-02T00:00:00",
          "2017-06-05T00:00:00",
          "2017-06-12T00:00:00",
          "2017-06-13T00:00:00",
          "2017-06-15T00:00:00",
          "2017-06-23T00:00:00",
          "2017-06-26T00:00:00",
          "2017-06-29T00:00:00",
          "2017-07-03T00:00:00",
          "2017-07-06T00:00:00",
          "2017-07-10T00:00:00",
          "2017-07-12T00:00:00",
          "2017-07-17T00:00:00",
          "2017-07-27T00:00:00",
          "2017-07-31T00:00:00",
          "2017-08-08T00:00:00",
          "2017-08-11T00:00:00",
          "2017-08-20T00:00:00",
          "2017-08-28T00:00:00",
          "2017-09-05T00:00:00",
          "2017-09-13T00:00:00",
          "2017-09-21T00:00:00",
          "2017-09-26T00:00:00",
          "2017-09-28T00:00:00",
          "2017-10-09T00:00:00",
          "2017-10-10T00:00:00",
          "2017-10-16T00:00:00",
          "2017-10-18T00:00:00",
          "2017-10-23T00:00:00",
          "2018-01-01T00:00:00",
          "2018-01-09T00:00:00",
          "2018-01-19T00:00:00",
          "2018-01-22T00:00:00",
          "2018-01-28T00:00:00",
          "2018-02-02T00:00:00",
          "2018-02-15T00:00:00",
          "2018-02-28T00:00:00",
          "2018-03-09T00:00:00",
          "2018-03-14T00:00:00",
          "2018-03-23T00:00:00",
          "2018-03-29T00:00:00",
          "2018-04-03T00:00:00",
          "2018-04-12T00:00:00",
          "2018-04-27T00:00:00",
          "2018-04-30T00:00:00",
          "2018-05-08T00:00:00",
          "2018-06-01T00:00:00",
          "2018-06-25T00:00:00",
          "2018-06-26T00:00:00",
          "2018-07-23T00:00:00",
          "2018-07-30T00:00:00",
          "2018-07-31T00:00:00",
          "2018-08-01T00:00:00",
          "2018-08-10T00:00:00",
          "2018-08-20T00:00:00",
          "2018-08-21T00:00:00",
          "2018-09-19T00:00:00",
          "2018-10-22T00:00:00",
          "2019-01-08T00:00:00",
          "2019-01-31T00:00:00",
          "2019-02-26T00:00:00",
          "2019-03-05T00:00:00",
          "2019-04-24T00:00:00",
          "2019-05-21T00:00:00",
          "2019-06-14T00:00:00",
          "2019-08-19T00:00:00",
          "2019-08-21T00:00:00",
          "2019-10-01T00:00:00",
          "2019-10-22T00:00:00",
          "2019-11-18T00:00:00",
          "2019-11-27T00:00:00",
          "2019-12-12T00:00:00",
          "2019-12-15T00:00:00",
          "2020-01-14T00:00:00",
          "2020-02-04T00:00:00",
          "2020-02-05T00:00:00",
          "2020-02-26T00:00:00",
          "2020-03-03T00:00:00",
          "2020-03-06T00:00:00",
          "2020-03-11T00:00:00",
          "2020-03-12T00:00:00",
          "2020-04-09T00:00:00",
          "2020-04-16T00:00:00",
          "2020-05-08T00:00:00",
          "2020-05-12T00:00:00",
          "2020-05-19T00:00:00",
          "2020-05-22T00:00:00",
          "2020-05-26T00:00:00",
          "2020-06-03T00:00:00",
          "2020-06-04T00:00:00",
          "2020-06-29T00:00:00",
          "2020-07-02T00:00:00",
          "2020-07-08T00:00:00",
          "2020-07-13T00:00:00",
          "2020-07-16T00:00:00",
          "2020-08-07T00:00:00",
          "2020-08-26T00:00:00",
          "2020-09-03T00:00:00",
          "2020-09-08T00:00:00",
          "2020-09-09T00:00:00",
          "2020-09-15T00:00:00",
          "2020-09-23T00:00:00",
          "2020-09-25T00:00:00",
          "2020-09-30T00:00:00",
          "2020-11-11T00:00:00",
          "2020-12-02T00:00:00",
          "2020-12-22T00:00:00",
          "2021-02-22T00:00:00",
          "2021-03-03T00:00:00",
          "2021-05-31T00:00:00",
          "2021-07-28T00:00:00",
          "2021-08-12T00:00:00",
          "2021-08-13T00:00:00",
          "2021-09-22T00:00:00",
          "2021-10-06T00:00:00",
          "2021-10-20T00:00:00",
          "2021-10-21T00:00:00",
          "2021-11-21T00:00:00",
          "2021-11-28T00:00:00",
          "2021-12-17T00:00:00",
          "2021-12-20T00:00:00",
          "2022-01-21T00:00:00",
          "2022-02-02T00:00:00",
          "2022-03-15T00:00:00",
          "2022-03-16T00:00:00",
          "2022-03-18T00:00:00",
          "2022-05-10T00:00:00",
          "2022-05-11T00:00:00",
          "2022-05-25T00:00:00",
          "2022-06-01T00:00:00",
          "2022-06-03T00:00:00",
          "2022-08-15T00:00:00",
          "2022-08-26T00:00:00",
          "2022-09-02T00:00:00",
          "2022-10-12T00:00:00",
          "2022-10-19T00:00:00",
          "2022-11-01T00:00:00",
          "2022-11-07T00:00:00",
          "2022-11-15T00:00:00",
          "2022-11-22T00:00:00",
          "2022-11-25T00:00:00",
          "2022-12-15T00:00:00",
          "2023-01-30T00:00:00",
          "2023-02-26T00:00:00",
          "2023-03-04T00:00:00",
          "2023-03-29T00:00:00"
         ],
         "xaxis": "x",
         "y": [
          4169000,
          40625,
          25000,
          25000,
          2823,
          2119688,
          31032,
          5293,
          9088419,
          1860000,
          37800,
          49975,
          3198649,
          2390,
          344091,
          56450,
          54600,
          14332,
          79270,
          49750,
          180000,
          1297927,
          500229,
          494000,
          72622,
          104800,
          5595806,
          28997,
          5802,
          51500,
          91632,
          110000,
          10000,
          8183316,
          68801,
          15200,
          900000,
          12503,
          2207500,
          11475,
          490188,
          3958020,
          15919,
          244310,
          40000,
          5695000,
          60000,
          827150,
          20000,
          355000,
          1096,
          368032,
          29070,
          2246769,
          7433882,
          2643441,
          10448904,
          111135,
          56983,
          32240,
          1500000,
          16000,
          157599,
          10000,
          366054,
          131916,
          10000,
          61633,
          205000,
          295175,
          11770,
          52000,
          3779129,
          45000,
          496000,
          487248,
          13500,
          500000,
          458370,
          532125,
          35430,
          7456949,
          21077,
          100000,
          478330,
          3075000,
          90903,
          36180,
          480000,
          499980,
          555560,
          10400410,
          100325,
          500000,
          224000,
          3807672,
          27500,
          37924,
          9500,
          15000,
          399098,
          12500,
          12775,
          13950,
          42357,
          72000,
          9000000,
          257574,
          182839,
          100000,
          45200,
          228200,
          102500,
          225000,
          218050,
          375000,
          58000,
          191750,
          6300000,
          667000,
          10000,
          7785304,
          200000,
          1500000,
          41250,
          55000,
          150500,
          240000,
          81500,
          5681701,
          926000,
          1000000,
          300000,
          1452855,
          99800,
          2623461,
          107084,
          6357133,
          100000,
          75000,
          300000,
          7172338,
          350000,
          2800000,
          60000,
          450000,
          100000,
          150000,
          50000,
          300000,
          5000000,
          597000,
          302500,
          148858,
          10000000,
          1474000,
          52000,
          500000,
          100000,
          160000,
          60000,
          408895,
          450000,
          500000,
          533309,
          200000,
          5459800,
          95409,
          10000,
          74000,
          75000,
          150000,
          546027,
          76138,
          3000000,
          100000,
          275000,
          3579603,
          100000,
          157440,
          25108,
          25000,
          20000,
          65000,
          100000,
          30000,
          105000,
          4960000,
          40000,
          25000,
          598,
          180000,
          2411955,
          30000,
          35391,
          13636,
          40000,
          77500,
          52650,
          652516,
          225000,
          10000,
          10000,
          30505,
          15250,
          150000,
          610000,
          45800,
          2611390,
          90000,
          275880,
          47345,
          80000,
          240000,
          30000,
          15000,
          76500,
          10000
         ],
         "yaxis": "y"
        },
        {
         "marker": {
          "size": 4
         },
         "mode": "lines+markers",
         "name": "Moving Average",
         "type": "scatter",
         "x": [
          "2015-09-25T00:00:00",
          "2015-10-08T00:00:00",
          "2015-10-20T00:00:00",
          "2015-11-02T00:00:00",
          "2015-11-05T00:00:00",
          "2015-12-03T00:00:00",
          "2015-12-23T00:00:00",
          "2015-12-24T00:00:00",
          "2016-01-28T00:00:00",
          "2016-02-15T00:00:00",
          "2016-02-18T00:00:00",
          "2016-02-22T00:00:00",
          "2016-02-24T00:00:00",
          "2016-03-03T00:00:00",
          "2016-03-14T00:00:00",
          "2016-03-20T00:00:00",
          "2016-03-29T00:00:00",
          "2016-04-01T00:00:00",
          "2016-04-08T00:00:00",
          "2016-04-12T00:00:00",
          "2016-05-10T00:00:00",
          "2016-05-14T00:00:00",
          "2016-05-17T00:00:00",
          "2016-05-20T00:00:00",
          "2016-06-21T00:00:00",
          "2016-07-08T00:00:00",
          "2016-07-18T00:00:00",
          "2016-07-28T00:00:00",
          "2016-08-02T00:00:00",
          "2016-08-03T00:00:00",
          "2016-08-05T00:00:00",
          "2016-08-09T00:00:00",
          "2016-08-19T00:00:00",
          "2016-09-06T00:00:00",
          "2016-09-26T00:00:00",
          "2016-09-27T00:00:00",
          "2016-09-29T00:00:00",
          "2016-10-06T00:00:00",
          "2016-10-10T00:00:00",
          "2016-10-22T00:00:00",
          "2016-11-07T00:00:00",
          "2016-11-08T00:00:00",
          "2016-11-18T00:00:00",
          "2016-11-21T00:00:00",
          "2016-11-28T00:00:00",
          "2016-12-05T00:00:00",
          "2016-12-09T00:00:00",
          "2016-12-23T00:00:00",
          "2017-01-19T00:00:00",
          "2017-01-22T00:00:00",
          "2017-02-07T00:00:00",
          "2017-02-13T00:00:00",
          "2017-02-24T00:00:00",
          "2017-02-28T00:00:00",
          "2017-03-09T00:00:00",
          "2017-03-10T00:00:00",
          "2017-03-20T00:00:00",
          "2017-03-23T00:00:00",
          "2017-03-29T00:00:00",
          "2017-04-13T00:00:00",
          "2017-04-20T00:00:00",
          "2017-04-24T00:00:00",
          "2017-04-27T00:00:00",
          "2017-05-02T00:00:00",
          "2017-05-04T00:00:00",
          "2017-05-10T00:00:00",
          "2017-05-12T00:00:00",
          "2017-05-19T00:00:00",
          "2017-05-23T00:00:00",
          "2017-05-29T00:00:00",
          "2017-05-30T00:00:00",
          "2017-06-01T00:00:00",
          "2017-06-02T00:00:00",
          "2017-06-05T00:00:00",
          "2017-06-12T00:00:00",
          "2017-06-13T00:00:00",
          "2017-06-15T00:00:00",
          "2017-06-23T00:00:00",
          "2017-06-26T00:00:00",
          "2017-06-29T00:00:00",
          "2017-07-03T00:00:00",
          "2017-07-06T00:00:00",
          "2017-07-10T00:00:00",
          "2017-07-12T00:00:00",
          "2017-07-17T00:00:00",
          "2017-07-27T00:00:00",
          "2017-07-31T00:00:00",
          "2017-08-08T00:00:00",
          "2017-08-11T00:00:00",
          "2017-08-20T00:00:00",
          "2017-08-28T00:00:00",
          "2017-09-05T00:00:00",
          "2017-09-13T00:00:00",
          "2017-09-21T00:00:00",
          "2017-09-26T00:00:00",
          "2017-09-28T00:00:00",
          "2017-10-09T00:00:00",
          "2017-10-10T00:00:00",
          "2017-10-16T00:00:00",
          "2017-10-18T00:00:00",
          "2017-10-23T00:00:00",
          "2018-01-01T00:00:00",
          "2018-01-09T00:00:00",
          "2018-01-19T00:00:00",
          "2018-01-22T00:00:00",
          "2018-01-28T00:00:00",
          "2018-02-02T00:00:00",
          "2018-02-15T00:00:00",
          "2018-02-28T00:00:00",
          "2018-03-09T00:00:00",
          "2018-03-14T00:00:00",
          "2018-03-23T00:00:00",
          "2018-03-29T00:00:00",
          "2018-04-03T00:00:00",
          "2018-04-12T00:00:00",
          "2018-04-27T00:00:00",
          "2018-04-30T00:00:00",
          "2018-05-08T00:00:00",
          "2018-06-01T00:00:00",
          "2018-06-25T00:00:00",
          "2018-06-26T00:00:00",
          "2018-07-23T00:00:00",
          "2018-07-30T00:00:00",
          "2018-07-31T00:00:00",
          "2018-08-01T00:00:00",
          "2018-08-10T00:00:00",
          "2018-08-20T00:00:00",
          "2018-08-21T00:00:00",
          "2018-09-19T00:00:00",
          "2018-10-22T00:00:00",
          "2019-01-08T00:00:00",
          "2019-01-31T00:00:00",
          "2019-02-26T00:00:00",
          "2019-03-05T00:00:00",
          "2019-04-24T00:00:00",
          "2019-05-21T00:00:00",
          "2019-06-14T00:00:00",
          "2019-08-19T00:00:00",
          "2019-08-21T00:00:00",
          "2019-10-01T00:00:00",
          "2019-10-22T00:00:00",
          "2019-11-18T00:00:00",
          "2019-11-27T00:00:00",
          "2019-12-12T00:00:00",
          "2019-12-15T00:00:00",
          "2020-01-14T00:00:00",
          "2020-02-04T00:00:00",
          "2020-02-05T00:00:00",
          "2020-02-26T00:00:00",
          "2020-03-03T00:00:00",
          "2020-03-06T00:00:00",
          "2020-03-11T00:00:00",
          "2020-03-12T00:00:00",
          "2020-04-09T00:00:00",
          "2020-04-16T00:00:00",
          "2020-05-08T00:00:00",
          "2020-05-12T00:00:00",
          "2020-05-19T00:00:00",
          "2020-05-22T00:00:00",
          "2020-05-26T00:00:00",
          "2020-06-03T00:00:00",
          "2020-06-04T00:00:00",
          "2020-06-29T00:00:00",
          "2020-07-02T00:00:00",
          "2020-07-08T00:00:00",
          "2020-07-13T00:00:00",
          "2020-07-16T00:00:00",
          "2020-08-07T00:00:00",
          "2020-08-26T00:00:00",
          "2020-09-03T00:00:00",
          "2020-09-08T00:00:00",
          "2020-09-09T00:00:00",
          "2020-09-15T00:00:00",
          "2020-09-23T00:00:00",
          "2020-09-25T00:00:00",
          "2020-09-30T00:00:00",
          "2020-11-11T00:00:00",
          "2020-12-02T00:00:00",
          "2020-12-22T00:00:00",
          "2021-02-22T00:00:00",
          "2021-03-03T00:00:00",
          "2021-05-31T00:00:00",
          "2021-07-28T00:00:00",
          "2021-08-12T00:00:00",
          "2021-08-13T00:00:00",
          "2021-09-22T00:00:00",
          "2021-10-06T00:00:00",
          "2021-10-20T00:00:00",
          "2021-10-21T00:00:00",
          "2021-11-21T00:00:00",
          "2021-11-28T00:00:00",
          "2021-12-17T00:00:00",
          "2021-12-20T00:00:00",
          "2022-01-21T00:00:00",
          "2022-02-02T00:00:00",
          "2022-03-15T00:00:00",
          "2022-03-16T00:00:00",
          "2022-03-18T00:00:00",
          "2022-05-10T00:00:00",
          "2022-05-11T00:00:00",
          "2022-05-25T00:00:00",
          "2022-06-01T00:00:00",
          "2022-06-03T00:00:00",
          "2022-08-15T00:00:00",
          "2022-08-26T00:00:00",
          "2022-09-02T00:00:00",
          "2022-10-12T00:00:00",
          "2022-10-19T00:00:00",
          "2022-11-01T00:00:00",
          "2022-11-07T00:00:00",
          "2022-11-15T00:00:00",
          "2022-11-22T00:00:00",
          "2022-11-25T00:00:00",
          "2022-12-15T00:00:00",
          "2023-01-30T00:00:00",
          "2023-02-26T00:00:00",
          "2023-03-04T00:00:00",
          "2023-03-29T00:00:00"
         ],
         "y": [
          null,
          null,
          null,
          null,
          null,
          null,
          null,
          null,
          null,
          null,
          null,
          null,
          null,
          null,
          null,
          null,
          null,
          null,
          null,
          null,
          null,
          null,
          null,
          null,
          null,
          null,
          null,
          null,
          null,
          986195.6666666666,
          850283.4,
          852595.9,
          852095.9,
          1124039.7666666666,
          1126239.0333333334,
          1056089.4333333333,
          1085055.0333333334,
          1085295.3666666667,
          855931.4,
          794313.9,
          809393.5,
          939661.6666666666,
          833570.6666666666,
          841634.6666666666,
          831498.3,
          1019449.9666666667,
          1019629.9666666667,
          1046723.9,
          1044748.2333333333,
          1054923.2333333334,
          1048959.7666666666,
          1017963.2666666667,
          1002257.9666666667,
          1060683.6,
          1306058.9333333333,
          1390680.3,
          1552450.2333333334,
          1555188.1666666667,
          1556894.2,
          1556252.2,
          1603197.8,
          1600064.4666666666,
          1604984.4333333333,
          1332540.5666666667,
          1342449,
          1346339.5333333334,
          1316672.8666666667,
          1318310.5333333334,
          1251560.5333333334,
          1261017.2,
          1245069.9333333333,
          1114869.2666666666,
          1240309.6,
          1233665.9333333333,
          1248865.9333333333,
          1075274.2,
          1073724.2,
          1062819.2,
          1077431.5333333334,
          1083335.7,
          1084480.1666666667,
          1320777.4,
          1320510.9666666666,
          1248952,
          1017100.2666666667,
          1031485.5666666667,
          686218.8666666667,
          683720.3666666667,
          697820.9333333333,
          713412.2666666667,
          681930.9333333333,
          1028077.9333333333,
          1026168.8,
          1042502.1333333333,
          1037767,
          1160292.2,
          1160875.5333333334,
          1160085.2333333334,
          1153568.5666666667,
          1144229.4,
          1157140.3333333333,
          1155823.6666666667,
          1030278.5333333333,
          1029243.5333333333,
          1014122.1,
          1000280.5,
          1299830.5,
          1291749.6333333333,
          1282565.2666666666,
          1268161.1,
          1268486.7666666666,
          1027528.4666666667,
          1030242.5666666667,
          1034409.2333333333,
          1025733.2333333333,
          935733.2333333333,
          934636.4666666667,
          939822.1333333333,
          1133822.1333333333,
          1139389.4666666666,
          1121204.1333333333,
          1034033.9333333333,
          1037356.4333333333,
          1070689.7666666666,
          1064598.1,
          939509.0333333333,
          943609.0333333333,
          950344.9,
          952744.9,
          1141634.9333333333,
          1159198.3333333333,
          1192115,
          1201689.1666666667,
          1249652.6666666667,
          1251567.4333333333,
          1336616.1333333333,
          1040185.6,
          1243504.2333333334,
          1240742.9333333333,
          1239909.6,
          1248402.9333333333,
          1479874.2,
          1488124.2,
          1573957.5333333334,
          1568689.2,
          1571189.2,
          1572589.2,
          1571197.5333333334,
          1362864.2,
          1350630.8666666667,
          1516964.2,
          1277354.0666666667,
          1280770.7333333334,
          1235732.6666666667,
          1567691,
          1614991,
          1611707.6666666667,
          1620374.3333333333,
          1620991,
          1436934.3,
          1408067.6333333333,
          1388364.1333333333,
          1393364.1333333333,
          1361602.3,
          1376052.6,
          1295270.5666666667,
          1473694.4333333333,
          1264970.3,
          1261970.3,
          1261936.9666666666,
          1254436.9666666666,
          1020359.0333333333,
          1026893.2666666667,
          936097.8666666667,
          1034097.8666666667,
          1022431.2,
          1028264.5333333333,
          1142584.6333333333,
          1144251.3,
          1139499.3,
          973669.5666666667,
          954602.9,
          945186.2333333333,
          942390.9666666667,
          612390.9666666667,
          564257.6333333333,
          566024.3,
          714690.9666666667,
          712690.9666666667,
          708190.9666666667,
          706210.9,
          698581.0666666667,
          763979.5666666667,
          748312.9,
          731715.6333333333,
          725503.5,
          544843.5,
          544246.5333333333,
          545668.2,
          564952.0666666667,
          569952.0666666667,
          565285.4,
          547417.8333333334,
          545896.7333333333,
          446405.06666666665,
          448071.73333333334,
          459238.4,
          341444.9666666667,
          425157.9666666667,
          422909.9666666667,
          431269.0333333333,
          432013.86666666664,
          434013.86666666664,
          439847.2,
          437513.86666666664,
          437013.86666666664,
          436063.86666666664,
          271063.86666666664
         ]
        }
       ],
       "layout": {
        "height": 600,
        "legend": {
         "tracegroupgap": 0
        },
        "template": {
         "data": {
          "bar": [
           {
            "error_x": {
             "color": "#2a3f5f"
            },
            "error_y": {
             "color": "#2a3f5f"
            },
            "marker": {
             "line": {
              "color": "#E5ECF6",
              "width": 0.5
             },
             "pattern": {
              "fillmode": "overlay",
              "size": 10,
              "solidity": 0.2
             }
            },
            "type": "bar"
           }
          ],
          "barpolar": [
           {
            "marker": {
             "line": {
              "color": "#E5ECF6",
              "width": 0.5
             },
             "pattern": {
              "fillmode": "overlay",
              "size": 10,
              "solidity": 0.2
             }
            },
            "type": "barpolar"
           }
          ],
          "carpet": [
           {
            "aaxis": {
             "endlinecolor": "#2a3f5f",
             "gridcolor": "white",
             "linecolor": "white",
             "minorgridcolor": "white",
             "startlinecolor": "#2a3f5f"
            },
            "baxis": {
             "endlinecolor": "#2a3f5f",
             "gridcolor": "white",
             "linecolor": "white",
             "minorgridcolor": "white",
             "startlinecolor": "#2a3f5f"
            },
            "type": "carpet"
           }
          ],
          "choropleth": [
           {
            "colorbar": {
             "outlinewidth": 0,
             "ticks": ""
            },
            "type": "choropleth"
           }
          ],
          "contour": [
           {
            "colorbar": {
             "outlinewidth": 0,
             "ticks": ""
            },
            "colorscale": [
             [
              0,
              "#0d0887"
             ],
             [
              0.1111111111111111,
              "#46039f"
             ],
             [
              0.2222222222222222,
              "#7201a8"
             ],
             [
              0.3333333333333333,
              "#9c179e"
             ],
             [
              0.4444444444444444,
              "#bd3786"
             ],
             [
              0.5555555555555556,
              "#d8576b"
             ],
             [
              0.6666666666666666,
              "#ed7953"
             ],
             [
              0.7777777777777778,
              "#fb9f3a"
             ],
             [
              0.8888888888888888,
              "#fdca26"
             ],
             [
              1,
              "#f0f921"
             ]
            ],
            "type": "contour"
           }
          ],
          "contourcarpet": [
           {
            "colorbar": {
             "outlinewidth": 0,
             "ticks": ""
            },
            "type": "contourcarpet"
           }
          ],
          "heatmap": [
           {
            "colorbar": {
             "outlinewidth": 0,
             "ticks": ""
            },
            "colorscale": [
             [
              0,
              "#0d0887"
             ],
             [
              0.1111111111111111,
              "#46039f"
             ],
             [
              0.2222222222222222,
              "#7201a8"
             ],
             [
              0.3333333333333333,
              "#9c179e"
             ],
             [
              0.4444444444444444,
              "#bd3786"
             ],
             [
              0.5555555555555556,
              "#d8576b"
             ],
             [
              0.6666666666666666,
              "#ed7953"
             ],
             [
              0.7777777777777778,
              "#fb9f3a"
             ],
             [
              0.8888888888888888,
              "#fdca26"
             ],
             [
              1,
              "#f0f921"
             ]
            ],
            "type": "heatmap"
           }
          ],
          "heatmapgl": [
           {
            "colorbar": {
             "outlinewidth": 0,
             "ticks": ""
            },
            "colorscale": [
             [
              0,
              "#0d0887"
             ],
             [
              0.1111111111111111,
              "#46039f"
             ],
             [
              0.2222222222222222,
              "#7201a8"
             ],
             [
              0.3333333333333333,
              "#9c179e"
             ],
             [
              0.4444444444444444,
              "#bd3786"
             ],
             [
              0.5555555555555556,
              "#d8576b"
             ],
             [
              0.6666666666666666,
              "#ed7953"
             ],
             [
              0.7777777777777778,
              "#fb9f3a"
             ],
             [
              0.8888888888888888,
              "#fdca26"
             ],
             [
              1,
              "#f0f921"
             ]
            ],
            "type": "heatmapgl"
           }
          ],
          "histogram": [
           {
            "marker": {
             "pattern": {
              "fillmode": "overlay",
              "size": 10,
              "solidity": 0.2
             }
            },
            "type": "histogram"
           }
          ],
          "histogram2d": [
           {
            "colorbar": {
             "outlinewidth": 0,
             "ticks": ""
            },
            "colorscale": [
             [
              0,
              "#0d0887"
             ],
             [
              0.1111111111111111,
              "#46039f"
             ],
             [
              0.2222222222222222,
              "#7201a8"
             ],
             [
              0.3333333333333333,
              "#9c179e"
             ],
             [
              0.4444444444444444,
              "#bd3786"
             ],
             [
              0.5555555555555556,
              "#d8576b"
             ],
             [
              0.6666666666666666,
              "#ed7953"
             ],
             [
              0.7777777777777778,
              "#fb9f3a"
             ],
             [
              0.8888888888888888,
              "#fdca26"
             ],
             [
              1,
              "#f0f921"
             ]
            ],
            "type": "histogram2d"
           }
          ],
          "histogram2dcontour": [
           {
            "colorbar": {
             "outlinewidth": 0,
             "ticks": ""
            },
            "colorscale": [
             [
              0,
              "#0d0887"
             ],
             [
              0.1111111111111111,
              "#46039f"
             ],
             [
              0.2222222222222222,
              "#7201a8"
             ],
             [
              0.3333333333333333,
              "#9c179e"
             ],
             [
              0.4444444444444444,
              "#bd3786"
             ],
             [
              0.5555555555555556,
              "#d8576b"
             ],
             [
              0.6666666666666666,
              "#ed7953"
             ],
             [
              0.7777777777777778,
              "#fb9f3a"
             ],
             [
              0.8888888888888888,
              "#fdca26"
             ],
             [
              1,
              "#f0f921"
             ]
            ],
            "type": "histogram2dcontour"
           }
          ],
          "mesh3d": [
           {
            "colorbar": {
             "outlinewidth": 0,
             "ticks": ""
            },
            "type": "mesh3d"
           }
          ],
          "parcoords": [
           {
            "line": {
             "colorbar": {
              "outlinewidth": 0,
              "ticks": ""
             }
            },
            "type": "parcoords"
           }
          ],
          "pie": [
           {
            "automargin": true,
            "type": "pie"
           }
          ],
          "scatter": [
           {
            "fillpattern": {
             "fillmode": "overlay",
             "size": 10,
             "solidity": 0.2
            },
            "type": "scatter"
           }
          ],
          "scatter3d": [
           {
            "line": {
             "colorbar": {
              "outlinewidth": 0,
              "ticks": ""
             }
            },
            "marker": {
             "colorbar": {
              "outlinewidth": 0,
              "ticks": ""
             }
            },
            "type": "scatter3d"
           }
          ],
          "scattercarpet": [
           {
            "marker": {
             "colorbar": {
              "outlinewidth": 0,
              "ticks": ""
             }
            },
            "type": "scattercarpet"
           }
          ],
          "scattergeo": [
           {
            "marker": {
             "colorbar": {
              "outlinewidth": 0,
              "ticks": ""
             }
            },
            "type": "scattergeo"
           }
          ],
          "scattergl": [
           {
            "marker": {
             "colorbar": {
              "outlinewidth": 0,
              "ticks": ""
             }
            },
            "type": "scattergl"
           }
          ],
          "scattermapbox": [
           {
            "marker": {
             "colorbar": {
              "outlinewidth": 0,
              "ticks": ""
             }
            },
            "type": "scattermapbox"
           }
          ],
          "scatterpolar": [
           {
            "marker": {
             "colorbar": {
              "outlinewidth": 0,
              "ticks": ""
             }
            },
            "type": "scatterpolar"
           }
          ],
          "scatterpolargl": [
           {
            "marker": {
             "colorbar": {
              "outlinewidth": 0,
              "ticks": ""
             }
            },
            "type": "scatterpolargl"
           }
          ],
          "scatterternary": [
           {
            "marker": {
             "colorbar": {
              "outlinewidth": 0,
              "ticks": ""
             }
            },
            "type": "scatterternary"
           }
          ],
          "surface": [
           {
            "colorbar": {
             "outlinewidth": 0,
             "ticks": ""
            },
            "colorscale": [
             [
              0,
              "#0d0887"
             ],
             [
              0.1111111111111111,
              "#46039f"
             ],
             [
              0.2222222222222222,
              "#7201a8"
             ],
             [
              0.3333333333333333,
              "#9c179e"
             ],
             [
              0.4444444444444444,
              "#bd3786"
             ],
             [
              0.5555555555555556,
              "#d8576b"
             ],
             [
              0.6666666666666666,
              "#ed7953"
             ],
             [
              0.7777777777777778,
              "#fb9f3a"
             ],
             [
              0.8888888888888888,
              "#fdca26"
             ],
             [
              1,
              "#f0f921"
             ]
            ],
            "type": "surface"
           }
          ],
          "table": [
           {
            "cells": {
             "fill": {
              "color": "#EBF0F8"
             },
             "line": {
              "color": "white"
             }
            },
            "header": {
             "fill": {
              "color": "#C8D4E3"
             },
             "line": {
              "color": "white"
             }
            },
            "type": "table"
           }
          ]
         },
         "layout": {
          "annotationdefaults": {
           "arrowcolor": "#2a3f5f",
           "arrowhead": 0,
           "arrowwidth": 1
          },
          "autotypenumbers": "strict",
          "coloraxis": {
           "colorbar": {
            "outlinewidth": 0,
            "ticks": ""
           }
          },
          "colorscale": {
           "diverging": [
            [
             0,
             "#8e0152"
            ],
            [
             0.1,
             "#c51b7d"
            ],
            [
             0.2,
             "#de77ae"
            ],
            [
             0.3,
             "#f1b6da"
            ],
            [
             0.4,
             "#fde0ef"
            ],
            [
             0.5,
             "#f7f7f7"
            ],
            [
             0.6,
             "#e6f5d0"
            ],
            [
             0.7,
             "#b8e186"
            ],
            [
             0.8,
             "#7fbc41"
            ],
            [
             0.9,
             "#4d9221"
            ],
            [
             1,
             "#276419"
            ]
           ],
           "sequential": [
            [
             0,
             "#0d0887"
            ],
            [
             0.1111111111111111,
             "#46039f"
            ],
            [
             0.2222222222222222,
             "#7201a8"
            ],
            [
             0.3333333333333333,
             "#9c179e"
            ],
            [
             0.4444444444444444,
             "#bd3786"
            ],
            [
             0.5555555555555556,
             "#d8576b"
            ],
            [
             0.6666666666666666,
             "#ed7953"
            ],
            [
             0.7777777777777778,
             "#fb9f3a"
            ],
            [
             0.8888888888888888,
             "#fdca26"
            ],
            [
             1,
             "#f0f921"
            ]
           ],
           "sequentialminus": [
            [
             0,
             "#0d0887"
            ],
            [
             0.1111111111111111,
             "#46039f"
            ],
            [
             0.2222222222222222,
             "#7201a8"
            ],
            [
             0.3333333333333333,
             "#9c179e"
            ],
            [
             0.4444444444444444,
             "#bd3786"
            ],
            [
             0.5555555555555556,
             "#d8576b"
            ],
            [
             0.6666666666666666,
             "#ed7953"
            ],
            [
             0.7777777777777778,
             "#fb9f3a"
            ],
            [
             0.8888888888888888,
             "#fdca26"
            ],
            [
             1,
             "#f0f921"
            ]
           ]
          },
          "colorway": [
           "#636efa",
           "#EF553B",
           "#00cc96",
           "#ab63fa",
           "#FFA15A",
           "#19d3f3",
           "#FF6692",
           "#B6E880",
           "#FF97FF",
           "#FECB52"
          ],
          "font": {
           "color": "#2a3f5f"
          },
          "geo": {
           "bgcolor": "white",
           "lakecolor": "white",
           "landcolor": "#E5ECF6",
           "showlakes": true,
           "showland": true,
           "subunitcolor": "white"
          },
          "hoverlabel": {
           "align": "left"
          },
          "hovermode": "closest",
          "mapbox": {
           "style": "light"
          },
          "paper_bgcolor": "white",
          "plot_bgcolor": "#E5ECF6",
          "polar": {
           "angularaxis": {
            "gridcolor": "white",
            "linecolor": "white",
            "ticks": ""
           },
           "bgcolor": "#E5ECF6",
           "radialaxis": {
            "gridcolor": "white",
            "linecolor": "white",
            "ticks": ""
           }
          },
          "scene": {
           "xaxis": {
            "backgroundcolor": "#E5ECF6",
            "gridcolor": "white",
            "gridwidth": 2,
            "linecolor": "white",
            "showbackground": true,
            "ticks": "",
            "zerolinecolor": "white"
           },
           "yaxis": {
            "backgroundcolor": "#E5ECF6",
            "gridcolor": "white",
            "gridwidth": 2,
            "linecolor": "white",
            "showbackground": true,
            "ticks": "",
            "zerolinecolor": "white"
           },
           "zaxis": {
            "backgroundcolor": "#E5ECF6",
            "gridcolor": "white",
            "gridwidth": 2,
            "linecolor": "white",
            "showbackground": true,
            "ticks": "",
            "zerolinecolor": "white"
           }
          },
          "shapedefaults": {
           "line": {
            "color": "#2a3f5f"
           }
          },
          "ternary": {
           "aaxis": {
            "gridcolor": "white",
            "linecolor": "white",
            "ticks": ""
           },
           "baxis": {
            "gridcolor": "white",
            "linecolor": "white",
            "ticks": ""
           },
           "bgcolor": "#E5ECF6",
           "caxis": {
            "gridcolor": "white",
            "linecolor": "white",
            "ticks": ""
           }
          },
          "title": {
           "x": 0.05
          },
          "xaxis": {
           "automargin": true,
           "gridcolor": "white",
           "linecolor": "white",
           "ticks": "",
           "title": {
            "standoff": 15
           },
           "zerolinecolor": "white",
           "zerolinewidth": 2
          },
          "yaxis": {
           "automargin": true,
           "gridcolor": "white",
           "linecolor": "white",
           "ticks": "",
           "title": {
            "standoff": 15
           },
           "zerolinecolor": "white",
           "zerolinewidth": 2
          }
         }
        },
        "title": {
         "text": "Funding Over Time"
        },
        "xaxis": {
         "anchor": "y",
         "domain": [
          0,
          1
         ],
         "showgrid": true,
         "title": {
          "text": "Approval Date"
         }
        },
        "yaxis": {
         "anchor": "x",
         "domain": [
          0,
          1
         ],
         "showgrid": true,
         "title": {
          "text": "Funding Amount ($)"
         }
        }
       }
      }
     },
     "metadata": {},
     "output_type": "display_data"
    }
   ],
   "source": [
    "# Convert Approval Date to datetime if not already done\n",
    "df['Approval Date'] = pd.to_datetime(df['Approval Date'])\n",
    "\n",
    "# Aggregate data by Approval Date\n",
    "df_aggregated = df.groupby('Approval Date')['Actual Contractual Commitment ($)'].sum().reset_index()\n",
    "\n",
    "# Add a moving average column\n",
    "df_aggregated['Moving Average'] = df_aggregated['Actual Contractual Commitment ($)'].rolling(window=30).mean()\n",
    "\n",
    "# Create the line plot\n",
    "fig = px.line(df_aggregated, x='Approval Date', y='Actual Contractual Commitment ($)', title='Funding Over Time', \n",
    "              labels={'Actual Contractual Commitment ($)': 'Funding Amount ($)'})\n",
    "\n",
    "# Add the moving average to the plot\n",
    "fig.add_scatter(x=df_aggregated['Approval Date'], y=df_aggregated['Moving Average'], mode='lines', name='Moving Average')\n",
    "\n",
    "fig.update_traces(mode='lines+markers', marker=dict(size=4))\n",
    "\n",
    "fig.update_layout(\n",
    "    height=600,\n",
    "    xaxis_title='Approval Date',\n",
    "    yaxis_title='Funding Amount ($)',\n",
    "    xaxis=dict(showgrid=True),\n",
    "    yaxis=dict(showgrid=True)\n",
    ")\n",
    "\n",
    "fig.show()"
   ]
  },
  {
   "cell_type": "markdown",
   "id": "95c1733c",
   "metadata": {},
   "source": [
    "#### Chart - Top 10 Recipients of Funding\n",
    "- This analysis helps identify the top 10 recipients of funding, which can be useful for understanding which organizations are receiving the most support.\n",
    "\n",
    "#### Observations:\n",
    "\n",
    "1. **Dominant Recipient**:\n",
    "   - **The University of Queensland**  emerges as the primary beneficiary, acquiring a significantly higher funding allocation in comparison to other recipients. This indicates a pronounced emphasis on supporting this institution, possibly attributable to its pivotal role in the realm of research and development.\n",
    "\n",
    "2. **Secondary Recipients**:\n",
    "   - **Queensland University of Technology** which receives a substantial amount of funding albeit notably less than The University of Queensland. - Moreover, **Boeing Defence Australia Ltd**, **Griffith University**, and **Commonwealth Scientific And Industrial Research Organisation T/A Data61** also secure considerable funding, underscoring their significance within the funding framework.\n",
    "\n",
    "3. **Variety of Recipients**:\n",
    "   -  The beneficiaries encompass a diverse array of universities, private enterprises, and research institutions, underscoring a multifaceted allocation strategy designed to cultivate innovation across various sectors.\n",
    "\n",
    "4. **Minor Recipients**:\n",
    "   - **Central Queensland University**, **AI Consortium Pty Ltd**, **Redback Operations Pty Ltd**, **James Cook University**, and **Agrifood Connect Limited** constitute the smaller recipients within the top 10, although they derive benefits from the funding albeit to a lesser degree.\n"
   ]
  },
  {
   "cell_type": "code",
   "execution_count": 61,
   "id": "5c1fef3b",
   "metadata": {},
   "outputs": [
    {
     "data": {
      "application/vnd.plotly.v1+json": {
       "config": {
        "plotlyServerURL": "https://plot.ly"
       },
       "data": [
        {
         "alignmentgroup": "True",
         "hovertemplate": "Recipient Name=%{x}<br>Funding Amount ($)=%{y}<extra></extra>",
         "legendgroup": "",
         "marker": {
          "color": "#636efa",
          "pattern": {
           "shape": ""
          }
         },
         "name": "",
         "offsetgroup": "",
         "orientation": "v",
         "showlegend": false,
         "textposition": "auto",
         "type": "bar",
         "x": [
          "The University Of Queensland",
          "Queensland University Of Technology",
          "Boeing Defence Australia Ltd",
          "Commonwealth Scientific And Industrial Research Organisation T/A Data61",
          "Griffith University",
          "Central Queensland University",
          "Ai Consortium Pty Ltd",
          "Redback Operations Pty Ltd",
          "James Cook University",
          "Agrifood Connect Limited"
         ],
         "xaxis": "x",
         "y": [
          47707876,
          17793814,
          10000000,
          5695000,
          5444592,
          5164702,
          5000000,
          3807672,
          3415208,
          3000000
         ],
         "yaxis": "y"
        }
       ],
       "layout": {
        "barmode": "relative",
        "legend": {
         "tracegroupgap": 0
        },
        "template": {
         "data": {
          "bar": [
           {
            "error_x": {
             "color": "#2a3f5f"
            },
            "error_y": {
             "color": "#2a3f5f"
            },
            "marker": {
             "line": {
              "color": "#E5ECF6",
              "width": 0.5
             },
             "pattern": {
              "fillmode": "overlay",
              "size": 10,
              "solidity": 0.2
             }
            },
            "type": "bar"
           }
          ],
          "barpolar": [
           {
            "marker": {
             "line": {
              "color": "#E5ECF6",
              "width": 0.5
             },
             "pattern": {
              "fillmode": "overlay",
              "size": 10,
              "solidity": 0.2
             }
            },
            "type": "barpolar"
           }
          ],
          "carpet": [
           {
            "aaxis": {
             "endlinecolor": "#2a3f5f",
             "gridcolor": "white",
             "linecolor": "white",
             "minorgridcolor": "white",
             "startlinecolor": "#2a3f5f"
            },
            "baxis": {
             "endlinecolor": "#2a3f5f",
             "gridcolor": "white",
             "linecolor": "white",
             "minorgridcolor": "white",
             "startlinecolor": "#2a3f5f"
            },
            "type": "carpet"
           }
          ],
          "choropleth": [
           {
            "colorbar": {
             "outlinewidth": 0,
             "ticks": ""
            },
            "type": "choropleth"
           }
          ],
          "contour": [
           {
            "colorbar": {
             "outlinewidth": 0,
             "ticks": ""
            },
            "colorscale": [
             [
              0,
              "#0d0887"
             ],
             [
              0.1111111111111111,
              "#46039f"
             ],
             [
              0.2222222222222222,
              "#7201a8"
             ],
             [
              0.3333333333333333,
              "#9c179e"
             ],
             [
              0.4444444444444444,
              "#bd3786"
             ],
             [
              0.5555555555555556,
              "#d8576b"
             ],
             [
              0.6666666666666666,
              "#ed7953"
             ],
             [
              0.7777777777777778,
              "#fb9f3a"
             ],
             [
              0.8888888888888888,
              "#fdca26"
             ],
             [
              1,
              "#f0f921"
             ]
            ],
            "type": "contour"
           }
          ],
          "contourcarpet": [
           {
            "colorbar": {
             "outlinewidth": 0,
             "ticks": ""
            },
            "type": "contourcarpet"
           }
          ],
          "heatmap": [
           {
            "colorbar": {
             "outlinewidth": 0,
             "ticks": ""
            },
            "colorscale": [
             [
              0,
              "#0d0887"
             ],
             [
              0.1111111111111111,
              "#46039f"
             ],
             [
              0.2222222222222222,
              "#7201a8"
             ],
             [
              0.3333333333333333,
              "#9c179e"
             ],
             [
              0.4444444444444444,
              "#bd3786"
             ],
             [
              0.5555555555555556,
              "#d8576b"
             ],
             [
              0.6666666666666666,
              "#ed7953"
             ],
             [
              0.7777777777777778,
              "#fb9f3a"
             ],
             [
              0.8888888888888888,
              "#fdca26"
             ],
             [
              1,
              "#f0f921"
             ]
            ],
            "type": "heatmap"
           }
          ],
          "heatmapgl": [
           {
            "colorbar": {
             "outlinewidth": 0,
             "ticks": ""
            },
            "colorscale": [
             [
              0,
              "#0d0887"
             ],
             [
              0.1111111111111111,
              "#46039f"
             ],
             [
              0.2222222222222222,
              "#7201a8"
             ],
             [
              0.3333333333333333,
              "#9c179e"
             ],
             [
              0.4444444444444444,
              "#bd3786"
             ],
             [
              0.5555555555555556,
              "#d8576b"
             ],
             [
              0.6666666666666666,
              "#ed7953"
             ],
             [
              0.7777777777777778,
              "#fb9f3a"
             ],
             [
              0.8888888888888888,
              "#fdca26"
             ],
             [
              1,
              "#f0f921"
             ]
            ],
            "type": "heatmapgl"
           }
          ],
          "histogram": [
           {
            "marker": {
             "pattern": {
              "fillmode": "overlay",
              "size": 10,
              "solidity": 0.2
             }
            },
            "type": "histogram"
           }
          ],
          "histogram2d": [
           {
            "colorbar": {
             "outlinewidth": 0,
             "ticks": ""
            },
            "colorscale": [
             [
              0,
              "#0d0887"
             ],
             [
              0.1111111111111111,
              "#46039f"
             ],
             [
              0.2222222222222222,
              "#7201a8"
             ],
             [
              0.3333333333333333,
              "#9c179e"
             ],
             [
              0.4444444444444444,
              "#bd3786"
             ],
             [
              0.5555555555555556,
              "#d8576b"
             ],
             [
              0.6666666666666666,
              "#ed7953"
             ],
             [
              0.7777777777777778,
              "#fb9f3a"
             ],
             [
              0.8888888888888888,
              "#fdca26"
             ],
             [
              1,
              "#f0f921"
             ]
            ],
            "type": "histogram2d"
           }
          ],
          "histogram2dcontour": [
           {
            "colorbar": {
             "outlinewidth": 0,
             "ticks": ""
            },
            "colorscale": [
             [
              0,
              "#0d0887"
             ],
             [
              0.1111111111111111,
              "#46039f"
             ],
             [
              0.2222222222222222,
              "#7201a8"
             ],
             [
              0.3333333333333333,
              "#9c179e"
             ],
             [
              0.4444444444444444,
              "#bd3786"
             ],
             [
              0.5555555555555556,
              "#d8576b"
             ],
             [
              0.6666666666666666,
              "#ed7953"
             ],
             [
              0.7777777777777778,
              "#fb9f3a"
             ],
             [
              0.8888888888888888,
              "#fdca26"
             ],
             [
              1,
              "#f0f921"
             ]
            ],
            "type": "histogram2dcontour"
           }
          ],
          "mesh3d": [
           {
            "colorbar": {
             "outlinewidth": 0,
             "ticks": ""
            },
            "type": "mesh3d"
           }
          ],
          "parcoords": [
           {
            "line": {
             "colorbar": {
              "outlinewidth": 0,
              "ticks": ""
             }
            },
            "type": "parcoords"
           }
          ],
          "pie": [
           {
            "automargin": true,
            "type": "pie"
           }
          ],
          "scatter": [
           {
            "fillpattern": {
             "fillmode": "overlay",
             "size": 10,
             "solidity": 0.2
            },
            "type": "scatter"
           }
          ],
          "scatter3d": [
           {
            "line": {
             "colorbar": {
              "outlinewidth": 0,
              "ticks": ""
             }
            },
            "marker": {
             "colorbar": {
              "outlinewidth": 0,
              "ticks": ""
             }
            },
            "type": "scatter3d"
           }
          ],
          "scattercarpet": [
           {
            "marker": {
             "colorbar": {
              "outlinewidth": 0,
              "ticks": ""
             }
            },
            "type": "scattercarpet"
           }
          ],
          "scattergeo": [
           {
            "marker": {
             "colorbar": {
              "outlinewidth": 0,
              "ticks": ""
             }
            },
            "type": "scattergeo"
           }
          ],
          "scattergl": [
           {
            "marker": {
             "colorbar": {
              "outlinewidth": 0,
              "ticks": ""
             }
            },
            "type": "scattergl"
           }
          ],
          "scattermapbox": [
           {
            "marker": {
             "colorbar": {
              "outlinewidth": 0,
              "ticks": ""
             }
            },
            "type": "scattermapbox"
           }
          ],
          "scatterpolar": [
           {
            "marker": {
             "colorbar": {
              "outlinewidth": 0,
              "ticks": ""
             }
            },
            "type": "scatterpolar"
           }
          ],
          "scatterpolargl": [
           {
            "marker": {
             "colorbar": {
              "outlinewidth": 0,
              "ticks": ""
             }
            },
            "type": "scatterpolargl"
           }
          ],
          "scatterternary": [
           {
            "marker": {
             "colorbar": {
              "outlinewidth": 0,
              "ticks": ""
             }
            },
            "type": "scatterternary"
           }
          ],
          "surface": [
           {
            "colorbar": {
             "outlinewidth": 0,
             "ticks": ""
            },
            "colorscale": [
             [
              0,
              "#0d0887"
             ],
             [
              0.1111111111111111,
              "#46039f"
             ],
             [
              0.2222222222222222,
              "#7201a8"
             ],
             [
              0.3333333333333333,
              "#9c179e"
             ],
             [
              0.4444444444444444,
              "#bd3786"
             ],
             [
              0.5555555555555556,
              "#d8576b"
             ],
             [
              0.6666666666666666,
              "#ed7953"
             ],
             [
              0.7777777777777778,
              "#fb9f3a"
             ],
             [
              0.8888888888888888,
              "#fdca26"
             ],
             [
              1,
              "#f0f921"
             ]
            ],
            "type": "surface"
           }
          ],
          "table": [
           {
            "cells": {
             "fill": {
              "color": "#EBF0F8"
             },
             "line": {
              "color": "white"
             }
            },
            "header": {
             "fill": {
              "color": "#C8D4E3"
             },
             "line": {
              "color": "white"
             }
            },
            "type": "table"
           }
          ]
         },
         "layout": {
          "annotationdefaults": {
           "arrowcolor": "#2a3f5f",
           "arrowhead": 0,
           "arrowwidth": 1
          },
          "autotypenumbers": "strict",
          "coloraxis": {
           "colorbar": {
            "outlinewidth": 0,
            "ticks": ""
           }
          },
          "colorscale": {
           "diverging": [
            [
             0,
             "#8e0152"
            ],
            [
             0.1,
             "#c51b7d"
            ],
            [
             0.2,
             "#de77ae"
            ],
            [
             0.3,
             "#f1b6da"
            ],
            [
             0.4,
             "#fde0ef"
            ],
            [
             0.5,
             "#f7f7f7"
            ],
            [
             0.6,
             "#e6f5d0"
            ],
            [
             0.7,
             "#b8e186"
            ],
            [
             0.8,
             "#7fbc41"
            ],
            [
             0.9,
             "#4d9221"
            ],
            [
             1,
             "#276419"
            ]
           ],
           "sequential": [
            [
             0,
             "#0d0887"
            ],
            [
             0.1111111111111111,
             "#46039f"
            ],
            [
             0.2222222222222222,
             "#7201a8"
            ],
            [
             0.3333333333333333,
             "#9c179e"
            ],
            [
             0.4444444444444444,
             "#bd3786"
            ],
            [
             0.5555555555555556,
             "#d8576b"
            ],
            [
             0.6666666666666666,
             "#ed7953"
            ],
            [
             0.7777777777777778,
             "#fb9f3a"
            ],
            [
             0.8888888888888888,
             "#fdca26"
            ],
            [
             1,
             "#f0f921"
            ]
           ],
           "sequentialminus": [
            [
             0,
             "#0d0887"
            ],
            [
             0.1111111111111111,
             "#46039f"
            ],
            [
             0.2222222222222222,
             "#7201a8"
            ],
            [
             0.3333333333333333,
             "#9c179e"
            ],
            [
             0.4444444444444444,
             "#bd3786"
            ],
            [
             0.5555555555555556,
             "#d8576b"
            ],
            [
             0.6666666666666666,
             "#ed7953"
            ],
            [
             0.7777777777777778,
             "#fb9f3a"
            ],
            [
             0.8888888888888888,
             "#fdca26"
            ],
            [
             1,
             "#f0f921"
            ]
           ]
          },
          "colorway": [
           "#636efa",
           "#EF553B",
           "#00cc96",
           "#ab63fa",
           "#FFA15A",
           "#19d3f3",
           "#FF6692",
           "#B6E880",
           "#FF97FF",
           "#FECB52"
          ],
          "font": {
           "color": "#2a3f5f"
          },
          "geo": {
           "bgcolor": "white",
           "lakecolor": "white",
           "landcolor": "#E5ECF6",
           "showlakes": true,
           "showland": true,
           "subunitcolor": "white"
          },
          "hoverlabel": {
           "align": "left"
          },
          "hovermode": "closest",
          "mapbox": {
           "style": "light"
          },
          "paper_bgcolor": "white",
          "plot_bgcolor": "#E5ECF6",
          "polar": {
           "angularaxis": {
            "gridcolor": "white",
            "linecolor": "white",
            "ticks": ""
           },
           "bgcolor": "#E5ECF6",
           "radialaxis": {
            "gridcolor": "white",
            "linecolor": "white",
            "ticks": ""
           }
          },
          "scene": {
           "xaxis": {
            "backgroundcolor": "#E5ECF6",
            "gridcolor": "white",
            "gridwidth": 2,
            "linecolor": "white",
            "showbackground": true,
            "ticks": "",
            "zerolinecolor": "white"
           },
           "yaxis": {
            "backgroundcolor": "#E5ECF6",
            "gridcolor": "white",
            "gridwidth": 2,
            "linecolor": "white",
            "showbackground": true,
            "ticks": "",
            "zerolinecolor": "white"
           },
           "zaxis": {
            "backgroundcolor": "#E5ECF6",
            "gridcolor": "white",
            "gridwidth": 2,
            "linecolor": "white",
            "showbackground": true,
            "ticks": "",
            "zerolinecolor": "white"
           }
          },
          "shapedefaults": {
           "line": {
            "color": "#2a3f5f"
           }
          },
          "ternary": {
           "aaxis": {
            "gridcolor": "white",
            "linecolor": "white",
            "ticks": ""
           },
           "baxis": {
            "gridcolor": "white",
            "linecolor": "white",
            "ticks": ""
           },
           "bgcolor": "#E5ECF6",
           "caxis": {
            "gridcolor": "white",
            "linecolor": "white",
            "ticks": ""
           }
          },
          "title": {
           "x": 0.05
          },
          "xaxis": {
           "automargin": true,
           "gridcolor": "white",
           "linecolor": "white",
           "ticks": "",
           "title": {
            "standoff": 15
           },
           "zerolinecolor": "white",
           "zerolinewidth": 2
          },
          "yaxis": {
           "automargin": true,
           "gridcolor": "white",
           "linecolor": "white",
           "ticks": "",
           "title": {
            "standoff": 15
           },
           "zerolinecolor": "white",
           "zerolinewidth": 2
          }
         }
        },
        "title": {
         "text": "Top 10 Recipients of Funding"
        },
        "xaxis": {
         "anchor": "y",
         "domain": [
          0,
          1
         ],
         "title": {
          "text": "Recipient Name"
         }
        },
        "yaxis": {
         "anchor": "x",
         "domain": [
          0,
          1
         ],
         "title": {
          "text": "Funding Amount ($)"
         }
        }
       }
      }
     },
     "metadata": {},
     "output_type": "display_data"
    }
   ],
   "source": [
    "top_recipients = df.groupby('Recipient Name')['Actual Contractual Commitment ($)'].sum().reset_index()\n",
    "top_recipients = top_recipients.sort_values(by='Actual Contractual Commitment ($)', ascending=False).head(10)\n",
    "\n",
    "fig_top_recipients = px.bar(top_recipients, x='Recipient Name', y='Actual Contractual Commitment ($)', \n",
    "                            title='Top 10 Recipients of Funding', \n",
    "                            labels={'Actual Contractual Commitment ($)': 'Funding Amount ($)'})\n",
    "fig_top_recipients.show()"
   ]
  },
  {
   "cell_type": "markdown",
   "id": "1cb2b54d",
   "metadata": {},
   "source": [
    "#### Chart - Funding by year\n",
    "- This analysis shows how funding has varied throughout time. It can assist discover trends, such as funding increases or declines, and can be used for future planning and budgeting purposes.\n",
    "\n",
    "#### Observations:\n",
    "\n",
    "1. **Initial Increase**:  A conspicuous surge in financial support is observed between 2015 and 2017, culminating at approximately $61.22591M in 2017.\n",
    "2. **Subsequent Decrease**: Post the zenith in 2017, a discernible downturn in funding is evident in the ensuing years, with a significant decrease by 2019.\n",
    "3. **Fluctuations**: Commencing from 2019, there are fluctuations in the funding allocations, characterized by a minor upturn in 2020, succeeded by another decline in the subsequent years.\n",
    "4. **Recent Trend**: The financial backing exhibits a continual decrease, reaching its nadir in 2023."
   ]
  },
  {
   "cell_type": "code",
   "execution_count": 62,
   "id": "8fd09d0c",
   "metadata": {},
   "outputs": [
    {
     "data": {
      "application/vnd.plotly.v1+json": {
       "config": {
        "plotlyServerURL": "https://plot.ly"
       },
       "data": [
        {
         "hovertemplate": "Year=%{x}<br>Funding Amount ($)=%{y}<extra></extra>",
         "legendgroup": "",
         "line": {
          "color": "#636efa",
          "dash": "solid"
         },
         "marker": {
          "symbol": "circle"
         },
         "mode": "lines",
         "name": "",
         "orientation": "v",
         "showlegend": false,
         "type": "scatter",
         "x": [
          2015,
          2016,
          2017,
          2018,
          2019,
          2020,
          2021,
          2022,
          2023
         ],
         "xaxis": "x",
         "y": [
          6418461,
          46108423,
          61225909,
          33849950,
          23723671,
          35077539,
          8145101,
          5342863,
          131500
         ],
         "yaxis": "y"
        }
       ],
       "layout": {
        "legend": {
         "tracegroupgap": 0
        },
        "template": {
         "data": {
          "bar": [
           {
            "error_x": {
             "color": "#2a3f5f"
            },
            "error_y": {
             "color": "#2a3f5f"
            },
            "marker": {
             "line": {
              "color": "#E5ECF6",
              "width": 0.5
             },
             "pattern": {
              "fillmode": "overlay",
              "size": 10,
              "solidity": 0.2
             }
            },
            "type": "bar"
           }
          ],
          "barpolar": [
           {
            "marker": {
             "line": {
              "color": "#E5ECF6",
              "width": 0.5
             },
             "pattern": {
              "fillmode": "overlay",
              "size": 10,
              "solidity": 0.2
             }
            },
            "type": "barpolar"
           }
          ],
          "carpet": [
           {
            "aaxis": {
             "endlinecolor": "#2a3f5f",
             "gridcolor": "white",
             "linecolor": "white",
             "minorgridcolor": "white",
             "startlinecolor": "#2a3f5f"
            },
            "baxis": {
             "endlinecolor": "#2a3f5f",
             "gridcolor": "white",
             "linecolor": "white",
             "minorgridcolor": "white",
             "startlinecolor": "#2a3f5f"
            },
            "type": "carpet"
           }
          ],
          "choropleth": [
           {
            "colorbar": {
             "outlinewidth": 0,
             "ticks": ""
            },
            "type": "choropleth"
           }
          ],
          "contour": [
           {
            "colorbar": {
             "outlinewidth": 0,
             "ticks": ""
            },
            "colorscale": [
             [
              0,
              "#0d0887"
             ],
             [
              0.1111111111111111,
              "#46039f"
             ],
             [
              0.2222222222222222,
              "#7201a8"
             ],
             [
              0.3333333333333333,
              "#9c179e"
             ],
             [
              0.4444444444444444,
              "#bd3786"
             ],
             [
              0.5555555555555556,
              "#d8576b"
             ],
             [
              0.6666666666666666,
              "#ed7953"
             ],
             [
              0.7777777777777778,
              "#fb9f3a"
             ],
             [
              0.8888888888888888,
              "#fdca26"
             ],
             [
              1,
              "#f0f921"
             ]
            ],
            "type": "contour"
           }
          ],
          "contourcarpet": [
           {
            "colorbar": {
             "outlinewidth": 0,
             "ticks": ""
            },
            "type": "contourcarpet"
           }
          ],
          "heatmap": [
           {
            "colorbar": {
             "outlinewidth": 0,
             "ticks": ""
            },
            "colorscale": [
             [
              0,
              "#0d0887"
             ],
             [
              0.1111111111111111,
              "#46039f"
             ],
             [
              0.2222222222222222,
              "#7201a8"
             ],
             [
              0.3333333333333333,
              "#9c179e"
             ],
             [
              0.4444444444444444,
              "#bd3786"
             ],
             [
              0.5555555555555556,
              "#d8576b"
             ],
             [
              0.6666666666666666,
              "#ed7953"
             ],
             [
              0.7777777777777778,
              "#fb9f3a"
             ],
             [
              0.8888888888888888,
              "#fdca26"
             ],
             [
              1,
              "#f0f921"
             ]
            ],
            "type": "heatmap"
           }
          ],
          "heatmapgl": [
           {
            "colorbar": {
             "outlinewidth": 0,
             "ticks": ""
            },
            "colorscale": [
             [
              0,
              "#0d0887"
             ],
             [
              0.1111111111111111,
              "#46039f"
             ],
             [
              0.2222222222222222,
              "#7201a8"
             ],
             [
              0.3333333333333333,
              "#9c179e"
             ],
             [
              0.4444444444444444,
              "#bd3786"
             ],
             [
              0.5555555555555556,
              "#d8576b"
             ],
             [
              0.6666666666666666,
              "#ed7953"
             ],
             [
              0.7777777777777778,
              "#fb9f3a"
             ],
             [
              0.8888888888888888,
              "#fdca26"
             ],
             [
              1,
              "#f0f921"
             ]
            ],
            "type": "heatmapgl"
           }
          ],
          "histogram": [
           {
            "marker": {
             "pattern": {
              "fillmode": "overlay",
              "size": 10,
              "solidity": 0.2
             }
            },
            "type": "histogram"
           }
          ],
          "histogram2d": [
           {
            "colorbar": {
             "outlinewidth": 0,
             "ticks": ""
            },
            "colorscale": [
             [
              0,
              "#0d0887"
             ],
             [
              0.1111111111111111,
              "#46039f"
             ],
             [
              0.2222222222222222,
              "#7201a8"
             ],
             [
              0.3333333333333333,
              "#9c179e"
             ],
             [
              0.4444444444444444,
              "#bd3786"
             ],
             [
              0.5555555555555556,
              "#d8576b"
             ],
             [
              0.6666666666666666,
              "#ed7953"
             ],
             [
              0.7777777777777778,
              "#fb9f3a"
             ],
             [
              0.8888888888888888,
              "#fdca26"
             ],
             [
              1,
              "#f0f921"
             ]
            ],
            "type": "histogram2d"
           }
          ],
          "histogram2dcontour": [
           {
            "colorbar": {
             "outlinewidth": 0,
             "ticks": ""
            },
            "colorscale": [
             [
              0,
              "#0d0887"
             ],
             [
              0.1111111111111111,
              "#46039f"
             ],
             [
              0.2222222222222222,
              "#7201a8"
             ],
             [
              0.3333333333333333,
              "#9c179e"
             ],
             [
              0.4444444444444444,
              "#bd3786"
             ],
             [
              0.5555555555555556,
              "#d8576b"
             ],
             [
              0.6666666666666666,
              "#ed7953"
             ],
             [
              0.7777777777777778,
              "#fb9f3a"
             ],
             [
              0.8888888888888888,
              "#fdca26"
             ],
             [
              1,
              "#f0f921"
             ]
            ],
            "type": "histogram2dcontour"
           }
          ],
          "mesh3d": [
           {
            "colorbar": {
             "outlinewidth": 0,
             "ticks": ""
            },
            "type": "mesh3d"
           }
          ],
          "parcoords": [
           {
            "line": {
             "colorbar": {
              "outlinewidth": 0,
              "ticks": ""
             }
            },
            "type": "parcoords"
           }
          ],
          "pie": [
           {
            "automargin": true,
            "type": "pie"
           }
          ],
          "scatter": [
           {
            "fillpattern": {
             "fillmode": "overlay",
             "size": 10,
             "solidity": 0.2
            },
            "type": "scatter"
           }
          ],
          "scatter3d": [
           {
            "line": {
             "colorbar": {
              "outlinewidth": 0,
              "ticks": ""
             }
            },
            "marker": {
             "colorbar": {
              "outlinewidth": 0,
              "ticks": ""
             }
            },
            "type": "scatter3d"
           }
          ],
          "scattercarpet": [
           {
            "marker": {
             "colorbar": {
              "outlinewidth": 0,
              "ticks": ""
             }
            },
            "type": "scattercarpet"
           }
          ],
          "scattergeo": [
           {
            "marker": {
             "colorbar": {
              "outlinewidth": 0,
              "ticks": ""
             }
            },
            "type": "scattergeo"
           }
          ],
          "scattergl": [
           {
            "marker": {
             "colorbar": {
              "outlinewidth": 0,
              "ticks": ""
             }
            },
            "type": "scattergl"
           }
          ],
          "scattermapbox": [
           {
            "marker": {
             "colorbar": {
              "outlinewidth": 0,
              "ticks": ""
             }
            },
            "type": "scattermapbox"
           }
          ],
          "scatterpolar": [
           {
            "marker": {
             "colorbar": {
              "outlinewidth": 0,
              "ticks": ""
             }
            },
            "type": "scatterpolar"
           }
          ],
          "scatterpolargl": [
           {
            "marker": {
             "colorbar": {
              "outlinewidth": 0,
              "ticks": ""
             }
            },
            "type": "scatterpolargl"
           }
          ],
          "scatterternary": [
           {
            "marker": {
             "colorbar": {
              "outlinewidth": 0,
              "ticks": ""
             }
            },
            "type": "scatterternary"
           }
          ],
          "surface": [
           {
            "colorbar": {
             "outlinewidth": 0,
             "ticks": ""
            },
            "colorscale": [
             [
              0,
              "#0d0887"
             ],
             [
              0.1111111111111111,
              "#46039f"
             ],
             [
              0.2222222222222222,
              "#7201a8"
             ],
             [
              0.3333333333333333,
              "#9c179e"
             ],
             [
              0.4444444444444444,
              "#bd3786"
             ],
             [
              0.5555555555555556,
              "#d8576b"
             ],
             [
              0.6666666666666666,
              "#ed7953"
             ],
             [
              0.7777777777777778,
              "#fb9f3a"
             ],
             [
              0.8888888888888888,
              "#fdca26"
             ],
             [
              1,
              "#f0f921"
             ]
            ],
            "type": "surface"
           }
          ],
          "table": [
           {
            "cells": {
             "fill": {
              "color": "#EBF0F8"
             },
             "line": {
              "color": "white"
             }
            },
            "header": {
             "fill": {
              "color": "#C8D4E3"
             },
             "line": {
              "color": "white"
             }
            },
            "type": "table"
           }
          ]
         },
         "layout": {
          "annotationdefaults": {
           "arrowcolor": "#2a3f5f",
           "arrowhead": 0,
           "arrowwidth": 1
          },
          "autotypenumbers": "strict",
          "coloraxis": {
           "colorbar": {
            "outlinewidth": 0,
            "ticks": ""
           }
          },
          "colorscale": {
           "diverging": [
            [
             0,
             "#8e0152"
            ],
            [
             0.1,
             "#c51b7d"
            ],
            [
             0.2,
             "#de77ae"
            ],
            [
             0.3,
             "#f1b6da"
            ],
            [
             0.4,
             "#fde0ef"
            ],
            [
             0.5,
             "#f7f7f7"
            ],
            [
             0.6,
             "#e6f5d0"
            ],
            [
             0.7,
             "#b8e186"
            ],
            [
             0.8,
             "#7fbc41"
            ],
            [
             0.9,
             "#4d9221"
            ],
            [
             1,
             "#276419"
            ]
           ],
           "sequential": [
            [
             0,
             "#0d0887"
            ],
            [
             0.1111111111111111,
             "#46039f"
            ],
            [
             0.2222222222222222,
             "#7201a8"
            ],
            [
             0.3333333333333333,
             "#9c179e"
            ],
            [
             0.4444444444444444,
             "#bd3786"
            ],
            [
             0.5555555555555556,
             "#d8576b"
            ],
            [
             0.6666666666666666,
             "#ed7953"
            ],
            [
             0.7777777777777778,
             "#fb9f3a"
            ],
            [
             0.8888888888888888,
             "#fdca26"
            ],
            [
             1,
             "#f0f921"
            ]
           ],
           "sequentialminus": [
            [
             0,
             "#0d0887"
            ],
            [
             0.1111111111111111,
             "#46039f"
            ],
            [
             0.2222222222222222,
             "#7201a8"
            ],
            [
             0.3333333333333333,
             "#9c179e"
            ],
            [
             0.4444444444444444,
             "#bd3786"
            ],
            [
             0.5555555555555556,
             "#d8576b"
            ],
            [
             0.6666666666666666,
             "#ed7953"
            ],
            [
             0.7777777777777778,
             "#fb9f3a"
            ],
            [
             0.8888888888888888,
             "#fdca26"
            ],
            [
             1,
             "#f0f921"
            ]
           ]
          },
          "colorway": [
           "#636efa",
           "#EF553B",
           "#00cc96",
           "#ab63fa",
           "#FFA15A",
           "#19d3f3",
           "#FF6692",
           "#B6E880",
           "#FF97FF",
           "#FECB52"
          ],
          "font": {
           "color": "#2a3f5f"
          },
          "geo": {
           "bgcolor": "white",
           "lakecolor": "white",
           "landcolor": "#E5ECF6",
           "showlakes": true,
           "showland": true,
           "subunitcolor": "white"
          },
          "hoverlabel": {
           "align": "left"
          },
          "hovermode": "closest",
          "mapbox": {
           "style": "light"
          },
          "paper_bgcolor": "white",
          "plot_bgcolor": "#E5ECF6",
          "polar": {
           "angularaxis": {
            "gridcolor": "white",
            "linecolor": "white",
            "ticks": ""
           },
           "bgcolor": "#E5ECF6",
           "radialaxis": {
            "gridcolor": "white",
            "linecolor": "white",
            "ticks": ""
           }
          },
          "scene": {
           "xaxis": {
            "backgroundcolor": "#E5ECF6",
            "gridcolor": "white",
            "gridwidth": 2,
            "linecolor": "white",
            "showbackground": true,
            "ticks": "",
            "zerolinecolor": "white"
           },
           "yaxis": {
            "backgroundcolor": "#E5ECF6",
            "gridcolor": "white",
            "gridwidth": 2,
            "linecolor": "white",
            "showbackground": true,
            "ticks": "",
            "zerolinecolor": "white"
           },
           "zaxis": {
            "backgroundcolor": "#E5ECF6",
            "gridcolor": "white",
            "gridwidth": 2,
            "linecolor": "white",
            "showbackground": true,
            "ticks": "",
            "zerolinecolor": "white"
           }
          },
          "shapedefaults": {
           "line": {
            "color": "#2a3f5f"
           }
          },
          "ternary": {
           "aaxis": {
            "gridcolor": "white",
            "linecolor": "white",
            "ticks": ""
           },
           "baxis": {
            "gridcolor": "white",
            "linecolor": "white",
            "ticks": ""
           },
           "bgcolor": "#E5ECF6",
           "caxis": {
            "gridcolor": "white",
            "linecolor": "white",
            "ticks": ""
           }
          },
          "title": {
           "x": 0.05
          },
          "xaxis": {
           "automargin": true,
           "gridcolor": "white",
           "linecolor": "white",
           "ticks": "",
           "title": {
            "standoff": 15
           },
           "zerolinecolor": "white",
           "zerolinewidth": 2
          },
          "yaxis": {
           "automargin": true,
           "gridcolor": "white",
           "linecolor": "white",
           "ticks": "",
           "title": {
            "standoff": 15
           },
           "zerolinecolor": "white",
           "zerolinewidth": 2
          }
         }
        },
        "title": {
         "text": "Funding by Year"
        },
        "xaxis": {
         "anchor": "y",
         "domain": [
          0,
          1
         ],
         "title": {
          "text": "Year"
         }
        },
        "yaxis": {
         "anchor": "x",
         "domain": [
          0,
          1
         ],
         "title": {
          "text": "Funding Amount ($)"
         }
        }
       }
      }
     },
     "metadata": {},
     "output_type": "display_data"
    }
   ],
   "source": [
    "# Convert Approval Date to datetime\n",
    "df['Approval Date'] = pd.to_datetime(df['Approval Date'])\n",
    "\n",
    "# Extract year from Approval Date\n",
    "df['Year'] = df['Approval Date'].dt.year\n",
    "\n",
    "# Funding by year\n",
    "funding_by_year = df.groupby('Year')['Actual Contractual Commitment ($)'].sum().reset_index()\n",
    "\n",
    "fig_funding_by_year = px.line(funding_by_year, x='Year', y='Actual Contractual Commitment ($)', \n",
    "                              title='Funding by Year', \n",
    "                              labels={'Actual Contractual Commitment ($)': 'Funding Amount ($)'})\n",
    "fig_funding_by_year.show()"
   ]
  },
  {
   "cell_type": "markdown",
   "id": "bf600f5f",
   "metadata": {},
   "source": [
    "#### Chart - Top 10 Local Governments/Councils by Funding\n",
    "\n",
    "-  This shows the top ten local governments or councils based on funding. It aids in recognizing geographic discrepancies in funding and determining which places receive the greatest attention.\n",
    "\n",
    "#### Observations:\n",
    "1. **Primary Source of Funding**: The data presented in the visual representation illustrates that Brisbane (C) stands out as the recipient of the largest funding allocation, surpassing $150 million by a considerable margin.\n",
    "\n",
    "2. **Relative Allocation of Funds**: Following Brisbane (C), other recipients such as Nonqueensland, Gold Coast (C), and Sunshine Coast (R) receive notably lower amounts of funding, all falling below the $20 million mark.\n",
    "3. **Leading Beneficiaries**: The compilation of the top 10 beneficiaries encompasses Brisbane (C), Nonqueensland, Gold Coast (C), Sunshine Coast (R), Toowoomba (R), Townsville (C), Rockhampton (R), Cairns (R), Ipswich (C), and Moreton Bay (R)."
   ]
  },
  {
   "cell_type": "code",
   "execution_count": 34,
   "id": "646093c3",
   "metadata": {},
   "outputs": [
    {
     "data": {
      "application/vnd.plotly.v1+json": {
       "config": {
        "plotlyServerURL": "https://plot.ly"
       },
       "data": [
        {
         "alignmentgroup": "True",
         "hovertemplate": "Local Government /Council=%{x}<br>Funding Amount ($)=%{y}<extra></extra>",
         "legendgroup": "",
         "marker": {
          "color": "#636efa",
          "pattern": {
           "shape": ""
          }
         },
         "name": "",
         "offsetgroup": "",
         "orientation": "v",
         "showlegend": false,
         "textposition": "auto",
         "type": "bar",
         "x": [
          "Brisbane (C)",
          "Nonqueensland",
          "Gold Coast (C)",
          "Toowoomba (R)",
          "Sunshine Coast (R)",
          "Townsville (C)",
          "Cairns (R)",
          "Moreton Bay (R)",
          "Ipswich (C)",
          "Rockhampton (R)"
         ],
         "xaxis": "x",
         "y": [
          112153290,
          10558329,
          9605561,
          6259597,
          6049526,
          4255621,
          2508404,
          2197423,
          2182895,
          1936328
         ],
         "yaxis": "y"
        }
       ],
       "layout": {
        "barmode": "relative",
        "legend": {
         "tracegroupgap": 0
        },
        "template": {
         "data": {
          "bar": [
           {
            "error_x": {
             "color": "#2a3f5f"
            },
            "error_y": {
             "color": "#2a3f5f"
            },
            "marker": {
             "line": {
              "color": "#E5ECF6",
              "width": 0.5
             },
             "pattern": {
              "fillmode": "overlay",
              "size": 10,
              "solidity": 0.2
             }
            },
            "type": "bar"
           }
          ],
          "barpolar": [
           {
            "marker": {
             "line": {
              "color": "#E5ECF6",
              "width": 0.5
             },
             "pattern": {
              "fillmode": "overlay",
              "size": 10,
              "solidity": 0.2
             }
            },
            "type": "barpolar"
           }
          ],
          "carpet": [
           {
            "aaxis": {
             "endlinecolor": "#2a3f5f",
             "gridcolor": "white",
             "linecolor": "white",
             "minorgridcolor": "white",
             "startlinecolor": "#2a3f5f"
            },
            "baxis": {
             "endlinecolor": "#2a3f5f",
             "gridcolor": "white",
             "linecolor": "white",
             "minorgridcolor": "white",
             "startlinecolor": "#2a3f5f"
            },
            "type": "carpet"
           }
          ],
          "choropleth": [
           {
            "colorbar": {
             "outlinewidth": 0,
             "ticks": ""
            },
            "type": "choropleth"
           }
          ],
          "contour": [
           {
            "colorbar": {
             "outlinewidth": 0,
             "ticks": ""
            },
            "colorscale": [
             [
              0,
              "#0d0887"
             ],
             [
              0.1111111111111111,
              "#46039f"
             ],
             [
              0.2222222222222222,
              "#7201a8"
             ],
             [
              0.3333333333333333,
              "#9c179e"
             ],
             [
              0.4444444444444444,
              "#bd3786"
             ],
             [
              0.5555555555555556,
              "#d8576b"
             ],
             [
              0.6666666666666666,
              "#ed7953"
             ],
             [
              0.7777777777777778,
              "#fb9f3a"
             ],
             [
              0.8888888888888888,
              "#fdca26"
             ],
             [
              1,
              "#f0f921"
             ]
            ],
            "type": "contour"
           }
          ],
          "contourcarpet": [
           {
            "colorbar": {
             "outlinewidth": 0,
             "ticks": ""
            },
            "type": "contourcarpet"
           }
          ],
          "heatmap": [
           {
            "colorbar": {
             "outlinewidth": 0,
             "ticks": ""
            },
            "colorscale": [
             [
              0,
              "#0d0887"
             ],
             [
              0.1111111111111111,
              "#46039f"
             ],
             [
              0.2222222222222222,
              "#7201a8"
             ],
             [
              0.3333333333333333,
              "#9c179e"
             ],
             [
              0.4444444444444444,
              "#bd3786"
             ],
             [
              0.5555555555555556,
              "#d8576b"
             ],
             [
              0.6666666666666666,
              "#ed7953"
             ],
             [
              0.7777777777777778,
              "#fb9f3a"
             ],
             [
              0.8888888888888888,
              "#fdca26"
             ],
             [
              1,
              "#f0f921"
             ]
            ],
            "type": "heatmap"
           }
          ],
          "heatmapgl": [
           {
            "colorbar": {
             "outlinewidth": 0,
             "ticks": ""
            },
            "colorscale": [
             [
              0,
              "#0d0887"
             ],
             [
              0.1111111111111111,
              "#46039f"
             ],
             [
              0.2222222222222222,
              "#7201a8"
             ],
             [
              0.3333333333333333,
              "#9c179e"
             ],
             [
              0.4444444444444444,
              "#bd3786"
             ],
             [
              0.5555555555555556,
              "#d8576b"
             ],
             [
              0.6666666666666666,
              "#ed7953"
             ],
             [
              0.7777777777777778,
              "#fb9f3a"
             ],
             [
              0.8888888888888888,
              "#fdca26"
             ],
             [
              1,
              "#f0f921"
             ]
            ],
            "type": "heatmapgl"
           }
          ],
          "histogram": [
           {
            "marker": {
             "pattern": {
              "fillmode": "overlay",
              "size": 10,
              "solidity": 0.2
             }
            },
            "type": "histogram"
           }
          ],
          "histogram2d": [
           {
            "colorbar": {
             "outlinewidth": 0,
             "ticks": ""
            },
            "colorscale": [
             [
              0,
              "#0d0887"
             ],
             [
              0.1111111111111111,
              "#46039f"
             ],
             [
              0.2222222222222222,
              "#7201a8"
             ],
             [
              0.3333333333333333,
              "#9c179e"
             ],
             [
              0.4444444444444444,
              "#bd3786"
             ],
             [
              0.5555555555555556,
              "#d8576b"
             ],
             [
              0.6666666666666666,
              "#ed7953"
             ],
             [
              0.7777777777777778,
              "#fb9f3a"
             ],
             [
              0.8888888888888888,
              "#fdca26"
             ],
             [
              1,
              "#f0f921"
             ]
            ],
            "type": "histogram2d"
           }
          ],
          "histogram2dcontour": [
           {
            "colorbar": {
             "outlinewidth": 0,
             "ticks": ""
            },
            "colorscale": [
             [
              0,
              "#0d0887"
             ],
             [
              0.1111111111111111,
              "#46039f"
             ],
             [
              0.2222222222222222,
              "#7201a8"
             ],
             [
              0.3333333333333333,
              "#9c179e"
             ],
             [
              0.4444444444444444,
              "#bd3786"
             ],
             [
              0.5555555555555556,
              "#d8576b"
             ],
             [
              0.6666666666666666,
              "#ed7953"
             ],
             [
              0.7777777777777778,
              "#fb9f3a"
             ],
             [
              0.8888888888888888,
              "#fdca26"
             ],
             [
              1,
              "#f0f921"
             ]
            ],
            "type": "histogram2dcontour"
           }
          ],
          "mesh3d": [
           {
            "colorbar": {
             "outlinewidth": 0,
             "ticks": ""
            },
            "type": "mesh3d"
           }
          ],
          "parcoords": [
           {
            "line": {
             "colorbar": {
              "outlinewidth": 0,
              "ticks": ""
             }
            },
            "type": "parcoords"
           }
          ],
          "pie": [
           {
            "automargin": true,
            "type": "pie"
           }
          ],
          "scatter": [
           {
            "fillpattern": {
             "fillmode": "overlay",
             "size": 10,
             "solidity": 0.2
            },
            "type": "scatter"
           }
          ],
          "scatter3d": [
           {
            "line": {
             "colorbar": {
              "outlinewidth": 0,
              "ticks": ""
             }
            },
            "marker": {
             "colorbar": {
              "outlinewidth": 0,
              "ticks": ""
             }
            },
            "type": "scatter3d"
           }
          ],
          "scattercarpet": [
           {
            "marker": {
             "colorbar": {
              "outlinewidth": 0,
              "ticks": ""
             }
            },
            "type": "scattercarpet"
           }
          ],
          "scattergeo": [
           {
            "marker": {
             "colorbar": {
              "outlinewidth": 0,
              "ticks": ""
             }
            },
            "type": "scattergeo"
           }
          ],
          "scattergl": [
           {
            "marker": {
             "colorbar": {
              "outlinewidth": 0,
              "ticks": ""
             }
            },
            "type": "scattergl"
           }
          ],
          "scattermapbox": [
           {
            "marker": {
             "colorbar": {
              "outlinewidth": 0,
              "ticks": ""
             }
            },
            "type": "scattermapbox"
           }
          ],
          "scatterpolar": [
           {
            "marker": {
             "colorbar": {
              "outlinewidth": 0,
              "ticks": ""
             }
            },
            "type": "scatterpolar"
           }
          ],
          "scatterpolargl": [
           {
            "marker": {
             "colorbar": {
              "outlinewidth": 0,
              "ticks": ""
             }
            },
            "type": "scatterpolargl"
           }
          ],
          "scatterternary": [
           {
            "marker": {
             "colorbar": {
              "outlinewidth": 0,
              "ticks": ""
             }
            },
            "type": "scatterternary"
           }
          ],
          "surface": [
           {
            "colorbar": {
             "outlinewidth": 0,
             "ticks": ""
            },
            "colorscale": [
             [
              0,
              "#0d0887"
             ],
             [
              0.1111111111111111,
              "#46039f"
             ],
             [
              0.2222222222222222,
              "#7201a8"
             ],
             [
              0.3333333333333333,
              "#9c179e"
             ],
             [
              0.4444444444444444,
              "#bd3786"
             ],
             [
              0.5555555555555556,
              "#d8576b"
             ],
             [
              0.6666666666666666,
              "#ed7953"
             ],
             [
              0.7777777777777778,
              "#fb9f3a"
             ],
             [
              0.8888888888888888,
              "#fdca26"
             ],
             [
              1,
              "#f0f921"
             ]
            ],
            "type": "surface"
           }
          ],
          "table": [
           {
            "cells": {
             "fill": {
              "color": "#EBF0F8"
             },
             "line": {
              "color": "white"
             }
            },
            "header": {
             "fill": {
              "color": "#C8D4E3"
             },
             "line": {
              "color": "white"
             }
            },
            "type": "table"
           }
          ]
         },
         "layout": {
          "annotationdefaults": {
           "arrowcolor": "#2a3f5f",
           "arrowhead": 0,
           "arrowwidth": 1
          },
          "autotypenumbers": "strict",
          "coloraxis": {
           "colorbar": {
            "outlinewidth": 0,
            "ticks": ""
           }
          },
          "colorscale": {
           "diverging": [
            [
             0,
             "#8e0152"
            ],
            [
             0.1,
             "#c51b7d"
            ],
            [
             0.2,
             "#de77ae"
            ],
            [
             0.3,
             "#f1b6da"
            ],
            [
             0.4,
             "#fde0ef"
            ],
            [
             0.5,
             "#f7f7f7"
            ],
            [
             0.6,
             "#e6f5d0"
            ],
            [
             0.7,
             "#b8e186"
            ],
            [
             0.8,
             "#7fbc41"
            ],
            [
             0.9,
             "#4d9221"
            ],
            [
             1,
             "#276419"
            ]
           ],
           "sequential": [
            [
             0,
             "#0d0887"
            ],
            [
             0.1111111111111111,
             "#46039f"
            ],
            [
             0.2222222222222222,
             "#7201a8"
            ],
            [
             0.3333333333333333,
             "#9c179e"
            ],
            [
             0.4444444444444444,
             "#bd3786"
            ],
            [
             0.5555555555555556,
             "#d8576b"
            ],
            [
             0.6666666666666666,
             "#ed7953"
            ],
            [
             0.7777777777777778,
             "#fb9f3a"
            ],
            [
             0.8888888888888888,
             "#fdca26"
            ],
            [
             1,
             "#f0f921"
            ]
           ],
           "sequentialminus": [
            [
             0,
             "#0d0887"
            ],
            [
             0.1111111111111111,
             "#46039f"
            ],
            [
             0.2222222222222222,
             "#7201a8"
            ],
            [
             0.3333333333333333,
             "#9c179e"
            ],
            [
             0.4444444444444444,
             "#bd3786"
            ],
            [
             0.5555555555555556,
             "#d8576b"
            ],
            [
             0.6666666666666666,
             "#ed7953"
            ],
            [
             0.7777777777777778,
             "#fb9f3a"
            ],
            [
             0.8888888888888888,
             "#fdca26"
            ],
            [
             1,
             "#f0f921"
            ]
           ]
          },
          "colorway": [
           "#636efa",
           "#EF553B",
           "#00cc96",
           "#ab63fa",
           "#FFA15A",
           "#19d3f3",
           "#FF6692",
           "#B6E880",
           "#FF97FF",
           "#FECB52"
          ],
          "font": {
           "color": "#2a3f5f"
          },
          "geo": {
           "bgcolor": "white",
           "lakecolor": "white",
           "landcolor": "#E5ECF6",
           "showlakes": true,
           "showland": true,
           "subunitcolor": "white"
          },
          "hoverlabel": {
           "align": "left"
          },
          "hovermode": "closest",
          "mapbox": {
           "style": "light"
          },
          "paper_bgcolor": "white",
          "plot_bgcolor": "#E5ECF6",
          "polar": {
           "angularaxis": {
            "gridcolor": "white",
            "linecolor": "white",
            "ticks": ""
           },
           "bgcolor": "#E5ECF6",
           "radialaxis": {
            "gridcolor": "white",
            "linecolor": "white",
            "ticks": ""
           }
          },
          "scene": {
           "xaxis": {
            "backgroundcolor": "#E5ECF6",
            "gridcolor": "white",
            "gridwidth": 2,
            "linecolor": "white",
            "showbackground": true,
            "ticks": "",
            "zerolinecolor": "white"
           },
           "yaxis": {
            "backgroundcolor": "#E5ECF6",
            "gridcolor": "white",
            "gridwidth": 2,
            "linecolor": "white",
            "showbackground": true,
            "ticks": "",
            "zerolinecolor": "white"
           },
           "zaxis": {
            "backgroundcolor": "#E5ECF6",
            "gridcolor": "white",
            "gridwidth": 2,
            "linecolor": "white",
            "showbackground": true,
            "ticks": "",
            "zerolinecolor": "white"
           }
          },
          "shapedefaults": {
           "line": {
            "color": "#2a3f5f"
           }
          },
          "ternary": {
           "aaxis": {
            "gridcolor": "white",
            "linecolor": "white",
            "ticks": ""
           },
           "baxis": {
            "gridcolor": "white",
            "linecolor": "white",
            "ticks": ""
           },
           "bgcolor": "#E5ECF6",
           "caxis": {
            "gridcolor": "white",
            "linecolor": "white",
            "ticks": ""
           }
          },
          "title": {
           "x": 0.05
          },
          "xaxis": {
           "automargin": true,
           "gridcolor": "white",
           "linecolor": "white",
           "ticks": "",
           "title": {
            "standoff": 15
           },
           "zerolinecolor": "white",
           "zerolinewidth": 2
          },
          "yaxis": {
           "automargin": true,
           "gridcolor": "white",
           "linecolor": "white",
           "ticks": "",
           "title": {
            "standoff": 15
           },
           "zerolinecolor": "white",
           "zerolinewidth": 2
          }
         }
        },
        "title": {
         "text": "Top 10 Local Governments/Councils by Funding"
        },
        "xaxis": {
         "anchor": "y",
         "domain": [
          0,
          1
         ],
         "title": {
          "text": "Local Government /Council"
         }
        },
        "yaxis": {
         "anchor": "x",
         "domain": [
          0,
          1
         ],
         "title": {
          "text": "Funding Amount ($)"
         }
        }
       }
      }
     },
     "metadata": {},
     "output_type": "display_data"
    }
   ],
   "source": [
    "# Funding by Local Government/Council\n",
    "funding_by_council = df.groupby('Local Government /Council')['Actual Contractual Commitment ($)'].sum().reset_index()\n",
    "funding_by_council = funding_by_council.sort_values(by='Actual Contractual Commitment ($)', ascending=False).head(10)\n",
    "\n",
    "fig_funding_by_council = px.bar(funding_by_council, x='Local Government /Council', y='Actual Contractual Commitment ($)', \n",
    "                                title='Top 10 Local Governments/Councils by Funding', \n",
    "                                labels={'Actual Contractual Commitment ($)': 'Funding Amount ($)'})\n",
    "fig_funding_by_council.show()"
   ]
  },
  {
   "cell_type": "markdown",
   "id": "39f3b8c0",
   "metadata": {},
   "source": [
    "---\n",
    "## Part B - creating a narrative to answer significant questions\n",
    "\n",
    "**SCENARIO:**  The allocation of public money (obtained from the public via taxes) is a politically sensitive activity with governments regularly coming under scrutiny for how this money is spent. A respected media organisation is looking into the Queensland Government's Advance Queensland program. The resulting story could be a \"good news\" story reporting on the success of the program, however if inappropriate spending or irregularities are found, it could become a story that is critical of the scheme, and potentially the Government.\n",
    "\n",
    "As a data analyst, your task is to analyse the publicly available data on the distribution of the funds over time. You are looking for patterns that may support the \"good news\" story, or which may be a cause for concern. It is up to you how deeply you explore the data, but at a minimum you should look at (a) the balance between South-East Queensland and the remainder of the state (regional Queensland); and (b) how distributions align with the objectives of the scheme which may include supporting specified groups of people. \n",
    "\n",
    "**ETHICAL APPROACH:** You are expected to be fair and ethical in your analysis, and therefore the insights that you draw should take into account contextual factors. You should avoid simplistic assumptions like assuming all groups and activities should receive equal funding. For example, disproportionate funding may be appropriate due to social circumstances or the costs involved in a particular activity. Further, benefits to Queensland may come in different forms. For example, cultural benefits cannot be directly compared to economic benefits.\n",
    "\n",
    "**ESSENTIAL REQUIREMENTS:** Your task as a data analyst is to:\n",
    "\n",
    "- Ensure that you use the techniques and libraries/packages that have been used in class\n",
    "- Identify high quality questions that when answered may be helpful in addressing the scenario above\n",
    "- Obtain the data in JSON form from the API.\n",
    "- Clean and filter the data as appropriate\n",
    "- Analyse the data in a way that answers your questions and ultimately addresses the concern in the scenario\n",
    "- Visualise your results in a meaningful way that is helpful in making visible key findings\n",
    "- Provide a detailed summary of the insights found and how they address the original questions and scenario\n",
    "\n",
    "**AUTHENTICITY AND INTEGRITY**: You will be marked on (a) *HOW* you undertake the task todgether; with (b) detail of *WHY* you made various decisions involved in the tasks; and (c) acknowledgement of **WHERE** you  used material that is not directly yours. Therefore, you must document your thinking and approach throughout the notebook using the Markdown cells, and give credit to other resources as appropriate. You are encouraged to use the `Exemplars` PDF to help write your code. You may use online resources including `GenAI tools` and `stackoverflow` to help you write your code, however you must acknowledge that you are using these resources in the markdown cells explaining your analysis. Note that you do not need to use formal referencing for this.\n",
    "\n",
    "---\n"
   ]
  },
  {
   "cell_type": "code",
   "execution_count": 20,
   "id": "159877cf",
   "metadata": {},
   "outputs": [
    {
     "name": "stdout",
     "output_type": "stream",
     "text": [
      "   _Id                                            Program  \\\n",
      "0    1  Aboriginal and Torres Strait Islander PhD Scho...   \n",
      "1    2  Aboriginal and Torres Strait Islander PhD Scho...   \n",
      "2    3  Aboriginal and Torres Strait Islander Research...   \n",
      "3    4  Aboriginal and Torres Strait Islander Research...   \n",
      "4    5              Advancing Regional Innovation Program   \n",
      "5    6              Advancing Regional Innovation Program   \n",
      "6    7              Advancing Regional Innovation Program   \n",
      "7    8              Advancing Regional Innovation Program   \n",
      "8    9              Advancing Regional Innovation Program   \n",
      "9   10              Advancing Regional Innovation Program   \n",
      "\n",
      "                                               Round  \\\n",
      "0  AQ Aboriginal & Torres Strait Islander PhD Sch...   \n",
      "1  AQ Aboriginal & Torres Strait Islander PhD Sch...   \n",
      "2  AQ Aboriginal & Torres Strait Islander Researc...   \n",
      "3  AQ Aboriginal & Torres Strait Islander Researc...   \n",
      "4      AQ Advancing Regional Innovation Full 2016-17   \n",
      "5      AQ Advancing Regional Innovation Full 2020-21   \n",
      "6      AQ Advancing Regional Innovation Full 2016-17   \n",
      "7      AQ Advancing Regional Innovation Full 2020-21   \n",
      "8    AQ Advancing Regional Innovation Staged 2016-17   \n",
      "9      AQ Advancing Regional Innovation Full 2016-17   \n",
      "\n",
      "                                      Recipient Name  \\\n",
      "0                      Central Queensland University   \n",
      "1                                Griffith University   \n",
      "2                Queensland University of Technology   \n",
      "3                                              CSIRO   \n",
      "4                               Redland City Council   \n",
      "5                        Tablelands Regional Council   \n",
      "6                    Sunshine Coast Regional Council   \n",
      "7                          Smart Precinct NQ Limited   \n",
      "8  Wide Bay Burnett Regional Organisation of Coun...   \n",
      "9  Wide Bay Burnett Regional Organisation of Coun...   \n",
      "\n",
      "  Physical Address Of Recipient - Suburb/Location  \\\n",
      "0                                  Norman Gardens   \n",
      "1                                          Nathan   \n",
      "2                                   Brisbane City   \n",
      "3                                      Smithfield   \n",
      "4                                       Cleveland   \n",
      "5                                        Atherton   \n",
      "6                                    Maroochydore   \n",
      "7                                 Townsville City   \n",
      "8                                          Gympie   \n",
      "9                                          Gympie   \n",
      "\n",
      "   Physical Address Of Recipient - Post Code  \\\n",
      "0                                     4701.0   \n",
      "1                                     4111.0   \n",
      "2                                     4000.0   \n",
      "3                                     4878.0   \n",
      "4                                     4163.0   \n",
      "5                                     4883.0   \n",
      "6                                     4558.0   \n",
      "7                                     4810.0   \n",
      "8                                     4570.0   \n",
      "9                                     4570.0   \n",
      "\n",
      "  University Collaborator (If Applicable)  \\\n",
      "0                                           \n",
      "1                                           \n",
      "2                                           \n",
      "3                                           \n",
      "4                                           \n",
      "5                                           \n",
      "6                                           \n",
      "7                                           \n",
      "8                                           \n",
      "9                                           \n",
      "\n",
      "       Other Partners; Collaborators (If Applicable)  \\\n",
      "0                                       BHP Billiton   \n",
      "1                                                      \n",
      "2   Engineered Wood Products Association Australa...   \n",
      "3                                              CSIRO   \n",
      "4   Community Information Support Services Ltd \\n...   \n",
      "5   Natural Evolution Pty Ltd \\n Farmer Meets Foo...   \n",
      "6   Noosa Shire Council \\n University of the Suns...   \n",
      "7                                                      \n",
      "8   University of the Sunshine Coast \\n The Gener...   \n",
      "9   University of the Sunshine Coast \\n Fraser Co...   \n",
      "\n",
      "                            Investment/Project Title  \\\n",
      "0  Decolonising the systematic barriers and enabl...   \n",
      "1  An indigenous journey through the 21st century...   \n",
      "2  An Innovative Framing System for Taller Timber...   \n",
      "3  Transforming hidden data: An integrative infor...   \n",
      "4  Growing innovation in the Redlands and Logan r...   \n",
      "5                      Tablelands Innovation Program   \n",
      "6  Sunshine Coast Regional Innovation Program #SC...   \n",
      "7  North Queensland Investment, Innovation & Indu...   \n",
      "8  Develop a Collaborative Action Plan and advise...   \n",
      "9  Delivering Innovation in the Wide Bay Burnett ...   \n",
      "\n",
      "  Primary Location Of Activity/Project - Suburb  \\\n",
      "0                                 Brisbane City   \n",
      "1                                        Nathan   \n",
      "2                                 Brisbane City   \n",
      "3                                    Smithfield   \n",
      "4                                     Cleveland   \n",
      "5                                      Atherton   \n",
      "6                                  Maroochydore   \n",
      "7                               Townsville City   \n",
      "8                                        Gympie   \n",
      "9                                        Gympie   \n",
      "\n",
      "   Primary Location Of Activity/Project - Post Code  \\\n",
      "0                                            4001.0   \n",
      "1                                            4111.0   \n",
      "2                                            4000.0   \n",
      "3                                            4878.0   \n",
      "4                                            4163.0   \n",
      "5                                            4883.0   \n",
      "6                                            4558.0   \n",
      "7                                            4810.0   \n",
      "8                                            4570.0   \n",
      "9                                            4570.0   \n",
      "\n",
      "  Multiple Locations Of Activity/Project (If Applicable)        Approval Date  \\\n",
      "0                                                         2019-06-14T00:00:00   \n",
      "1                                                n/a      2016-01-28T00:00:00   \n",
      "2                                                n/a      2018-08-21T00:00:00   \n",
      "3                                                n/a      2016-01-28T00:00:00   \n",
      "4           Meadowbrook, Alexandra Hills, Springwood      2017-09-21T00:00:00   \n",
      "5                                                         2020-11-11T00:00:00   \n",
      "6                     Sippy Downs, Nambour, Tewantin      2017-06-02T00:00:00   \n",
      "7                                                         2020-07-02T00:00:00   \n",
      "8                                                         2017-01-19T00:00:00   \n",
      "9                                  Gayndah, Kingaroy      2017-07-17T00:00:00   \n",
      "\n",
      "  Local Government /Council             Rap Region State Electorate  \\\n",
      "0           Rockhampton (R)  Brisbane and Redlands           Keppel   \n",
      "1              Brisbane (C)  Brisbane and Redlands           Toohey   \n",
      "2              Brisbane (C)  Brisbane and Redlands         McConnel   \n",
      "3                Cairns (R)   Far North Queensland     Barron River   \n",
      "4               Redland (C)  Brisbane and Redlands         Oodgeroo   \n",
      "5            Tablelands (R)   Far North Queensland             Hill   \n",
      "6        Sunshine Coast (R)         Sunshine Coast     Maroochydore   \n",
      "7            Townsville (C)             Townsville       Townsville   \n",
      "8                Gympie (R)               Wide Bay           Gympie   \n",
      "9                Gympie (R)               Wide Bay           Gympie   \n",
      "\n",
      "   Actual Contractual Commitment ($)  \n",
      "0                             107084  \n",
      "1                             117500  \n",
      "2                             240000  \n",
      "3                             158032  \n",
      "4                             500000  \n",
      "5                              45000  \n",
      "6                             500000  \n",
      "7                             500000  \n",
      "8                              20000  \n",
      "9                             478330  \n"
     ]
    }
   ],
   "source": [
    "url = \"https://www.data.qld.gov.au/datastore/dump/0f97b985-f5c7-49d2-8b0a-bc5dfbe070b9?format=json\"\n",
    "    \n",
    "try:\n",
    "    # Fetch JSON data\n",
    "    data = DataFetcher.MSFetchJsonData(url)\n",
    "    \n",
    "    # Extract column headers\n",
    "    column_headers = DataFetcher.MSExtractColHeaders(data)\n",
    "    \n",
    "    # Create DataFrame\n",
    "    df = DataFetcher.MSCreateDF(data, column_headers)\n",
    "    \n",
    "    # Capitalize column headers\n",
    "    df = DataFetcher.MSCapitalizeCols(df)\n",
    "    \n",
    "    # Display DataFrame\n",
    "    print(df.head(10))\n",
    "\n",
    "except Exception as e:\n",
    "    print(f\"Error: {e}\")"
   ]
  },
  {
   "cell_type": "markdown",
   "id": "6f9398bc",
   "metadata": {},
   "source": [
    "#### clean json api converted dataframe "
   ]
  },
  {
   "cell_type": "code",
   "execution_count": 21,
   "id": "0daedcfd",
   "metadata": {},
   "outputs": [
    {
     "data": {
      "text/html": [
       "<div>\n",
       "<style scoped>\n",
       "    .dataframe tbody tr th:only-of-type {\n",
       "        vertical-align: middle;\n",
       "    }\n",
       "\n",
       "    .dataframe tbody tr th {\n",
       "        vertical-align: top;\n",
       "    }\n",
       "\n",
       "    .dataframe thead th {\n",
       "        text-align: right;\n",
       "    }\n",
       "</style>\n",
       "<table border=\"1\" class=\"dataframe\">\n",
       "  <thead>\n",
       "    <tr style=\"text-align: right;\">\n",
       "      <th></th>\n",
       "      <th>_Id</th>\n",
       "      <th>Program</th>\n",
       "      <th>Round</th>\n",
       "      <th>Recipient Name</th>\n",
       "      <th>Physical Address Of Recipient - Suburb/Location</th>\n",
       "      <th>Physical Address Of Recipient - Post Code</th>\n",
       "      <th>University Collaborator (If Applicable)</th>\n",
       "      <th>Other Partners; Collaborators (If Applicable)</th>\n",
       "      <th>Investment/Project Title</th>\n",
       "      <th>Primary Location Of Activity/Project - Suburb</th>\n",
       "      <th>Primary Location Of Activity/Project - Post Code</th>\n",
       "      <th>Multiple Locations Of Activity/Project (If Applicable)</th>\n",
       "      <th>Approval Date</th>\n",
       "      <th>Local Government /Council</th>\n",
       "      <th>Rap Region</th>\n",
       "      <th>State Electorate</th>\n",
       "      <th>Actual Contractual Commitment ($)</th>\n",
       "    </tr>\n",
       "  </thead>\n",
       "  <tbody>\n",
       "    <tr>\n",
       "      <th>980</th>\n",
       "      <td>981</td>\n",
       "      <td>Qcn Fibre Regional Pilot Program</td>\n",
       "      <td>Round 1</td>\n",
       "      <td>Queensland Capacity Network Pty Ltd</td>\n",
       "      <td>Fortitude Valley</td>\n",
       "      <td>4006.0</td>\n",
       "      <td></td>\n",
       "      <td></td>\n",
       "      <td>Qcn Pilots Project</td>\n",
       "      <td>Fortitude Valley</td>\n",
       "      <td>4006.0</td>\n",
       "      <td>Toowoomba, Warwick And Goondiwindi</td>\n",
       "      <td>2020-03-11</td>\n",
       "      <td>Brisbane (C)</td>\n",
       "      <td>Brisbane And Redlands</td>\n",
       "      <td>Mcconnel</td>\n",
       "      <td>197000</td>\n",
       "    </tr>\n",
       "    <tr>\n",
       "      <th>981</th>\n",
       "      <td>982</td>\n",
       "      <td>Qcn Fibre Conneciton To North Queensland Regio...</td>\n",
       "      <td>Round 1</td>\n",
       "      <td>Townsville City Council</td>\n",
       "      <td>Townsville City</td>\n",
       "      <td>4810.0</td>\n",
       "      <td></td>\n",
       "      <td></td>\n",
       "      <td>Delivery Of Townsville Point Of Interconnect (...</td>\n",
       "      <td>Garbutt</td>\n",
       "      <td>4814.0</td>\n",
       "      <td></td>\n",
       "      <td>2019-11-27</td>\n",
       "      <td>Townsville (C)</td>\n",
       "      <td>Townsville</td>\n",
       "      <td>Townsville</td>\n",
       "      <td>350000</td>\n",
       "    </tr>\n",
       "    <tr>\n",
       "      <th>982</th>\n",
       "      <td>983</td>\n",
       "      <td>Qihub</td>\n",
       "      <td></td>\n",
       "      <td>Starred Pty Ltd</td>\n",
       "      <td>Coogee</td>\n",
       "      <td>2034.0</td>\n",
       "      <td></td>\n",
       "      <td></td>\n",
       "      <td>Qi Hub</td>\n",
       "      <td></td>\n",
       "      <td></td>\n",
       "      <td></td>\n",
       "      <td>2020-05-12</td>\n",
       "      <td>Nonqueensland</td>\n",
       "      <td>Statewide</td>\n",
       "      <td>Nonqueensland</td>\n",
       "      <td>52000</td>\n",
       "    </tr>\n",
       "    <tr>\n",
       "      <th>983</th>\n",
       "      <td>984</td>\n",
       "      <td>Queensland Connects</td>\n",
       "      <td>Round 1</td>\n",
       "      <td>Queensland University Of Technology</td>\n",
       "      <td>Brisbane City</td>\n",
       "      <td>4000.0</td>\n",
       "      <td></td>\n",
       "      <td></td>\n",
       "      <td>Queensland Connects - Qut</td>\n",
       "      <td>Brisbane City</td>\n",
       "      <td>4000.0</td>\n",
       "      <td></td>\n",
       "      <td>2020-03-12</td>\n",
       "      <td>Brisbane (C)</td>\n",
       "      <td>Brisbane And Redlands</td>\n",
       "      <td>Mcconnel</td>\n",
       "      <td>250000</td>\n",
       "    </tr>\n",
       "    <tr>\n",
       "      <th>984</th>\n",
       "      <td>985</td>\n",
       "      <td>Queensland Connects</td>\n",
       "      <td>Round 1</td>\n",
       "      <td>Greater Whitsunday Alliance Limited</td>\n",
       "      <td>Mackay</td>\n",
       "      <td>4740.0</td>\n",
       "      <td></td>\n",
       "      <td></td>\n",
       "      <td>Queensland Connects - Mackay</td>\n",
       "      <td>Mackay</td>\n",
       "      <td>4740.0</td>\n",
       "      <td></td>\n",
       "      <td>2020-02-04</td>\n",
       "      <td>Mackay (R)</td>\n",
       "      <td>Mackay-Whitsunday</td>\n",
       "      <td>Mackay</td>\n",
       "      <td>100000</td>\n",
       "    </tr>\n",
       "    <tr>\n",
       "      <th>985</th>\n",
       "      <td>986</td>\n",
       "      <td>Queensland Connects</td>\n",
       "      <td>Round 1</td>\n",
       "      <td>Toowoomba And Surat Basin Enterprise Pty Ltd</td>\n",
       "      <td>Toowoomba City</td>\n",
       "      <td>4350.0</td>\n",
       "      <td></td>\n",
       "      <td></td>\n",
       "      <td>Queensland Connects - Toowoomba</td>\n",
       "      <td>Toowoomba City</td>\n",
       "      <td>4350.0</td>\n",
       "      <td></td>\n",
       "      <td>2020-04-09</td>\n",
       "      <td>Toowoomba (R)</td>\n",
       "      <td>Darling Downs</td>\n",
       "      <td>Toowoomba North</td>\n",
       "      <td>52668</td>\n",
       "    </tr>\n",
       "    <tr>\n",
       "      <th>986</th>\n",
       "      <td>987</td>\n",
       "      <td>Queensland Connects</td>\n",
       "      <td>Round 1</td>\n",
       "      <td>Central Queensland University</td>\n",
       "      <td>Gladstone Central</td>\n",
       "      <td>4680.0</td>\n",
       "      <td></td>\n",
       "      <td></td>\n",
       "      <td>Queensland Connects - Gladstone</td>\n",
       "      <td>Gladstone Central</td>\n",
       "      <td>4680.0</td>\n",
       "      <td></td>\n",
       "      <td>2020-04-09</td>\n",
       "      <td>Gladstone (R)</td>\n",
       "      <td>Central Queensland</td>\n",
       "      <td>Gladstone</td>\n",
       "      <td>96190</td>\n",
       "    </tr>\n",
       "    <tr>\n",
       "      <th>987</th>\n",
       "      <td>988</td>\n",
       "      <td>Queensland Emory Drug Discovery Initiative</td>\n",
       "      <td>Queensland Emory Drug Discovery Initiative</td>\n",
       "      <td>The University Of Queensland</td>\n",
       "      <td>St Lucia</td>\n",
       "      <td>4067.0</td>\n",
       "      <td></td>\n",
       "      <td>Emory University</td>\n",
       "      <td>Operation Of The Queensland Emory Drug Discove...</td>\n",
       "      <td>St Lucia</td>\n",
       "      <td>4067.0</td>\n",
       "      <td>N/A</td>\n",
       "      <td>2015-09-25</td>\n",
       "      <td>Brisbane (C)</td>\n",
       "      <td>Brisbane And Redlands</td>\n",
       "      <td>Maiwar</td>\n",
       "      <td>4169000</td>\n",
       "    </tr>\n",
       "    <tr>\n",
       "      <th>988</th>\n",
       "      <td>989</td>\n",
       "      <td>Queensland Future Skills Project</td>\n",
       "      <td>Round 1</td>\n",
       "      <td>Tafe Queensland</td>\n",
       "      <td>South Brisbane</td>\n",
       "      <td>4101.0</td>\n",
       "      <td></td>\n",
       "      <td></td>\n",
       "      <td>Queensland Future Skill Partnership Project</td>\n",
       "      <td>South Brisbane</td>\n",
       "      <td>4101.0</td>\n",
       "      <td>Mackay And State-Wide Online Courses</td>\n",
       "      <td>2021-02-22</td>\n",
       "      <td>Brisbane (C)</td>\n",
       "      <td>Brisbane And Redlands</td>\n",
       "      <td>South Brisbane</td>\n",
       "      <td>157440</td>\n",
       "    </tr>\n",
       "    <tr>\n",
       "      <th>989</th>\n",
       "      <td>990</td>\n",
       "      <td>Queensland Startup Events And Activities Fund</td>\n",
       "      <td>Round 15 2016-17</td>\n",
       "      <td>Red Ridge (Interior Queensland) Limited</td>\n",
       "      <td>Blackall</td>\n",
       "      <td>4472.0</td>\n",
       "      <td></td>\n",
       "      <td>Central Western Queensland Remote Area Plannin...</td>\n",
       "      <td>Startup Weekend Outback</td>\n",
       "      <td>Blackall</td>\n",
       "      <td>4472.0</td>\n",
       "      <td></td>\n",
       "      <td>2017-07-31</td>\n",
       "      <td>Blackall-Tambo (R)</td>\n",
       "      <td>Outback Queensland</td>\n",
       "      <td>Gregory</td>\n",
       "      <td>24219</td>\n",
       "    </tr>\n",
       "    <tr>\n",
       "      <th>990</th>\n",
       "      <td>991</td>\n",
       "      <td>Queensland Startup Events And Activities Fund</td>\n",
       "      <td>Round 15 2016-17</td>\n",
       "      <td>Regional Development Australia (Rda) Brisbane ...</td>\n",
       "      <td>Greenslopes</td>\n",
       "      <td>4120.0</td>\n",
       "      <td></td>\n",
       "      <td>Career Employment Australia,  Brisbane City Co...</td>\n",
       "      <td>Business And Entrepreneurial Skills Developmen...</td>\n",
       "      <td>Greenslopes</td>\n",
       "      <td>4120.0</td>\n",
       "      <td></td>\n",
       "      <td>2017-07-03</td>\n",
       "      <td>Brisbane (C)</td>\n",
       "      <td>Brisbane</td>\n",
       "      <td>Greenslopes</td>\n",
       "      <td>22335</td>\n",
       "    </tr>\n",
       "    <tr>\n",
       "      <th>991</th>\n",
       "      <td>992</td>\n",
       "      <td>Queensland Startup Events And Activities Fund</td>\n",
       "      <td>Round 15 2016-17</td>\n",
       "      <td>Queensland Music Network Incorporated</td>\n",
       "      <td>Fortitude Valley</td>\n",
       "      <td>4006.0</td>\n",
       "      <td></td>\n",
       "      <td>Myriad , Qut Cea, River City Labs</td>\n",
       "      <td>Bigsound Music Tech Mentoring And Showcase Pro...</td>\n",
       "      <td>Fortitude Valley</td>\n",
       "      <td>4006.0</td>\n",
       "      <td></td>\n",
       "      <td>2017-07-03</td>\n",
       "      <td>Brisbane (C)</td>\n",
       "      <td>Brisbane</td>\n",
       "      <td>Mcconnel</td>\n",
       "      <td>13095</td>\n",
       "    </tr>\n",
       "    <tr>\n",
       "      <th>992</th>\n",
       "      <td>993</td>\n",
       "      <td>Queensland Startup Events And Activities Fund</td>\n",
       "      <td>Round 14 2016-17</td>\n",
       "      <td>Rotary Club Of Ipswich City</td>\n",
       "      <td>Ipswich</td>\n",
       "      <td>4305.0</td>\n",
       "      <td></td>\n",
       "      <td>Rotary Club Of Ipswich City Incorporated, Rand...</td>\n",
       "      <td>Random Hacks Of Kindness (Rhok) Ipswich, Winte...</td>\n",
       "      <td>Ipswich</td>\n",
       "      <td>4305.0</td>\n",
       "      <td></td>\n",
       "      <td>2017-05-30</td>\n",
       "      <td>Ipswich (C)</td>\n",
       "      <td>Ipswich</td>\n",
       "      <td>Ipswich</td>\n",
       "      <td>8270</td>\n",
       "    </tr>\n",
       "    <tr>\n",
       "      <th>993</th>\n",
       "      <td>994</td>\n",
       "      <td>Queensland Startup Events And Activities Fund</td>\n",
       "      <td>Round 15 2016-17</td>\n",
       "      <td>Carotid Pty Ltd</td>\n",
       "      <td>Waugh Pocket</td>\n",
       "      <td>4871.0</td>\n",
       "      <td></td>\n",
       "      <td>The Entourage, Chamber Of Commerce And Industr...</td>\n",
       "      <td>The Cairns Entrepreneur'S Unconvention</td>\n",
       "      <td>Waugh Pocket</td>\n",
       "      <td>4871.0</td>\n",
       "      <td></td>\n",
       "      <td>2017-07-12</td>\n",
       "      <td>Cairns (R)</td>\n",
       "      <td>Far North Queensland</td>\n",
       "      <td>Hill</td>\n",
       "      <td>25000</td>\n",
       "    </tr>\n",
       "    <tr>\n",
       "      <th>994</th>\n",
       "      <td>995</td>\n",
       "      <td>Queensland Startup Events And Activities Fund</td>\n",
       "      <td>Round 14 2016-17</td>\n",
       "      <td>Cape York Institute</td>\n",
       "      <td>Cairns</td>\n",
       "      <td>4870.0</td>\n",
       "      <td></td>\n",
       "      <td>Thespace</td>\n",
       "      <td>Money Matters Hack-A-Day</td>\n",
       "      <td>Cairns</td>\n",
       "      <td>4870.0</td>\n",
       "      <td></td>\n",
       "      <td>2017-05-30</td>\n",
       "      <td>Cairns (R)</td>\n",
       "      <td>Far North Queensland</td>\n",
       "      <td>Cairns</td>\n",
       "      <td>3500</td>\n",
       "    </tr>\n",
       "    <tr>\n",
       "      <th>995</th>\n",
       "      <td>996</td>\n",
       "      <td>Queensland Startup Events And Activities Fund</td>\n",
       "      <td>Round 1 2017-18</td>\n",
       "      <td>Transition Level Investments Pty Ltd</td>\n",
       "      <td>Fortitude Valley</td>\n",
       "      <td>4006.0</td>\n",
       "      <td></td>\n",
       "      <td>River City Labs, The Kinetic Agency, Soak Crea...</td>\n",
       "      <td>Talking Shop: The 'F' Word Masterclass Series ...</td>\n",
       "      <td>Fortitude Valley</td>\n",
       "      <td>4006.0</td>\n",
       "      <td></td>\n",
       "      <td>2017-07-31</td>\n",
       "      <td>Brisbane (C)</td>\n",
       "      <td>Brisbane</td>\n",
       "      <td>Mcconnel</td>\n",
       "      <td>8384</td>\n",
       "    </tr>\n",
       "    <tr>\n",
       "      <th>996</th>\n",
       "      <td>997</td>\n",
       "      <td>Queensland Startup Events And Activities Fund</td>\n",
       "      <td>Round 10 2016-17</td>\n",
       "      <td>Marist Youth Care Limited</td>\n",
       "      <td>Paddington</td>\n",
       "      <td>4064.0</td>\n",
       "      <td></td>\n",
       "      <td>River City Labs | Multi-Cultural Development A...</td>\n",
       "      <td>Techfugeesbne Hackathon</td>\n",
       "      <td>Fortitude Valley</td>\n",
       "      <td>4006.0</td>\n",
       "      <td></td>\n",
       "      <td>2017-02-24</td>\n",
       "      <td>Brisbane (C)</td>\n",
       "      <td>Brisbane</td>\n",
       "      <td>Cooper</td>\n",
       "      <td>9070</td>\n",
       "    </tr>\n",
       "    <tr>\n",
       "      <th>997</th>\n",
       "      <td>998</td>\n",
       "      <td>Queensland Startup Events And Activities Fund</td>\n",
       "      <td>Round 1 2017-18</td>\n",
       "      <td>Tech Girls Movement Foundation Ltd</td>\n",
       "      <td>Coopers Plains</td>\n",
       "      <td>4108.0</td>\n",
       "      <td></td>\n",
       "      <td>Queensland Stem Education Network (Qsen)</td>\n",
       "      <td>Unlocking Potential In The Regions: Qld Tech H...</td>\n",
       "      <td>Coopers Plains</td>\n",
       "      <td>4108.0</td>\n",
       "      <td></td>\n",
       "      <td>2017-07-31</td>\n",
       "      <td>Brisbane (C)</td>\n",
       "      <td>Brisbane</td>\n",
       "      <td>Toohey</td>\n",
       "      <td>17900</td>\n",
       "    </tr>\n",
       "    <tr>\n",
       "      <th>998</th>\n",
       "      <td>999</td>\n",
       "      <td>Queensland Startup Events And Activities Fund</td>\n",
       "      <td>Round 2 2015-16</td>\n",
       "      <td>Regional Development Australia (Rda) Brisbane ...</td>\n",
       "      <td>Greenslopes</td>\n",
       "      <td>4120.0</td>\n",
       "      <td></td>\n",
       "      <td>Cea, Brisbane Marketing And Others</td>\n",
       "      <td>Entrepreneur Section At The Click! Digital Exp...</td>\n",
       "      <td>South Brisbane</td>\n",
       "      <td>4101.0</td>\n",
       "      <td></td>\n",
       "      <td>2015-10-20</td>\n",
       "      <td>Brisbane (C)</td>\n",
       "      <td>Brisbane And Redlands</td>\n",
       "      <td>Greenslopes</td>\n",
       "      <td>25000</td>\n",
       "    </tr>\n",
       "    <tr>\n",
       "      <th>999</th>\n",
       "      <td>1000</td>\n",
       "      <td>Queensland Startup Events And Activities Fund</td>\n",
       "      <td>Round 14 2016-17</td>\n",
       "      <td>Moreton Technology Alliance</td>\n",
       "      <td>Kippa-Ring</td>\n",
       "      <td>4021.0</td>\n",
       "      <td></td>\n",
       "      <td>Rda Moreton Bay | Samford Commons</td>\n",
       "      <td>6 Week Startup Social Media Bootcamp &amp; Annual ...</td>\n",
       "      <td>Kippa-Ring</td>\n",
       "      <td>4021.0</td>\n",
       "      <td></td>\n",
       "      <td>2017-06-15</td>\n",
       "      <td>Moreton Bay (R)</td>\n",
       "      <td>Moreton Bay</td>\n",
       "      <td>Redcliffe</td>\n",
       "      <td>13500</td>\n",
       "    </tr>\n",
       "  </tbody>\n",
       "</table>\n",
       "</div>"
      ],
      "text/plain": [
       "      _Id                                            Program  \\\n",
       "980   981                   Qcn Fibre Regional Pilot Program   \n",
       "981   982  Qcn Fibre Conneciton To North Queensland Regio...   \n",
       "982   983                                              Qihub   \n",
       "983   984                                Queensland Connects   \n",
       "984   985                                Queensland Connects   \n",
       "985   986                                Queensland Connects   \n",
       "986   987                                Queensland Connects   \n",
       "987   988         Queensland Emory Drug Discovery Initiative   \n",
       "988   989                   Queensland Future Skills Project   \n",
       "989   990      Queensland Startup Events And Activities Fund   \n",
       "990   991      Queensland Startup Events And Activities Fund   \n",
       "991   992      Queensland Startup Events And Activities Fund   \n",
       "992   993      Queensland Startup Events And Activities Fund   \n",
       "993   994      Queensland Startup Events And Activities Fund   \n",
       "994   995      Queensland Startup Events And Activities Fund   \n",
       "995   996      Queensland Startup Events And Activities Fund   \n",
       "996   997      Queensland Startup Events And Activities Fund   \n",
       "997   998      Queensland Startup Events And Activities Fund   \n",
       "998   999      Queensland Startup Events And Activities Fund   \n",
       "999  1000      Queensland Startup Events And Activities Fund   \n",
       "\n",
       "                                          Round  \\\n",
       "980                                     Round 1   \n",
       "981                                     Round 1   \n",
       "982                                               \n",
       "983                                     Round 1   \n",
       "984                                     Round 1   \n",
       "985                                     Round 1   \n",
       "986                                     Round 1   \n",
       "987  Queensland Emory Drug Discovery Initiative   \n",
       "988                                     Round 1   \n",
       "989                            Round 15 2016-17   \n",
       "990                            Round 15 2016-17   \n",
       "991                            Round 15 2016-17   \n",
       "992                            Round 14 2016-17   \n",
       "993                            Round 15 2016-17   \n",
       "994                            Round 14 2016-17   \n",
       "995                             Round 1 2017-18   \n",
       "996                            Round 10 2016-17   \n",
       "997                             Round 1 2017-18   \n",
       "998                             Round 2 2015-16   \n",
       "999                            Round 14 2016-17   \n",
       "\n",
       "                                        Recipient Name  \\\n",
       "980                Queensland Capacity Network Pty Ltd   \n",
       "981                            Townsville City Council   \n",
       "982                                    Starred Pty Ltd   \n",
       "983                Queensland University Of Technology   \n",
       "984                Greater Whitsunday Alliance Limited   \n",
       "985       Toowoomba And Surat Basin Enterprise Pty Ltd   \n",
       "986                      Central Queensland University   \n",
       "987                       The University Of Queensland   \n",
       "988                                    Tafe Queensland   \n",
       "989            Red Ridge (Interior Queensland) Limited   \n",
       "990  Regional Development Australia (Rda) Brisbane ...   \n",
       "991              Queensland Music Network Incorporated   \n",
       "992                        Rotary Club Of Ipswich City   \n",
       "993                                    Carotid Pty Ltd   \n",
       "994                                Cape York Institute   \n",
       "995               Transition Level Investments Pty Ltd   \n",
       "996                          Marist Youth Care Limited   \n",
       "997                 Tech Girls Movement Foundation Ltd   \n",
       "998  Regional Development Australia (Rda) Brisbane ...   \n",
       "999                        Moreton Technology Alliance   \n",
       "\n",
       "    Physical Address Of Recipient - Suburb/Location  \\\n",
       "980                                Fortitude Valley   \n",
       "981                                 Townsville City   \n",
       "982                                          Coogee   \n",
       "983                                   Brisbane City   \n",
       "984                                          Mackay   \n",
       "985                                  Toowoomba City   \n",
       "986                               Gladstone Central   \n",
       "987                                        St Lucia   \n",
       "988                                  South Brisbane   \n",
       "989                                        Blackall   \n",
       "990                                     Greenslopes   \n",
       "991                                Fortitude Valley   \n",
       "992                                         Ipswich   \n",
       "993                                    Waugh Pocket   \n",
       "994                                          Cairns   \n",
       "995                                Fortitude Valley   \n",
       "996                                      Paddington   \n",
       "997                                  Coopers Plains   \n",
       "998                                     Greenslopes   \n",
       "999                                      Kippa-Ring   \n",
       "\n",
       "    Physical Address Of Recipient - Post Code  \\\n",
       "980                                    4006.0   \n",
       "981                                    4810.0   \n",
       "982                                    2034.0   \n",
       "983                                    4000.0   \n",
       "984                                    4740.0   \n",
       "985                                    4350.0   \n",
       "986                                    4680.0   \n",
       "987                                    4067.0   \n",
       "988                                    4101.0   \n",
       "989                                    4472.0   \n",
       "990                                    4120.0   \n",
       "991                                    4006.0   \n",
       "992                                    4305.0   \n",
       "993                                    4871.0   \n",
       "994                                    4870.0   \n",
       "995                                    4006.0   \n",
       "996                                    4064.0   \n",
       "997                                    4108.0   \n",
       "998                                    4120.0   \n",
       "999                                    4021.0   \n",
       "\n",
       "    University Collaborator (If Applicable)  \\\n",
       "980                                           \n",
       "981                                           \n",
       "982                                           \n",
       "983                                           \n",
       "984                                           \n",
       "985                                           \n",
       "986                                           \n",
       "987                                           \n",
       "988                                           \n",
       "989                                           \n",
       "990                                           \n",
       "991                                           \n",
       "992                                           \n",
       "993                                           \n",
       "994                                           \n",
       "995                                           \n",
       "996                                           \n",
       "997                                           \n",
       "998                                           \n",
       "999                                           \n",
       "\n",
       "         Other Partners; Collaborators (If Applicable)  \\\n",
       "980                                                      \n",
       "981                                                      \n",
       "982                                                      \n",
       "983                                                      \n",
       "984                                                      \n",
       "985                                                      \n",
       "986                                                      \n",
       "987                                   Emory University   \n",
       "988                                                      \n",
       "989  Central Western Queensland Remote Area Plannin...   \n",
       "990  Career Employment Australia,  Brisbane City Co...   \n",
       "991                  Myriad , Qut Cea, River City Labs   \n",
       "992  Rotary Club Of Ipswich City Incorporated, Rand...   \n",
       "993  The Entourage, Chamber Of Commerce And Industr...   \n",
       "994                                           Thespace   \n",
       "995  River City Labs, The Kinetic Agency, Soak Crea...   \n",
       "996  River City Labs | Multi-Cultural Development A...   \n",
       "997           Queensland Stem Education Network (Qsen)   \n",
       "998                 Cea, Brisbane Marketing And Others   \n",
       "999                  Rda Moreton Bay | Samford Commons   \n",
       "\n",
       "                              Investment/Project Title  \\\n",
       "980                                 Qcn Pilots Project   \n",
       "981  Delivery Of Townsville Point Of Interconnect (...   \n",
       "982                                             Qi Hub   \n",
       "983                          Queensland Connects - Qut   \n",
       "984                       Queensland Connects - Mackay   \n",
       "985                    Queensland Connects - Toowoomba   \n",
       "986                    Queensland Connects - Gladstone   \n",
       "987  Operation Of The Queensland Emory Drug Discove...   \n",
       "988        Queensland Future Skill Partnership Project   \n",
       "989                            Startup Weekend Outback   \n",
       "990  Business And Entrepreneurial Skills Developmen...   \n",
       "991  Bigsound Music Tech Mentoring And Showcase Pro...   \n",
       "992  Random Hacks Of Kindness (Rhok) Ipswich, Winte...   \n",
       "993             The Cairns Entrepreneur'S Unconvention   \n",
       "994                           Money Matters Hack-A-Day   \n",
       "995  Talking Shop: The 'F' Word Masterclass Series ...   \n",
       "996                            Techfugeesbne Hackathon   \n",
       "997  Unlocking Potential In The Regions: Qld Tech H...   \n",
       "998  Entrepreneur Section At The Click! Digital Exp...   \n",
       "999  6 Week Startup Social Media Bootcamp & Annual ...   \n",
       "\n",
       "    Primary Location Of Activity/Project - Suburb  \\\n",
       "980                              Fortitude Valley   \n",
       "981                                       Garbutt   \n",
       "982                                                 \n",
       "983                                 Brisbane City   \n",
       "984                                        Mackay   \n",
       "985                                Toowoomba City   \n",
       "986                             Gladstone Central   \n",
       "987                                      St Lucia   \n",
       "988                                South Brisbane   \n",
       "989                                      Blackall   \n",
       "990                                   Greenslopes   \n",
       "991                              Fortitude Valley   \n",
       "992                                       Ipswich   \n",
       "993                                  Waugh Pocket   \n",
       "994                                        Cairns   \n",
       "995                              Fortitude Valley   \n",
       "996                              Fortitude Valley   \n",
       "997                                Coopers Plains   \n",
       "998                                South Brisbane   \n",
       "999                                    Kippa-Ring   \n",
       "\n",
       "    Primary Location Of Activity/Project - Post Code  \\\n",
       "980                                           4006.0   \n",
       "981                                           4814.0   \n",
       "982                                                    \n",
       "983                                           4000.0   \n",
       "984                                           4740.0   \n",
       "985                                           4350.0   \n",
       "986                                           4680.0   \n",
       "987                                           4067.0   \n",
       "988                                           4101.0   \n",
       "989                                           4472.0   \n",
       "990                                           4120.0   \n",
       "991                                           4006.0   \n",
       "992                                           4305.0   \n",
       "993                                           4871.0   \n",
       "994                                           4870.0   \n",
       "995                                           4006.0   \n",
       "996                                           4006.0   \n",
       "997                                           4108.0   \n",
       "998                                           4101.0   \n",
       "999                                           4021.0   \n",
       "\n",
       "    Multiple Locations Of Activity/Project (If Applicable) Approval Date  \\\n",
       "980                 Toowoomba, Warwick And Goondiwindi        2020-03-11   \n",
       "981                                                           2019-11-27   \n",
       "982                                                           2020-05-12   \n",
       "983                                                           2020-03-12   \n",
       "984                                                           2020-02-04   \n",
       "985                                                           2020-04-09   \n",
       "986                                                           2020-04-09   \n",
       "987                                                N/A        2015-09-25   \n",
       "988               Mackay And State-Wide Online Courses        2021-02-22   \n",
       "989                                                           2017-07-31   \n",
       "990                                                           2017-07-03   \n",
       "991                                                           2017-07-03   \n",
       "992                                                           2017-05-30   \n",
       "993                                                           2017-07-12   \n",
       "994                                                           2017-05-30   \n",
       "995                                                           2017-07-31   \n",
       "996                                                           2017-02-24   \n",
       "997                                                           2017-07-31   \n",
       "998                                                           2015-10-20   \n",
       "999                                                           2017-06-15   \n",
       "\n",
       "    Local Government /Council             Rap Region State Electorate  \\\n",
       "980              Brisbane (C)  Brisbane And Redlands         Mcconnel   \n",
       "981            Townsville (C)             Townsville       Townsville   \n",
       "982             Nonqueensland              Statewide    Nonqueensland   \n",
       "983              Brisbane (C)  Brisbane And Redlands         Mcconnel   \n",
       "984                Mackay (R)      Mackay-Whitsunday           Mackay   \n",
       "985             Toowoomba (R)          Darling Downs  Toowoomba North   \n",
       "986             Gladstone (R)     Central Queensland        Gladstone   \n",
       "987              Brisbane (C)  Brisbane And Redlands           Maiwar   \n",
       "988              Brisbane (C)  Brisbane And Redlands   South Brisbane   \n",
       "989        Blackall-Tambo (R)     Outback Queensland          Gregory   \n",
       "990              Brisbane (C)               Brisbane      Greenslopes   \n",
       "991              Brisbane (C)               Brisbane         Mcconnel   \n",
       "992               Ipswich (C)                Ipswich          Ipswich   \n",
       "993                Cairns (R)   Far North Queensland             Hill   \n",
       "994                Cairns (R)   Far North Queensland           Cairns   \n",
       "995              Brisbane (C)               Brisbane         Mcconnel   \n",
       "996              Brisbane (C)               Brisbane           Cooper   \n",
       "997              Brisbane (C)               Brisbane           Toohey   \n",
       "998              Brisbane (C)  Brisbane And Redlands      Greenslopes   \n",
       "999           Moreton Bay (R)            Moreton Bay        Redcliffe   \n",
       "\n",
       "     Actual Contractual Commitment ($)  \n",
       "980                             197000  \n",
       "981                             350000  \n",
       "982                              52000  \n",
       "983                             250000  \n",
       "984                             100000  \n",
       "985                              52668  \n",
       "986                              96190  \n",
       "987                            4169000  \n",
       "988                             157440  \n",
       "989                              24219  \n",
       "990                              22335  \n",
       "991                              13095  \n",
       "992                               8270  \n",
       "993                              25000  \n",
       "994                               3500  \n",
       "995                               8384  \n",
       "996                               9070  \n",
       "997                              17900  \n",
       "998                              25000  \n",
       "999                              13500  "
      ]
     },
     "execution_count": 21,
     "metadata": {},
     "output_type": "execute_result"
    }
   ],
   "source": [
    "# clear json pandas data frame\n",
    "lsStringTypeColumnHeader = [\"Program\",'Round', 'Recipient Name','Physical Address Of Recipient - Suburb/Location','University Collaborator (If Applicable)','Other Partners; Collaborators (If Applicable)','Investment/Project Title','Primary Location Of Activity/Project - Suburb','Multiple Locations Of Activity/Project (If Applicable)','Local Government /Council', 'Rap Region','State Electorate']\n",
    "lsFloatTypeColumnHeader = [\"Primary Location Of Activity/Project - Post Code\",\"Actual Contractual Commitment ($)\",\"Physical Address Of Recipient - Post Code\"]\n",
    "\n",
    "# Clean String type and float type column headers\n",
    "for column in lsStringTypeColumnHeader:\n",
    "    df[column] = CleanDataFrame.MSCleanStrTypeColumn(df[column])\n",
    "\n",
    "for column in lsFloatTypeColumnHeader:\n",
    "    df[column] = CleanDataFrame.MSCleanFloatTypeColumn(df[column])\n",
    "\n",
    "df[\"Approval Date\"] = pd.to_datetime(df[\"Approval Date\"],format='%Y-%m-%dT%H:%M:%S', errors='coerce')\n",
    "\n",
    "df.tail(20)"
   ]
  },
  {
   "cell_type": "code",
   "execution_count": 22,
   "id": "b6bf166a",
   "metadata": {},
   "outputs": [
    {
     "name": "stdout",
     "output_type": "stream",
     "text": [
      "Empty values:\n",
      " _Id                                                       0\n",
      "Program                                                   0\n",
      "Round                                                     0\n",
      "Recipient Name                                            0\n",
      "Physical Address Of Recipient - Suburb/Location           0\n",
      "Physical Address Of Recipient - Post Code                 0\n",
      "University Collaborator (If Applicable)                   0\n",
      "Other Partners; Collaborators (If Applicable)             0\n",
      "Investment/Project Title                                  0\n",
      "Primary Location Of Activity/Project - Suburb             0\n",
      "Primary Location Of Activity/Project - Post Code          0\n",
      "Multiple Locations Of Activity/Project (If Applicable)    0\n",
      "Approval Date                                             0\n",
      "Local Government /Council                                 0\n",
      "Rap Region                                                0\n",
      "State Electorate                                          0\n",
      "Actual Contractual Commitment ($)                         0\n",
      "dtype: int64\n"
     ]
    }
   ],
   "source": [
    "# after cleaning check null values\n",
    "empty_values = df.isna().sum()\n",
    "print(\"Empty values:\\n\", empty_values)"
   ]
  },
  {
   "cell_type": "code",
   "execution_count": 23,
   "id": "f328733d",
   "metadata": {},
   "outputs": [],
   "source": [
    "cleaned_file_path = r'cleaned-jsonapidata-queensland-funding-recipients.csv'\n",
    "# Save the cleaned dataframe to a CSV file\n",
    "df.to_csv(cleaned_file_path, index=False)"
   ]
  },
  {
   "cell_type": "code",
   "execution_count": 36,
   "id": "a9126a54",
   "metadata": {},
   "outputs": [
    {
     "data": {
      "text/plain": [
       "(    _Id   Program    Round               Recipient Name  \\\n",
       " 87   88  Hot Desq  Round 1         Citizen Wolf Pty Ltd   \n",
       " 88   89  Hot Desq  Round 1           Lawadvisor Pty Ltd   \n",
       " 89   90  Hot Desq  Round 1   Krak Skateboarding Pty Ltd   \n",
       " 90   91  Hot Desq  Round 1  Ata Technologies Au Pty Ltd   \n",
       " 91   92  Hot Desq  Round 1           Koala Safe Pty Ltd   \n",
       " \n",
       "    Physical Address Of Recipient - Suburb/Location  \\\n",
       " 87                                 New South Wales   \n",
       " 88                                        Victoria   \n",
       " 89                                         Germany   \n",
       " 90                                   United States   \n",
       " 91                                 New South Wales   \n",
       " \n",
       "    Physical Address Of Recipient - Post Code  \\\n",
       " 87                                             \n",
       " 88                                             \n",
       " 89                                             \n",
       " 90                                             \n",
       " 91                                             \n",
       " \n",
       "    University Collaborator (If Applicable)  \\\n",
       " 87                                           \n",
       " 88                                           \n",
       " 89                                           \n",
       " 90                                           \n",
       " 91                                           \n",
       " \n",
       "    Other Partners; Collaborators (If Applicable)  \\\n",
       " 87      Host: Creative Enterprise Australia, Qut   \n",
       " 88                         Host: River City Labs   \n",
       " 89                        Host: Little Tokyo Two   \n",
       " 90                             Host: Qut Bluebox   \n",
       " 91                                Host: Thespace   \n",
       " \n",
       "                              Investment/Project Title  \\\n",
       " 87                                       Citizen Wolf   \n",
       " 88  Lawadvisor Connects People And Businesses With...   \n",
       " 89                                               Krak   \n",
       " 90                                          Answer.Ky   \n",
       " 91                                          Koalasafe   \n",
       " \n",
       "    Primary Location Of Activity/Project - Suburb  \\\n",
       " 87                                  Kelvin Grove   \n",
       " 88                              Fortitude Valley   \n",
       " 89                                 Brisbane City   \n",
       " 90                                  Kelvin Grove   \n",
       " 91                                        Cairns   \n",
       " \n",
       "    Primary Location Of Activity/Project - Post Code  \\\n",
       " 87                                           4059.0   \n",
       " 88                                           4006.0   \n",
       " 89                                           4000.0   \n",
       " 90                                           4059.0   \n",
       " 91                                           4870.0   \n",
       " \n",
       "    Multiple Locations Of Activity/Project (If Applicable) Approval Date  \\\n",
       " 87                                                           2016-10-10   \n",
       " 88                                                           2016-10-10   \n",
       " 89                                                           2016-10-10   \n",
       " 90                                                           2016-10-10   \n",
       " 91                                                           2016-10-10   \n",
       " \n",
       "    Local Government /Council            Rap Region State Electorate  \\\n",
       " 87             Nonqueensland              Brisbane    Nonqueensland   \n",
       " 88             Nonqueensland              Brisbane    Nonqueensland   \n",
       " 89             Nonqueensland              Brisbane    Nonqueensland   \n",
       " 90             Nonqueensland              Brisbane    Nonqueensland   \n",
       " 91             Nonqueensland  Far North Queensland    Nonqueensland   \n",
       " \n",
       "     Actual Contractual Commitment ($)  \n",
       " 87                              50000  \n",
       " 88                              45000  \n",
       " 89                             100000  \n",
       " 90                             100000  \n",
       " 91                             100000  ,\n",
       "    _Id                                Program  \\\n",
       " 4    5  Advancing Regional Innovation Program   \n",
       " 5    6  Advancing Regional Innovation Program   \n",
       " 6    7  Advancing Regional Innovation Program   \n",
       " 7    8  Advancing Regional Innovation Program   \n",
       " 8    9  Advancing Regional Innovation Program   \n",
       " \n",
       "                                              Round  \\\n",
       " 4    Aq Advancing Regional Innovation Full 2016-17   \n",
       " 5    Aq Advancing Regional Innovation Full 2020-21   \n",
       " 6    Aq Advancing Regional Innovation Full 2016-17   \n",
       " 7    Aq Advancing Regional Innovation Full 2020-21   \n",
       " 8  Aq Advancing Regional Innovation Staged 2016-17   \n",
       " \n",
       "                                       Recipient Name  \\\n",
       " 4                               Redland City Council   \n",
       " 5                        Tablelands Regional Council   \n",
       " 6                    Sunshine Coast Regional Council   \n",
       " 7                          Smart Precinct Nq Limited   \n",
       " 8  Wide Bay Burnett Regional Organisation Of Coun...   \n",
       " \n",
       "   Physical Address Of Recipient - Suburb/Location  \\\n",
       " 4                                       Cleveland   \n",
       " 5                                        Atherton   \n",
       " 6                                    Maroochydore   \n",
       " 7                                 Townsville City   \n",
       " 8                                          Gympie   \n",
       " \n",
       "   Physical Address Of Recipient - Post Code  \\\n",
       " 4                                    4163.0   \n",
       " 5                                    4883.0   \n",
       " 6                                    4558.0   \n",
       " 7                                    4810.0   \n",
       " 8                                    4570.0   \n",
       " \n",
       "   University Collaborator (If Applicable)  \\\n",
       " 4                                           \n",
       " 5                                           \n",
       " 6                                           \n",
       " 7                                           \n",
       " 8                                           \n",
       " \n",
       "        Other Partners; Collaborators (If Applicable)  \\\n",
       " 4  Community Information Support Services Ltd  Lo...   \n",
       " 5  Natural Evolution Pty Ltd  Farmer Meets Foodie...   \n",
       " 6  Noosa Shire Council  University Of The Sunshin...   \n",
       " 7                                                      \n",
       " 8  University Of The Sunshine Coast  The Generato...   \n",
       " \n",
       "                             Investment/Project Title  \\\n",
       " 4  Growing Innovation In The Redlands And Logan R...   \n",
       " 5                      Tablelands Innovation Program   \n",
       " 6  Sunshine Coast Regional Innovation Program #Sc...   \n",
       " 7  North Queensland Investment, Innovation & Indu...   \n",
       " 8  Develop A Collaborative Action Plan And Advise...   \n",
       " \n",
       "   Primary Location Of Activity/Project - Suburb  \\\n",
       " 4                                     Cleveland   \n",
       " 5                                      Atherton   \n",
       " 6                                  Maroochydore   \n",
       " 7                               Townsville City   \n",
       " 8                                        Gympie   \n",
       " \n",
       "   Primary Location Of Activity/Project - Post Code  \\\n",
       " 4                                           4163.0   \n",
       " 5                                           4883.0   \n",
       " 6                                           4558.0   \n",
       " 7                                           4810.0   \n",
       " 8                                           4570.0   \n",
       " \n",
       "   Multiple Locations Of Activity/Project (If Applicable) Approval Date  \\\n",
       " 4           Meadowbrook, Alexandra Hills, Springwood        2017-09-21   \n",
       " 5                                                           2020-11-11   \n",
       " 6                     Sippy Downs, Nambour, Tewantin        2017-06-02   \n",
       " 7                                                           2020-07-02   \n",
       " 8                                                           2017-01-19   \n",
       " \n",
       "   Local Government /Council             Rap Region State Electorate  \\\n",
       " 4               Redland (C)  Brisbane And Redlands         Oodgeroo   \n",
       " 5            Tablelands (R)   Far North Queensland             Hill   \n",
       " 6        Sunshine Coast (R)         Sunshine Coast     Maroochydore   \n",
       " 7            Townsville (C)             Townsville       Townsville   \n",
       " 8                Gympie (R)               Wide Bay           Gympie   \n",
       " \n",
       "    Actual Contractual Commitment ($)  \n",
       " 4                             500000  \n",
       " 5                              45000  \n",
       " 6                             500000  \n",
       " 7                             500000  \n",
       " 8                              20000  )"
      ]
     },
     "execution_count": 36,
     "metadata": {},
     "output_type": "execute_result"
    }
   ],
   "source": [
    "# Select two groups from the 'Program' category\n",
    "group1 = 'Hot Desq'\n",
    "group2 = 'Advancing Regional Innovation Program'\n",
    "\n",
    "# Filter the data into two separate dataframes\n",
    "df_group1 = df[df['Program'] == group1]\n",
    "df_group2 = df[df['Program'] == group2]\n",
    "\n",
    "df_group1.head(), df_group2.head()\n"
   ]
  },
  {
   "cell_type": "code",
   "execution_count": 37,
   "id": "7a010f0a",
   "metadata": {},
   "outputs": [
    {
     "data": {
      "text/plain": [
       "(                                 count      mean     min     max\n",
       " Recipient Name                                                  \n",
       " Alfie Btc Pty Ltd (If No Reply)      1   75000.0   75000   75000\n",
       " Ark Paradigm Pty Ltd                 1   75000.0   75000   75000\n",
       " Ata Technologies Au Pty Ltd          1  100000.0  100000  100000\n",
       " Aubot Pty Ltd                        1  100000.0  100000  100000\n",
       " Brizi                                1   25000.0   25000   25000\n",
       " ...                                ...       ...     ...     ...\n",
       " Turbulent Australia Pty Ltd          1   75000.0   75000   75000\n",
       " Wazlo Australia Pty Ltd              1  100000.0  100000  100000\n",
       " Wisran                               1   75000.0   75000   75000\n",
       " Zentivo Pty Ltd                      1   50000.0   50000   50000\n",
       " Ziggu Pty Ltd                        1   75000.0   75000   75000\n",
       " \n",
       " [79 rows x 4 columns],\n",
       "                                                     count      mean     min  \\\n",
       " Recipient Name                                                                \n",
       " Central Highlands Development Corporation Limited       1  500000.0  500000   \n",
       " Central Western Queensland Remote Area Planning...      1  487248.0  487248   \n",
       " Ghd Pty Ltd                                             1   74000.0   74000   \n",
       " Gold Coast Innovation Hub Limited                       1  500000.0  500000   \n",
       " Greater Whitsunday Alliance Limited                     2  250000.0   20000   \n",
       " Health Management Pty Ltd                               1  230000.0  230000   \n",
       " Ignite Far North Queensland Limited                     1  315000.0  315000   \n",
       " Innovation Nq Inc.                                      1  150000.0  150000   \n",
       " Ipswich City Council                                    1  432125.0  432125   \n",
       " Moreton Bay Region Industry And Tourism Limited         1  499980.0  499980   \n",
       " Redland City Council                                    1  500000.0  500000   \n",
       " Regional Development Australia Far North Queens...      1   20000.0   20000   \n",
       " Smart Precinct Nq Limited                               1  500000.0  500000   \n",
       " Sunshine Coast Regional Council                         1  500000.0  500000   \n",
       " Tablelands Regional Council                             1   45000.0   45000   \n",
       " Toowoomba And Surat Basin Enterprise Pty Ltd            1  500000.0  500000   \n",
       " Wide Bay Burnett Regional Organisation Of Counc...      2  249165.0   20000   \n",
       " \n",
       "                                                        max  \n",
       " Recipient Name                                              \n",
       " Central Highlands Development Corporation Limited   500000  \n",
       " Central Western Queensland Remote Area Planning...  487248  \n",
       " Ghd Pty Ltd                                          74000  \n",
       " Gold Coast Innovation Hub Limited                   500000  \n",
       " Greater Whitsunday Alliance Limited                 480000  \n",
       " Health Management Pty Ltd                           230000  \n",
       " Ignite Far North Queensland Limited                 315000  \n",
       " Innovation Nq Inc.                                  150000  \n",
       " Ipswich City Council                                432125  \n",
       " Moreton Bay Region Industry And Tourism Limited     499980  \n",
       " Redland City Council                                500000  \n",
       " Regional Development Australia Far North Queens...   20000  \n",
       " Smart Precinct Nq Limited                           500000  \n",
       " Sunshine Coast Regional Council                     500000  \n",
       " Tablelands Regional Council                          45000  \n",
       " Toowoomba And Surat Basin Enterprise Pty Ltd        500000  \n",
       " Wide Bay Burnett Regional Organisation Of Counc...  478330  )"
      ]
     },
     "execution_count": 37,
     "metadata": {},
     "output_type": "execute_result"
    }
   ],
   "source": [
    "# Group by 'Recipient Name' and aggregate the 'Actual Contractual Commitment ($)'\n",
    "group1_agg = df_group1.groupby('Recipient Name')['Actual Contractual Commitment ($)'].agg(['count', 'mean', 'min', 'max'])\n",
    "group2_agg = df_group2.groupby('Recipient Name')['Actual Contractual Commitment ($)'].agg(['count', 'mean', 'min', 'max'])\n",
    "\n",
    "group1_agg, group2_agg\n"
   ]
  },
  {
   "cell_type": "code",
   "execution_count": 38,
   "id": "4079e78e",
   "metadata": {},
   "outputs": [
    {
     "name": "stdout",
     "output_type": "stream",
     "text": [
      "Group 1 - Hot Desq: Count: 127, Mean: $67365.16, Min: $3000, Max: $100000\n",
      "Group 2 - Advancing Regional Innovation Program: Count: 19, Mean: $338383.41, Min: $20000, Max: $500000\n"
     ]
    }
   ],
   "source": [
    "# Calculate descriptive statistics for group1\n",
    "group1_count = group1_agg['count'].sum()\n",
    "group1_mean = round(group1_agg['mean'].mean(), 2)\n",
    "group1_min = group1_agg['min'].min()\n",
    "group1_max = group1_agg['max'].max()\n",
    "\n",
    "# Calculate descriptive statistics for group2\n",
    "group2_count = group2_agg['count'].sum()\n",
    "group2_mean = round(group2_agg['mean'].mean(), 2)\n",
    "group2_min = group2_agg['min'].min()\n",
    "group2_max = group2_agg['max'].max()\n",
    "\n",
    "# Create descriptive strings\n",
    "desc_group1 = f\"Group 1 - {group1}: Count: {group1_count}, Mean: ${group1_mean}, Min: ${group1_min}, Max: ${group1_max}\"\n",
    "desc_group2 = f\"Group 2 - {group2}: Count: {group2_count}, Mean: ${group2_mean}, Min: ${group2_min}, Max: ${group2_max}\"\n",
    "\n",
    "print(desc_group1)\n",
    "print(desc_group2)\n"
   ]
  },
  {
   "cell_type": "code",
   "execution_count": 40,
   "id": "71357546",
   "metadata": {},
   "outputs": [
    {
     "data": {
      "text/html": [
       "<div>\n",
       "<style scoped>\n",
       "    .dataframe tbody tr th:only-of-type {\n",
       "        vertical-align: middle;\n",
       "    }\n",
       "\n",
       "    .dataframe tbody tr th {\n",
       "        vertical-align: top;\n",
       "    }\n",
       "\n",
       "    .dataframe thead th {\n",
       "        text-align: right;\n",
       "    }\n",
       "</style>\n",
       "<table border=\"1\" class=\"dataframe\">\n",
       "  <thead>\n",
       "    <tr style=\"text-align: right;\">\n",
       "      <th></th>\n",
       "      <th>_Id</th>\n",
       "      <th>Program</th>\n",
       "      <th>Round</th>\n",
       "      <th>Recipient Name</th>\n",
       "      <th>Physical Address Of Recipient - Suburb/Location</th>\n",
       "      <th>Physical Address Of Recipient - Post Code</th>\n",
       "      <th>University Collaborator (If Applicable)</th>\n",
       "      <th>Other Partners; Collaborators (If Applicable)</th>\n",
       "      <th>Investment/Project Title</th>\n",
       "      <th>Primary Location Of Activity/Project - Suburb</th>\n",
       "      <th>Primary Location Of Activity/Project - Post Code</th>\n",
       "      <th>Multiple Locations Of Activity/Project (If Applicable)</th>\n",
       "      <th>Approval Date</th>\n",
       "      <th>Local Government /Council</th>\n",
       "      <th>Rap Region</th>\n",
       "      <th>State Electorate</th>\n",
       "      <th>Actual Contractual Commitment ($)</th>\n",
       "    </tr>\n",
       "  </thead>\n",
       "  <tbody>\n",
       "    <tr>\n",
       "      <th>87</th>\n",
       "      <td>88</td>\n",
       "      <td>Hot Desq</td>\n",
       "      <td>Round 1</td>\n",
       "      <td>Citizen Wolf Pty Ltd</td>\n",
       "      <td>New South Wales</td>\n",
       "      <td></td>\n",
       "      <td></td>\n",
       "      <td>Host: Creative Enterprise Australia, Qut</td>\n",
       "      <td>Citizen Wolf</td>\n",
       "      <td>Kelvin Grove</td>\n",
       "      <td>4059.0</td>\n",
       "      <td></td>\n",
       "      <td>2016-10-10</td>\n",
       "      <td>Nonqueensland</td>\n",
       "      <td>Brisbane</td>\n",
       "      <td>Nonqueensland</td>\n",
       "      <td>50000</td>\n",
       "    </tr>\n",
       "    <tr>\n",
       "      <th>88</th>\n",
       "      <td>89</td>\n",
       "      <td>Hot Desq</td>\n",
       "      <td>Round 1</td>\n",
       "      <td>Lawadvisor Pty Ltd</td>\n",
       "      <td>Victoria</td>\n",
       "      <td></td>\n",
       "      <td></td>\n",
       "      <td>Host: River City Labs</td>\n",
       "      <td>Lawadvisor Connects People And Businesses With...</td>\n",
       "      <td>Fortitude Valley</td>\n",
       "      <td>4006.0</td>\n",
       "      <td></td>\n",
       "      <td>2016-10-10</td>\n",
       "      <td>Nonqueensland</td>\n",
       "      <td>Brisbane</td>\n",
       "      <td>Nonqueensland</td>\n",
       "      <td>45000</td>\n",
       "    </tr>\n",
       "    <tr>\n",
       "      <th>89</th>\n",
       "      <td>90</td>\n",
       "      <td>Hot Desq</td>\n",
       "      <td>Round 1</td>\n",
       "      <td>Krak Skateboarding Pty Ltd</td>\n",
       "      <td>Germany</td>\n",
       "      <td></td>\n",
       "      <td></td>\n",
       "      <td>Host: Little Tokyo Two</td>\n",
       "      <td>Krak</td>\n",
       "      <td>Brisbane City</td>\n",
       "      <td>4000.0</td>\n",
       "      <td></td>\n",
       "      <td>2016-10-10</td>\n",
       "      <td>Nonqueensland</td>\n",
       "      <td>Brisbane</td>\n",
       "      <td>Nonqueensland</td>\n",
       "      <td>100000</td>\n",
       "    </tr>\n",
       "    <tr>\n",
       "      <th>90</th>\n",
       "      <td>91</td>\n",
       "      <td>Hot Desq</td>\n",
       "      <td>Round 1</td>\n",
       "      <td>Ata Technologies Au Pty Ltd</td>\n",
       "      <td>United States</td>\n",
       "      <td></td>\n",
       "      <td></td>\n",
       "      <td>Host: Qut Bluebox</td>\n",
       "      <td>Answer.Ky</td>\n",
       "      <td>Kelvin Grove</td>\n",
       "      <td>4059.0</td>\n",
       "      <td></td>\n",
       "      <td>2016-10-10</td>\n",
       "      <td>Nonqueensland</td>\n",
       "      <td>Brisbane</td>\n",
       "      <td>Nonqueensland</td>\n",
       "      <td>100000</td>\n",
       "    </tr>\n",
       "    <tr>\n",
       "      <th>91</th>\n",
       "      <td>92</td>\n",
       "      <td>Hot Desq</td>\n",
       "      <td>Round 1</td>\n",
       "      <td>Koala Safe Pty Ltd</td>\n",
       "      <td>New South Wales</td>\n",
       "      <td></td>\n",
       "      <td></td>\n",
       "      <td>Host: Thespace</td>\n",
       "      <td>Koalasafe</td>\n",
       "      <td>Cairns</td>\n",
       "      <td>4870.0</td>\n",
       "      <td></td>\n",
       "      <td>2016-10-10</td>\n",
       "      <td>Nonqueensland</td>\n",
       "      <td>Far North Queensland</td>\n",
       "      <td>Nonqueensland</td>\n",
       "      <td>100000</td>\n",
       "    </tr>\n",
       "    <tr>\n",
       "      <th>...</th>\n",
       "      <td>...</td>\n",
       "      <td>...</td>\n",
       "      <td>...</td>\n",
       "      <td>...</td>\n",
       "      <td>...</td>\n",
       "      <td>...</td>\n",
       "      <td>...</td>\n",
       "      <td>...</td>\n",
       "      <td>...</td>\n",
       "      <td>...</td>\n",
       "      <td>...</td>\n",
       "      <td>...</td>\n",
       "      <td>...</td>\n",
       "      <td>...</td>\n",
       "      <td>...</td>\n",
       "      <td>...</td>\n",
       "      <td>...</td>\n",
       "    </tr>\n",
       "    <tr>\n",
       "      <th>209</th>\n",
       "      <td>210</td>\n",
       "      <td>Hot Desq</td>\n",
       "      <td>Round 2</td>\n",
       "      <td>Creative Industries Precinct Pty Ltd T/A Qut C...</td>\n",
       "      <td>Kelvin Grove</td>\n",
       "      <td>4059.0</td>\n",
       "      <td></td>\n",
       "      <td></td>\n",
       "      <td>Host</td>\n",
       "      <td>Kelvin Grove</td>\n",
       "      <td>4059.0</td>\n",
       "      <td></td>\n",
       "      <td>2017-07-27</td>\n",
       "      <td>Brisbane (C)</td>\n",
       "      <td>Brisbane</td>\n",
       "      <td>Mcconnel</td>\n",
       "      <td>6000</td>\n",
       "    </tr>\n",
       "    <tr>\n",
       "      <th>210</th>\n",
       "      <td>211</td>\n",
       "      <td>Hot Desq</td>\n",
       "      <td>Round 2</td>\n",
       "      <td>Din Dins Club Australia Pty Ltd (Viva City)</td>\n",
       "      <td>United Kingdom</td>\n",
       "      <td></td>\n",
       "      <td></td>\n",
       "      <td>Host: Little Tokyo Two</td>\n",
       "      <td>Viva City</td>\n",
       "      <td>Brisbane City</td>\n",
       "      <td>4000.0</td>\n",
       "      <td></td>\n",
       "      <td>2017-07-27</td>\n",
       "      <td>Nonqueensland</td>\n",
       "      <td>Brisbane</td>\n",
       "      <td>Nonqueensland</td>\n",
       "      <td>75000</td>\n",
       "    </tr>\n",
       "    <tr>\n",
       "      <th>211</th>\n",
       "      <td>212</td>\n",
       "      <td>Hot Desq</td>\n",
       "      <td>Round 2</td>\n",
       "      <td>Creative Industries Precinct Pty Ltd T/A Qut C...</td>\n",
       "      <td>Kelvin Grove</td>\n",
       "      <td>4059.0</td>\n",
       "      <td></td>\n",
       "      <td></td>\n",
       "      <td>Host</td>\n",
       "      <td>Kelvin Grove</td>\n",
       "      <td>4059.0</td>\n",
       "      <td></td>\n",
       "      <td>2017-07-27</td>\n",
       "      <td>Brisbane (C)</td>\n",
       "      <td>Brisbane</td>\n",
       "      <td>Mcconnel</td>\n",
       "      <td>8000</td>\n",
       "    </tr>\n",
       "    <tr>\n",
       "      <th>212</th>\n",
       "      <td>213</td>\n",
       "      <td>Hot Desq</td>\n",
       "      <td>Round 2</td>\n",
       "      <td>Creative Industries Precinct Pty Ltd T/A Qut C...</td>\n",
       "      <td>Kelvin Grove</td>\n",
       "      <td>4059.0</td>\n",
       "      <td></td>\n",
       "      <td></td>\n",
       "      <td>Host</td>\n",
       "      <td>Kelvin Grove</td>\n",
       "      <td>4059.0</td>\n",
       "      <td></td>\n",
       "      <td>2017-07-27</td>\n",
       "      <td>Brisbane (C)</td>\n",
       "      <td>Brisbane</td>\n",
       "      <td>Mcconnel</td>\n",
       "      <td>6000</td>\n",
       "    </tr>\n",
       "    <tr>\n",
       "      <th>213</th>\n",
       "      <td>214</td>\n",
       "      <td>Hot Desq</td>\n",
       "      <td>Round 2</td>\n",
       "      <td>Corilla</td>\n",
       "      <td>United Kingdom</td>\n",
       "      <td></td>\n",
       "      <td></td>\n",
       "      <td>Host: River City Labs</td>\n",
       "      <td>Corilla</td>\n",
       "      <td>Fortitude Valley</td>\n",
       "      <td>4006.0</td>\n",
       "      <td></td>\n",
       "      <td>2017-07-27</td>\n",
       "      <td>Nonqueensland</td>\n",
       "      <td>Brisbane</td>\n",
       "      <td>Nonqueensland</td>\n",
       "      <td>75000</td>\n",
       "    </tr>\n",
       "  </tbody>\n",
       "</table>\n",
       "<p>127 rows × 17 columns</p>\n",
       "</div>"
      ],
      "text/plain": [
       "     _Id   Program    Round  \\\n",
       "87    88  Hot Desq  Round 1   \n",
       "88    89  Hot Desq  Round 1   \n",
       "89    90  Hot Desq  Round 1   \n",
       "90    91  Hot Desq  Round 1   \n",
       "91    92  Hot Desq  Round 1   \n",
       "..   ...       ...      ...   \n",
       "209  210  Hot Desq  Round 2   \n",
       "210  211  Hot Desq  Round 2   \n",
       "211  212  Hot Desq  Round 2   \n",
       "212  213  Hot Desq  Round 2   \n",
       "213  214  Hot Desq  Round 2   \n",
       "\n",
       "                                        Recipient Name  \\\n",
       "87                                Citizen Wolf Pty Ltd   \n",
       "88                                  Lawadvisor Pty Ltd   \n",
       "89                          Krak Skateboarding Pty Ltd   \n",
       "90                         Ata Technologies Au Pty Ltd   \n",
       "91                                  Koala Safe Pty Ltd   \n",
       "..                                                 ...   \n",
       "209  Creative Industries Precinct Pty Ltd T/A Qut C...   \n",
       "210        Din Dins Club Australia Pty Ltd (Viva City)   \n",
       "211  Creative Industries Precinct Pty Ltd T/A Qut C...   \n",
       "212  Creative Industries Precinct Pty Ltd T/A Qut C...   \n",
       "213                                            Corilla   \n",
       "\n",
       "    Physical Address Of Recipient - Suburb/Location  \\\n",
       "87                                  New South Wales   \n",
       "88                                         Victoria   \n",
       "89                                          Germany   \n",
       "90                                    United States   \n",
       "91                                  New South Wales   \n",
       "..                                              ...   \n",
       "209                                    Kelvin Grove   \n",
       "210                                  United Kingdom   \n",
       "211                                    Kelvin Grove   \n",
       "212                                    Kelvin Grove   \n",
       "213                                  United Kingdom   \n",
       "\n",
       "    Physical Address Of Recipient - Post Code  \\\n",
       "87                                              \n",
       "88                                              \n",
       "89                                              \n",
       "90                                              \n",
       "91                                              \n",
       "..                                        ...   \n",
       "209                                    4059.0   \n",
       "210                                             \n",
       "211                                    4059.0   \n",
       "212                                    4059.0   \n",
       "213                                             \n",
       "\n",
       "    University Collaborator (If Applicable)  \\\n",
       "87                                            \n",
       "88                                            \n",
       "89                                            \n",
       "90                                            \n",
       "91                                            \n",
       "..                                      ...   \n",
       "209                                           \n",
       "210                                           \n",
       "211                                           \n",
       "212                                           \n",
       "213                                           \n",
       "\n",
       "    Other Partners; Collaborators (If Applicable)  \\\n",
       "87       Host: Creative Enterprise Australia, Qut   \n",
       "88                          Host: River City Labs   \n",
       "89                         Host: Little Tokyo Two   \n",
       "90                              Host: Qut Bluebox   \n",
       "91                                 Host: Thespace   \n",
       "..                                            ...   \n",
       "209                                                 \n",
       "210                        Host: Little Tokyo Two   \n",
       "211                                                 \n",
       "212                                                 \n",
       "213                         Host: River City Labs   \n",
       "\n",
       "                              Investment/Project Title  \\\n",
       "87                                        Citizen Wolf   \n",
       "88   Lawadvisor Connects People And Businesses With...   \n",
       "89                                                Krak   \n",
       "90                                           Answer.Ky   \n",
       "91                                           Koalasafe   \n",
       "..                                                 ...   \n",
       "209                                               Host   \n",
       "210                                          Viva City   \n",
       "211                                               Host   \n",
       "212                                               Host   \n",
       "213                                            Corilla   \n",
       "\n",
       "    Primary Location Of Activity/Project - Suburb  \\\n",
       "87                                   Kelvin Grove   \n",
       "88                               Fortitude Valley   \n",
       "89                                  Brisbane City   \n",
       "90                                   Kelvin Grove   \n",
       "91                                         Cairns   \n",
       "..                                            ...   \n",
       "209                                  Kelvin Grove   \n",
       "210                                 Brisbane City   \n",
       "211                                  Kelvin Grove   \n",
       "212                                  Kelvin Grove   \n",
       "213                              Fortitude Valley   \n",
       "\n",
       "    Primary Location Of Activity/Project - Post Code  \\\n",
       "87                                            4059.0   \n",
       "88                                            4006.0   \n",
       "89                                            4000.0   \n",
       "90                                            4059.0   \n",
       "91                                            4870.0   \n",
       "..                                               ...   \n",
       "209                                           4059.0   \n",
       "210                                           4000.0   \n",
       "211                                           4059.0   \n",
       "212                                           4059.0   \n",
       "213                                           4006.0   \n",
       "\n",
       "    Multiple Locations Of Activity/Project (If Applicable) Approval Date  \\\n",
       "87                                                            2016-10-10   \n",
       "88                                                            2016-10-10   \n",
       "89                                                            2016-10-10   \n",
       "90                                                            2016-10-10   \n",
       "91                                                            2016-10-10   \n",
       "..                                                 ...               ...   \n",
       "209                                                           2017-07-27   \n",
       "210                                                           2017-07-27   \n",
       "211                                                           2017-07-27   \n",
       "212                                                           2017-07-27   \n",
       "213                                                           2017-07-27   \n",
       "\n",
       "    Local Government /Council            Rap Region State Electorate  \\\n",
       "87              Nonqueensland              Brisbane    Nonqueensland   \n",
       "88              Nonqueensland              Brisbane    Nonqueensland   \n",
       "89              Nonqueensland              Brisbane    Nonqueensland   \n",
       "90              Nonqueensland              Brisbane    Nonqueensland   \n",
       "91              Nonqueensland  Far North Queensland    Nonqueensland   \n",
       "..                        ...                   ...              ...   \n",
       "209              Brisbane (C)              Brisbane         Mcconnel   \n",
       "210             Nonqueensland              Brisbane    Nonqueensland   \n",
       "211              Brisbane (C)              Brisbane         Mcconnel   \n",
       "212              Brisbane (C)              Brisbane         Mcconnel   \n",
       "213             Nonqueensland              Brisbane    Nonqueensland   \n",
       "\n",
       "     Actual Contractual Commitment ($)  \n",
       "87                               50000  \n",
       "88                               45000  \n",
       "89                              100000  \n",
       "90                              100000  \n",
       "91                              100000  \n",
       "..                                 ...  \n",
       "209                               6000  \n",
       "210                              75000  \n",
       "211                               8000  \n",
       "212                               6000  \n",
       "213                              75000  \n",
       "\n",
       "[127 rows x 17 columns]"
      ]
     },
     "execution_count": 40,
     "metadata": {},
     "output_type": "execute_result"
    }
   ],
   "source": [
    "df_group1"
   ]
  },
  {
   "cell_type": "markdown",
   "id": "6e5fe01c",
   "metadata": {},
   "source": [
    "### Chart - Committed Funds Histogram and Box Plot\n",
    "\n",
    "#### First Set: Hot Desq\n",
    "\n",
    "**Histogram Analysis:**\n",
    "\n",
    "- **Data Range**: The dispersion of funding amounts exhibits distinct values, characterized by prominent peaks observed at 20k, 80k, and 100k.\n",
    "\n",
    "- **Count**: The highest frequency is recorded at 10k with 53 instances, succeeded by 80k (28 instances) and 100k (27 instances).\n",
    "\n",
    "**Box Plot Analysis:**\n",
    "\n",
    "- **Spread**: The box plot illustrates a considerable spread, indicative of a wide range in the distribution of funding amounts.\n",
    "\n",
    "- **Median**: Positioned around 25k, the median implies a central tendency residing in the midst of the distribution.\n",
    "\n",
    "#### Second Set: Advancing Regional Innovation Program\n",
    "\n",
    "**Histogram Analysis:**\n",
    "\n",
    "- **Data Range**: The funding amounts showcase notable variations, with peaks identified at approximately 40k, 140k, 220k, 320k and a pronounced concentration at 500k.\n",
    "\n",
    "- **Count**: The highest frequency is documented within the 500k range with 6 occurrences, accompanied by minor peaks at other intervals.\n",
    "\n",
    "**Box Plot Analysis:**\n",
    "\n",
    "- **Spread**: The box plot portrayal reveals a diverse spectrum of funding amounts, suggesting considerable variability within the dataset.\n",
    "\n",
    "- **Median**: Positioned closer to the upper limit, the median indicates a prevalence of substantial funding amounts.\n",
    "\n",
    "#### Overall Reflection:\n",
    "\n",
    "- **Hot Desq**: Evidences specific focal points and a wide spectrum of funding amounts, indicating diverse requirements and a potentially layered funding approach.\n",
    "\n",
    "- **Advancing Regional Innovation Program**: Illustrates a marked emphasis on substantial funding, characterized by significant diversity, signifying a broad range of supported initiatives."
   ]
  },
  {
   "cell_type": "code",
   "execution_count": 63,
   "id": "614a283e",
   "metadata": {},
   "outputs": [
    {
     "data": {
      "application/vnd.plotly.v1+json": {
       "config": {
        "plotlyServerURL": "https://plot.ly"
       },
       "data": [
        {
         "alignmentgroup": "True",
         "bingroup": "x",
         "hovertemplate": "Actual Contractual Commitment ($)=%{x}<br>count=%{y}<extra></extra>",
         "legendgroup": "",
         "marker": {
          "color": "#636efa",
          "pattern": {
           "shape": ""
          }
         },
         "name": "",
         "nbinsx": 30,
         "offsetgroup": "",
         "orientation": "v",
         "showlegend": false,
         "textposition": "outside",
         "texttemplate": "%{y}",
         "type": "histogram",
         "x": [
          50000,
          45000,
          100000,
          100000,
          100000,
          6000,
          75000,
          75000,
          10000,
          75000,
          9091,
          8000,
          6000,
          6000,
          100000,
          8000,
          75000,
          6000,
          100000,
          100000,
          100000,
          6000,
          8000,
          6000,
          100000,
          75000,
          75000,
          100000,
          8000,
          50000,
          8000,
          10000,
          6000,
          8000,
          75000,
          8000,
          6000,
          8000,
          6000,
          8000,
          8000,
          100000,
          75000,
          6000,
          100000,
          55000,
          6000,
          8000,
          3000,
          8000,
          8000,
          6000,
          75000,
          75000,
          75000,
          100000,
          8000,
          8000,
          100000,
          75000,
          75000,
          8000,
          6000,
          6000,
          50000,
          100000,
          100000,
          75000,
          10000,
          75000,
          75000,
          75000,
          50000,
          8000,
          8000,
          100000,
          75000,
          8000,
          6000,
          6000,
          37500,
          75000,
          100000,
          100000,
          8000,
          6000,
          100000,
          75000,
          100000,
          100000,
          100000,
          75000,
          10000,
          10000,
          6000,
          6000,
          6000,
          6000,
          100000,
          6000,
          100000,
          8000,
          6000,
          6000,
          10000,
          8000,
          10000,
          100000,
          75000,
          10000,
          10000,
          8000,
          50000,
          6000,
          100000,
          75000,
          100000,
          75000,
          75000,
          25000,
          75000,
          6000,
          6000,
          75000,
          8000,
          6000,
          75000
         ],
         "xaxis": "x",
         "yaxis": "y"
        }
       ],
       "layout": {
        "barmode": "relative",
        "legend": {
         "tracegroupgap": 0
        },
        "template": {
         "data": {
          "bar": [
           {
            "error_x": {
             "color": "#2a3f5f"
            },
            "error_y": {
             "color": "#2a3f5f"
            },
            "marker": {
             "line": {
              "color": "#E5ECF6",
              "width": 0.5
             },
             "pattern": {
              "fillmode": "overlay",
              "size": 10,
              "solidity": 0.2
             }
            },
            "type": "bar"
           }
          ],
          "barpolar": [
           {
            "marker": {
             "line": {
              "color": "#E5ECF6",
              "width": 0.5
             },
             "pattern": {
              "fillmode": "overlay",
              "size": 10,
              "solidity": 0.2
             }
            },
            "type": "barpolar"
           }
          ],
          "carpet": [
           {
            "aaxis": {
             "endlinecolor": "#2a3f5f",
             "gridcolor": "white",
             "linecolor": "white",
             "minorgridcolor": "white",
             "startlinecolor": "#2a3f5f"
            },
            "baxis": {
             "endlinecolor": "#2a3f5f",
             "gridcolor": "white",
             "linecolor": "white",
             "minorgridcolor": "white",
             "startlinecolor": "#2a3f5f"
            },
            "type": "carpet"
           }
          ],
          "choropleth": [
           {
            "colorbar": {
             "outlinewidth": 0,
             "ticks": ""
            },
            "type": "choropleth"
           }
          ],
          "contour": [
           {
            "colorbar": {
             "outlinewidth": 0,
             "ticks": ""
            },
            "colorscale": [
             [
              0,
              "#0d0887"
             ],
             [
              0.1111111111111111,
              "#46039f"
             ],
             [
              0.2222222222222222,
              "#7201a8"
             ],
             [
              0.3333333333333333,
              "#9c179e"
             ],
             [
              0.4444444444444444,
              "#bd3786"
             ],
             [
              0.5555555555555556,
              "#d8576b"
             ],
             [
              0.6666666666666666,
              "#ed7953"
             ],
             [
              0.7777777777777778,
              "#fb9f3a"
             ],
             [
              0.8888888888888888,
              "#fdca26"
             ],
             [
              1,
              "#f0f921"
             ]
            ],
            "type": "contour"
           }
          ],
          "contourcarpet": [
           {
            "colorbar": {
             "outlinewidth": 0,
             "ticks": ""
            },
            "type": "contourcarpet"
           }
          ],
          "heatmap": [
           {
            "colorbar": {
             "outlinewidth": 0,
             "ticks": ""
            },
            "colorscale": [
             [
              0,
              "#0d0887"
             ],
             [
              0.1111111111111111,
              "#46039f"
             ],
             [
              0.2222222222222222,
              "#7201a8"
             ],
             [
              0.3333333333333333,
              "#9c179e"
             ],
             [
              0.4444444444444444,
              "#bd3786"
             ],
             [
              0.5555555555555556,
              "#d8576b"
             ],
             [
              0.6666666666666666,
              "#ed7953"
             ],
             [
              0.7777777777777778,
              "#fb9f3a"
             ],
             [
              0.8888888888888888,
              "#fdca26"
             ],
             [
              1,
              "#f0f921"
             ]
            ],
            "type": "heatmap"
           }
          ],
          "heatmapgl": [
           {
            "colorbar": {
             "outlinewidth": 0,
             "ticks": ""
            },
            "colorscale": [
             [
              0,
              "#0d0887"
             ],
             [
              0.1111111111111111,
              "#46039f"
             ],
             [
              0.2222222222222222,
              "#7201a8"
             ],
             [
              0.3333333333333333,
              "#9c179e"
             ],
             [
              0.4444444444444444,
              "#bd3786"
             ],
             [
              0.5555555555555556,
              "#d8576b"
             ],
             [
              0.6666666666666666,
              "#ed7953"
             ],
             [
              0.7777777777777778,
              "#fb9f3a"
             ],
             [
              0.8888888888888888,
              "#fdca26"
             ],
             [
              1,
              "#f0f921"
             ]
            ],
            "type": "heatmapgl"
           }
          ],
          "histogram": [
           {
            "marker": {
             "pattern": {
              "fillmode": "overlay",
              "size": 10,
              "solidity": 0.2
             }
            },
            "type": "histogram"
           }
          ],
          "histogram2d": [
           {
            "colorbar": {
             "outlinewidth": 0,
             "ticks": ""
            },
            "colorscale": [
             [
              0,
              "#0d0887"
             ],
             [
              0.1111111111111111,
              "#46039f"
             ],
             [
              0.2222222222222222,
              "#7201a8"
             ],
             [
              0.3333333333333333,
              "#9c179e"
             ],
             [
              0.4444444444444444,
              "#bd3786"
             ],
             [
              0.5555555555555556,
              "#d8576b"
             ],
             [
              0.6666666666666666,
              "#ed7953"
             ],
             [
              0.7777777777777778,
              "#fb9f3a"
             ],
             [
              0.8888888888888888,
              "#fdca26"
             ],
             [
              1,
              "#f0f921"
             ]
            ],
            "type": "histogram2d"
           }
          ],
          "histogram2dcontour": [
           {
            "colorbar": {
             "outlinewidth": 0,
             "ticks": ""
            },
            "colorscale": [
             [
              0,
              "#0d0887"
             ],
             [
              0.1111111111111111,
              "#46039f"
             ],
             [
              0.2222222222222222,
              "#7201a8"
             ],
             [
              0.3333333333333333,
              "#9c179e"
             ],
             [
              0.4444444444444444,
              "#bd3786"
             ],
             [
              0.5555555555555556,
              "#d8576b"
             ],
             [
              0.6666666666666666,
              "#ed7953"
             ],
             [
              0.7777777777777778,
              "#fb9f3a"
             ],
             [
              0.8888888888888888,
              "#fdca26"
             ],
             [
              1,
              "#f0f921"
             ]
            ],
            "type": "histogram2dcontour"
           }
          ],
          "mesh3d": [
           {
            "colorbar": {
             "outlinewidth": 0,
             "ticks": ""
            },
            "type": "mesh3d"
           }
          ],
          "parcoords": [
           {
            "line": {
             "colorbar": {
              "outlinewidth": 0,
              "ticks": ""
             }
            },
            "type": "parcoords"
           }
          ],
          "pie": [
           {
            "automargin": true,
            "type": "pie"
           }
          ],
          "scatter": [
           {
            "fillpattern": {
             "fillmode": "overlay",
             "size": 10,
             "solidity": 0.2
            },
            "type": "scatter"
           }
          ],
          "scatter3d": [
           {
            "line": {
             "colorbar": {
              "outlinewidth": 0,
              "ticks": ""
             }
            },
            "marker": {
             "colorbar": {
              "outlinewidth": 0,
              "ticks": ""
             }
            },
            "type": "scatter3d"
           }
          ],
          "scattercarpet": [
           {
            "marker": {
             "colorbar": {
              "outlinewidth": 0,
              "ticks": ""
             }
            },
            "type": "scattercarpet"
           }
          ],
          "scattergeo": [
           {
            "marker": {
             "colorbar": {
              "outlinewidth": 0,
              "ticks": ""
             }
            },
            "type": "scattergeo"
           }
          ],
          "scattergl": [
           {
            "marker": {
             "colorbar": {
              "outlinewidth": 0,
              "ticks": ""
             }
            },
            "type": "scattergl"
           }
          ],
          "scattermapbox": [
           {
            "marker": {
             "colorbar": {
              "outlinewidth": 0,
              "ticks": ""
             }
            },
            "type": "scattermapbox"
           }
          ],
          "scatterpolar": [
           {
            "marker": {
             "colorbar": {
              "outlinewidth": 0,
              "ticks": ""
             }
            },
            "type": "scatterpolar"
           }
          ],
          "scatterpolargl": [
           {
            "marker": {
             "colorbar": {
              "outlinewidth": 0,
              "ticks": ""
             }
            },
            "type": "scatterpolargl"
           }
          ],
          "scatterternary": [
           {
            "marker": {
             "colorbar": {
              "outlinewidth": 0,
              "ticks": ""
             }
            },
            "type": "scatterternary"
           }
          ],
          "surface": [
           {
            "colorbar": {
             "outlinewidth": 0,
             "ticks": ""
            },
            "colorscale": [
             [
              0,
              "#0d0887"
             ],
             [
              0.1111111111111111,
              "#46039f"
             ],
             [
              0.2222222222222222,
              "#7201a8"
             ],
             [
              0.3333333333333333,
              "#9c179e"
             ],
             [
              0.4444444444444444,
              "#bd3786"
             ],
             [
              0.5555555555555556,
              "#d8576b"
             ],
             [
              0.6666666666666666,
              "#ed7953"
             ],
             [
              0.7777777777777778,
              "#fb9f3a"
             ],
             [
              0.8888888888888888,
              "#fdca26"
             ],
             [
              1,
              "#f0f921"
             ]
            ],
            "type": "surface"
           }
          ],
          "table": [
           {
            "cells": {
             "fill": {
              "color": "#EBF0F8"
             },
             "line": {
              "color": "white"
             }
            },
            "header": {
             "fill": {
              "color": "#C8D4E3"
             },
             "line": {
              "color": "white"
             }
            },
            "type": "table"
           }
          ]
         },
         "layout": {
          "annotationdefaults": {
           "arrowcolor": "#2a3f5f",
           "arrowhead": 0,
           "arrowwidth": 1
          },
          "autotypenumbers": "strict",
          "coloraxis": {
           "colorbar": {
            "outlinewidth": 0,
            "ticks": ""
           }
          },
          "colorscale": {
           "diverging": [
            [
             0,
             "#8e0152"
            ],
            [
             0.1,
             "#c51b7d"
            ],
            [
             0.2,
             "#de77ae"
            ],
            [
             0.3,
             "#f1b6da"
            ],
            [
             0.4,
             "#fde0ef"
            ],
            [
             0.5,
             "#f7f7f7"
            ],
            [
             0.6,
             "#e6f5d0"
            ],
            [
             0.7,
             "#b8e186"
            ],
            [
             0.8,
             "#7fbc41"
            ],
            [
             0.9,
             "#4d9221"
            ],
            [
             1,
             "#276419"
            ]
           ],
           "sequential": [
            [
             0,
             "#0d0887"
            ],
            [
             0.1111111111111111,
             "#46039f"
            ],
            [
             0.2222222222222222,
             "#7201a8"
            ],
            [
             0.3333333333333333,
             "#9c179e"
            ],
            [
             0.4444444444444444,
             "#bd3786"
            ],
            [
             0.5555555555555556,
             "#d8576b"
            ],
            [
             0.6666666666666666,
             "#ed7953"
            ],
            [
             0.7777777777777778,
             "#fb9f3a"
            ],
            [
             0.8888888888888888,
             "#fdca26"
            ],
            [
             1,
             "#f0f921"
            ]
           ],
           "sequentialminus": [
            [
             0,
             "#0d0887"
            ],
            [
             0.1111111111111111,
             "#46039f"
            ],
            [
             0.2222222222222222,
             "#7201a8"
            ],
            [
             0.3333333333333333,
             "#9c179e"
            ],
            [
             0.4444444444444444,
             "#bd3786"
            ],
            [
             0.5555555555555556,
             "#d8576b"
            ],
            [
             0.6666666666666666,
             "#ed7953"
            ],
            [
             0.7777777777777778,
             "#fb9f3a"
            ],
            [
             0.8888888888888888,
             "#fdca26"
            ],
            [
             1,
             "#f0f921"
            ]
           ]
          },
          "colorway": [
           "#636efa",
           "#EF553B",
           "#00cc96",
           "#ab63fa",
           "#FFA15A",
           "#19d3f3",
           "#FF6692",
           "#B6E880",
           "#FF97FF",
           "#FECB52"
          ],
          "font": {
           "color": "#2a3f5f"
          },
          "geo": {
           "bgcolor": "white",
           "lakecolor": "white",
           "landcolor": "#E5ECF6",
           "showlakes": true,
           "showland": true,
           "subunitcolor": "white"
          },
          "hoverlabel": {
           "align": "left"
          },
          "hovermode": "closest",
          "mapbox": {
           "style": "light"
          },
          "paper_bgcolor": "white",
          "plot_bgcolor": "#E5ECF6",
          "polar": {
           "angularaxis": {
            "gridcolor": "white",
            "linecolor": "white",
            "ticks": ""
           },
           "bgcolor": "#E5ECF6",
           "radialaxis": {
            "gridcolor": "white",
            "linecolor": "white",
            "ticks": ""
           }
          },
          "scene": {
           "xaxis": {
            "backgroundcolor": "#E5ECF6",
            "gridcolor": "white",
            "gridwidth": 2,
            "linecolor": "white",
            "showbackground": true,
            "ticks": "",
            "zerolinecolor": "white"
           },
           "yaxis": {
            "backgroundcolor": "#E5ECF6",
            "gridcolor": "white",
            "gridwidth": 2,
            "linecolor": "white",
            "showbackground": true,
            "ticks": "",
            "zerolinecolor": "white"
           },
           "zaxis": {
            "backgroundcolor": "#E5ECF6",
            "gridcolor": "white",
            "gridwidth": 2,
            "linecolor": "white",
            "showbackground": true,
            "ticks": "",
            "zerolinecolor": "white"
           }
          },
          "shapedefaults": {
           "line": {
            "color": "#2a3f5f"
           }
          },
          "ternary": {
           "aaxis": {
            "gridcolor": "white",
            "linecolor": "white",
            "ticks": ""
           },
           "baxis": {
            "gridcolor": "white",
            "linecolor": "white",
            "ticks": ""
           },
           "bgcolor": "#E5ECF6",
           "caxis": {
            "gridcolor": "white",
            "linecolor": "white",
            "ticks": ""
           }
          },
          "title": {
           "x": 0.05
          },
          "xaxis": {
           "automargin": true,
           "gridcolor": "white",
           "linecolor": "white",
           "ticks": "",
           "title": {
            "standoff": 15
           },
           "zerolinecolor": "white",
           "zerolinewidth": 2
          },
          "yaxis": {
           "automargin": true,
           "gridcolor": "white",
           "linecolor": "white",
           "ticks": "",
           "title": {
            "standoff": 15
           },
           "zerolinecolor": "white",
           "zerolinewidth": 2
          }
         }
        },
        "title": {
         "text": "Committed Funds Histogram - Hot Desq"
        },
        "xaxis": {
         "anchor": "y",
         "domain": [
          0,
          1
         ],
         "title": {
          "text": "Actual Contractual Commitment ($)"
         }
        },
        "yaxis": {
         "anchor": "x",
         "domain": [
          0,
          1
         ],
         "title": {
          "text": "count"
         }
        }
       }
      }
     },
     "metadata": {},
     "output_type": "display_data"
    },
    {
     "data": {
      "application/vnd.plotly.v1+json": {
       "config": {
        "plotlyServerURL": "https://plot.ly"
       },
       "data": [
        {
         "alignmentgroup": "True",
         "hovertemplate": "Actual Contractual Commitment ($)=%{y}<extra></extra>",
         "legendgroup": "",
         "marker": {
          "color": "#636efa"
         },
         "name": "",
         "notched": false,
         "offsetgroup": "",
         "orientation": "v",
         "showlegend": false,
         "type": "box",
         "x0": " ",
         "xaxis": "x",
         "y": [
          50000,
          45000,
          100000,
          100000,
          100000,
          6000,
          75000,
          75000,
          10000,
          75000,
          9091,
          8000,
          6000,
          6000,
          100000,
          8000,
          75000,
          6000,
          100000,
          100000,
          100000,
          6000,
          8000,
          6000,
          100000,
          75000,
          75000,
          100000,
          8000,
          50000,
          8000,
          10000,
          6000,
          8000,
          75000,
          8000,
          6000,
          8000,
          6000,
          8000,
          8000,
          100000,
          75000,
          6000,
          100000,
          55000,
          6000,
          8000,
          3000,
          8000,
          8000,
          6000,
          75000,
          75000,
          75000,
          100000,
          8000,
          8000,
          100000,
          75000,
          75000,
          8000,
          6000,
          6000,
          50000,
          100000,
          100000,
          75000,
          10000,
          75000,
          75000,
          75000,
          50000,
          8000,
          8000,
          100000,
          75000,
          8000,
          6000,
          6000,
          37500,
          75000,
          100000,
          100000,
          8000,
          6000,
          100000,
          75000,
          100000,
          100000,
          100000,
          75000,
          10000,
          10000,
          6000,
          6000,
          6000,
          6000,
          100000,
          6000,
          100000,
          8000,
          6000,
          6000,
          10000,
          8000,
          10000,
          100000,
          75000,
          10000,
          10000,
          8000,
          50000,
          6000,
          100000,
          75000,
          100000,
          75000,
          75000,
          25000,
          75000,
          6000,
          6000,
          75000,
          8000,
          6000,
          75000
         ],
         "y0": " ",
         "yaxis": "y"
        }
       ],
       "layout": {
        "boxmode": "group",
        "legend": {
         "tracegroupgap": 0
        },
        "template": {
         "data": {
          "bar": [
           {
            "error_x": {
             "color": "#2a3f5f"
            },
            "error_y": {
             "color": "#2a3f5f"
            },
            "marker": {
             "line": {
              "color": "#E5ECF6",
              "width": 0.5
             },
             "pattern": {
              "fillmode": "overlay",
              "size": 10,
              "solidity": 0.2
             }
            },
            "type": "bar"
           }
          ],
          "barpolar": [
           {
            "marker": {
             "line": {
              "color": "#E5ECF6",
              "width": 0.5
             },
             "pattern": {
              "fillmode": "overlay",
              "size": 10,
              "solidity": 0.2
             }
            },
            "type": "barpolar"
           }
          ],
          "carpet": [
           {
            "aaxis": {
             "endlinecolor": "#2a3f5f",
             "gridcolor": "white",
             "linecolor": "white",
             "minorgridcolor": "white",
             "startlinecolor": "#2a3f5f"
            },
            "baxis": {
             "endlinecolor": "#2a3f5f",
             "gridcolor": "white",
             "linecolor": "white",
             "minorgridcolor": "white",
             "startlinecolor": "#2a3f5f"
            },
            "type": "carpet"
           }
          ],
          "choropleth": [
           {
            "colorbar": {
             "outlinewidth": 0,
             "ticks": ""
            },
            "type": "choropleth"
           }
          ],
          "contour": [
           {
            "colorbar": {
             "outlinewidth": 0,
             "ticks": ""
            },
            "colorscale": [
             [
              0,
              "#0d0887"
             ],
             [
              0.1111111111111111,
              "#46039f"
             ],
             [
              0.2222222222222222,
              "#7201a8"
             ],
             [
              0.3333333333333333,
              "#9c179e"
             ],
             [
              0.4444444444444444,
              "#bd3786"
             ],
             [
              0.5555555555555556,
              "#d8576b"
             ],
             [
              0.6666666666666666,
              "#ed7953"
             ],
             [
              0.7777777777777778,
              "#fb9f3a"
             ],
             [
              0.8888888888888888,
              "#fdca26"
             ],
             [
              1,
              "#f0f921"
             ]
            ],
            "type": "contour"
           }
          ],
          "contourcarpet": [
           {
            "colorbar": {
             "outlinewidth": 0,
             "ticks": ""
            },
            "type": "contourcarpet"
           }
          ],
          "heatmap": [
           {
            "colorbar": {
             "outlinewidth": 0,
             "ticks": ""
            },
            "colorscale": [
             [
              0,
              "#0d0887"
             ],
             [
              0.1111111111111111,
              "#46039f"
             ],
             [
              0.2222222222222222,
              "#7201a8"
             ],
             [
              0.3333333333333333,
              "#9c179e"
             ],
             [
              0.4444444444444444,
              "#bd3786"
             ],
             [
              0.5555555555555556,
              "#d8576b"
             ],
             [
              0.6666666666666666,
              "#ed7953"
             ],
             [
              0.7777777777777778,
              "#fb9f3a"
             ],
             [
              0.8888888888888888,
              "#fdca26"
             ],
             [
              1,
              "#f0f921"
             ]
            ],
            "type": "heatmap"
           }
          ],
          "heatmapgl": [
           {
            "colorbar": {
             "outlinewidth": 0,
             "ticks": ""
            },
            "colorscale": [
             [
              0,
              "#0d0887"
             ],
             [
              0.1111111111111111,
              "#46039f"
             ],
             [
              0.2222222222222222,
              "#7201a8"
             ],
             [
              0.3333333333333333,
              "#9c179e"
             ],
             [
              0.4444444444444444,
              "#bd3786"
             ],
             [
              0.5555555555555556,
              "#d8576b"
             ],
             [
              0.6666666666666666,
              "#ed7953"
             ],
             [
              0.7777777777777778,
              "#fb9f3a"
             ],
             [
              0.8888888888888888,
              "#fdca26"
             ],
             [
              1,
              "#f0f921"
             ]
            ],
            "type": "heatmapgl"
           }
          ],
          "histogram": [
           {
            "marker": {
             "pattern": {
              "fillmode": "overlay",
              "size": 10,
              "solidity": 0.2
             }
            },
            "type": "histogram"
           }
          ],
          "histogram2d": [
           {
            "colorbar": {
             "outlinewidth": 0,
             "ticks": ""
            },
            "colorscale": [
             [
              0,
              "#0d0887"
             ],
             [
              0.1111111111111111,
              "#46039f"
             ],
             [
              0.2222222222222222,
              "#7201a8"
             ],
             [
              0.3333333333333333,
              "#9c179e"
             ],
             [
              0.4444444444444444,
              "#bd3786"
             ],
             [
              0.5555555555555556,
              "#d8576b"
             ],
             [
              0.6666666666666666,
              "#ed7953"
             ],
             [
              0.7777777777777778,
              "#fb9f3a"
             ],
             [
              0.8888888888888888,
              "#fdca26"
             ],
             [
              1,
              "#f0f921"
             ]
            ],
            "type": "histogram2d"
           }
          ],
          "histogram2dcontour": [
           {
            "colorbar": {
             "outlinewidth": 0,
             "ticks": ""
            },
            "colorscale": [
             [
              0,
              "#0d0887"
             ],
             [
              0.1111111111111111,
              "#46039f"
             ],
             [
              0.2222222222222222,
              "#7201a8"
             ],
             [
              0.3333333333333333,
              "#9c179e"
             ],
             [
              0.4444444444444444,
              "#bd3786"
             ],
             [
              0.5555555555555556,
              "#d8576b"
             ],
             [
              0.6666666666666666,
              "#ed7953"
             ],
             [
              0.7777777777777778,
              "#fb9f3a"
             ],
             [
              0.8888888888888888,
              "#fdca26"
             ],
             [
              1,
              "#f0f921"
             ]
            ],
            "type": "histogram2dcontour"
           }
          ],
          "mesh3d": [
           {
            "colorbar": {
             "outlinewidth": 0,
             "ticks": ""
            },
            "type": "mesh3d"
           }
          ],
          "parcoords": [
           {
            "line": {
             "colorbar": {
              "outlinewidth": 0,
              "ticks": ""
             }
            },
            "type": "parcoords"
           }
          ],
          "pie": [
           {
            "automargin": true,
            "type": "pie"
           }
          ],
          "scatter": [
           {
            "fillpattern": {
             "fillmode": "overlay",
             "size": 10,
             "solidity": 0.2
            },
            "type": "scatter"
           }
          ],
          "scatter3d": [
           {
            "line": {
             "colorbar": {
              "outlinewidth": 0,
              "ticks": ""
             }
            },
            "marker": {
             "colorbar": {
              "outlinewidth": 0,
              "ticks": ""
             }
            },
            "type": "scatter3d"
           }
          ],
          "scattercarpet": [
           {
            "marker": {
             "colorbar": {
              "outlinewidth": 0,
              "ticks": ""
             }
            },
            "type": "scattercarpet"
           }
          ],
          "scattergeo": [
           {
            "marker": {
             "colorbar": {
              "outlinewidth": 0,
              "ticks": ""
             }
            },
            "type": "scattergeo"
           }
          ],
          "scattergl": [
           {
            "marker": {
             "colorbar": {
              "outlinewidth": 0,
              "ticks": ""
             }
            },
            "type": "scattergl"
           }
          ],
          "scattermapbox": [
           {
            "marker": {
             "colorbar": {
              "outlinewidth": 0,
              "ticks": ""
             }
            },
            "type": "scattermapbox"
           }
          ],
          "scatterpolar": [
           {
            "marker": {
             "colorbar": {
              "outlinewidth": 0,
              "ticks": ""
             }
            },
            "type": "scatterpolar"
           }
          ],
          "scatterpolargl": [
           {
            "marker": {
             "colorbar": {
              "outlinewidth": 0,
              "ticks": ""
             }
            },
            "type": "scatterpolargl"
           }
          ],
          "scatterternary": [
           {
            "marker": {
             "colorbar": {
              "outlinewidth": 0,
              "ticks": ""
             }
            },
            "type": "scatterternary"
           }
          ],
          "surface": [
           {
            "colorbar": {
             "outlinewidth": 0,
             "ticks": ""
            },
            "colorscale": [
             [
              0,
              "#0d0887"
             ],
             [
              0.1111111111111111,
              "#46039f"
             ],
             [
              0.2222222222222222,
              "#7201a8"
             ],
             [
              0.3333333333333333,
              "#9c179e"
             ],
             [
              0.4444444444444444,
              "#bd3786"
             ],
             [
              0.5555555555555556,
              "#d8576b"
             ],
             [
              0.6666666666666666,
              "#ed7953"
             ],
             [
              0.7777777777777778,
              "#fb9f3a"
             ],
             [
              0.8888888888888888,
              "#fdca26"
             ],
             [
              1,
              "#f0f921"
             ]
            ],
            "type": "surface"
           }
          ],
          "table": [
           {
            "cells": {
             "fill": {
              "color": "#EBF0F8"
             },
             "line": {
              "color": "white"
             }
            },
            "header": {
             "fill": {
              "color": "#C8D4E3"
             },
             "line": {
              "color": "white"
             }
            },
            "type": "table"
           }
          ]
         },
         "layout": {
          "annotationdefaults": {
           "arrowcolor": "#2a3f5f",
           "arrowhead": 0,
           "arrowwidth": 1
          },
          "autotypenumbers": "strict",
          "coloraxis": {
           "colorbar": {
            "outlinewidth": 0,
            "ticks": ""
           }
          },
          "colorscale": {
           "diverging": [
            [
             0,
             "#8e0152"
            ],
            [
             0.1,
             "#c51b7d"
            ],
            [
             0.2,
             "#de77ae"
            ],
            [
             0.3,
             "#f1b6da"
            ],
            [
             0.4,
             "#fde0ef"
            ],
            [
             0.5,
             "#f7f7f7"
            ],
            [
             0.6,
             "#e6f5d0"
            ],
            [
             0.7,
             "#b8e186"
            ],
            [
             0.8,
             "#7fbc41"
            ],
            [
             0.9,
             "#4d9221"
            ],
            [
             1,
             "#276419"
            ]
           ],
           "sequential": [
            [
             0,
             "#0d0887"
            ],
            [
             0.1111111111111111,
             "#46039f"
            ],
            [
             0.2222222222222222,
             "#7201a8"
            ],
            [
             0.3333333333333333,
             "#9c179e"
            ],
            [
             0.4444444444444444,
             "#bd3786"
            ],
            [
             0.5555555555555556,
             "#d8576b"
            ],
            [
             0.6666666666666666,
             "#ed7953"
            ],
            [
             0.7777777777777778,
             "#fb9f3a"
            ],
            [
             0.8888888888888888,
             "#fdca26"
            ],
            [
             1,
             "#f0f921"
            ]
           ],
           "sequentialminus": [
            [
             0,
             "#0d0887"
            ],
            [
             0.1111111111111111,
             "#46039f"
            ],
            [
             0.2222222222222222,
             "#7201a8"
            ],
            [
             0.3333333333333333,
             "#9c179e"
            ],
            [
             0.4444444444444444,
             "#bd3786"
            ],
            [
             0.5555555555555556,
             "#d8576b"
            ],
            [
             0.6666666666666666,
             "#ed7953"
            ],
            [
             0.7777777777777778,
             "#fb9f3a"
            ],
            [
             0.8888888888888888,
             "#fdca26"
            ],
            [
             1,
             "#f0f921"
            ]
           ]
          },
          "colorway": [
           "#636efa",
           "#EF553B",
           "#00cc96",
           "#ab63fa",
           "#FFA15A",
           "#19d3f3",
           "#FF6692",
           "#B6E880",
           "#FF97FF",
           "#FECB52"
          ],
          "font": {
           "color": "#2a3f5f"
          },
          "geo": {
           "bgcolor": "white",
           "lakecolor": "white",
           "landcolor": "#E5ECF6",
           "showlakes": true,
           "showland": true,
           "subunitcolor": "white"
          },
          "hoverlabel": {
           "align": "left"
          },
          "hovermode": "closest",
          "mapbox": {
           "style": "light"
          },
          "paper_bgcolor": "white",
          "plot_bgcolor": "#E5ECF6",
          "polar": {
           "angularaxis": {
            "gridcolor": "white",
            "linecolor": "white",
            "ticks": ""
           },
           "bgcolor": "#E5ECF6",
           "radialaxis": {
            "gridcolor": "white",
            "linecolor": "white",
            "ticks": ""
           }
          },
          "scene": {
           "xaxis": {
            "backgroundcolor": "#E5ECF6",
            "gridcolor": "white",
            "gridwidth": 2,
            "linecolor": "white",
            "showbackground": true,
            "ticks": "",
            "zerolinecolor": "white"
           },
           "yaxis": {
            "backgroundcolor": "#E5ECF6",
            "gridcolor": "white",
            "gridwidth": 2,
            "linecolor": "white",
            "showbackground": true,
            "ticks": "",
            "zerolinecolor": "white"
           },
           "zaxis": {
            "backgroundcolor": "#E5ECF6",
            "gridcolor": "white",
            "gridwidth": 2,
            "linecolor": "white",
            "showbackground": true,
            "ticks": "",
            "zerolinecolor": "white"
           }
          },
          "shapedefaults": {
           "line": {
            "color": "#2a3f5f"
           }
          },
          "ternary": {
           "aaxis": {
            "gridcolor": "white",
            "linecolor": "white",
            "ticks": ""
           },
           "baxis": {
            "gridcolor": "white",
            "linecolor": "white",
            "ticks": ""
           },
           "bgcolor": "#E5ECF6",
           "caxis": {
            "gridcolor": "white",
            "linecolor": "white",
            "ticks": ""
           }
          },
          "title": {
           "x": 0.05
          },
          "xaxis": {
           "automargin": true,
           "gridcolor": "white",
           "linecolor": "white",
           "ticks": "",
           "title": {
            "standoff": 15
           },
           "zerolinecolor": "white",
           "zerolinewidth": 2
          },
          "yaxis": {
           "automargin": true,
           "gridcolor": "white",
           "linecolor": "white",
           "ticks": "",
           "title": {
            "standoff": 15
           },
           "zerolinecolor": "white",
           "zerolinewidth": 2
          }
         }
        },
        "title": {
         "text": "Committed Funds Box Plot - Hot Desq"
        },
        "xaxis": {
         "anchor": "y",
         "domain": [
          0,
          1
         ]
        },
        "yaxis": {
         "anchor": "x",
         "domain": [
          0,
          1
         ],
         "title": {
          "text": "Actual Contractual Commitment ($)"
         }
        }
       }
      }
     },
     "metadata": {},
     "output_type": "display_data"
    },
    {
     "data": {
      "application/vnd.plotly.v1+json": {
       "config": {
        "plotlyServerURL": "https://plot.ly"
       },
       "data": [
        {
         "alignmentgroup": "True",
         "bingroup": "x",
         "hovertemplate": "Actual Contractual Commitment ($)=%{x}<br>count=%{y}<extra></extra>",
         "legendgroup": "",
         "marker": {
          "color": "#636efa",
          "pattern": {
           "shape": ""
          }
         },
         "name": "",
         "nbinsx": 30,
         "offsetgroup": "",
         "orientation": "v",
         "showlegend": false,
         "textposition": "outside",
         "texttemplate": "%{y}",
         "type": "histogram",
         "x": [
          500000,
          45000,
          500000,
          500000,
          20000,
          478330,
          20000,
          500000,
          499980,
          500000,
          480000,
          74000,
          230000,
          315000,
          500000,
          432125,
          150000,
          487248,
          20000
         ],
         "xaxis": "x",
         "yaxis": "y"
        }
       ],
       "layout": {
        "barmode": "relative",
        "legend": {
         "tracegroupgap": 0
        },
        "template": {
         "data": {
          "bar": [
           {
            "error_x": {
             "color": "#2a3f5f"
            },
            "error_y": {
             "color": "#2a3f5f"
            },
            "marker": {
             "line": {
              "color": "#E5ECF6",
              "width": 0.5
             },
             "pattern": {
              "fillmode": "overlay",
              "size": 10,
              "solidity": 0.2
             }
            },
            "type": "bar"
           }
          ],
          "barpolar": [
           {
            "marker": {
             "line": {
              "color": "#E5ECF6",
              "width": 0.5
             },
             "pattern": {
              "fillmode": "overlay",
              "size": 10,
              "solidity": 0.2
             }
            },
            "type": "barpolar"
           }
          ],
          "carpet": [
           {
            "aaxis": {
             "endlinecolor": "#2a3f5f",
             "gridcolor": "white",
             "linecolor": "white",
             "minorgridcolor": "white",
             "startlinecolor": "#2a3f5f"
            },
            "baxis": {
             "endlinecolor": "#2a3f5f",
             "gridcolor": "white",
             "linecolor": "white",
             "minorgridcolor": "white",
             "startlinecolor": "#2a3f5f"
            },
            "type": "carpet"
           }
          ],
          "choropleth": [
           {
            "colorbar": {
             "outlinewidth": 0,
             "ticks": ""
            },
            "type": "choropleth"
           }
          ],
          "contour": [
           {
            "colorbar": {
             "outlinewidth": 0,
             "ticks": ""
            },
            "colorscale": [
             [
              0,
              "#0d0887"
             ],
             [
              0.1111111111111111,
              "#46039f"
             ],
             [
              0.2222222222222222,
              "#7201a8"
             ],
             [
              0.3333333333333333,
              "#9c179e"
             ],
             [
              0.4444444444444444,
              "#bd3786"
             ],
             [
              0.5555555555555556,
              "#d8576b"
             ],
             [
              0.6666666666666666,
              "#ed7953"
             ],
             [
              0.7777777777777778,
              "#fb9f3a"
             ],
             [
              0.8888888888888888,
              "#fdca26"
             ],
             [
              1,
              "#f0f921"
             ]
            ],
            "type": "contour"
           }
          ],
          "contourcarpet": [
           {
            "colorbar": {
             "outlinewidth": 0,
             "ticks": ""
            },
            "type": "contourcarpet"
           }
          ],
          "heatmap": [
           {
            "colorbar": {
             "outlinewidth": 0,
             "ticks": ""
            },
            "colorscale": [
             [
              0,
              "#0d0887"
             ],
             [
              0.1111111111111111,
              "#46039f"
             ],
             [
              0.2222222222222222,
              "#7201a8"
             ],
             [
              0.3333333333333333,
              "#9c179e"
             ],
             [
              0.4444444444444444,
              "#bd3786"
             ],
             [
              0.5555555555555556,
              "#d8576b"
             ],
             [
              0.6666666666666666,
              "#ed7953"
             ],
             [
              0.7777777777777778,
              "#fb9f3a"
             ],
             [
              0.8888888888888888,
              "#fdca26"
             ],
             [
              1,
              "#f0f921"
             ]
            ],
            "type": "heatmap"
           }
          ],
          "heatmapgl": [
           {
            "colorbar": {
             "outlinewidth": 0,
             "ticks": ""
            },
            "colorscale": [
             [
              0,
              "#0d0887"
             ],
             [
              0.1111111111111111,
              "#46039f"
             ],
             [
              0.2222222222222222,
              "#7201a8"
             ],
             [
              0.3333333333333333,
              "#9c179e"
             ],
             [
              0.4444444444444444,
              "#bd3786"
             ],
             [
              0.5555555555555556,
              "#d8576b"
             ],
             [
              0.6666666666666666,
              "#ed7953"
             ],
             [
              0.7777777777777778,
              "#fb9f3a"
             ],
             [
              0.8888888888888888,
              "#fdca26"
             ],
             [
              1,
              "#f0f921"
             ]
            ],
            "type": "heatmapgl"
           }
          ],
          "histogram": [
           {
            "marker": {
             "pattern": {
              "fillmode": "overlay",
              "size": 10,
              "solidity": 0.2
             }
            },
            "type": "histogram"
           }
          ],
          "histogram2d": [
           {
            "colorbar": {
             "outlinewidth": 0,
             "ticks": ""
            },
            "colorscale": [
             [
              0,
              "#0d0887"
             ],
             [
              0.1111111111111111,
              "#46039f"
             ],
             [
              0.2222222222222222,
              "#7201a8"
             ],
             [
              0.3333333333333333,
              "#9c179e"
             ],
             [
              0.4444444444444444,
              "#bd3786"
             ],
             [
              0.5555555555555556,
              "#d8576b"
             ],
             [
              0.6666666666666666,
              "#ed7953"
             ],
             [
              0.7777777777777778,
              "#fb9f3a"
             ],
             [
              0.8888888888888888,
              "#fdca26"
             ],
             [
              1,
              "#f0f921"
             ]
            ],
            "type": "histogram2d"
           }
          ],
          "histogram2dcontour": [
           {
            "colorbar": {
             "outlinewidth": 0,
             "ticks": ""
            },
            "colorscale": [
             [
              0,
              "#0d0887"
             ],
             [
              0.1111111111111111,
              "#46039f"
             ],
             [
              0.2222222222222222,
              "#7201a8"
             ],
             [
              0.3333333333333333,
              "#9c179e"
             ],
             [
              0.4444444444444444,
              "#bd3786"
             ],
             [
              0.5555555555555556,
              "#d8576b"
             ],
             [
              0.6666666666666666,
              "#ed7953"
             ],
             [
              0.7777777777777778,
              "#fb9f3a"
             ],
             [
              0.8888888888888888,
              "#fdca26"
             ],
             [
              1,
              "#f0f921"
             ]
            ],
            "type": "histogram2dcontour"
           }
          ],
          "mesh3d": [
           {
            "colorbar": {
             "outlinewidth": 0,
             "ticks": ""
            },
            "type": "mesh3d"
           }
          ],
          "parcoords": [
           {
            "line": {
             "colorbar": {
              "outlinewidth": 0,
              "ticks": ""
             }
            },
            "type": "parcoords"
           }
          ],
          "pie": [
           {
            "automargin": true,
            "type": "pie"
           }
          ],
          "scatter": [
           {
            "fillpattern": {
             "fillmode": "overlay",
             "size": 10,
             "solidity": 0.2
            },
            "type": "scatter"
           }
          ],
          "scatter3d": [
           {
            "line": {
             "colorbar": {
              "outlinewidth": 0,
              "ticks": ""
             }
            },
            "marker": {
             "colorbar": {
              "outlinewidth": 0,
              "ticks": ""
             }
            },
            "type": "scatter3d"
           }
          ],
          "scattercarpet": [
           {
            "marker": {
             "colorbar": {
              "outlinewidth": 0,
              "ticks": ""
             }
            },
            "type": "scattercarpet"
           }
          ],
          "scattergeo": [
           {
            "marker": {
             "colorbar": {
              "outlinewidth": 0,
              "ticks": ""
             }
            },
            "type": "scattergeo"
           }
          ],
          "scattergl": [
           {
            "marker": {
             "colorbar": {
              "outlinewidth": 0,
              "ticks": ""
             }
            },
            "type": "scattergl"
           }
          ],
          "scattermapbox": [
           {
            "marker": {
             "colorbar": {
              "outlinewidth": 0,
              "ticks": ""
             }
            },
            "type": "scattermapbox"
           }
          ],
          "scatterpolar": [
           {
            "marker": {
             "colorbar": {
              "outlinewidth": 0,
              "ticks": ""
             }
            },
            "type": "scatterpolar"
           }
          ],
          "scatterpolargl": [
           {
            "marker": {
             "colorbar": {
              "outlinewidth": 0,
              "ticks": ""
             }
            },
            "type": "scatterpolargl"
           }
          ],
          "scatterternary": [
           {
            "marker": {
             "colorbar": {
              "outlinewidth": 0,
              "ticks": ""
             }
            },
            "type": "scatterternary"
           }
          ],
          "surface": [
           {
            "colorbar": {
             "outlinewidth": 0,
             "ticks": ""
            },
            "colorscale": [
             [
              0,
              "#0d0887"
             ],
             [
              0.1111111111111111,
              "#46039f"
             ],
             [
              0.2222222222222222,
              "#7201a8"
             ],
             [
              0.3333333333333333,
              "#9c179e"
             ],
             [
              0.4444444444444444,
              "#bd3786"
             ],
             [
              0.5555555555555556,
              "#d8576b"
             ],
             [
              0.6666666666666666,
              "#ed7953"
             ],
             [
              0.7777777777777778,
              "#fb9f3a"
             ],
             [
              0.8888888888888888,
              "#fdca26"
             ],
             [
              1,
              "#f0f921"
             ]
            ],
            "type": "surface"
           }
          ],
          "table": [
           {
            "cells": {
             "fill": {
              "color": "#EBF0F8"
             },
             "line": {
              "color": "white"
             }
            },
            "header": {
             "fill": {
              "color": "#C8D4E3"
             },
             "line": {
              "color": "white"
             }
            },
            "type": "table"
           }
          ]
         },
         "layout": {
          "annotationdefaults": {
           "arrowcolor": "#2a3f5f",
           "arrowhead": 0,
           "arrowwidth": 1
          },
          "autotypenumbers": "strict",
          "coloraxis": {
           "colorbar": {
            "outlinewidth": 0,
            "ticks": ""
           }
          },
          "colorscale": {
           "diverging": [
            [
             0,
             "#8e0152"
            ],
            [
             0.1,
             "#c51b7d"
            ],
            [
             0.2,
             "#de77ae"
            ],
            [
             0.3,
             "#f1b6da"
            ],
            [
             0.4,
             "#fde0ef"
            ],
            [
             0.5,
             "#f7f7f7"
            ],
            [
             0.6,
             "#e6f5d0"
            ],
            [
             0.7,
             "#b8e186"
            ],
            [
             0.8,
             "#7fbc41"
            ],
            [
             0.9,
             "#4d9221"
            ],
            [
             1,
             "#276419"
            ]
           ],
           "sequential": [
            [
             0,
             "#0d0887"
            ],
            [
             0.1111111111111111,
             "#46039f"
            ],
            [
             0.2222222222222222,
             "#7201a8"
            ],
            [
             0.3333333333333333,
             "#9c179e"
            ],
            [
             0.4444444444444444,
             "#bd3786"
            ],
            [
             0.5555555555555556,
             "#d8576b"
            ],
            [
             0.6666666666666666,
             "#ed7953"
            ],
            [
             0.7777777777777778,
             "#fb9f3a"
            ],
            [
             0.8888888888888888,
             "#fdca26"
            ],
            [
             1,
             "#f0f921"
            ]
           ],
           "sequentialminus": [
            [
             0,
             "#0d0887"
            ],
            [
             0.1111111111111111,
             "#46039f"
            ],
            [
             0.2222222222222222,
             "#7201a8"
            ],
            [
             0.3333333333333333,
             "#9c179e"
            ],
            [
             0.4444444444444444,
             "#bd3786"
            ],
            [
             0.5555555555555556,
             "#d8576b"
            ],
            [
             0.6666666666666666,
             "#ed7953"
            ],
            [
             0.7777777777777778,
             "#fb9f3a"
            ],
            [
             0.8888888888888888,
             "#fdca26"
            ],
            [
             1,
             "#f0f921"
            ]
           ]
          },
          "colorway": [
           "#636efa",
           "#EF553B",
           "#00cc96",
           "#ab63fa",
           "#FFA15A",
           "#19d3f3",
           "#FF6692",
           "#B6E880",
           "#FF97FF",
           "#FECB52"
          ],
          "font": {
           "color": "#2a3f5f"
          },
          "geo": {
           "bgcolor": "white",
           "lakecolor": "white",
           "landcolor": "#E5ECF6",
           "showlakes": true,
           "showland": true,
           "subunitcolor": "white"
          },
          "hoverlabel": {
           "align": "left"
          },
          "hovermode": "closest",
          "mapbox": {
           "style": "light"
          },
          "paper_bgcolor": "white",
          "plot_bgcolor": "#E5ECF6",
          "polar": {
           "angularaxis": {
            "gridcolor": "white",
            "linecolor": "white",
            "ticks": ""
           },
           "bgcolor": "#E5ECF6",
           "radialaxis": {
            "gridcolor": "white",
            "linecolor": "white",
            "ticks": ""
           }
          },
          "scene": {
           "xaxis": {
            "backgroundcolor": "#E5ECF6",
            "gridcolor": "white",
            "gridwidth": 2,
            "linecolor": "white",
            "showbackground": true,
            "ticks": "",
            "zerolinecolor": "white"
           },
           "yaxis": {
            "backgroundcolor": "#E5ECF6",
            "gridcolor": "white",
            "gridwidth": 2,
            "linecolor": "white",
            "showbackground": true,
            "ticks": "",
            "zerolinecolor": "white"
           },
           "zaxis": {
            "backgroundcolor": "#E5ECF6",
            "gridcolor": "white",
            "gridwidth": 2,
            "linecolor": "white",
            "showbackground": true,
            "ticks": "",
            "zerolinecolor": "white"
           }
          },
          "shapedefaults": {
           "line": {
            "color": "#2a3f5f"
           }
          },
          "ternary": {
           "aaxis": {
            "gridcolor": "white",
            "linecolor": "white",
            "ticks": ""
           },
           "baxis": {
            "gridcolor": "white",
            "linecolor": "white",
            "ticks": ""
           },
           "bgcolor": "#E5ECF6",
           "caxis": {
            "gridcolor": "white",
            "linecolor": "white",
            "ticks": ""
           }
          },
          "title": {
           "x": 0.05
          },
          "xaxis": {
           "automargin": true,
           "gridcolor": "white",
           "linecolor": "white",
           "ticks": "",
           "title": {
            "standoff": 15
           },
           "zerolinecolor": "white",
           "zerolinewidth": 2
          },
          "yaxis": {
           "automargin": true,
           "gridcolor": "white",
           "linecolor": "white",
           "ticks": "",
           "title": {
            "standoff": 15
           },
           "zerolinecolor": "white",
           "zerolinewidth": 2
          }
         }
        },
        "title": {
         "text": "Committed Funds Histogram - Advancing Regional Innovation Program"
        },
        "xaxis": {
         "anchor": "y",
         "domain": [
          0,
          1
         ],
         "title": {
          "text": "Actual Contractual Commitment ($)"
         }
        },
        "yaxis": {
         "anchor": "x",
         "domain": [
          0,
          1
         ],
         "title": {
          "text": "count"
         }
        }
       }
      }
     },
     "metadata": {},
     "output_type": "display_data"
    },
    {
     "data": {
      "application/vnd.plotly.v1+json": {
       "config": {
        "plotlyServerURL": "https://plot.ly"
       },
       "data": [
        {
         "alignmentgroup": "True",
         "hovertemplate": "Actual Contractual Commitment ($)=%{y}<extra></extra>",
         "legendgroup": "",
         "marker": {
          "color": "#636efa"
         },
         "name": "",
         "notched": false,
         "offsetgroup": "",
         "orientation": "v",
         "showlegend": false,
         "type": "box",
         "x0": " ",
         "xaxis": "x",
         "y": [
          500000,
          45000,
          500000,
          500000,
          20000,
          478330,
          20000,
          500000,
          499980,
          500000,
          480000,
          74000,
          230000,
          315000,
          500000,
          432125,
          150000,
          487248,
          20000
         ],
         "y0": " ",
         "yaxis": "y"
        }
       ],
       "layout": {
        "boxmode": "group",
        "legend": {
         "tracegroupgap": 0
        },
        "template": {
         "data": {
          "bar": [
           {
            "error_x": {
             "color": "#2a3f5f"
            },
            "error_y": {
             "color": "#2a3f5f"
            },
            "marker": {
             "line": {
              "color": "#E5ECF6",
              "width": 0.5
             },
             "pattern": {
              "fillmode": "overlay",
              "size": 10,
              "solidity": 0.2
             }
            },
            "type": "bar"
           }
          ],
          "barpolar": [
           {
            "marker": {
             "line": {
              "color": "#E5ECF6",
              "width": 0.5
             },
             "pattern": {
              "fillmode": "overlay",
              "size": 10,
              "solidity": 0.2
             }
            },
            "type": "barpolar"
           }
          ],
          "carpet": [
           {
            "aaxis": {
             "endlinecolor": "#2a3f5f",
             "gridcolor": "white",
             "linecolor": "white",
             "minorgridcolor": "white",
             "startlinecolor": "#2a3f5f"
            },
            "baxis": {
             "endlinecolor": "#2a3f5f",
             "gridcolor": "white",
             "linecolor": "white",
             "minorgridcolor": "white",
             "startlinecolor": "#2a3f5f"
            },
            "type": "carpet"
           }
          ],
          "choropleth": [
           {
            "colorbar": {
             "outlinewidth": 0,
             "ticks": ""
            },
            "type": "choropleth"
           }
          ],
          "contour": [
           {
            "colorbar": {
             "outlinewidth": 0,
             "ticks": ""
            },
            "colorscale": [
             [
              0,
              "#0d0887"
             ],
             [
              0.1111111111111111,
              "#46039f"
             ],
             [
              0.2222222222222222,
              "#7201a8"
             ],
             [
              0.3333333333333333,
              "#9c179e"
             ],
             [
              0.4444444444444444,
              "#bd3786"
             ],
             [
              0.5555555555555556,
              "#d8576b"
             ],
             [
              0.6666666666666666,
              "#ed7953"
             ],
             [
              0.7777777777777778,
              "#fb9f3a"
             ],
             [
              0.8888888888888888,
              "#fdca26"
             ],
             [
              1,
              "#f0f921"
             ]
            ],
            "type": "contour"
           }
          ],
          "contourcarpet": [
           {
            "colorbar": {
             "outlinewidth": 0,
             "ticks": ""
            },
            "type": "contourcarpet"
           }
          ],
          "heatmap": [
           {
            "colorbar": {
             "outlinewidth": 0,
             "ticks": ""
            },
            "colorscale": [
             [
              0,
              "#0d0887"
             ],
             [
              0.1111111111111111,
              "#46039f"
             ],
             [
              0.2222222222222222,
              "#7201a8"
             ],
             [
              0.3333333333333333,
              "#9c179e"
             ],
             [
              0.4444444444444444,
              "#bd3786"
             ],
             [
              0.5555555555555556,
              "#d8576b"
             ],
             [
              0.6666666666666666,
              "#ed7953"
             ],
             [
              0.7777777777777778,
              "#fb9f3a"
             ],
             [
              0.8888888888888888,
              "#fdca26"
             ],
             [
              1,
              "#f0f921"
             ]
            ],
            "type": "heatmap"
           }
          ],
          "heatmapgl": [
           {
            "colorbar": {
             "outlinewidth": 0,
             "ticks": ""
            },
            "colorscale": [
             [
              0,
              "#0d0887"
             ],
             [
              0.1111111111111111,
              "#46039f"
             ],
             [
              0.2222222222222222,
              "#7201a8"
             ],
             [
              0.3333333333333333,
              "#9c179e"
             ],
             [
              0.4444444444444444,
              "#bd3786"
             ],
             [
              0.5555555555555556,
              "#d8576b"
             ],
             [
              0.6666666666666666,
              "#ed7953"
             ],
             [
              0.7777777777777778,
              "#fb9f3a"
             ],
             [
              0.8888888888888888,
              "#fdca26"
             ],
             [
              1,
              "#f0f921"
             ]
            ],
            "type": "heatmapgl"
           }
          ],
          "histogram": [
           {
            "marker": {
             "pattern": {
              "fillmode": "overlay",
              "size": 10,
              "solidity": 0.2
             }
            },
            "type": "histogram"
           }
          ],
          "histogram2d": [
           {
            "colorbar": {
             "outlinewidth": 0,
             "ticks": ""
            },
            "colorscale": [
             [
              0,
              "#0d0887"
             ],
             [
              0.1111111111111111,
              "#46039f"
             ],
             [
              0.2222222222222222,
              "#7201a8"
             ],
             [
              0.3333333333333333,
              "#9c179e"
             ],
             [
              0.4444444444444444,
              "#bd3786"
             ],
             [
              0.5555555555555556,
              "#d8576b"
             ],
             [
              0.6666666666666666,
              "#ed7953"
             ],
             [
              0.7777777777777778,
              "#fb9f3a"
             ],
             [
              0.8888888888888888,
              "#fdca26"
             ],
             [
              1,
              "#f0f921"
             ]
            ],
            "type": "histogram2d"
           }
          ],
          "histogram2dcontour": [
           {
            "colorbar": {
             "outlinewidth": 0,
             "ticks": ""
            },
            "colorscale": [
             [
              0,
              "#0d0887"
             ],
             [
              0.1111111111111111,
              "#46039f"
             ],
             [
              0.2222222222222222,
              "#7201a8"
             ],
             [
              0.3333333333333333,
              "#9c179e"
             ],
             [
              0.4444444444444444,
              "#bd3786"
             ],
             [
              0.5555555555555556,
              "#d8576b"
             ],
             [
              0.6666666666666666,
              "#ed7953"
             ],
             [
              0.7777777777777778,
              "#fb9f3a"
             ],
             [
              0.8888888888888888,
              "#fdca26"
             ],
             [
              1,
              "#f0f921"
             ]
            ],
            "type": "histogram2dcontour"
           }
          ],
          "mesh3d": [
           {
            "colorbar": {
             "outlinewidth": 0,
             "ticks": ""
            },
            "type": "mesh3d"
           }
          ],
          "parcoords": [
           {
            "line": {
             "colorbar": {
              "outlinewidth": 0,
              "ticks": ""
             }
            },
            "type": "parcoords"
           }
          ],
          "pie": [
           {
            "automargin": true,
            "type": "pie"
           }
          ],
          "scatter": [
           {
            "fillpattern": {
             "fillmode": "overlay",
             "size": 10,
             "solidity": 0.2
            },
            "type": "scatter"
           }
          ],
          "scatter3d": [
           {
            "line": {
             "colorbar": {
              "outlinewidth": 0,
              "ticks": ""
             }
            },
            "marker": {
             "colorbar": {
              "outlinewidth": 0,
              "ticks": ""
             }
            },
            "type": "scatter3d"
           }
          ],
          "scattercarpet": [
           {
            "marker": {
             "colorbar": {
              "outlinewidth": 0,
              "ticks": ""
             }
            },
            "type": "scattercarpet"
           }
          ],
          "scattergeo": [
           {
            "marker": {
             "colorbar": {
              "outlinewidth": 0,
              "ticks": ""
             }
            },
            "type": "scattergeo"
           }
          ],
          "scattergl": [
           {
            "marker": {
             "colorbar": {
              "outlinewidth": 0,
              "ticks": ""
             }
            },
            "type": "scattergl"
           }
          ],
          "scattermapbox": [
           {
            "marker": {
             "colorbar": {
              "outlinewidth": 0,
              "ticks": ""
             }
            },
            "type": "scattermapbox"
           }
          ],
          "scatterpolar": [
           {
            "marker": {
             "colorbar": {
              "outlinewidth": 0,
              "ticks": ""
             }
            },
            "type": "scatterpolar"
           }
          ],
          "scatterpolargl": [
           {
            "marker": {
             "colorbar": {
              "outlinewidth": 0,
              "ticks": ""
             }
            },
            "type": "scatterpolargl"
           }
          ],
          "scatterternary": [
           {
            "marker": {
             "colorbar": {
              "outlinewidth": 0,
              "ticks": ""
             }
            },
            "type": "scatterternary"
           }
          ],
          "surface": [
           {
            "colorbar": {
             "outlinewidth": 0,
             "ticks": ""
            },
            "colorscale": [
             [
              0,
              "#0d0887"
             ],
             [
              0.1111111111111111,
              "#46039f"
             ],
             [
              0.2222222222222222,
              "#7201a8"
             ],
             [
              0.3333333333333333,
              "#9c179e"
             ],
             [
              0.4444444444444444,
              "#bd3786"
             ],
             [
              0.5555555555555556,
              "#d8576b"
             ],
             [
              0.6666666666666666,
              "#ed7953"
             ],
             [
              0.7777777777777778,
              "#fb9f3a"
             ],
             [
              0.8888888888888888,
              "#fdca26"
             ],
             [
              1,
              "#f0f921"
             ]
            ],
            "type": "surface"
           }
          ],
          "table": [
           {
            "cells": {
             "fill": {
              "color": "#EBF0F8"
             },
             "line": {
              "color": "white"
             }
            },
            "header": {
             "fill": {
              "color": "#C8D4E3"
             },
             "line": {
              "color": "white"
             }
            },
            "type": "table"
           }
          ]
         },
         "layout": {
          "annotationdefaults": {
           "arrowcolor": "#2a3f5f",
           "arrowhead": 0,
           "arrowwidth": 1
          },
          "autotypenumbers": "strict",
          "coloraxis": {
           "colorbar": {
            "outlinewidth": 0,
            "ticks": ""
           }
          },
          "colorscale": {
           "diverging": [
            [
             0,
             "#8e0152"
            ],
            [
             0.1,
             "#c51b7d"
            ],
            [
             0.2,
             "#de77ae"
            ],
            [
             0.3,
             "#f1b6da"
            ],
            [
             0.4,
             "#fde0ef"
            ],
            [
             0.5,
             "#f7f7f7"
            ],
            [
             0.6,
             "#e6f5d0"
            ],
            [
             0.7,
             "#b8e186"
            ],
            [
             0.8,
             "#7fbc41"
            ],
            [
             0.9,
             "#4d9221"
            ],
            [
             1,
             "#276419"
            ]
           ],
           "sequential": [
            [
             0,
             "#0d0887"
            ],
            [
             0.1111111111111111,
             "#46039f"
            ],
            [
             0.2222222222222222,
             "#7201a8"
            ],
            [
             0.3333333333333333,
             "#9c179e"
            ],
            [
             0.4444444444444444,
             "#bd3786"
            ],
            [
             0.5555555555555556,
             "#d8576b"
            ],
            [
             0.6666666666666666,
             "#ed7953"
            ],
            [
             0.7777777777777778,
             "#fb9f3a"
            ],
            [
             0.8888888888888888,
             "#fdca26"
            ],
            [
             1,
             "#f0f921"
            ]
           ],
           "sequentialminus": [
            [
             0,
             "#0d0887"
            ],
            [
             0.1111111111111111,
             "#46039f"
            ],
            [
             0.2222222222222222,
             "#7201a8"
            ],
            [
             0.3333333333333333,
             "#9c179e"
            ],
            [
             0.4444444444444444,
             "#bd3786"
            ],
            [
             0.5555555555555556,
             "#d8576b"
            ],
            [
             0.6666666666666666,
             "#ed7953"
            ],
            [
             0.7777777777777778,
             "#fb9f3a"
            ],
            [
             0.8888888888888888,
             "#fdca26"
            ],
            [
             1,
             "#f0f921"
            ]
           ]
          },
          "colorway": [
           "#636efa",
           "#EF553B",
           "#00cc96",
           "#ab63fa",
           "#FFA15A",
           "#19d3f3",
           "#FF6692",
           "#B6E880",
           "#FF97FF",
           "#FECB52"
          ],
          "font": {
           "color": "#2a3f5f"
          },
          "geo": {
           "bgcolor": "white",
           "lakecolor": "white",
           "landcolor": "#E5ECF6",
           "showlakes": true,
           "showland": true,
           "subunitcolor": "white"
          },
          "hoverlabel": {
           "align": "left"
          },
          "hovermode": "closest",
          "mapbox": {
           "style": "light"
          },
          "paper_bgcolor": "white",
          "plot_bgcolor": "#E5ECF6",
          "polar": {
           "angularaxis": {
            "gridcolor": "white",
            "linecolor": "white",
            "ticks": ""
           },
           "bgcolor": "#E5ECF6",
           "radialaxis": {
            "gridcolor": "white",
            "linecolor": "white",
            "ticks": ""
           }
          },
          "scene": {
           "xaxis": {
            "backgroundcolor": "#E5ECF6",
            "gridcolor": "white",
            "gridwidth": 2,
            "linecolor": "white",
            "showbackground": true,
            "ticks": "",
            "zerolinecolor": "white"
           },
           "yaxis": {
            "backgroundcolor": "#E5ECF6",
            "gridcolor": "white",
            "gridwidth": 2,
            "linecolor": "white",
            "showbackground": true,
            "ticks": "",
            "zerolinecolor": "white"
           },
           "zaxis": {
            "backgroundcolor": "#E5ECF6",
            "gridcolor": "white",
            "gridwidth": 2,
            "linecolor": "white",
            "showbackground": true,
            "ticks": "",
            "zerolinecolor": "white"
           }
          },
          "shapedefaults": {
           "line": {
            "color": "#2a3f5f"
           }
          },
          "ternary": {
           "aaxis": {
            "gridcolor": "white",
            "linecolor": "white",
            "ticks": ""
           },
           "baxis": {
            "gridcolor": "white",
            "linecolor": "white",
            "ticks": ""
           },
           "bgcolor": "#E5ECF6",
           "caxis": {
            "gridcolor": "white",
            "linecolor": "white",
            "ticks": ""
           }
          },
          "title": {
           "x": 0.05
          },
          "xaxis": {
           "automargin": true,
           "gridcolor": "white",
           "linecolor": "white",
           "ticks": "",
           "title": {
            "standoff": 15
           },
           "zerolinecolor": "white",
           "zerolinewidth": 2
          },
          "yaxis": {
           "automargin": true,
           "gridcolor": "white",
           "linecolor": "white",
           "ticks": "",
           "title": {
            "standoff": 15
           },
           "zerolinecolor": "white",
           "zerolinewidth": 2
          }
         }
        },
        "title": {
         "text": "Committed Funds Box Plot - Advancing Regional Innovation Program"
        },
        "xaxis": {
         "anchor": "y",
         "domain": [
          0,
          1
         ]
        },
        "yaxis": {
         "anchor": "x",
         "domain": [
          0,
          1
         ],
         "title": {
          "text": "Actual Contractual Commitment ($)"
         }
        }
       }
      }
     },
     "metadata": {},
     "output_type": "display_data"
    }
   ],
   "source": [
    "# Histogram for Group 1\n",
    "hist_group1 = px.histogram(df_group1, x='Actual Contractual Commitment ($)', nbins=30, title=f'Committed Funds Histogram - {group1}')\n",
    "hist_group1.update_traces(texttemplate='%{y}', textposition='outside')\n",
    "hist_group1.show()\n",
    "\n",
    "# Box plot for Group 1\n",
    "box_group1 = px.box(df_group1, y='Actual Contractual Commitment ($)', title=f'Committed Funds Box Plot - {group1}')\n",
    "box_group1.show()\n",
    "\n",
    "# Histogram for Group 2\n",
    "hist_group2 = px.histogram(df_group2, x='Actual Contractual Commitment ($)', nbins=30, title=f'Committed Funds Histogram - {group2}')\n",
    "hist_group2.update_traces(texttemplate='%{y}', textposition='outside')\n",
    "hist_group2.show()\n",
    "\n",
    "# Box plot for Group 2\n",
    "box_group2 = px.box(df_group2, y='Actual Contractual Commitment ($)', title=f'Committed Funds Box Plot - {group2}')\n",
    "box_group2.show()\n"
   ]
  }
 ],
 "metadata": {
  "creation_period": "",
  "kernelspec": {
   "display_name": "Python 3 (ipykernel)",
   "language": "python",
   "name": "python3"
  },
  "language_info": {
   "codemirror_mode": {
    "name": "ipython",
    "version": 3
   },
   "file_extension": ".py",
   "mimetype": "text/x-python",
   "name": "python",
   "nbconvert_exporter": "python",
   "pygments_lexer": "ipython3",
   "version": "3.12.0"
  },
  "nb_name": "template",
  "qut": {
   "creation_period": "2023_sem1",
   "nb_name": "template-assignment1",
   "unit_code": "IFN619"
  },
  "unit_code": "",
  "vscode": {
   "interpreter": {
    "hash": "d4d1e4263499bec80672ea0156c357c1ee493ec2b1c70f0acce89fc37c4a6abe"
   }
  }
 },
 "nbformat": 4,
 "nbformat_minor": 5
}
